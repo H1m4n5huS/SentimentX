{
 "cells": [
  {
   "cell_type": "markdown",
   "id": "ec8bb89e",
   "metadata": {},
   "source": [
    "# 1) Standard imports"
   ]
  },
  {
   "cell_type": "code",
   "execution_count": 1,
   "id": "b27b54b9",
   "metadata": {},
   "outputs": [],
   "source": [
    "import numpy as np \n",
    "import pandas as pd \n",
    "import re\n",
    "import urlextract\n",
    "import xlrd\n",
    "\n",
    "\n",
    "# For Preprocesssing Text Data\n",
    "\n",
    "\n",
    "from nltk import word_tokenize, pos_tag\n",
    "from nltk.stem import WordNetLemmatizer\n",
    "from nltk.corpus import stopwords\n",
    "pd.set_option('display.max_colwidth', 1000)\n",
    "\n",
    "# Feature Extraction\n",
    "from sklearn.feature_extraction.text import TfidfVectorizer\n",
    "\n",
    "\n",
    "# Check Performance\n",
    "from sklearn.metrics import classification_report"
   ]
  },
  {
   "cell_type": "markdown",
   "id": "12ec7dfd",
   "metadata": {},
   "source": [
    "# 2)Importing Data"
   ]
  },
  {
   "cell_type": "code",
   "execution_count": 2,
   "id": "c35b30ef",
   "metadata": {},
   "outputs": [],
   "source": [
    "train = pd.read_excel(r\"Twitter_Balenciaga.xlsx\")"
   ]
  },
  {
   "cell_type": "code",
   "execution_count": 3,
   "id": "0aa49484",
   "metadata": {},
   "outputs": [
    {
     "data": {
      "text/html": [
       "<div>\n",
       "<style scoped>\n",
       "    .dataframe tbody tr th:only-of-type {\n",
       "        vertical-align: middle;\n",
       "    }\n",
       "\n",
       "    .dataframe tbody tr th {\n",
       "        vertical-align: top;\n",
       "    }\n",
       "\n",
       "    .dataframe thead th {\n",
       "        text-align: right;\n",
       "    }\n",
       "</style>\n",
       "<table border=\"1\" class=\"dataframe\">\n",
       "  <thead>\n",
       "    <tr style=\"text-align: right;\">\n",
       "      <th></th>\n",
       "      <th>id</th>\n",
       "      <th>content</th>\n",
       "      <th>date</th>\n",
       "    </tr>\n",
       "  </thead>\n",
       "  <tbody>\n",
       "    <tr>\n",
       "      <th>0</th>\n",
       "      <td>1.620207e+18</td>\n",
       "      <td>Latest Podcast is out now! - Balenciaga Is Run By Satanists | JUST THINK #5 https://t.co/AsIzLXynLn via @YouTube | #Balenciagapedos #Balenciaga #satan #satanist #SATANIC #pedophelia #podcastshow #podcast #podcastlife #PodcastAndChill #podcaster #podcasting #lucifer #luciferian #h</td>\n",
       "      <td>2023-01-30 23:46:10+00:00</td>\n",
       "    </tr>\n",
       "    <tr>\n",
       "      <th>1</th>\n",
       "      <td>1.620206e+18</td>\n",
       "      <td>Over 500 brands including #Gucci, #OffWhite, #Balenciaga, #MaisonMargiela, #MarineSerre, #SaintLaurent #fashion and many more https://t.co/gRmQa9ahMX https://t.co/7TMOC7LXRP</td>\n",
       "      <td>2023-01-30 23:44:31+00:00</td>\n",
       "    </tr>\n",
       "    <tr>\n",
       "      <th>2</th>\n",
       "      <td>1.620204e+18</td>\n",
       "      <td>So good I had to share! Check out all the items I'm loving on @Poshmarkapp #poshmark #fashion #style #shopmycloset #balenciaga #variety #stevemadden: https://t.co/C6QmuJvQSc https://t.co/08QcAOwm2C</td>\n",
       "      <td>2023-01-30 23:33:43+00:00</td>\n",
       "    </tr>\n",
       "    <tr>\n",
       "      <th>3</th>\n",
       "      <td>1.620151e+18</td>\n",
       "      <td>@SKKN NOTHING! We don't support pedos and those who support child abuse and exploitation. #balenciaga #cancelkimkardashian #cancelskims ðŸ’©ðŸ¤®ðŸ’©ðŸ¤®ðŸ’©ðŸ¤®</td>\n",
       "      <td>2023-01-30 20:04:35+00:00</td>\n",
       "    </tr>\n",
       "    <tr>\n",
       "      <th>4</th>\n",
       "      <td>1.620142e+18</td>\n",
       "      <td>So good I had to share! Check out all the items I'm loving on @Poshmarkapp #poshmark #fashion #style #shopmycloset #madewell #balenciaga #kaileigh: https://t.co/H1v5xqQaEo https://t.co/r3oAOFBei4</td>\n",
       "      <td>2023-01-30 19:30:19+00:00</td>\n",
       "    </tr>\n",
       "    <tr>\n",
       "      <th>5</th>\n",
       "      <td>1.620133e+18</td>\n",
       "      <td>WTF? Why is this happening??? #Balenciaga https://t.co/tJLYkONwP2</td>\n",
       "      <td>2023-01-30 18:51:52+00:00</td>\n",
       "    </tr>\n",
       "    <tr>\n",
       "      <th>6</th>\n",
       "      <td>1.620127e+18</td>\n",
       "      <td>So good I had to share! Check out all the items I'm loving on @Poshmarkapp from @kmullen1019 #poshmark #fashion #style #shopmycloset #balenciaga #freepeople #dannynicole: https://t.co/kBUmpEcdc4 https://t.co/p3n0TDQp5Y</td>\n",
       "      <td>2023-01-30 18:29:23+00:00</td>\n",
       "    </tr>\n",
       "    <tr>\n",
       "      <th>7</th>\n",
       "      <td>1.620118e+18</td>\n",
       "      <td>LETS TALK ABOUT BALENCIAGA ðŸ’€ #shorts #makeup #balenciaga https://t.co/mlTDFCx0Z3 via @YouTube</td>\n",
       "      <td>2023-01-30 17:51:43+00:00</td>\n",
       "    </tr>\n",
       "    <tr>\n",
       "      <th>8</th>\n",
       "      <td>1.620117e+18</td>\n",
       "      <td>Sadly it's much bigger than  #Balenciaga #BalenciagaGate gotta start somewhere</td>\n",
       "      <td>2023-01-30 17:48:02+00:00</td>\n",
       "    </tr>\n",
       "    <tr>\n",
       "      <th>9</th>\n",
       "      <td>1.620115e+18</td>\n",
       "      <td>@skims All the bot replies should tell you something....we don't support pedos and the abuse of children. You dress your OWN CHILD in a GIMP mask and call it fashion. You're sick and satanic. #balenciaga #cancelskims #cancelkimkardashian ðŸ¤®ðŸ¤®ðŸ¤®ðŸ¤®ð</td>\n",
       "      <td>2023-01-30 17:42:35+00:00</td>\n",
       "    </tr>\n",
       "    <tr>\n",
       "      <th>10</th>\n",
       "      <td>1.620112e+18</td>\n",
       "      <td>So good I had to share! Check out all the items I'm loving on @Poshmarkapp from @Ksena116 #poshmark #fashion #style #shopmycloset #eloquii #freepeople #balenciaga: https://t.co/k0jUwQZraI https://t.co/3JkET2Xhoc</td>\n",
       "      <td>2023-01-30 17:30:46+00:00</td>\n",
       "    </tr>\n",
       "    <tr>\n",
       "      <th>11</th>\n",
       "      <td>1.620112e+18</td>\n",
       "      <td>So good I had to share! Check out all the items I'm loving on @Poshmarkapp #poshmark #fashion #style #shopmycloset #balenciaga #francescascollections #anthropologie: https://t.co/5kdlZB1R7B https://t.co/aDBivrcQCK</td>\n",
       "      <td>2023-01-30 17:29:00+00:00</td>\n",
       "    </tr>\n",
       "    <tr>\n",
       "      <th>12</th>\n",
       "      <td>1.620103e+18</td>\n",
       "      <td>@Xx17965797N Sam Smith is disgusting. Ask him about #Balenciaga ðŸ‘€</td>\n",
       "      <td>2023-01-30 16:54:11+00:00</td>\n",
       "    </tr>\n",
       "    <tr>\n",
       "      <th>13</th>\n",
       "      <td>1.620097e+18</td>\n",
       "      <td>So good I had to share! Check out all the items I'm loving on @Poshmarkapp #poshmark #fashion #style #shopmycloset #cablegauge #balenciaga #levis: https://t.co/Whdx1MwOQs https://t.co/a39MBTiqmO</td>\n",
       "      <td>2023-01-30 16:31:18+00:00</td>\n",
       "    </tr>\n",
       "    <tr>\n",
       "      <th>14</th>\n",
       "      <td>1.620097e+18</td>\n",
       "      <td>So good I had to share! Check out all the items I'm loving on @Poshmarkapp from @MarilynSend1 #poshmark #fashion #style #shopmycloset #gbygiuliana #balenciaga #oneteaspoon: https://t.co/75NFkxcQ4L https://t.co/lMx9JAE6Iv</td>\n",
       "      <td>2023-01-30 16:31:00+00:00</td>\n",
       "    </tr>\n",
       "    <tr>\n",
       "      <th>15</th>\n",
       "      <td>1.620097e+18</td>\n",
       "      <td>So good I had to share! Check out all the items I'm loving on @Poshmarkapp #poshmark #fashion #style #shopmycloset #balenciaga #cherokee #kennethcolereaction: https://t.co/gVOHP3yXw1 https://t.co/EabvSzp1Eq</td>\n",
       "      <td>2023-01-30 16:29:15+00:00</td>\n",
       "    </tr>\n",
       "    <tr>\n",
       "      <th>16</th>\n",
       "      <td>1.620097e+18</td>\n",
       "      <td>Ye faces new hurdle in business and personal life as Australian visa denial looms\\n\\n#Adidas #AfricanBillionaires #AfricanAmericanbillionaire #AustralianVisa #Balenciaga #BillionairesAfrica #Featured #KanyeWest #Visaapplication\\n\\nhttps://t.co/2kmtD87VXJ https://t.co/1DAe2XqBO7</td>\n",
       "      <td>2023-01-30 16:28:32+00:00</td>\n",
       "    </tr>\n",
       "    <tr>\n",
       "      <th>17</th>\n",
       "      <td>1.620083e+18</td>\n",
       "      <td>#FFS\\n Lmao \\n#VaccineDeath #vaccine #VaccineDeaths #vaccinegenocide #VaccineDemocide #CovidVaccine #Covid_19 #Nuremberg2Â  #nhsÂ \\n\\n#DavosAgenda #WEFisEvil #wef23 #WEFpuppets #WEF\\n\\n#Balenciaga #Balenciagapedos #pedofila #grooming #HollywoodStudios</td>\n",
       "      <td>2023-01-30 15:33:46+00:00</td>\n",
       "    </tr>\n",
       "  </tbody>\n",
       "</table>\n",
       "</div>"
      ],
      "text/plain": [
       "              id  \\\n",
       "0   1.620207e+18   \n",
       "1   1.620206e+18   \n",
       "2   1.620204e+18   \n",
       "3   1.620151e+18   \n",
       "4   1.620142e+18   \n",
       "5   1.620133e+18   \n",
       "6   1.620127e+18   \n",
       "7   1.620118e+18   \n",
       "8   1.620117e+18   \n",
       "9   1.620115e+18   \n",
       "10  1.620112e+18   \n",
       "11  1.620112e+18   \n",
       "12  1.620103e+18   \n",
       "13  1.620097e+18   \n",
       "14  1.620097e+18   \n",
       "15  1.620097e+18   \n",
       "16  1.620097e+18   \n",
       "17  1.620083e+18   \n",
       "\n",
       "                                                                                                                                                                                                                                                                                     content  \\\n",
       "0   Latest Podcast is out now! - Balenciaga Is Run By Satanists | JUST THINK #5 https://t.co/AsIzLXynLn via @YouTube | #Balenciagapedos #Balenciaga #satan #satanist #SATANIC #pedophelia #podcastshow #podcast #podcastlife #PodcastAndChill #podcaster #podcasting #lucifer #luciferian #h   \n",
       "1                                                                                                              Over 500 brands including #Gucci, #OffWhite, #Balenciaga, #MaisonMargiela, #MarineSerre, #SaintLaurent #fashion and many more https://t.co/gRmQa9ahMX https://t.co/7TMOC7LXRP   \n",
       "2                                                                                      So good I had to share! Check out all the items I'm loving on @Poshmarkapp #poshmark #fashion #style #shopmycloset #balenciaga #variety #stevemadden: https://t.co/C6QmuJvQSc https://t.co/08QcAOwm2C   \n",
       "3                                                                                                                           @SKKN NOTHING! We don't support pedos and those who support child abuse and exploitation. #balenciaga #cancelkimkardashian #cancelskims ðŸ’©ðŸ¤®ðŸ’©ðŸ¤®ðŸ’©ðŸ¤®   \n",
       "4                                                                                        So good I had to share! Check out all the items I'm loving on @Poshmarkapp #poshmark #fashion #style #shopmycloset #madewell #balenciaga #kaileigh: https://t.co/H1v5xqQaEo https://t.co/r3oAOFBei4   \n",
       "5                                                                                                                                                                                                                          WTF? Why is this happening??? #Balenciaga https://t.co/tJLYkONwP2   \n",
       "6                                                                 So good I had to share! Check out all the items I'm loving on @Poshmarkapp from @kmullen1019 #poshmark #fashion #style #shopmycloset #balenciaga #freepeople #dannynicole: https://t.co/kBUmpEcdc4 https://t.co/p3n0TDQp5Y   \n",
       "7                                                                                                                                                                                           LETS TALK ABOUT BALENCIAGA ðŸ’€ #shorts #makeup #balenciaga https://t.co/mlTDFCx0Z3 via @YouTube   \n",
       "8                                                                                                                                                                                                             Sadly it's much bigger than  #Balenciaga #BalenciagaGate gotta start somewhere   \n",
       "9                            @skims All the bot replies should tell you something....we don't support pedos and the abuse of children. You dress your OWN CHILD in a GIMP mask and call it fashion. You're sick and satanic. #balenciaga #cancelskims #cancelkimkardashian ðŸ¤®ðŸ¤®ðŸ¤®ðŸ¤®ð   \n",
       "10                                                                       So good I had to share! Check out all the items I'm loving on @Poshmarkapp from @Ksena116 #poshmark #fashion #style #shopmycloset #eloquii #freepeople #balenciaga: https://t.co/k0jUwQZraI https://t.co/3JkET2Xhoc   \n",
       "11                                                                     So good I had to share! Check out all the items I'm loving on @Poshmarkapp #poshmark #fashion #style #shopmycloset #balenciaga #francescascollections #anthropologie: https://t.co/5kdlZB1R7B https://t.co/aDBivrcQCK   \n",
       "12                                                                                                                                                                                                                      @Xx17965797N Sam Smith is disgusting. Ask him about #Balenciaga ðŸ‘€   \n",
       "13                                                                                        So good I had to share! Check out all the items I'm loving on @Poshmarkapp #poshmark #fashion #style #shopmycloset #cablegauge #balenciaga #levis: https://t.co/Whdx1MwOQs https://t.co/a39MBTiqmO   \n",
       "14                                                              So good I had to share! Check out all the items I'm loving on @Poshmarkapp from @MarilynSend1 #poshmark #fashion #style #shopmycloset #gbygiuliana #balenciaga #oneteaspoon: https://t.co/75NFkxcQ4L https://t.co/lMx9JAE6Iv   \n",
       "15                                                                            So good I had to share! Check out all the items I'm loving on @Poshmarkapp #poshmark #fashion #style #shopmycloset #balenciaga #cherokee #kennethcolereaction: https://t.co/gVOHP3yXw1 https://t.co/EabvSzp1Eq   \n",
       "16    Ye faces new hurdle in business and personal life as Australian visa denial looms\\n\\n#Adidas #AfricanBillionaires #AfricanAmericanbillionaire #AustralianVisa #Balenciaga #BillionairesAfrica #Featured #KanyeWest #Visaapplication\\n\\nhttps://t.co/2kmtD87VXJ https://t.co/1DAe2XqBO7   \n",
       "17                               #FFS\\n Lmao \\n#VaccineDeath #vaccine #VaccineDeaths #vaccinegenocide #VaccineDemocide #CovidVaccine #Covid_19 #Nuremberg2Â  #nhsÂ \\n\\n#DavosAgenda #WEFisEvil #wef23 #WEFpuppets #WEF\\n\\n#Balenciaga #Balenciagapedos #pedofila #grooming #HollywoodStudios   \n",
       "\n",
       "                         date  \n",
       "0   2023-01-30 23:46:10+00:00  \n",
       "1   2023-01-30 23:44:31+00:00  \n",
       "2   2023-01-30 23:33:43+00:00  \n",
       "3   2023-01-30 20:04:35+00:00  \n",
       "4   2023-01-30 19:30:19+00:00  \n",
       "5   2023-01-30 18:51:52+00:00  \n",
       "6   2023-01-30 18:29:23+00:00  \n",
       "7   2023-01-30 17:51:43+00:00  \n",
       "8   2023-01-30 17:48:02+00:00  \n",
       "9   2023-01-30 17:42:35+00:00  \n",
       "10  2023-01-30 17:30:46+00:00  \n",
       "11  2023-01-30 17:29:00+00:00  \n",
       "12  2023-01-30 16:54:11+00:00  \n",
       "13  2023-01-30 16:31:18+00:00  \n",
       "14  2023-01-30 16:31:00+00:00  \n",
       "15  2023-01-30 16:29:15+00:00  \n",
       "16  2023-01-30 16:28:32+00:00  \n",
       "17  2023-01-30 15:33:46+00:00  "
      ]
     },
     "execution_count": 3,
     "metadata": {},
     "output_type": "execute_result"
    }
   ],
   "source": [
    "train.head(18)"
   ]
  },
  {
   "cell_type": "code",
   "execution_count": 33,
   "id": "1bedf65c",
   "metadata": {},
   "outputs": [
    {
     "data": {
      "text/plain": [
       "29161"
      ]
     },
     "execution_count": 33,
     "metadata": {},
     "output_type": "execute_result"
    }
   ],
   "source": [
    "train.shape[0]"
   ]
  },
  {
   "cell_type": "code",
   "execution_count": 34,
   "id": "8af60fe9",
   "metadata": {},
   "outputs": [],
   "source": [
    "##Replace 'Text' column to 'Comments'\n",
    "\n",
    "train.rename(columns = {'content':'Comments'}, inplace = True)"
   ]
  },
  {
   "cell_type": "code",
   "execution_count": 35,
   "id": "d62d9626",
   "metadata": {},
   "outputs": [
    {
     "data": {
      "text/plain": [
       "Index(['id', 'Comments', 'date'], dtype='object')"
      ]
     },
     "execution_count": 35,
     "metadata": {},
     "output_type": "execute_result"
    }
   ],
   "source": [
    "train.columns"
   ]
  },
  {
   "cell_type": "markdown",
   "id": "bfec5d27",
   "metadata": {},
   "source": [
    "# 3)Comments - Descriptive Stats"
   ]
  },
  {
   "cell_type": "code",
   "execution_count": 36,
   "id": "54bd1339",
   "metadata": {},
   "outputs": [
    {
     "data": {
      "text/plain": [
       "29161"
      ]
     },
     "execution_count": 36,
     "metadata": {},
     "output_type": "execute_result"
    }
   ],
   "source": [
    "train[train.columns[-1]].count()"
   ]
  },
  {
   "cell_type": "code",
   "execution_count": 37,
   "id": "45ed3160",
   "metadata": {},
   "outputs": [
    {
     "name": "stdout",
     "output_type": "stream",
     "text": [
      "Empty DataFrame\n",
      "Columns: [id, Comments, date]\n",
      "Index: []\n"
     ]
    }
   ],
   "source": [
    "# Null rows detection\n",
    "\n",
    "null_rows = train[train['Comments'].isnull()]\n",
    "\n",
    "print(null_rows)"
   ]
  },
  {
   "cell_type": "code",
   "execution_count": 38,
   "id": "a6e82159",
   "metadata": {},
   "outputs": [],
   "source": [
    "# Drop rows with null values in 'Comments' column\n",
    "train = train.dropna(subset=['Comments'])"
   ]
  },
  {
   "cell_type": "code",
   "execution_count": 39,
   "id": "4a993a96",
   "metadata": {},
   "outputs": [
    {
     "data": {
      "text/plain": [
       "(29161, 3)"
      ]
     },
     "execution_count": 39,
     "metadata": {},
     "output_type": "execute_result"
    }
   ],
   "source": [
    "train.shape"
   ]
  },
  {
   "cell_type": "code",
   "execution_count": 40,
   "id": "3c408ab3",
   "metadata": {},
   "outputs": [
    {
     "name": "stdout",
     "output_type": "stream",
     "text": [
      "Empty DataFrame\n",
      "Columns: [id, Comments, date]\n",
      "Index: []\n"
     ]
    }
   ],
   "source": [
    "# Null rows detection\n",
    "\n",
    "null_rows = train[train['Comments'].isnull()]\n",
    "\n",
    "print(null_rows)"
   ]
  },
  {
   "cell_type": "code",
   "execution_count": 41,
   "id": "545e73f4",
   "metadata": {},
   "outputs": [],
   "source": [
    "train['Comments'] = train['Comments'].astype(str)"
   ]
  },
  {
   "cell_type": "code",
   "execution_count": 42,
   "id": "c6fb0160",
   "metadata": {},
   "outputs": [],
   "source": [
    "### Create Length Feature\n",
    "\n",
    "train['text_length'] = train['Comments'].apply(lambda x : len(x))"
   ]
  },
  {
   "cell_type": "code",
   "execution_count": 43,
   "id": "2e1afcd0",
   "metadata": {},
   "outputs": [
    {
     "data": {
      "text/plain": [
       "<AxesSubplot:ylabel='Frequency'>"
      ]
     },
     "execution_count": 43,
     "metadata": {},
     "output_type": "execute_result"
    },
    {
     "data": {
      "image/png": "[encoded data removed]",
      "text/plain": [
       "<Figure size 432x288 with 1 Axes>"
      ]
     },
     "metadata": {
      "needs_background": "light"
     },
     "output_type": "display_data"
    }
   ],
   "source": [
    "train['text_length'].plot.hist(bins = 10)"
   ]
  },
  {
   "cell_type": "markdown",
   "id": "b6ad76db",
   "metadata": {},
   "source": [
    "# 4) Cleaning - URL & Punctuation Removal"
   ]
  },
  {
   "cell_type": "code",
   "execution_count": 44,
   "id": "83374033",
   "metadata": {},
   "outputs": [],
   "source": [
    "# URLs removal and extra spaces too\n",
    "\n",
    "train['Comments'] = train['Comments'].apply(lambda x: re.sub(r'https?\\S+', '', x).strip())"
   ]
  },
  {
   "cell_type": "code",
   "execution_count": 45,
   "id": "ef23eadf",
   "metadata": {},
   "outputs": [
    {
     "data": {
      "text/html": [
       "<div>\n",
       "<style scoped>\n",
       "    .dataframe tbody tr th:only-of-type {\n",
       "        vertical-align: middle;\n",
       "    }\n",
       "\n",
       "    .dataframe tbody tr th {\n",
       "        vertical-align: top;\n",
       "    }\n",
       "\n",
       "    .dataframe thead th {\n",
       "        text-align: right;\n",
       "    }\n",
       "</style>\n",
       "<table border=\"1\" class=\"dataframe\">\n",
       "  <thead>\n",
       "    <tr style=\"text-align: right;\">\n",
       "      <th></th>\n",
       "      <th>id</th>\n",
       "      <th>Comments</th>\n",
       "      <th>date</th>\n",
       "      <th>text_length</th>\n",
       "    </tr>\n",
       "  </thead>\n",
       "  <tbody>\n",
       "    <tr>\n",
       "      <th>0</th>\n",
       "      <td>1.620207e+18</td>\n",
       "      <td>Latest Podcast is out now! - Balenciaga Is Run By Satanists | JUST THINK #5  via @YouTube | #Balenciagapedos #Balenciaga #satan #satanist #SATANIC #pedophelia #podcastshow #podcast #podcastlife #PodcastAndChill #podcaster #podcasting #lucifer #luciferian #h</td>\n",
       "      <td>2023-01-30 23:46:10+00:00</td>\n",
       "      <td>280</td>\n",
       "    </tr>\n",
       "    <tr>\n",
       "      <th>1</th>\n",
       "      <td>1.620206e+18</td>\n",
       "      <td>Over 500 brands including #Gucci, #OffWhite, #Balenciaga, #MaisonMargiela, #MarineSerre, #SaintLaurent #fashion and many more</td>\n",
       "      <td>2023-01-30 23:44:31+00:00</td>\n",
       "      <td>173</td>\n",
       "    </tr>\n",
       "    <tr>\n",
       "      <th>2</th>\n",
       "      <td>1.620204e+18</td>\n",
       "      <td>So good I had to share! Check out all the items I'm loving on @Poshmarkapp #poshmark #fashion #style #shopmycloset #balenciaga #variety #stevemadden:</td>\n",
       "      <td>2023-01-30 23:33:43+00:00</td>\n",
       "      <td>197</td>\n",
       "    </tr>\n",
       "    <tr>\n",
       "      <th>3</th>\n",
       "      <td>1.620151e+18</td>\n",
       "      <td>@SKKN NOTHING! We don't support pedos and those who support child abuse and exploitation. #balenciaga #cancelkimkardashian #cancelskims ðŸ’©ðŸ¤®ðŸ’©ðŸ¤®ðŸ’©ðŸ¤®</td>\n",
       "      <td>2023-01-30 20:04:35+00:00</td>\n",
       "      <td>160</td>\n",
       "    </tr>\n",
       "    <tr>\n",
       "      <th>4</th>\n",
       "      <td>1.620142e+18</td>\n",
       "      <td>So good I had to share! Check out all the items I'm loving on @Poshmarkapp #poshmark #fashion #style #shopmycloset #madewell #balenciaga #kaileigh:</td>\n",
       "      <td>2023-01-30 19:30:19+00:00</td>\n",
       "      <td>195</td>\n",
       "    </tr>\n",
       "    <tr>\n",
       "      <th>5</th>\n",
       "      <td>1.620133e+18</td>\n",
       "      <td>WTF? Why is this happening??? #Balenciaga</td>\n",
       "      <td>2023-01-30 18:51:52+00:00</td>\n",
       "      <td>65</td>\n",
       "    </tr>\n",
       "    <tr>\n",
       "      <th>6</th>\n",
       "      <td>1.620127e+18</td>\n",
       "      <td>So good I had to share! Check out all the items I'm loving on @Poshmarkapp from @kmullen1019 #poshmark #fashion #style #shopmycloset #balenciaga #freepeople #dannynicole:</td>\n",
       "      <td>2023-01-30 18:29:23+00:00</td>\n",
       "      <td>218</td>\n",
       "    </tr>\n",
       "    <tr>\n",
       "      <th>7</th>\n",
       "      <td>1.620118e+18</td>\n",
       "      <td>LETS TALK ABOUT BALENCIAGA ðŸ’€ #shorts #makeup #balenciaga  via @YouTube</td>\n",
       "      <td>2023-01-30 17:51:43+00:00</td>\n",
       "      <td>96</td>\n",
       "    </tr>\n",
       "    <tr>\n",
       "      <th>8</th>\n",
       "      <td>1.620117e+18</td>\n",
       "      <td>Sadly it's much bigger than  #Balenciaga #BalenciagaGate gotta start somewhere</td>\n",
       "      <td>2023-01-30 17:48:02+00:00</td>\n",
       "      <td>78</td>\n",
       "    </tr>\n",
       "    <tr>\n",
       "      <th>9</th>\n",
       "      <td>1.620115e+18</td>\n",
       "      <td>@skims All the bot replies should tell you something....we don't support pedos and the abuse of children. You dress your OWN CHILD in a GIMP mask and call it fashion. You're sick and satanic. #balenciaga #cancelskims #cancelkimkardashian ðŸ¤®ðŸ¤®ðŸ¤®ðŸ¤®ð</td>\n",
       "      <td>2023-01-30 17:42:35+00:00</td>\n",
       "      <td>255</td>\n",
       "    </tr>\n",
       "  </tbody>\n",
       "</table>\n",
       "</div>"
      ],
      "text/plain": [
       "             id  \\\n",
       "0  1.620207e+18   \n",
       "1  1.620206e+18   \n",
       "2  1.620204e+18   \n",
       "3  1.620151e+18   \n",
       "4  1.620142e+18   \n",
       "5  1.620133e+18   \n",
       "6  1.620127e+18   \n",
       "7  1.620118e+18   \n",
       "8  1.620117e+18   \n",
       "9  1.620115e+18   \n",
       "\n",
       "                                                                                                                                                                                                                                                            Comments  \\\n",
       "0  Latest Podcast is out now! - Balenciaga Is Run By Satanists | JUST THINK #5  via @YouTube | #Balenciagapedos #Balenciaga #satan #satanist #SATANIC #pedophelia #podcastshow #podcast #podcastlife #PodcastAndChill #podcaster #podcasting #lucifer #luciferian #h   \n",
       "1                                                                                                                                      Over 500 brands including #Gucci, #OffWhite, #Balenciaga, #MaisonMargiela, #MarineSerre, #SaintLaurent #fashion and many more   \n",
       "2                                                                                                              So good I had to share! Check out all the items I'm loving on @Poshmarkapp #poshmark #fashion #style #shopmycloset #balenciaga #variety #stevemadden:   \n",
       "3                                                                                                   @SKKN NOTHING! We don't support pedos and those who support child abuse and exploitation. #balenciaga #cancelkimkardashian #cancelskims ðŸ’©ðŸ¤®ðŸ’©ðŸ¤®ðŸ’©ðŸ¤®   \n",
       "4                                                                                                                So good I had to share! Check out all the items I'm loving on @Poshmarkapp #poshmark #fashion #style #shopmycloset #madewell #balenciaga #kaileigh:   \n",
       "5                                                                                                                                                                                                                          WTF? Why is this happening??? #Balenciaga   \n",
       "6                                                                                         So good I had to share! Check out all the items I'm loving on @Poshmarkapp from @kmullen1019 #poshmark #fashion #style #shopmycloset #balenciaga #freepeople #dannynicole:   \n",
       "7                                                                                                                                                                                          LETS TALK ABOUT BALENCIAGA ðŸ’€ #shorts #makeup #balenciaga  via @YouTube   \n",
       "8                                                                                                                                                                                     Sadly it's much bigger than  #Balenciaga #BalenciagaGate gotta start somewhere   \n",
       "9    @skims All the bot replies should tell you something....we don't support pedos and the abuse of children. You dress your OWN CHILD in a GIMP mask and call it fashion. You're sick and satanic. #balenciaga #cancelskims #cancelkimkardashian ðŸ¤®ðŸ¤®ðŸ¤®ðŸ¤®ð   \n",
       "\n",
       "                        date  text_length  \n",
       "0  2023-01-30 23:46:10+00:00          280  \n",
       "1  2023-01-30 23:44:31+00:00          173  \n",
       "2  2023-01-30 23:33:43+00:00          197  \n",
       "3  2023-01-30 20:04:35+00:00          160  \n",
       "4  2023-01-30 19:30:19+00:00          195  \n",
       "5  2023-01-30 18:51:52+00:00           65  \n",
       "6  2023-01-30 18:29:23+00:00          218  \n",
       "7  2023-01-30 17:51:43+00:00           96  \n",
       "8  2023-01-30 17:48:02+00:00           78  \n",
       "9  2023-01-30 17:42:35+00:00          255  "
      ]
     },
     "execution_count": 45,
     "metadata": {},
     "output_type": "execute_result"
    }
   ],
   "source": [
    "train.head(10)"
   ]
  },
  {
   "cell_type": "code",
   "execution_count": 46,
   "id": "262bfbb6",
   "metadata": {},
   "outputs": [],
   "source": [
    "##Remove punctuation\n",
    "\n",
    "import string\n",
    "def remove_punctuations(text):\n",
    "    for punctuation in string.punctuation:\n",
    "        text = text.replace(punctuation, '')\n",
    "    return text"
   ]
  },
  {
   "cell_type": "code",
   "execution_count": 47,
   "id": "ddc025de",
   "metadata": {},
   "outputs": [
    {
     "data": {
      "text/plain": [
       "0                                                    Latest Podcast is out now  Balenciaga Is Run By Satanists  JUST THINK 5  via YouTube  Balenciagapedos Balenciaga satan satanist SATANIC pedophelia podcastshow podcast podcastlife PodcastAndChill podcaster podcasting lucifer luciferian h\n",
       "1                                                                                                                                                                               Over 500 brands including Gucci OffWhite Balenciaga MaisonMargiela MarineSerre SaintLaurent fashion and many more\n",
       "2                                                                                                                                                      So good I had to share Check out all the items Im loving on Poshmarkapp poshmark fashion style shopmycloset balenciaga variety stevemadden\n",
       "3                                                                                                                                       SKKN NOTHING We dont support pedos and those who support child abuse and exploitation balenciaga cancelkimkardashian cancelskims ðŸ’©ðŸ¤®ðŸ’©ðŸ¤®ðŸ’©ðŸ¤®\n",
       "4                                                                                                                                                        So good I had to share Check out all the items Im loving on Poshmarkapp poshmark fashion style shopmycloset madewell balenciaga kaileigh\n",
       "                                                                                                                                                   ...                                                                                                                                           \n",
       "29156    Nah itâ€™s past all that They need to be cancelled and out of business asap Theyâ€™ll apologize and blame some random employee for it yet theyâ€™ll continue to add hidden messages in their ads because they can and thatâ€™s how theyâ€™ve continued to be successful CancelBalenciaga\n",
       "29157                                                                                                                                                                                                                             itsnatlydenise It getting worse than i thought CancelBalenciaga\n",
       "29158                                                                                                                                                                                                               itsnatlydenise Think we should start trending FuckBalenciaga CancelBalenciaga\n",
       "29159                                                                                                                                                                                                                                Sick to my stomach byebalenciaga Balenciaga CancelBalenciaga\n",
       "29160                                                                                                                                                                                                                           They deleted everything We donâ€™t do pedophiles CancelBalenciaga\n",
       "Name: Comments, Length: 29161, dtype: object"
      ]
     },
     "execution_count": 47,
     "metadata": {},
     "output_type": "execute_result"
    }
   ],
   "source": [
    "train['Comments'].apply(remove_punctuations)"
   ]
  },
  {
   "cell_type": "code",
   "execution_count": 48,
   "id": "6bfb9ceb",
   "metadata": {},
   "outputs": [],
   "source": [
    "# Commit to Table\n",
    "train['Comments'] = train['Comments'].apply(remove_punctuations)"
   ]
  },
  {
   "cell_type": "code",
   "execution_count": 49,
   "id": "dfa1abb8",
   "metadata": {},
   "outputs": [
    {
     "data": {
      "text/plain": [
       "<AxesSubplot:ylabel='Frequency'>"
      ]
     },
     "execution_count": 49,
     "metadata": {},
     "output_type": "execute_result"
    },
    {
     "data": {
      "image/png": "[encoded data removed]",
      "text/plain": [
       "<Figure size 432x288 with 1 Axes>"
      ]
     },
     "metadata": {
      "needs_background": "light"
     },
     "output_type": "display_data"
    }
   ],
   "source": [
    "train['text_length'].plot.hist(bins = 10)"
   ]
  },
  {
   "cell_type": "markdown",
   "id": "5d436a6a",
   "metadata": {},
   "source": [
    "# 4) Cleaning - lower case"
   ]
  },
  {
   "cell_type": "code",
   "execution_count": 50,
   "id": "bfd3967c",
   "metadata": {},
   "outputs": [
    {
     "data": {
      "text/plain": [
       "0                                                    latest podcast is out now  balenciaga is run by satanists  just think 5  via youtube  balenciagapedos balenciaga satan satanist satanic pedophelia podcastshow podcast podcastlife podcastandchill podcaster podcasting lucifer luciferian h\n",
       "1                                                                                                                                                                               over 500 brands including gucci offwhite balenciaga maisonmargiela marineserre saintlaurent fashion and many more\n",
       "2                                                                                                                                                      so good i had to share check out all the items im loving on poshmarkapp poshmark fashion style shopmycloset balenciaga variety stevemadden\n",
       "3                                                                                                                                       skkn nothing we dont support pedos and those who support child abuse and exploitation balenciaga cancelkimkardashian cancelskims ðÿ’©ðÿ¤®ðÿ’©ðÿ¤®ðÿ’©ðÿ¤®\n",
       "4                                                                                                                                                        so good i had to share check out all the items im loving on poshmarkapp poshmark fashion style shopmycloset madewell balenciaga kaileigh\n",
       "                                                                                                                                                   ...                                                                                                                                           \n",
       "29156    nah itâ€™s past all that they need to be cancelled and out of business asap theyâ€™ll apologize and blame some random employee for it yet theyâ€™ll continue to add hidden messages in their ads because they can and thatâ€™s how theyâ€™ve continued to be successful cancelbalenciaga\n",
       "29157                                                                                                                                                                                                                             itsnatlydenise it getting worse than i thought cancelbalenciaga\n",
       "29158                                                                                                                                                                                                               itsnatlydenise think we should start trending fuckbalenciaga cancelbalenciaga\n",
       "29159                                                                                                                                                                                                                                sick to my stomach byebalenciaga balenciaga cancelbalenciaga\n",
       "29160                                                                                                                                                                                                                           they deleted everything we donâ€™t do pedophiles cancelbalenciaga\n",
       "Name: Comments, Length: 29161, dtype: object"
      ]
     },
     "execution_count": 50,
     "metadata": {},
     "output_type": "execute_result"
    }
   ],
   "source": [
    "# Showing only\n",
    "train['Comments'].apply(lambda x: x.lower())"
   ]
  },
  {
   "cell_type": "code",
   "execution_count": 51,
   "id": "824437e0",
   "metadata": {},
   "outputs": [],
   "source": [
    "# Commit to Table\n",
    "train['Comments'] = train['Comments'].apply(lambda x: x.lower())"
   ]
  },
  {
   "cell_type": "markdown",
   "id": "7c47a32b",
   "metadata": {},
   "source": [
    "# 5) Tweet tokenization"
   ]
  },
  {
   "cell_type": "code",
   "execution_count": 52,
   "id": "5b0d3be7",
   "metadata": {},
   "outputs": [],
   "source": [
    "import nltk\n",
    "from nltk.tokenize import TweetTokenizer\n",
    "\n",
    "# Instantiate the TweetTokenizer\n",
    "tokenizer = TweetTokenizer()\n",
    "\n",
    "# Define a function to tokenize a tweet\n",
    "def tokenize_tweet(tweet):\n",
    "    # Use the TweetTokenizer to tokenize the tweet\n",
    "    tokens = tokenizer.tokenize(tweet)\n",
    "    return tokens\n",
    "\n",
    "# Apply the tokenization function to the 'Comments' column\n",
    "train['Tokens'] = train['Comments'].apply(tokenize_tweet)"
   ]
  },
  {
   "cell_type": "code",
   "execution_count": 53,
   "id": "2d2e51c4",
   "metadata": {},
   "outputs": [
    {
     "data": {
      "text/html": [
       "<div>\n",
       "<style scoped>\n",
       "    .dataframe tbody tr th:only-of-type {\n",
       "        vertical-align: middle;\n",
       "    }\n",
       "\n",
       "    .dataframe tbody tr th {\n",
       "        vertical-align: top;\n",
       "    }\n",
       "\n",
       "    .dataframe thead th {\n",
       "        text-align: right;\n",
       "    }\n",
       "</style>\n",
       "<table border=\"1\" class=\"dataframe\">\n",
       "  <thead>\n",
       "    <tr style=\"text-align: right;\">\n",
       "      <th></th>\n",
       "      <th>id</th>\n",
       "      <th>Comments</th>\n",
       "      <th>date</th>\n",
       "      <th>text_length</th>\n",
       "      <th>Tokens</th>\n",
       "    </tr>\n",
       "  </thead>\n",
       "  <tbody>\n",
       "    <tr>\n",
       "      <th>0</th>\n",
       "      <td>1.620207e+18</td>\n",
       "      <td>latest podcast is out now  balenciaga is run by satanists  just think 5  via youtube  balenciagapedos balenciaga satan satanist satanic pedophelia podcastshow podcast podcastlife podcastandchill podcaster podcasting lucifer luciferian h</td>\n",
       "      <td>2023-01-30 23:46:10+00:00</td>\n",
       "      <td>280</td>\n",
       "      <td>[latest, podcast, is, out, now, balenciaga, is, run, by, satanists, just, think, 5, via, youtube, balenciagapedos, balenciaga, satan, satanist, satanic, pedophelia, podcastshow, podcast, podcastlife, podcastandchill, podcaster, podcasting, lucifer, luciferian, h]</td>\n",
       "    </tr>\n",
       "    <tr>\n",
       "      <th>1</th>\n",
       "      <td>1.620206e+18</td>\n",
       "      <td>over 500 brands including gucci offwhite balenciaga maisonmargiela marineserre saintlaurent fashion and many more</td>\n",
       "      <td>2023-01-30 23:44:31+00:00</td>\n",
       "      <td>173</td>\n",
       "      <td>[over, 500, brands, including, gucci, offwhite, balenciaga, maisonmargiela, marineserre, saintlaurent, fashion, and, many, more]</td>\n",
       "    </tr>\n",
       "    <tr>\n",
       "      <th>2</th>\n",
       "      <td>1.620204e+18</td>\n",
       "      <td>so good i had to share check out all the items im loving on poshmarkapp poshmark fashion style shopmycloset balenciaga variety stevemadden</td>\n",
       "      <td>2023-01-30 23:33:43+00:00</td>\n",
       "      <td>197</td>\n",
       "      <td>[so, good, i, had, to, share, check, out, all, the, items, im, loving, on, poshmarkapp, poshmark, fashion, style, shopmycloset, balenciaga, variety, stevemadden]</td>\n",
       "    </tr>\n",
       "    <tr>\n",
       "      <th>3</th>\n",
       "      <td>1.620151e+18</td>\n",
       "      <td>skkn nothing we dont support pedos and those who support child abuse and exploitation balenciaga cancelkimkardashian cancelskims ðÿ’©ðÿ¤®ðÿ’©ðÿ¤®ðÿ’©ðÿ¤®</td>\n",
       "      <td>2023-01-30 20:04:35+00:00</td>\n",
       "      <td>160</td>\n",
       "      <td>[skkn, nothing, we, dont, support, pedos, and, those, who, support, child, abuse, and, exploitation, balenciaga, cancelkimkardashian, cancelskims, ðÿ, ’, ©, ðÿ, ¤, ®, ðÿ, ’, ©, ðÿ, ¤, ®, ðÿ, ’, ©, ðÿ, ¤, ®]</td>\n",
       "    </tr>\n",
       "    <tr>\n",
       "      <th>4</th>\n",
       "      <td>1.620142e+18</td>\n",
       "      <td>so good i had to share check out all the items im loving on poshmarkapp poshmark fashion style shopmycloset madewell balenciaga kaileigh</td>\n",
       "      <td>2023-01-30 19:30:19+00:00</td>\n",
       "      <td>195</td>\n",
       "      <td>[so, good, i, had, to, share, check, out, all, the, items, im, loving, on, poshmarkapp, poshmark, fashion, style, shopmycloset, madewell, balenciaga, kaileigh]</td>\n",
       "    </tr>\n",
       "    <tr>\n",
       "      <th>5</th>\n",
       "      <td>1.620133e+18</td>\n",
       "      <td>wtf why is this happening balenciaga</td>\n",
       "      <td>2023-01-30 18:51:52+00:00</td>\n",
       "      <td>65</td>\n",
       "      <td>[wtf, why, is, this, happening, balenciaga]</td>\n",
       "    </tr>\n",
       "    <tr>\n",
       "      <th>6</th>\n",
       "      <td>1.620127e+18</td>\n",
       "      <td>so good i had to share check out all the items im loving on poshmarkapp from kmullen1019 poshmark fashion style shopmycloset balenciaga freepeople dannynicole</td>\n",
       "      <td>2023-01-30 18:29:23+00:00</td>\n",
       "      <td>218</td>\n",
       "      <td>[so, good, i, had, to, share, check, out, all, the, items, im, loving, on, poshmarkapp, from, kmullen, 1019, poshmark, fashion, style, shopmycloset, balenciaga, freepeople, dannynicole]</td>\n",
       "    </tr>\n",
       "    <tr>\n",
       "      <th>7</th>\n",
       "      <td>1.620118e+18</td>\n",
       "      <td>lets talk about balenciaga ðÿ’€ shorts makeup balenciaga  via youtube</td>\n",
       "      <td>2023-01-30 17:51:43+00:00</td>\n",
       "      <td>96</td>\n",
       "      <td>[lets, talk, about, balenciaga, ðÿ, ’, €, shorts, makeup, balenciaga, via, youtube]</td>\n",
       "    </tr>\n",
       "    <tr>\n",
       "      <th>8</th>\n",
       "      <td>1.620117e+18</td>\n",
       "      <td>sadly its much bigger than  balenciaga balenciagagate gotta start somewhere</td>\n",
       "      <td>2023-01-30 17:48:02+00:00</td>\n",
       "      <td>78</td>\n",
       "      <td>[sadly, its, much, bigger, than, balenciaga, balenciagagate, gotta, start, somewhere]</td>\n",
       "    </tr>\n",
       "    <tr>\n",
       "      <th>9</th>\n",
       "      <td>1.620115e+18</td>\n",
       "      <td>skims all the bot replies should tell you somethingwe dont support pedos and the abuse of children you dress your own child in a gimp mask and call it fashion youre sick and satanic balenciaga cancelskims cancelkimkardashian ðÿ¤®ðÿ¤®ðÿ¤®ðÿ¤®ð</td>\n",
       "      <td>2023-01-30 17:42:35+00:00</td>\n",
       "      <td>255</td>\n",
       "      <td>[skims, all, the, bot, replies, should, tell, you, somethingwe, dont, support, pedos, and, the, abuse, of, children, you, dress, your, own, child, in, a, gimp, mask, and, call, it, fashion, youre, sick, and, satanic, balenciaga, cancelskims, cancelkimkardashian, ðÿ, ¤, ®, ðÿ, ¤, ®, ðÿ, ¤, ®, ðÿ, ¤, ®, ð]</td>\n",
       "    </tr>\n",
       "    <tr>\n",
       "      <th>10</th>\n",
       "      <td>1.620112e+18</td>\n",
       "      <td>so good i had to share check out all the items im loving on poshmarkapp from ksena116 poshmark fashion style shopmycloset eloquii freepeople balenciaga</td>\n",
       "      <td>2023-01-30 17:30:46+00:00</td>\n",
       "      <td>211</td>\n",
       "      <td>[so, good, i, had, to, share, check, out, all, the, items, im, loving, on, poshmarkapp, from, ksena, 116, poshmark, fashion, style, shopmycloset, eloquii, freepeople, balenciaga]</td>\n",
       "    </tr>\n",
       "    <tr>\n",
       "      <th>11</th>\n",
       "      <td>1.620112e+18</td>\n",
       "      <td>so good i had to share check out all the items im loving on poshmarkapp poshmark fashion style shopmycloset balenciaga francescascollections anthropologie</td>\n",
       "      <td>2023-01-30 17:29:00+00:00</td>\n",
       "      <td>213</td>\n",
       "      <td>[so, good, i, had, to, share, check, out, all, the, items, im, loving, on, poshmarkapp, poshmark, fashion, style, shopmycloset, balenciaga, francescascollections, anthropologie]</td>\n",
       "    </tr>\n",
       "    <tr>\n",
       "      <th>12</th>\n",
       "      <td>1.620103e+18</td>\n",
       "      <td>xx17965797n sam smith is disgusting ask him about balenciaga ðÿ‘€</td>\n",
       "      <td>2023-01-30 16:54:11+00:00</td>\n",
       "      <td>68</td>\n",
       "      <td>[xx17965797n, sam, smith, is, disgusting, ask, him, about, balenciaga, ðÿ, ‘, €]</td>\n",
       "    </tr>\n",
       "    <tr>\n",
       "      <th>13</th>\n",
       "      <td>1.620097e+18</td>\n",
       "      <td>so good i had to share check out all the items im loving on poshmarkapp poshmark fashion style shopmycloset cablegauge balenciaga levis</td>\n",
       "      <td>2023-01-30 16:31:18+00:00</td>\n",
       "      <td>194</td>\n",
       "      <td>[so, good, i, had, to, share, check, out, all, the, items, im, loving, on, poshmarkapp, poshmark, fashion, style, shopmycloset, cablegauge, balenciaga, levis]</td>\n",
       "    </tr>\n",
       "    <tr>\n",
       "      <th>14</th>\n",
       "      <td>1.620097e+18</td>\n",
       "      <td>so good i had to share check out all the items im loving on poshmarkapp from marilynsend1 poshmark fashion style shopmycloset gbygiuliana balenciaga oneteaspoon</td>\n",
       "      <td>2023-01-30 16:31:00+00:00</td>\n",
       "      <td>220</td>\n",
       "      <td>[so, good, i, had, to, share, check, out, all, the, items, im, loving, on, poshmarkapp, from, marilynsend, 1, poshmark, fashion, style, shopmycloset, gbygiuliana, balenciaga, oneteaspoon]</td>\n",
       "    </tr>\n",
       "    <tr>\n",
       "      <th>15</th>\n",
       "      <td>1.620097e+18</td>\n",
       "      <td>so good i had to share check out all the items im loving on poshmarkapp poshmark fashion style shopmycloset balenciaga cherokee kennethcolereaction</td>\n",
       "      <td>2023-01-30 16:29:15+00:00</td>\n",
       "      <td>206</td>\n",
       "      <td>[so, good, i, had, to, share, check, out, all, the, items, im, loving, on, poshmarkapp, poshmark, fashion, style, shopmycloset, balenciaga, cherokee, kennethcolereaction]</td>\n",
       "    </tr>\n",
       "    <tr>\n",
       "      <th>16</th>\n",
       "      <td>1.620097e+18</td>\n",
       "      <td>ye faces new hurdle in business and personal life as australian visa denial looms\\n\\nadidas africanbillionaires africanamericanbillionaire australianvisa balenciaga billionairesafrica featured kanyewest visaapplication</td>\n",
       "      <td>2023-01-30 16:28:32+00:00</td>\n",
       "      <td>274</td>\n",
       "      <td>[ye, faces, new, hurdle, in, business, and, personal, life, as, australian, visa, denial, looms, adidas, africanbillionaires, africanamericanbillionaire, australianvisa, balenciaga, billionairesafrica, featured, kanyewest, visaapplication]</td>\n",
       "    </tr>\n",
       "    <tr>\n",
       "      <th>17</th>\n",
       "      <td>1.620083e+18</td>\n",
       "      <td>ffs\\n lmao \\nvaccinedeath vaccine vaccinedeaths vaccinegenocide vaccinedemocide covidvaccine covid19 nuremberg2â  nhsâ \\n\\ndavosagenda wefisevil wef23 wefpuppets wef\\n\\nbalenciaga balenciagapedos pedofila grooming hollywoodstudios</td>\n",
       "      <td>2023-01-30 15:33:46+00:00</td>\n",
       "      <td>245</td>\n",
       "      <td>[ffs, lmao, vaccinedeath, vaccine, vaccinedeaths, vaccinegenocide, vaccinedemocide, covidvaccine, covid, 19, nuremberg, 2â, nhsâ, davosagenda, wefisevil, wef, 23, wefpuppets, wef, balenciaga, balenciagapedos, pedofila, grooming, hollywoodstudios]</td>\n",
       "    </tr>\n",
       "    <tr>\n",
       "      <th>18</th>\n",
       "      <td>1.620074e+18</td>\n",
       "      <td>tenant outlook sports apparel brands race to capture global growth read here \\n\\nicsc realestate retail athleisure sportswear fitness nike balenciaga</td>\n",
       "      <td>2023-01-30 14:57:00+00:00</td>\n",
       "      <td>182</td>\n",
       "      <td>[tenant, outlook, sports, apparel, brands, race, to, capture, global, growth, read, here, icsc, realestate, retail, athleisure, sportswear, fitness, nike, balenciaga]</td>\n",
       "    </tr>\n",
       "    <tr>\n",
       "      <th>19</th>\n",
       "      <td>1.620059e+18</td>\n",
       "      <td>i have to feel sorry for people who were blissfully unaware of the balenciaga scandal and indeed the purpose of the fashion industry</td>\n",
       "      <td>2023-01-30 14:00:05+00:00</td>\n",
       "      <td>136</td>\n",
       "      <td>[i, have, to, feel, sorry, for, people, who, were, blissfully, unaware, of, the, balenciaga, scandal, and, indeed, the, purpose, of, the, fashion, industry]</td>\n",
       "    </tr>\n",
       "  </tbody>\n",
       "</table>\n",
       "</div>"
      ],
      "text/plain": [
       "              id  \\\n",
       "0   1.620207e+18   \n",
       "1   1.620206e+18   \n",
       "2   1.620204e+18   \n",
       "3   1.620151e+18   \n",
       "4   1.620142e+18   \n",
       "5   1.620133e+18   \n",
       "6   1.620127e+18   \n",
       "7   1.620118e+18   \n",
       "8   1.620117e+18   \n",
       "9   1.620115e+18   \n",
       "10  1.620112e+18   \n",
       "11  1.620112e+18   \n",
       "12  1.620103e+18   \n",
       "13  1.620097e+18   \n",
       "14  1.620097e+18   \n",
       "15  1.620097e+18   \n",
       "16  1.620097e+18   \n",
       "17  1.620083e+18   \n",
       "18  1.620074e+18   \n",
       "19  1.620059e+18   \n",
       "\n",
       "                                                                                                                                                                                                                                              Comments  \\\n",
       "0         latest podcast is out now  balenciaga is run by satanists  just think 5  via youtube  balenciagapedos balenciaga satan satanist satanic pedophelia podcastshow podcast podcastlife podcastandchill podcaster podcasting lucifer luciferian h   \n",
       "1                                                                                                                                    over 500 brands including gucci offwhite balenciaga maisonmargiela marineserre saintlaurent fashion and many more   \n",
       "2                                                                                                           so good i had to share check out all the items im loving on poshmarkapp poshmark fashion style shopmycloset balenciaga variety stevemadden   \n",
       "3                                                                                            skkn nothing we dont support pedos and those who support child abuse and exploitation balenciaga cancelkimkardashian cancelskims ðÿ’©ðÿ¤®ðÿ’©ðÿ¤®ðÿ’©ðÿ¤®   \n",
       "4                                                                                                             so good i had to share check out all the items im loving on poshmarkapp poshmark fashion style shopmycloset madewell balenciaga kaileigh   \n",
       "5                                                                                                                                                                                                                 wtf why is this happening balenciaga   \n",
       "6                                                                                       so good i had to share check out all the items im loving on poshmarkapp from kmullen1019 poshmark fashion style shopmycloset balenciaga freepeople dannynicole   \n",
       "7                                                                                                                                                                                lets talk about balenciaga ðÿ’€ shorts makeup balenciaga  via youtube   \n",
       "8                                                                                                                                                                          sadly its much bigger than  balenciaga balenciagagate gotta start somewhere   \n",
       "9   skims all the bot replies should tell you somethingwe dont support pedos and the abuse of children you dress your own child in a gimp mask and call it fashion youre sick and satanic balenciaga cancelskims cancelkimkardashian ðÿ¤®ðÿ¤®ðÿ¤®ðÿ¤®ð   \n",
       "10                                                                                             so good i had to share check out all the items im loving on poshmarkapp from ksena116 poshmark fashion style shopmycloset eloquii freepeople balenciaga   \n",
       "11                                                                                          so good i had to share check out all the items im loving on poshmarkapp poshmark fashion style shopmycloset balenciaga francescascollections anthropologie   \n",
       "12                                                                                                                                                                                   xx17965797n sam smith is disgusting ask him about balenciaga ðÿ‘€   \n",
       "13                                                                                                             so good i had to share check out all the items im loving on poshmarkapp poshmark fashion style shopmycloset cablegauge balenciaga levis   \n",
       "14                                                                                    so good i had to share check out all the items im loving on poshmarkapp from marilynsend1 poshmark fashion style shopmycloset gbygiuliana balenciaga oneteaspoon   \n",
       "15                                                                                                 so good i had to share check out all the items im loving on poshmarkapp poshmark fashion style shopmycloset balenciaga cherokee kennethcolereaction   \n",
       "16                          ye faces new hurdle in business and personal life as australian visa denial looms\\n\\nadidas africanbillionaires africanamericanbillionaire australianvisa balenciaga billionairesafrica featured kanyewest visaapplication   \n",
       "17              ffs\\n lmao \\nvaccinedeath vaccine vaccinedeaths vaccinegenocide vaccinedemocide covidvaccine covid19 nuremberg2â  nhsâ \\n\\ndavosagenda wefisevil wef23 wefpuppets wef\\n\\nbalenciaga balenciagapedos pedofila grooming hollywoodstudios   \n",
       "18                                                                                               tenant outlook sports apparel brands race to capture global growth read here \\n\\nicsc realestate retail athleisure sportswear fitness nike balenciaga   \n",
       "19                                                                                                                i have to feel sorry for people who were blissfully unaware of the balenciaga scandal and indeed the purpose of the fashion industry   \n",
       "\n",
       "                         date  text_length  \\\n",
       "0   2023-01-30 23:46:10+00:00          280   \n",
       "1   2023-01-30 23:44:31+00:00          173   \n",
       "2   2023-01-30 23:33:43+00:00          197   \n",
       "3   2023-01-30 20:04:35+00:00          160   \n",
       "4   2023-01-30 19:30:19+00:00          195   \n",
       "5   2023-01-30 18:51:52+00:00           65   \n",
       "6   2023-01-30 18:29:23+00:00          218   \n",
       "7   2023-01-30 17:51:43+00:00           96   \n",
       "8   2023-01-30 17:48:02+00:00           78   \n",
       "9   2023-01-30 17:42:35+00:00          255   \n",
       "10  2023-01-30 17:30:46+00:00          211   \n",
       "11  2023-01-30 17:29:00+00:00          213   \n",
       "12  2023-01-30 16:54:11+00:00           68   \n",
       "13  2023-01-30 16:31:18+00:00          194   \n",
       "14  2023-01-30 16:31:00+00:00          220   \n",
       "15  2023-01-30 16:29:15+00:00          206   \n",
       "16  2023-01-30 16:28:32+00:00          274   \n",
       "17  2023-01-30 15:33:46+00:00          245   \n",
       "18  2023-01-30 14:57:00+00:00          182   \n",
       "19  2023-01-30 14:00:05+00:00          136   \n",
       "\n",
       "                                                                                                                                                                                                                                                                                                               Tokens  \n",
       "0                                             [latest, podcast, is, out, now, balenciaga, is, run, by, satanists, just, think, 5, via, youtube, balenciagapedos, balenciaga, satan, satanist, satanic, pedophelia, podcastshow, podcast, podcastlife, podcastandchill, podcaster, podcasting, lucifer, luciferian, h]  \n",
       "1                                                                                                                                                                                    [over, 500, brands, including, gucci, offwhite, balenciaga, maisonmargiela, marineserre, saintlaurent, fashion, and, many, more]  \n",
       "2                                                                                                                                                   [so, good, i, had, to, share, check, out, all, the, items, im, loving, on, poshmarkapp, poshmark, fashion, style, shopmycloset, balenciaga, variety, stevemadden]  \n",
       "3                                                                                                      [skkn, nothing, we, dont, support, pedos, and, those, who, support, child, abuse, and, exploitation, balenciaga, cancelkimkardashian, cancelskims, ðÿ, ’, ©, ðÿ, ¤, ®, ðÿ, ’, ©, ðÿ, ¤, ®, ðÿ, ’, ©, ðÿ, ¤, ®]  \n",
       "4                                                                                                                                                     [so, good, i, had, to, share, check, out, all, the, items, im, loving, on, poshmarkapp, poshmark, fashion, style, shopmycloset, madewell, balenciaga, kaileigh]  \n",
       "5                                                                                                                                                                                                                                                                         [wtf, why, is, this, happening, balenciaga]  \n",
       "6                                                                                                                           [so, good, i, had, to, share, check, out, all, the, items, im, loving, on, poshmarkapp, from, kmullen, 1019, poshmark, fashion, style, shopmycloset, balenciaga, freepeople, dannynicole]  \n",
       "7                                                                                                                                                                                                                                 [lets, talk, about, balenciaga, ðÿ, ’, €, shorts, makeup, balenciaga, via, youtube]  \n",
       "8                                                                                                                                                                                                                               [sadly, its, much, bigger, than, balenciaga, balenciagagate, gotta, start, somewhere]  \n",
       "9   [skims, all, the, bot, replies, should, tell, you, somethingwe, dont, support, pedos, and, the, abuse, of, children, you, dress, your, own, child, in, a, gimp, mask, and, call, it, fashion, youre, sick, and, satanic, balenciaga, cancelskims, cancelkimkardashian, ðÿ, ¤, ®, ðÿ, ¤, ®, ðÿ, ¤, ®, ðÿ, ¤, ®, ð]  \n",
       "10                                                                                                                                 [so, good, i, had, to, share, check, out, all, the, items, im, loving, on, poshmarkapp, from, ksena, 116, poshmark, fashion, style, shopmycloset, eloquii, freepeople, balenciaga]  \n",
       "11                                                                                                                                  [so, good, i, had, to, share, check, out, all, the, items, im, loving, on, poshmarkapp, poshmark, fashion, style, shopmycloset, balenciaga, francescascollections, anthropologie]  \n",
       "12                                                                                                                                                                                                                                   [xx17965797n, sam, smith, is, disgusting, ask, him, about, balenciaga, ðÿ, ‘, €]  \n",
       "13                                                                                                                                                     [so, good, i, had, to, share, check, out, all, the, items, im, loving, on, poshmarkapp, poshmark, fashion, style, shopmycloset, cablegauge, balenciaga, levis]  \n",
       "14                                                                                                                        [so, good, i, had, to, share, check, out, all, the, items, im, loving, on, poshmarkapp, from, marilynsend, 1, poshmark, fashion, style, shopmycloset, gbygiuliana, balenciaga, oneteaspoon]  \n",
       "15                                                                                                                                         [so, good, i, had, to, share, check, out, all, the, items, im, loving, on, poshmarkapp, poshmark, fashion, style, shopmycloset, balenciaga, cherokee, kennethcolereaction]  \n",
       "16                                                                    [ye, faces, new, hurdle, in, business, and, personal, life, as, australian, visa, denial, looms, adidas, africanbillionaires, africanamericanbillionaire, australianvisa, balenciaga, billionairesafrica, featured, kanyewest, visaapplication]  \n",
       "17                                                             [ffs, lmao, vaccinedeath, vaccine, vaccinedeaths, vaccinegenocide, vaccinedemocide, covidvaccine, covid, 19, nuremberg, 2â, nhsâ, davosagenda, wefisevil, wef, 23, wefpuppets, wef, balenciaga, balenciagapedos, pedofila, grooming, hollywoodstudios]  \n",
       "18                                                                                                                                             [tenant, outlook, sports, apparel, brands, race, to, capture, global, growth, read, here, icsc, realestate, retail, athleisure, sportswear, fitness, nike, balenciaga]  \n",
       "19                                                                                                                                                       [i, have, to, feel, sorry, for, people, who, were, blissfully, unaware, of, the, balenciaga, scandal, and, indeed, the, purpose, of, the, fashion, industry]  "
      ]
     },
     "execution_count": 53,
     "metadata": {},
     "output_type": "execute_result"
    }
   ],
   "source": [
    "train.head(20)"
   ]
  },
  {
   "cell_type": "markdown",
   "id": "3fef7b88",
   "metadata": {},
   "source": [
    "# 6) Cleaning - Remove Stopwords,numbers & special characters"
   ]
  },
  {
   "cell_type": "code",
   "execution_count": 54,
   "id": "cc5a18e0",
   "metadata": {},
   "outputs": [],
   "source": [
    "# Get Stopwords\n",
    "stop = stopwords.words('english')"
   ]
  },
  {
   "cell_type": "code",
   "execution_count": 55,
   "id": "88a9ff40",
   "metadata": {},
   "outputs": [
    {
     "data": {
      "text/plain": [
       "0        [latest, podcast, balenciaga, run, satanists, think, 5, via, youtube, balenciagapedos, balenciaga, satan, satanist, satanic, pedophelia, podcastshow, podcast, podcastlife, podcastandchill, podcaster, podcasting, lucifer, luciferian, h]\n",
       "1                                                                                                                                    [500, brands, including, gucci, offwhite, balenciaga, maisonmargiela, marineserre, saintlaurent, fashion, many]\n",
       "2                                                                                                                     [good, share, check, items, im, loving, poshmarkapp, poshmark, fashion, style, shopmycloset, balenciaga, variety, stevemadden]\n",
       "3                                                                                                 [skkn, nothing, dont, support, pedos, support, child, abuse, exploitation, balenciaga, cancelkimkardashian, cancelskims, ðÿ’©ðÿ¤®ðÿ’©ðÿ¤®ðÿ’©ðÿ¤®]\n",
       "4                                                                                                                       [good, share, check, items, im, loving, poshmarkapp, poshmark, fashion, style, shopmycloset, madewell, balenciaga, kaileigh]\n",
       "                                                                                                                            ...                                                                                                                     \n",
       "29156                        [nah, itâ€™s, past, need, cancelled, business, asap, theyâ€™ll, apologize, blame, random, employee, yet, theyâ€™ll, continue, add, hidden, messages, ads, thatâ€™s, theyâ€™ve, continued, successful, cancelbalenciaga]\n",
       "29157                                                                                                                                                                                    [itsnatlydenise, getting, worse, thought, cancelbalenciaga]\n",
       "29158                                                                                                                                                                     [itsnatlydenise, think, start, trending, fuckbalenciaga, cancelbalenciaga]\n",
       "29159                                                                                                                                                                                   [sick, stomach, byebalenciaga, balenciaga, cancelbalenciaga]\n",
       "29160                                                                                                                                                                                   [deleted, everything, donâ€™t, pedophiles, cancelbalenciaga]\n",
       "Name: Comments, Length: 29161, dtype: object"
      ]
     },
     "execution_count": 55,
     "metadata": {},
     "output_type": "execute_result"
    }
   ],
   "source": [
    "# Tokenize and Remove Stop Words\n",
    "train['Comments'].apply(lambda x: [word for word in x.split() if word not in stop])"
   ]
  },
  {
   "cell_type": "code",
   "execution_count": 56,
   "id": "0d211091",
   "metadata": {},
   "outputs": [
    {
     "data": {
      "text/plain": [
       "0        latest podcast balenciaga run satanists think 5 via youtube balenciagapedos balenciaga satan satanist satanic pedophelia podcastshow podcast podcastlife podcastandchill podcaster podcasting lucifer luciferian h\n",
       "1                                                                                                                       500 brands including gucci offwhite balenciaga maisonmargiela marineserre saintlaurent fashion many\n",
       "2                                                                                                           good share check items im loving poshmarkapp poshmark fashion style shopmycloset balenciaga variety stevemadden\n",
       "3                                                                                      skkn nothing dont support pedos support child abuse exploitation balenciaga cancelkimkardashian cancelskims ðÿ’©ðÿ¤®ðÿ’©ðÿ¤®ðÿ’©ðÿ¤®\n",
       "4                                                                                                             good share check items im loving poshmarkapp poshmark fashion style shopmycloset madewell balenciaga kaileigh\n",
       "                                                                                                                ...                                                                                                        \n",
       "29156                        nah itâ€™s past need cancelled business asap theyâ€™ll apologize blame random employee yet theyâ€™ll continue add hidden messages ads thatâ€™s theyâ€™ve continued successful cancelbalenciaga\n",
       "29157                                                                                                                                                                 itsnatlydenise getting worse thought cancelbalenciaga\n",
       "29158                                                                                                                                                   itsnatlydenise think start trending fuckbalenciaga cancelbalenciaga\n",
       "29159                                                                                                                                                                sick stomach byebalenciaga balenciaga cancelbalenciaga\n",
       "29160                                                                                                                                                                deleted everything donâ€™t pedophiles cancelbalenciaga\n",
       "Name: Comments, Length: 29161, dtype: object"
      ]
     },
     "execution_count": 56,
     "metadata": {},
     "output_type": "execute_result"
    }
   ],
   "source": [
    "train['Comments'].apply(lambda x: ' '.join([word for word in x.split() if word not in (stop)]))"
   ]
  },
  {
   "cell_type": "code",
   "execution_count": 57,
   "id": "3808d09d",
   "metadata": {},
   "outputs": [],
   "source": [
    "# Join the words back\n",
    "train['Comments'] = train['Comments'].apply(lambda x: ' '.join([word for word in x.split() if word not in (stop)]))"
   ]
  },
  {
   "cell_type": "code",
   "execution_count": 58,
   "id": "cfbe1d70",
   "metadata": {},
   "outputs": [
    {
     "data": {
      "text/html": [
       "<div>\n",
       "<style scoped>\n",
       "    .dataframe tbody tr th:only-of-type {\n",
       "        vertical-align: middle;\n",
       "    }\n",
       "\n",
       "    .dataframe tbody tr th {\n",
       "        vertical-align: top;\n",
       "    }\n",
       "\n",
       "    .dataframe thead th {\n",
       "        text-align: right;\n",
       "    }\n",
       "</style>\n",
       "<table border=\"1\" class=\"dataframe\">\n",
       "  <thead>\n",
       "    <tr style=\"text-align: right;\">\n",
       "      <th></th>\n",
       "      <th>id</th>\n",
       "      <th>Comments</th>\n",
       "      <th>date</th>\n",
       "      <th>text_length</th>\n",
       "      <th>Tokens</th>\n",
       "    </tr>\n",
       "  </thead>\n",
       "  <tbody>\n",
       "    <tr>\n",
       "      <th>0</th>\n",
       "      <td>1.620207e+18</td>\n",
       "      <td>latest podcast balenciaga run satanists think 5 via youtube balenciagapedos balenciaga satan satanist satanic pedophelia podcastshow podcast podcastlife podcastandchill podcaster podcasting lucifer luciferian h</td>\n",
       "      <td>2023-01-30 23:46:10+00:00</td>\n",
       "      <td>280</td>\n",
       "      <td>[latest, podcast, is, out, now, balenciaga, is, run, by, satanists, just, think, 5, via, youtube, balenciagapedos, balenciaga, satan, satanist, satanic, pedophelia, podcastshow, podcast, podcastlife, podcastandchill, podcaster, podcasting, lucifer, luciferian, h]</td>\n",
       "    </tr>\n",
       "    <tr>\n",
       "      <th>1</th>\n",
       "      <td>1.620206e+18</td>\n",
       "      <td>500 brands including gucci offwhite balenciaga maisonmargiela marineserre saintlaurent fashion many</td>\n",
       "      <td>2023-01-30 23:44:31+00:00</td>\n",
       "      <td>173</td>\n",
       "      <td>[over, 500, brands, including, gucci, offwhite, balenciaga, maisonmargiela, marineserre, saintlaurent, fashion, and, many, more]</td>\n",
       "    </tr>\n",
       "    <tr>\n",
       "      <th>2</th>\n",
       "      <td>1.620204e+18</td>\n",
       "      <td>good share check items im loving poshmarkapp poshmark fashion style shopmycloset balenciaga variety stevemadden</td>\n",
       "      <td>2023-01-30 23:33:43+00:00</td>\n",
       "      <td>197</td>\n",
       "      <td>[so, good, i, had, to, share, check, out, all, the, items, im, loving, on, poshmarkapp, poshmark, fashion, style, shopmycloset, balenciaga, variety, stevemadden]</td>\n",
       "    </tr>\n",
       "    <tr>\n",
       "      <th>3</th>\n",
       "      <td>1.620151e+18</td>\n",
       "      <td>skkn nothing dont support pedos support child abuse exploitation balenciaga cancelkimkardashian cancelskims ðÿ’©ðÿ¤®ðÿ’©ðÿ¤®ðÿ’©ðÿ¤®</td>\n",
       "      <td>2023-01-30 20:04:35+00:00</td>\n",
       "      <td>160</td>\n",
       "      <td>[skkn, nothing, we, dont, support, pedos, and, those, who, support, child, abuse, and, exploitation, balenciaga, cancelkimkardashian, cancelskims, ðÿ, ’, ©, ðÿ, ¤, ®, ðÿ, ’, ©, ðÿ, ¤, ®, ðÿ, ’, ©, ðÿ, ¤, ®]</td>\n",
       "    </tr>\n",
       "    <tr>\n",
       "      <th>4</th>\n",
       "      <td>1.620142e+18</td>\n",
       "      <td>good share check items im loving poshmarkapp poshmark fashion style shopmycloset madewell balenciaga kaileigh</td>\n",
       "      <td>2023-01-30 19:30:19+00:00</td>\n",
       "      <td>195</td>\n",
       "      <td>[so, good, i, had, to, share, check, out, all, the, items, im, loving, on, poshmarkapp, poshmark, fashion, style, shopmycloset, madewell, balenciaga, kaileigh]</td>\n",
       "    </tr>\n",
       "    <tr>\n",
       "      <th>5</th>\n",
       "      <td>1.620133e+18</td>\n",
       "      <td>wtf happening balenciaga</td>\n",
       "      <td>2023-01-30 18:51:52+00:00</td>\n",
       "      <td>65</td>\n",
       "      <td>[wtf, why, is, this, happening, balenciaga]</td>\n",
       "    </tr>\n",
       "    <tr>\n",
       "      <th>6</th>\n",
       "      <td>1.620127e+18</td>\n",
       "      <td>good share check items im loving poshmarkapp kmullen1019 poshmark fashion style shopmycloset balenciaga freepeople dannynicole</td>\n",
       "      <td>2023-01-30 18:29:23+00:00</td>\n",
       "      <td>218</td>\n",
       "      <td>[so, good, i, had, to, share, check, out, all, the, items, im, loving, on, poshmarkapp, from, kmullen, 1019, poshmark, fashion, style, shopmycloset, balenciaga, freepeople, dannynicole]</td>\n",
       "    </tr>\n",
       "    <tr>\n",
       "      <th>7</th>\n",
       "      <td>1.620118e+18</td>\n",
       "      <td>lets talk balenciaga ðÿ’€ shorts makeup balenciaga via youtube</td>\n",
       "      <td>2023-01-30 17:51:43+00:00</td>\n",
       "      <td>96</td>\n",
       "      <td>[lets, talk, about, balenciaga, ðÿ, ’, €, shorts, makeup, balenciaga, via, youtube]</td>\n",
       "    </tr>\n",
       "    <tr>\n",
       "      <th>8</th>\n",
       "      <td>1.620117e+18</td>\n",
       "      <td>sadly much bigger balenciaga balenciagagate gotta start somewhere</td>\n",
       "      <td>2023-01-30 17:48:02+00:00</td>\n",
       "      <td>78</td>\n",
       "      <td>[sadly, its, much, bigger, than, balenciaga, balenciagagate, gotta, start, somewhere]</td>\n",
       "    </tr>\n",
       "    <tr>\n",
       "      <th>9</th>\n",
       "      <td>1.620115e+18</td>\n",
       "      <td>skims bot replies tell somethingwe dont support pedos abuse children dress child gimp mask call fashion youre sick satanic balenciaga cancelskims cancelkimkardashian ðÿ¤®ðÿ¤®ðÿ¤®ðÿ¤®ð</td>\n",
       "      <td>2023-01-30 17:42:35+00:00</td>\n",
       "      <td>255</td>\n",
       "      <td>[skims, all, the, bot, replies, should, tell, you, somethingwe, dont, support, pedos, and, the, abuse, of, children, you, dress, your, own, child, in, a, gimp, mask, and, call, it, fashion, youre, sick, and, satanic, balenciaga, cancelskims, cancelkimkardashian, ðÿ, ¤, ®, ðÿ, ¤, ®, ðÿ, ¤, ®, ðÿ, ¤, ®, ð]</td>\n",
       "    </tr>\n",
       "  </tbody>\n",
       "</table>\n",
       "</div>"
      ],
      "text/plain": [
       "             id  \\\n",
       "0  1.620207e+18   \n",
       "1  1.620206e+18   \n",
       "2  1.620204e+18   \n",
       "3  1.620151e+18   \n",
       "4  1.620142e+18   \n",
       "5  1.620133e+18   \n",
       "6  1.620127e+18   \n",
       "7  1.620118e+18   \n",
       "8  1.620117e+18   \n",
       "9  1.620115e+18   \n",
       "\n",
       "                                                                                                                                                                                                             Comments  \\\n",
       "0  latest podcast balenciaga run satanists think 5 via youtube balenciagapedos balenciaga satan satanist satanic pedophelia podcastshow podcast podcastlife podcastandchill podcaster podcasting lucifer luciferian h   \n",
       "1                                                                                                                 500 brands including gucci offwhite balenciaga maisonmargiela marineserre saintlaurent fashion many   \n",
       "2                                                                                                     good share check items im loving poshmarkapp poshmark fashion style shopmycloset balenciaga variety stevemadden   \n",
       "3                                                                                skkn nothing dont support pedos support child abuse exploitation balenciaga cancelkimkardashian cancelskims ðÿ’©ðÿ¤®ðÿ’©ðÿ¤®ðÿ’©ðÿ¤®   \n",
       "4                                                                                                       good share check items im loving poshmarkapp poshmark fashion style shopmycloset madewell balenciaga kaileigh   \n",
       "5                                                                                                                                                                                            wtf happening balenciaga   \n",
       "6                                                                                      good share check items im loving poshmarkapp kmullen1019 poshmark fashion style shopmycloset balenciaga freepeople dannynicole   \n",
       "7                                                                                                                                                      lets talk balenciaga ðÿ’€ shorts makeup balenciaga via youtube   \n",
       "8                                                                                                                                                   sadly much bigger balenciaga balenciagagate gotta start somewhere   \n",
       "9                             skims bot replies tell somethingwe dont support pedos abuse children dress child gimp mask call fashion youre sick satanic balenciaga cancelskims cancelkimkardashian ðÿ¤®ðÿ¤®ðÿ¤®ðÿ¤®ð   \n",
       "\n",
       "                        date  text_length  \\\n",
       "0  2023-01-30 23:46:10+00:00          280   \n",
       "1  2023-01-30 23:44:31+00:00          173   \n",
       "2  2023-01-30 23:33:43+00:00          197   \n",
       "3  2023-01-30 20:04:35+00:00          160   \n",
       "4  2023-01-30 19:30:19+00:00          195   \n",
       "5  2023-01-30 18:51:52+00:00           65   \n",
       "6  2023-01-30 18:29:23+00:00          218   \n",
       "7  2023-01-30 17:51:43+00:00           96   \n",
       "8  2023-01-30 17:48:02+00:00           78   \n",
       "9  2023-01-30 17:42:35+00:00          255   \n",
       "\n",
       "                                                                                                                                                                                                                                                                                                              Tokens  \n",
       "0                                            [latest, podcast, is, out, now, balenciaga, is, run, by, satanists, just, think, 5, via, youtube, balenciagapedos, balenciaga, satan, satanist, satanic, pedophelia, podcastshow, podcast, podcastlife, podcastandchill, podcaster, podcasting, lucifer, luciferian, h]  \n",
       "1                                                                                                                                                                                   [over, 500, brands, including, gucci, offwhite, balenciaga, maisonmargiela, marineserre, saintlaurent, fashion, and, many, more]  \n",
       "2                                                                                                                                                  [so, good, i, had, to, share, check, out, all, the, items, im, loving, on, poshmarkapp, poshmark, fashion, style, shopmycloset, balenciaga, variety, stevemadden]  \n",
       "3                                                                                                     [skkn, nothing, we, dont, support, pedos, and, those, who, support, child, abuse, and, exploitation, balenciaga, cancelkimkardashian, cancelskims, ðÿ, ’, ©, ðÿ, ¤, ®, ðÿ, ’, ©, ðÿ, ¤, ®, ðÿ, ’, ©, ðÿ, ¤, ®]  \n",
       "4                                                                                                                                                    [so, good, i, had, to, share, check, out, all, the, items, im, loving, on, poshmarkapp, poshmark, fashion, style, shopmycloset, madewell, balenciaga, kaileigh]  \n",
       "5                                                                                                                                                                                                                                                                        [wtf, why, is, this, happening, balenciaga]  \n",
       "6                                                                                                                          [so, good, i, had, to, share, check, out, all, the, items, im, loving, on, poshmarkapp, from, kmullen, 1019, poshmark, fashion, style, shopmycloset, balenciaga, freepeople, dannynicole]  \n",
       "7                                                                                                                                                                                                                                [lets, talk, about, balenciaga, ðÿ, ’, €, shorts, makeup, balenciaga, via, youtube]  \n",
       "8                                                                                                                                                                                                                              [sadly, its, much, bigger, than, balenciaga, balenciagagate, gotta, start, somewhere]  \n",
       "9  [skims, all, the, bot, replies, should, tell, you, somethingwe, dont, support, pedos, and, the, abuse, of, children, you, dress, your, own, child, in, a, gimp, mask, and, call, it, fashion, youre, sick, and, satanic, balenciaga, cancelskims, cancelkimkardashian, ðÿ, ¤, ®, ðÿ, ¤, ®, ðÿ, ¤, ®, ðÿ, ¤, ®, ð]  "
      ]
     },
     "execution_count": 58,
     "metadata": {},
     "output_type": "execute_result"
    }
   ],
   "source": [
    "train.head(10)"
   ]
  },
  {
   "cell_type": "code",
   "execution_count": 59,
   "id": "9076f01b",
   "metadata": {},
   "outputs": [],
   "source": [
    "##Remove characters other than emoticons\n",
    "\n",
    "def remove_emoticons(text):\n",
    "    emoticon_pattern = re.compile(\"[\"\n",
    "        u\"\\U0001F600-\\U0001F64F\"  # emoticons\n",
    "        u\"\\U0001F300-\\U0001F5FF\"  # symbols & pictographs\n",
    "        u\"\\U0001F680-\\U0001F6FF\"  # transport & map symbols\n",
    "        u\"\\U0001F1E0-\\U0001F1FF\"  # flags (iOS)\n",
    "        u\"\\u2764\"                  # heart symbol\n",
    "        u\"\\U0001F644\"              # rolling eyes face\n",
    "        u\"\\U000024C2-\\U0001F251\"  # miscellaneous symbols\n",
    "        u\"\\U0001f926-\\U0001f937\"  # people and body-related symbols\n",
    "        u\"\\u2600-\\u2B55\"          # weather-related symbols\n",
    "        u\"\\u200d\"                 # zero width joiner\n",
    "        u\"\\u23cf\"                 # eject symbol\n",
    "        u\"\\u23e9\"                 # fast forward symbol\n",
    "        u\"\\u231a\"                 # watch symbol\n",
    "        u\"\\ufe0f\"                 # emoji variation selector\n",
    "                                  \n",
    "                           \"]+\", flags=re.UNICODE)\n",
    "    text = emoticon_pattern.sub(r' ', text)  # replace emoticons with a space\n",
    "    text = re.sub(r'[^\\w\\s]', '', text)  # remove non-word characters except spaces\n",
    "    return text.strip()\n",
    "\n"
   ]
  },
  {
   "cell_type": "code",
   "execution_count": 60,
   "id": "27da7078",
   "metadata": {},
   "outputs": [],
   "source": [
    "\n",
    "# Apply the remove_emoticons function to the 'Comments' column\n",
    "train['Comments'] = train['Comments'].apply(remove_emoticons)"
   ]
  },
  {
   "cell_type": "code",
   "execution_count": 61,
   "id": "18b795b3",
   "metadata": {},
   "outputs": [],
   "source": [
    "##Remove numbers\n",
    "\n",
    "train['Comments'] = train['Comments'].apply(lambda x: re.sub(r'\\d+', '', x))"
   ]
  },
  {
   "cell_type": "code",
   "execution_count": 62,
   "id": "fc4d0877",
   "metadata": {},
   "outputs": [
    {
     "data": {
      "text/html": [
       "<div>\n",
       "<style scoped>\n",
       "    .dataframe tbody tr th:only-of-type {\n",
       "        vertical-align: middle;\n",
       "    }\n",
       "\n",
       "    .dataframe tbody tr th {\n",
       "        vertical-align: top;\n",
       "    }\n",
       "\n",
       "    .dataframe thead th {\n",
       "        text-align: right;\n",
       "    }\n",
       "</style>\n",
       "<table border=\"1\" class=\"dataframe\">\n",
       "  <thead>\n",
       "    <tr style=\"text-align: right;\">\n",
       "      <th></th>\n",
       "      <th>id</th>\n",
       "      <th>Comments</th>\n",
       "      <th>date</th>\n",
       "      <th>text_length</th>\n",
       "      <th>Tokens</th>\n",
       "    </tr>\n",
       "  </thead>\n",
       "  <tbody>\n",
       "    <tr>\n",
       "      <th>0</th>\n",
       "      <td>1.620207e+18</td>\n",
       "      <td>latest podcast balenciaga run satanists think  via youtube balenciagapedos balenciaga satan satanist satanic pedophelia podcastshow podcast podcastlife podcastandchill podcaster podcasting lucifer luciferian h</td>\n",
       "      <td>2023-01-30 23:46:10+00:00</td>\n",
       "      <td>280</td>\n",
       "      <td>[latest, podcast, is, out, now, balenciaga, is, run, by, satanists, just, think, 5, via, youtube, balenciagapedos, balenciaga, satan, satanist, satanic, pedophelia, podcastshow, podcast, podcastlife, podcastandchill, podcaster, podcasting, lucifer, luciferian, h]</td>\n",
       "    </tr>\n",
       "    <tr>\n",
       "      <th>1</th>\n",
       "      <td>1.620206e+18</td>\n",
       "      <td>brands including gucci offwhite balenciaga maisonmargiela marineserre saintlaurent fashion many</td>\n",
       "      <td>2023-01-30 23:44:31+00:00</td>\n",
       "      <td>173</td>\n",
       "      <td>[over, 500, brands, including, gucci, offwhite, balenciaga, maisonmargiela, marineserre, saintlaurent, fashion, and, many, more]</td>\n",
       "    </tr>\n",
       "    <tr>\n",
       "      <th>2</th>\n",
       "      <td>1.620204e+18</td>\n",
       "      <td>good share check items im loving poshmarkapp poshmark fashion style shopmycloset balenciaga variety stevemadden</td>\n",
       "      <td>2023-01-30 23:33:43+00:00</td>\n",
       "      <td>197</td>\n",
       "      <td>[so, good, i, had, to, share, check, out, all, the, items, im, loving, on, poshmarkapp, poshmark, fashion, style, shopmycloset, balenciaga, variety, stevemadden]</td>\n",
       "    </tr>\n",
       "    <tr>\n",
       "      <th>3</th>\n",
       "      <td>1.620151e+18</td>\n",
       "      <td>skkn nothing dont support pedos support child abuse exploitation balenciaga cancelkimkardashian cancelskims ðÿðÿðÿðÿðÿðÿ</td>\n",
       "      <td>2023-01-30 20:04:35+00:00</td>\n",
       "      <td>160</td>\n",
       "      <td>[skkn, nothing, we, dont, support, pedos, and, those, who, support, child, abuse, and, exploitation, balenciaga, cancelkimkardashian, cancelskims, ðÿ, ’, ©, ðÿ, ¤, ®, ðÿ, ’, ©, ðÿ, ¤, ®, ðÿ, ’, ©, ðÿ, ¤, ®]</td>\n",
       "    </tr>\n",
       "    <tr>\n",
       "      <th>4</th>\n",
       "      <td>1.620142e+18</td>\n",
       "      <td>good share check items im loving poshmarkapp poshmark fashion style shopmycloset madewell balenciaga kaileigh</td>\n",
       "      <td>2023-01-30 19:30:19+00:00</td>\n",
       "      <td>195</td>\n",
       "      <td>[so, good, i, had, to, share, check, out, all, the, items, im, loving, on, poshmarkapp, poshmark, fashion, style, shopmycloset, madewell, balenciaga, kaileigh]</td>\n",
       "    </tr>\n",
       "    <tr>\n",
       "      <th>...</th>\n",
       "      <td>...</td>\n",
       "      <td>...</td>\n",
       "      <td>...</td>\n",
       "      <td>...</td>\n",
       "      <td>...</td>\n",
       "    </tr>\n",
       "    <tr>\n",
       "      <th>495</th>\n",
       "      <td>1.616575e+18</td>\n",
       "      <td>brands including gucci offwhite balenciaga maisonmargiela marineserre saintlaurent fashion many</td>\n",
       "      <td>2023-01-20 23:15:51+00:00</td>\n",
       "      <td>173</td>\n",
       "      <td>[over, 500, brands, including, gucci, offwhite, balenciaga, maisonmargiela, marineserre, saintlaurent, fashion, and, many, more]</td>\n",
       "    </tr>\n",
       "    <tr>\n",
       "      <th>496</th>\n",
       "      <td>1.616556e+18</td>\n",
       "      <td>romenyla humblegenius gucci also company balenciaga ad weirdo harrystyles getting naked front toddler mattress empty room clearly plain site care</td>\n",
       "      <td>2023-01-20 21:59:48+00:00</td>\n",
       "      <td>234</td>\n",
       "      <td>[romenyla, humblegenius, 123, gucci, just, did, also, which, is, the, same, company, as, balenciaga, an, ad, with, weirdo, harrystyles, getting, naked, in, front, of, a, toddler, mattress, in, a, empty, room, they, clearly, do, this, in, plain, site, and, do, not, care]</td>\n",
       "    </tr>\n",
       "    <tr>\n",
       "      <th>497</th>\n",
       "      <td>1.616542e+18</td>\n",
       "      <td>nasty girl lie like completely supported wef british government like climate activists paid bought vaccinedeath vaccine vaccinedeaths vaccinegenocide vaccin wefpuppets wef balenciaga balenciagapedos pedofila grooming</td>\n",
       "      <td>2023-01-20 21:05:17+00:00</td>\n",
       "      <td>275</td>\n",
       "      <td>[what, a, nasty, girl, to, lie, like, that, and, completely, supported, by, the, wef, and, the, british, government, like, the, climate, activists, paid, and, bought, vaccinedeath, vaccine, vaccinedeaths, vaccinegenocide, vaccin, wefpuppets, wef, balenciaga, balenciagapedos, pedofila, grooming]</td>\n",
       "    </tr>\n",
       "    <tr>\n",
       "      <th>498</th>\n",
       "      <td>1.616542e+18</td>\n",
       "      <td>jordanbpeterson advice come yes woman mysogynistic woman spell see im female patriarchy ooh complicated vaccinedeath vaccine balenciaga balenciagapedos pedofila grooming hollywoodstudios</td>\n",
       "      <td>2023-01-20 21:03:13+00:00</td>\n",
       "      <td>275</td>\n",
       "      <td>[on, jordanbpeterson, advice, i, have, come, out, and, yes, i, am, a, woman, i, am, a, mysogynistic, woman, how, do, you, spell, that, see, im, female, down, with, the, patriarchy, ooh, this, is, complicated, vaccinedeath, vaccine, balenciaga, balenciagapedos, pedofila, grooming, hollywoodstudios]</td>\n",
       "    </tr>\n",
       "    <tr>\n",
       "      <th>499</th>\n",
       "      <td>1.616533e+18</td>\n",
       "      <td>good share check items im loving poshmarkapp poshmark fashion style shopmycloset balenciaga fila draperjames</td>\n",
       "      <td>2023-01-20 20:29:26+00:00</td>\n",
       "      <td>194</td>\n",
       "      <td>[so, good, i, had, to, share, check, out, all, the, items, im, loving, on, poshmarkapp, poshmark, fashion, style, shopmycloset, balenciaga, fila, draperjames]</td>\n",
       "    </tr>\n",
       "  </tbody>\n",
       "</table>\n",
       "<p>500 rows × 5 columns</p>\n",
       "</div>"
      ],
      "text/plain": [
       "               id  \\\n",
       "0    1.620207e+18   \n",
       "1    1.620206e+18   \n",
       "2    1.620204e+18   \n",
       "3    1.620151e+18   \n",
       "4    1.620142e+18   \n",
       "..            ...   \n",
       "495  1.616575e+18   \n",
       "496  1.616556e+18   \n",
       "497  1.616542e+18   \n",
       "498  1.616542e+18   \n",
       "499  1.616533e+18   \n",
       "\n",
       "                                                                                                                                                                                                                     Comments  \\\n",
       "0           latest podcast balenciaga run satanists think  via youtube balenciagapedos balenciaga satan satanist satanic pedophelia podcastshow podcast podcastlife podcastandchill podcaster podcasting lucifer luciferian h   \n",
       "1                                                                                                                             brands including gucci offwhite balenciaga maisonmargiela marineserre saintlaurent fashion many   \n",
       "2                                                                                                             good share check items im loving poshmarkapp poshmark fashion style shopmycloset balenciaga variety stevemadden   \n",
       "3                                                                                                    skkn nothing dont support pedos support child abuse exploitation balenciaga cancelkimkardashian cancelskims ðÿðÿðÿðÿðÿðÿ   \n",
       "4                                                                                                               good share check items im loving poshmarkapp poshmark fashion style shopmycloset madewell balenciaga kaileigh   \n",
       "..                                                                                                                                                                                                                        ...   \n",
       "495                                                                                                                           brands including gucci offwhite balenciaga maisonmargiela marineserre saintlaurent fashion many   \n",
       "496                                                                         romenyla humblegenius gucci also company balenciaga ad weirdo harrystyles getting naked front toddler mattress empty room clearly plain site care   \n",
       "497  nasty girl lie like completely supported wef british government like climate activists paid bought vaccinedeath vaccine vaccinedeaths vaccinegenocide vaccin wefpuppets wef balenciaga balenciagapedos pedofila grooming   \n",
       "498                                jordanbpeterson advice come yes woman mysogynistic woman spell see im female patriarchy ooh complicated vaccinedeath vaccine balenciaga balenciagapedos pedofila grooming hollywoodstudios   \n",
       "499                                                                                                              good share check items im loving poshmarkapp poshmark fashion style shopmycloset balenciaga fila draperjames   \n",
       "\n",
       "                          date  text_length  \\\n",
       "0    2023-01-30 23:46:10+00:00          280   \n",
       "1    2023-01-30 23:44:31+00:00          173   \n",
       "2    2023-01-30 23:33:43+00:00          197   \n",
       "3    2023-01-30 20:04:35+00:00          160   \n",
       "4    2023-01-30 19:30:19+00:00          195   \n",
       "..                         ...          ...   \n",
       "495  2023-01-20 23:15:51+00:00          173   \n",
       "496  2023-01-20 21:59:48+00:00          234   \n",
       "497  2023-01-20 21:05:17+00:00          275   \n",
       "498  2023-01-20 21:03:13+00:00          275   \n",
       "499  2023-01-20 20:29:26+00:00          194   \n",
       "\n",
       "                                                                                                                                                                                                                                                                                                         Tokens  \n",
       "0                                       [latest, podcast, is, out, now, balenciaga, is, run, by, satanists, just, think, 5, via, youtube, balenciagapedos, balenciaga, satan, satanist, satanic, pedophelia, podcastshow, podcast, podcastlife, podcastandchill, podcaster, podcasting, lucifer, luciferian, h]  \n",
       "1                                                                                                                                                                              [over, 500, brands, including, gucci, offwhite, balenciaga, maisonmargiela, marineserre, saintlaurent, fashion, and, many, more]  \n",
       "2                                                                                                                                             [so, good, i, had, to, share, check, out, all, the, items, im, loving, on, poshmarkapp, poshmark, fashion, style, shopmycloset, balenciaga, variety, stevemadden]  \n",
       "3                                                                                                [skkn, nothing, we, dont, support, pedos, and, those, who, support, child, abuse, and, exploitation, balenciaga, cancelkimkardashian, cancelskims, ðÿ, ’, ©, ðÿ, ¤, ®, ðÿ, ’, ©, ðÿ, ¤, ®, ðÿ, ’, ©, ðÿ, ¤, ®]  \n",
       "4                                                                                                                                               [so, good, i, had, to, share, check, out, all, the, items, im, loving, on, poshmarkapp, poshmark, fashion, style, shopmycloset, madewell, balenciaga, kaileigh]  \n",
       "..                                                                                                                                                                                                                                                                                                          ...  \n",
       "495                                                                                                                                                                            [over, 500, brands, including, gucci, offwhite, balenciaga, maisonmargiela, marineserre, saintlaurent, fashion, and, many, more]  \n",
       "496                              [romenyla, humblegenius, 123, gucci, just, did, also, which, is, the, same, company, as, balenciaga, an, ad, with, weirdo, harrystyles, getting, naked, in, front, of, a, toddler, mattress, in, a, empty, room, they, clearly, do, this, in, plain, site, and, do, not, care]  \n",
       "497     [what, a, nasty, girl, to, lie, like, that, and, completely, supported, by, the, wef, and, the, british, government, like, the, climate, activists, paid, and, bought, vaccinedeath, vaccine, vaccinedeaths, vaccinegenocide, vaccin, wefpuppets, wef, balenciaga, balenciagapedos, pedofila, grooming]  \n",
       "498  [on, jordanbpeterson, advice, i, have, come, out, and, yes, i, am, a, woman, i, am, a, mysogynistic, woman, how, do, you, spell, that, see, im, female, down, with, the, patriarchy, ooh, this, is, complicated, vaccinedeath, vaccine, balenciaga, balenciagapedos, pedofila, grooming, hollywoodstudios]  \n",
       "499                                                                                                                                              [so, good, i, had, to, share, check, out, all, the, items, im, loving, on, poshmarkapp, poshmark, fashion, style, shopmycloset, balenciaga, fila, draperjames]  \n",
       "\n",
       "[500 rows x 5 columns]"
      ]
     },
     "execution_count": 62,
     "metadata": {},
     "output_type": "execute_result"
    }
   ],
   "source": [
    "train.head(500)"
   ]
  },
  {
   "cell_type": "code",
   "execution_count": 63,
   "id": "2f803db2",
   "metadata": {},
   "outputs": [],
   "source": [
    "##Remove non-ASCII improperly encoded characters\n",
    "\n",
    "def remove_invalid_chars(text):\n",
    "    # encode the text string using ASCII encoding\n",
    "    encoded_text = text.encode('ascii', 'ignore')\n",
    "    # decode the encoded text using ASCII encoding\n",
    "    decoded_text = encoded_text.decode('ascii')\n",
    "    return decoded_text"
   ]
  },
  {
   "cell_type": "code",
   "execution_count": 64,
   "id": "87588a05",
   "metadata": {},
   "outputs": [],
   "source": [
    "# apply the remove_invalid_chars function to the 'Comments' column\n",
    "train['Comments'] = train['Comments'].apply(remove_invalid_chars)\n",
    "\n"
   ]
  },
  {
   "cell_type": "code",
   "execution_count": 65,
   "id": "d9005b96",
   "metadata": {},
   "outputs": [
    {
     "data": {
      "text/html": [
       "<div>\n",
       "<style scoped>\n",
       "    .dataframe tbody tr th:only-of-type {\n",
       "        vertical-align: middle;\n",
       "    }\n",
       "\n",
       "    .dataframe tbody tr th {\n",
       "        vertical-align: top;\n",
       "    }\n",
       "\n",
       "    .dataframe thead th {\n",
       "        text-align: right;\n",
       "    }\n",
       "</style>\n",
       "<table border=\"1\" class=\"dataframe\">\n",
       "  <thead>\n",
       "    <tr style=\"text-align: right;\">\n",
       "      <th></th>\n",
       "      <th>id</th>\n",
       "      <th>Comments</th>\n",
       "      <th>date</th>\n",
       "      <th>text_length</th>\n",
       "      <th>Tokens</th>\n",
       "    </tr>\n",
       "  </thead>\n",
       "  <tbody>\n",
       "    <tr>\n",
       "      <th>0</th>\n",
       "      <td>1.620207e+18</td>\n",
       "      <td>latest podcast balenciaga run satanists think  via youtube balenciagapedos balenciaga satan satanist satanic pedophelia podcastshow podcast podcastlife podcastandchill podcaster podcasting lucifer luciferian h</td>\n",
       "      <td>2023-01-30 23:46:10+00:00</td>\n",
       "      <td>280</td>\n",
       "      <td>[latest, podcast, is, out, now, balenciaga, is, run, by, satanists, just, think, 5, via, youtube, balenciagapedos, balenciaga, satan, satanist, satanic, pedophelia, podcastshow, podcast, podcastlife, podcastandchill, podcaster, podcasting, lucifer, luciferian, h]</td>\n",
       "    </tr>\n",
       "    <tr>\n",
       "      <th>1</th>\n",
       "      <td>1.620206e+18</td>\n",
       "      <td>brands including gucci offwhite balenciaga maisonmargiela marineserre saintlaurent fashion many</td>\n",
       "      <td>2023-01-30 23:44:31+00:00</td>\n",
       "      <td>173</td>\n",
       "      <td>[over, 500, brands, including, gucci, offwhite, balenciaga, maisonmargiela, marineserre, saintlaurent, fashion, and, many, more]</td>\n",
       "    </tr>\n",
       "    <tr>\n",
       "      <th>2</th>\n",
       "      <td>1.620204e+18</td>\n",
       "      <td>good share check items im loving poshmarkapp poshmark fashion style shopmycloset balenciaga variety stevemadden</td>\n",
       "      <td>2023-01-30 23:33:43+00:00</td>\n",
       "      <td>197</td>\n",
       "      <td>[so, good, i, had, to, share, check, out, all, the, items, im, loving, on, poshmarkapp, poshmark, fashion, style, shopmycloset, balenciaga, variety, stevemadden]</td>\n",
       "    </tr>\n",
       "    <tr>\n",
       "      <th>3</th>\n",
       "      <td>1.620151e+18</td>\n",
       "      <td>skkn nothing dont support pedos support child abuse exploitation balenciaga cancelkimkardashian cancelskims</td>\n",
       "      <td>2023-01-30 20:04:35+00:00</td>\n",
       "      <td>160</td>\n",
       "      <td>[skkn, nothing, we, dont, support, pedos, and, those, who, support, child, abuse, and, exploitation, balenciaga, cancelkimkardashian, cancelskims, ðÿ, ’, ©, ðÿ, ¤, ®, ðÿ, ’, ©, ðÿ, ¤, ®, ðÿ, ’, ©, ðÿ, ¤, ®]</td>\n",
       "    </tr>\n",
       "    <tr>\n",
       "      <th>4</th>\n",
       "      <td>1.620142e+18</td>\n",
       "      <td>good share check items im loving poshmarkapp poshmark fashion style shopmycloset madewell balenciaga kaileigh</td>\n",
       "      <td>2023-01-30 19:30:19+00:00</td>\n",
       "      <td>195</td>\n",
       "      <td>[so, good, i, had, to, share, check, out, all, the, items, im, loving, on, poshmarkapp, poshmark, fashion, style, shopmycloset, madewell, balenciaga, kaileigh]</td>\n",
       "    </tr>\n",
       "    <tr>\n",
       "      <th>5</th>\n",
       "      <td>1.620133e+18</td>\n",
       "      <td>wtf happening balenciaga</td>\n",
       "      <td>2023-01-30 18:51:52+00:00</td>\n",
       "      <td>65</td>\n",
       "      <td>[wtf, why, is, this, happening, balenciaga]</td>\n",
       "    </tr>\n",
       "    <tr>\n",
       "      <th>6</th>\n",
       "      <td>1.620127e+18</td>\n",
       "      <td>good share check items im loving poshmarkapp kmullen poshmark fashion style shopmycloset balenciaga freepeople dannynicole</td>\n",
       "      <td>2023-01-30 18:29:23+00:00</td>\n",
       "      <td>218</td>\n",
       "      <td>[so, good, i, had, to, share, check, out, all, the, items, im, loving, on, poshmarkapp, from, kmullen, 1019, poshmark, fashion, style, shopmycloset, balenciaga, freepeople, dannynicole]</td>\n",
       "    </tr>\n",
       "    <tr>\n",
       "      <th>7</th>\n",
       "      <td>1.620118e+18</td>\n",
       "      <td>lets talk balenciaga  shorts makeup balenciaga via youtube</td>\n",
       "      <td>2023-01-30 17:51:43+00:00</td>\n",
       "      <td>96</td>\n",
       "      <td>[lets, talk, about, balenciaga, ðÿ, ’, €, shorts, makeup, balenciaga, via, youtube]</td>\n",
       "    </tr>\n",
       "    <tr>\n",
       "      <th>8</th>\n",
       "      <td>1.620117e+18</td>\n",
       "      <td>sadly much bigger balenciaga balenciagagate gotta start somewhere</td>\n",
       "      <td>2023-01-30 17:48:02+00:00</td>\n",
       "      <td>78</td>\n",
       "      <td>[sadly, its, much, bigger, than, balenciaga, balenciagagate, gotta, start, somewhere]</td>\n",
       "    </tr>\n",
       "    <tr>\n",
       "      <th>9</th>\n",
       "      <td>1.620115e+18</td>\n",
       "      <td>skims bot replies tell somethingwe dont support pedos abuse children dress child gimp mask call fashion youre sick satanic balenciaga cancelskims cancelkimkardashian</td>\n",
       "      <td>2023-01-30 17:42:35+00:00</td>\n",
       "      <td>255</td>\n",
       "      <td>[skims, all, the, bot, replies, should, tell, you, somethingwe, dont, support, pedos, and, the, abuse, of, children, you, dress, your, own, child, in, a, gimp, mask, and, call, it, fashion, youre, sick, and, satanic, balenciaga, cancelskims, cancelkimkardashian, ðÿ, ¤, ®, ðÿ, ¤, ®, ðÿ, ¤, ®, ðÿ, ¤, ®, ð]</td>\n",
       "    </tr>\n",
       "    <tr>\n",
       "      <th>10</th>\n",
       "      <td>1.620112e+18</td>\n",
       "      <td>good share check items im loving poshmarkapp ksena poshmark fashion style shopmycloset eloquii freepeople balenciaga</td>\n",
       "      <td>2023-01-30 17:30:46+00:00</td>\n",
       "      <td>211</td>\n",
       "      <td>[so, good, i, had, to, share, check, out, all, the, items, im, loving, on, poshmarkapp, from, ksena, 116, poshmark, fashion, style, shopmycloset, eloquii, freepeople, balenciaga]</td>\n",
       "    </tr>\n",
       "    <tr>\n",
       "      <th>11</th>\n",
       "      <td>1.620112e+18</td>\n",
       "      <td>good share check items im loving poshmarkapp poshmark fashion style shopmycloset balenciaga francescascollections anthropologie</td>\n",
       "      <td>2023-01-30 17:29:00+00:00</td>\n",
       "      <td>213</td>\n",
       "      <td>[so, good, i, had, to, share, check, out, all, the, items, im, loving, on, poshmarkapp, poshmark, fashion, style, shopmycloset, balenciaga, francescascollections, anthropologie]</td>\n",
       "    </tr>\n",
       "    <tr>\n",
       "      <th>12</th>\n",
       "      <td>1.620103e+18</td>\n",
       "      <td>xxn sam smith disgusting ask balenciaga</td>\n",
       "      <td>2023-01-30 16:54:11+00:00</td>\n",
       "      <td>68</td>\n",
       "      <td>[xx17965797n, sam, smith, is, disgusting, ask, him, about, balenciaga, ðÿ, ‘, €]</td>\n",
       "    </tr>\n",
       "    <tr>\n",
       "      <th>13</th>\n",
       "      <td>1.620097e+18</td>\n",
       "      <td>good share check items im loving poshmarkapp poshmark fashion style shopmycloset cablegauge balenciaga levis</td>\n",
       "      <td>2023-01-30 16:31:18+00:00</td>\n",
       "      <td>194</td>\n",
       "      <td>[so, good, i, had, to, share, check, out, all, the, items, im, loving, on, poshmarkapp, poshmark, fashion, style, shopmycloset, cablegauge, balenciaga, levis]</td>\n",
       "    </tr>\n",
       "    <tr>\n",
       "      <th>14</th>\n",
       "      <td>1.620097e+18</td>\n",
       "      <td>good share check items im loving poshmarkapp marilynsend poshmark fashion style shopmycloset gbygiuliana balenciaga oneteaspoon</td>\n",
       "      <td>2023-01-30 16:31:00+00:00</td>\n",
       "      <td>220</td>\n",
       "      <td>[so, good, i, had, to, share, check, out, all, the, items, im, loving, on, poshmarkapp, from, marilynsend, 1, poshmark, fashion, style, shopmycloset, gbygiuliana, balenciaga, oneteaspoon]</td>\n",
       "    </tr>\n",
       "    <tr>\n",
       "      <th>15</th>\n",
       "      <td>1.620097e+18</td>\n",
       "      <td>good share check items im loving poshmarkapp poshmark fashion style shopmycloset balenciaga cherokee kennethcolereaction</td>\n",
       "      <td>2023-01-30 16:29:15+00:00</td>\n",
       "      <td>206</td>\n",
       "      <td>[so, good, i, had, to, share, check, out, all, the, items, im, loving, on, poshmarkapp, poshmark, fashion, style, shopmycloset, balenciaga, cherokee, kennethcolereaction]</td>\n",
       "    </tr>\n",
       "    <tr>\n",
       "      <th>16</th>\n",
       "      <td>1.620097e+18</td>\n",
       "      <td>ye faces new hurdle business personal life australian visa denial looms adidas africanbillionaires africanamericanbillionaire australianvisa balenciaga billionairesafrica featured kanyewest visaapplication</td>\n",
       "      <td>2023-01-30 16:28:32+00:00</td>\n",
       "      <td>274</td>\n",
       "      <td>[ye, faces, new, hurdle, in, business, and, personal, life, as, australian, visa, denial, looms, adidas, africanbillionaires, africanamericanbillionaire, australianvisa, balenciaga, billionairesafrica, featured, kanyewest, visaapplication]</td>\n",
       "    </tr>\n",
       "    <tr>\n",
       "      <th>17</th>\n",
       "      <td>1.620083e+18</td>\n",
       "      <td>ffs lmao vaccinedeath vaccine vaccinedeaths vaccinegenocide vaccinedemocide covidvaccine covid nuremberg nhs davosagenda wefisevil wef wefpuppets wef balenciaga balenciagapedos pedofila grooming hollywoodstudios</td>\n",
       "      <td>2023-01-30 15:33:46+00:00</td>\n",
       "      <td>245</td>\n",
       "      <td>[ffs, lmao, vaccinedeath, vaccine, vaccinedeaths, vaccinegenocide, vaccinedemocide, covidvaccine, covid, 19, nuremberg, 2â, nhsâ, davosagenda, wefisevil, wef, 23, wefpuppets, wef, balenciaga, balenciagapedos, pedofila, grooming, hollywoodstudios]</td>\n",
       "    </tr>\n",
       "    <tr>\n",
       "      <th>18</th>\n",
       "      <td>1.620074e+18</td>\n",
       "      <td>tenant outlook sports apparel brands race capture global growth read icsc realestate retail athleisure sportswear fitness nike balenciaga</td>\n",
       "      <td>2023-01-30 14:57:00+00:00</td>\n",
       "      <td>182</td>\n",
       "      <td>[tenant, outlook, sports, apparel, brands, race, to, capture, global, growth, read, here, icsc, realestate, retail, athleisure, sportswear, fitness, nike, balenciaga]</td>\n",
       "    </tr>\n",
       "    <tr>\n",
       "      <th>19</th>\n",
       "      <td>1.620059e+18</td>\n",
       "      <td>feel sorry people blissfully unaware balenciaga scandal indeed purpose fashion industry</td>\n",
       "      <td>2023-01-30 14:00:05+00:00</td>\n",
       "      <td>136</td>\n",
       "      <td>[i, have, to, feel, sorry, for, people, who, were, blissfully, unaware, of, the, balenciaga, scandal, and, indeed, the, purpose, of, the, fashion, industry]</td>\n",
       "    </tr>\n",
       "  </tbody>\n",
       "</table>\n",
       "</div>"
      ],
      "text/plain": [
       "              id  \\\n",
       "0   1.620207e+18   \n",
       "1   1.620206e+18   \n",
       "2   1.620204e+18   \n",
       "3   1.620151e+18   \n",
       "4   1.620142e+18   \n",
       "5   1.620133e+18   \n",
       "6   1.620127e+18   \n",
       "7   1.620118e+18   \n",
       "8   1.620117e+18   \n",
       "9   1.620115e+18   \n",
       "10  1.620112e+18   \n",
       "11  1.620112e+18   \n",
       "12  1.620103e+18   \n",
       "13  1.620097e+18   \n",
       "14  1.620097e+18   \n",
       "15  1.620097e+18   \n",
       "16  1.620097e+18   \n",
       "17  1.620083e+18   \n",
       "18  1.620074e+18   \n",
       "19  1.620059e+18   \n",
       "\n",
       "                                                                                                                                                                                                               Comments  \\\n",
       "0     latest podcast balenciaga run satanists think  via youtube balenciagapedos balenciaga satan satanist satanic pedophelia podcastshow podcast podcastlife podcastandchill podcaster podcasting lucifer luciferian h   \n",
       "1                                                                                                                       brands including gucci offwhite balenciaga maisonmargiela marineserre saintlaurent fashion many   \n",
       "2                                                                                                       good share check items im loving poshmarkapp poshmark fashion style shopmycloset balenciaga variety stevemadden   \n",
       "3                                                                                                          skkn nothing dont support pedos support child abuse exploitation balenciaga cancelkimkardashian cancelskims    \n",
       "4                                                                                                         good share check items im loving poshmarkapp poshmark fashion style shopmycloset madewell balenciaga kaileigh   \n",
       "5                                                                                                                                                                                              wtf happening balenciaga   \n",
       "6                                                                                            good share check items im loving poshmarkapp kmullen poshmark fashion style shopmycloset balenciaga freepeople dannynicole   \n",
       "7                                                                                                                                                            lets talk balenciaga  shorts makeup balenciaga via youtube   \n",
       "8                                                                                                                                                     sadly much bigger balenciaga balenciagagate gotta start somewhere   \n",
       "9                                                skims bot replies tell somethingwe dont support pedos abuse children dress child gimp mask call fashion youre sick satanic balenciaga cancelskims cancelkimkardashian    \n",
       "10                                                                                                 good share check items im loving poshmarkapp ksena poshmark fashion style shopmycloset eloquii freepeople balenciaga   \n",
       "11                                                                                      good share check items im loving poshmarkapp poshmark fashion style shopmycloset balenciaga francescascollections anthropologie   \n",
       "12                                                                                                                                                                             xxn sam smith disgusting ask balenciaga    \n",
       "13                                                                                                         good share check items im loving poshmarkapp poshmark fashion style shopmycloset cablegauge balenciaga levis   \n",
       "14                                                                                      good share check items im loving poshmarkapp marilynsend poshmark fashion style shopmycloset gbygiuliana balenciaga oneteaspoon   \n",
       "15                                                                                             good share check items im loving poshmarkapp poshmark fashion style shopmycloset balenciaga cherokee kennethcolereaction   \n",
       "16        ye faces new hurdle business personal life australian visa denial looms adidas africanbillionaires africanamericanbillionaire australianvisa balenciaga billionairesafrica featured kanyewest visaapplication   \n",
       "17  ffs lmao vaccinedeath vaccine vaccinedeaths vaccinegenocide vaccinedemocide covidvaccine covid nuremberg nhs davosagenda wefisevil wef wefpuppets wef balenciaga balenciagapedos pedofila grooming hollywoodstudios   \n",
       "18                                                                            tenant outlook sports apparel brands race capture global growth read icsc realestate retail athleisure sportswear fitness nike balenciaga   \n",
       "19                                                                                                                              feel sorry people blissfully unaware balenciaga scandal indeed purpose fashion industry   \n",
       "\n",
       "                         date  text_length  \\\n",
       "0   2023-01-30 23:46:10+00:00          280   \n",
       "1   2023-01-30 23:44:31+00:00          173   \n",
       "2   2023-01-30 23:33:43+00:00          197   \n",
       "3   2023-01-30 20:04:35+00:00          160   \n",
       "4   2023-01-30 19:30:19+00:00          195   \n",
       "5   2023-01-30 18:51:52+00:00           65   \n",
       "6   2023-01-30 18:29:23+00:00          218   \n",
       "7   2023-01-30 17:51:43+00:00           96   \n",
       "8   2023-01-30 17:48:02+00:00           78   \n",
       "9   2023-01-30 17:42:35+00:00          255   \n",
       "10  2023-01-30 17:30:46+00:00          211   \n",
       "11  2023-01-30 17:29:00+00:00          213   \n",
       "12  2023-01-30 16:54:11+00:00           68   \n",
       "13  2023-01-30 16:31:18+00:00          194   \n",
       "14  2023-01-30 16:31:00+00:00          220   \n",
       "15  2023-01-30 16:29:15+00:00          206   \n",
       "16  2023-01-30 16:28:32+00:00          274   \n",
       "17  2023-01-30 15:33:46+00:00          245   \n",
       "18  2023-01-30 14:57:00+00:00          182   \n",
       "19  2023-01-30 14:00:05+00:00          136   \n",
       "\n",
       "                                                                                                                                                                                                                                                                                                               Tokens  \n",
       "0                                             [latest, podcast, is, out, now, balenciaga, is, run, by, satanists, just, think, 5, via, youtube, balenciagapedos, balenciaga, satan, satanist, satanic, pedophelia, podcastshow, podcast, podcastlife, podcastandchill, podcaster, podcasting, lucifer, luciferian, h]  \n",
       "1                                                                                                                                                                                    [over, 500, brands, including, gucci, offwhite, balenciaga, maisonmargiela, marineserre, saintlaurent, fashion, and, many, more]  \n",
       "2                                                                                                                                                   [so, good, i, had, to, share, check, out, all, the, items, im, loving, on, poshmarkapp, poshmark, fashion, style, shopmycloset, balenciaga, variety, stevemadden]  \n",
       "3                                                                                                      [skkn, nothing, we, dont, support, pedos, and, those, who, support, child, abuse, and, exploitation, balenciaga, cancelkimkardashian, cancelskims, ðÿ, ’, ©, ðÿ, ¤, ®, ðÿ, ’, ©, ðÿ, ¤, ®, ðÿ, ’, ©, ðÿ, ¤, ®]  \n",
       "4                                                                                                                                                     [so, good, i, had, to, share, check, out, all, the, items, im, loving, on, poshmarkapp, poshmark, fashion, style, shopmycloset, madewell, balenciaga, kaileigh]  \n",
       "5                                                                                                                                                                                                                                                                         [wtf, why, is, this, happening, balenciaga]  \n",
       "6                                                                                                                           [so, good, i, had, to, share, check, out, all, the, items, im, loving, on, poshmarkapp, from, kmullen, 1019, poshmark, fashion, style, shopmycloset, balenciaga, freepeople, dannynicole]  \n",
       "7                                                                                                                                                                                                                                 [lets, talk, about, balenciaga, ðÿ, ’, €, shorts, makeup, balenciaga, via, youtube]  \n",
       "8                                                                                                                                                                                                                               [sadly, its, much, bigger, than, balenciaga, balenciagagate, gotta, start, somewhere]  \n",
       "9   [skims, all, the, bot, replies, should, tell, you, somethingwe, dont, support, pedos, and, the, abuse, of, children, you, dress, your, own, child, in, a, gimp, mask, and, call, it, fashion, youre, sick, and, satanic, balenciaga, cancelskims, cancelkimkardashian, ðÿ, ¤, ®, ðÿ, ¤, ®, ðÿ, ¤, ®, ðÿ, ¤, ®, ð]  \n",
       "10                                                                                                                                 [so, good, i, had, to, share, check, out, all, the, items, im, loving, on, poshmarkapp, from, ksena, 116, poshmark, fashion, style, shopmycloset, eloquii, freepeople, balenciaga]  \n",
       "11                                                                                                                                  [so, good, i, had, to, share, check, out, all, the, items, im, loving, on, poshmarkapp, poshmark, fashion, style, shopmycloset, balenciaga, francescascollections, anthropologie]  \n",
       "12                                                                                                                                                                                                                                   [xx17965797n, sam, smith, is, disgusting, ask, him, about, balenciaga, ðÿ, ‘, €]  \n",
       "13                                                                                                                                                     [so, good, i, had, to, share, check, out, all, the, items, im, loving, on, poshmarkapp, poshmark, fashion, style, shopmycloset, cablegauge, balenciaga, levis]  \n",
       "14                                                                                                                        [so, good, i, had, to, share, check, out, all, the, items, im, loving, on, poshmarkapp, from, marilynsend, 1, poshmark, fashion, style, shopmycloset, gbygiuliana, balenciaga, oneteaspoon]  \n",
       "15                                                                                                                                         [so, good, i, had, to, share, check, out, all, the, items, im, loving, on, poshmarkapp, poshmark, fashion, style, shopmycloset, balenciaga, cherokee, kennethcolereaction]  \n",
       "16                                                                    [ye, faces, new, hurdle, in, business, and, personal, life, as, australian, visa, denial, looms, adidas, africanbillionaires, africanamericanbillionaire, australianvisa, balenciaga, billionairesafrica, featured, kanyewest, visaapplication]  \n",
       "17                                                             [ffs, lmao, vaccinedeath, vaccine, vaccinedeaths, vaccinegenocide, vaccinedemocide, covidvaccine, covid, 19, nuremberg, 2â, nhsâ, davosagenda, wefisevil, wef, 23, wefpuppets, wef, balenciaga, balenciagapedos, pedofila, grooming, hollywoodstudios]  \n",
       "18                                                                                                                                             [tenant, outlook, sports, apparel, brands, race, to, capture, global, growth, read, here, icsc, realestate, retail, athleisure, sportswear, fitness, nike, balenciaga]  \n",
       "19                                                                                                                                                       [i, have, to, feel, sorry, for, people, who, were, blissfully, unaware, of, the, balenciaga, scandal, and, indeed, the, purpose, of, the, fashion, industry]  "
      ]
     },
     "execution_count": 65,
     "metadata": {},
     "output_type": "execute_result"
    }
   ],
   "source": [
    "train.head(20)"
   ]
  },
  {
   "cell_type": "markdown",
   "id": "be3004d7",
   "metadata": {},
   "source": [
    "# 6)Lemmatize"
   ]
  },
  {
   "cell_type": "code",
   "execution_count": 66,
   "id": "0b2ea179",
   "metadata": {},
   "outputs": [
    {
     "name": "stderr",
     "output_type": "stream",
     "text": [
      "[nltk_data] Downloading package wordnet to\n",
      "[nltk_data]     C:\\Users\\admin\\AppData\\Roaming\\nltk_data...\n",
      "[nltk_data]   Package wordnet is already up-to-date!\n"
     ]
    },
    {
     "data": {
      "text/plain": [
       "True"
      ]
     },
     "execution_count": 66,
     "metadata": {},
     "output_type": "execute_result"
    }
   ],
   "source": [
    "import nltk\n",
    "\n",
    "nltk.download('wordnet')"
   ]
  },
  {
   "cell_type": "code",
   "execution_count": 67,
   "id": "f6b44c73",
   "metadata": {},
   "outputs": [],
   "source": [
    "from nltk.stem import WordNetLemmatizer\n",
    "\n",
    "\n",
    "lemmatizer = WordNetLemmatizer()"
   ]
  },
  {
   "cell_type": "code",
   "execution_count": 68,
   "id": "26dbe7ce",
   "metadata": {},
   "outputs": [
    {
     "data": {
      "text/plain": [
       "0        latest podcast balenciaga run satanists think  via youtube balenciagapedos balenciaga satan satanist satanic pedophelia podcastshow podcast podcastlife podcastandchill podcaster podcasting lucifer luciferian h\n",
       "1                                                                                                                          brands including gucci offwhite balenciaga maisonmargiela marineserre saintlaurent fashion many\n",
       "2                                                                                                          good share check items im loving poshmarkapp poshmark fashion style shopmycloset balenciaga variety stevemadden\n",
       "3                                                                                                             skkn nothing dont support pedos support child abuse exploitation balenciaga cancelkimkardashian cancelskims \n",
       "4                                                                                                            good share check items im loving poshmarkapp poshmark fashion style shopmycloset madewell balenciaga kaileigh\n",
       "                                                                                                               ...                                                                                                        \n",
       "29156                                      nah its past need cancelled business asap theyll apologize blame random employee yet theyll continue add hidden messages ads thats theyve continued successful cancelbalenciaga\n",
       "29157                                                                                                                                                                itsnatlydenise getting worse thought cancelbalenciaga\n",
       "29158                                                                                                                                                  itsnatlydenise think start trending fuckbalenciaga cancelbalenciaga\n",
       "29159                                                                                                                                                               sick stomach byebalenciaga balenciaga cancelbalenciaga\n",
       "29160                                                                                                                                                                  deleted everything dont pedophiles cancelbalenciaga\n",
       "Name: Comments, Length: 29161, dtype: object"
      ]
     },
     "execution_count": 68,
     "metadata": {},
     "output_type": "execute_result"
    }
   ],
   "source": [
    "# Lemmatize\n",
    "train['Comments'].apply(lambda x: lemmatizer.lemmatize(x))"
   ]
  },
  {
   "cell_type": "code",
   "execution_count": 69,
   "id": "c38153af",
   "metadata": {},
   "outputs": [],
   "source": [
    "# Commit to Table\n",
    "\n",
    "train['Comments'] = train['Comments'].apply(lambda x: lemmatizer.lemmatize(x))"
   ]
  },
  {
   "cell_type": "markdown",
   "id": "59602acd",
   "metadata": {},
   "source": [
    "## 7) POS Tagging"
   ]
  },
  {
   "cell_type": "code",
   "execution_count": 70,
   "id": "3e15103f",
   "metadata": {},
   "outputs": [
    {
     "name": "stderr",
     "output_type": "stream",
     "text": [
      "[nltk_data] Downloading package punkt to\n",
      "[nltk_data]     C:\\Users\\admin\\AppData\\Roaming\\nltk_data...\n",
      "[nltk_data]   Package punkt is already up-to-date!\n",
      "[nltk_data] Downloading package averaged_perceptron_tagger to\n",
      "[nltk_data]     C:\\Users\\admin\\AppData\\Roaming\\nltk_data...\n",
      "[nltk_data]   Package averaged_perceptron_tagger is already up-to-\n",
      "[nltk_data]       date!\n"
     ]
    },
    {
     "data": {
      "text/plain": [
       "True"
      ]
     },
     "execution_count": 70,
     "metadata": {},
     "output_type": "execute_result"
    }
   ],
   "source": [
    "# Download the required NLTK resources\n",
    "nltk.download('punkt')\n",
    "nltk.download('averaged_perceptron_tagger')"
   ]
  },
  {
   "cell_type": "code",
   "execution_count": 71,
   "id": "47608aa8",
   "metadata": {},
   "outputs": [],
   "source": [
    "def pos_tagging(text):\n",
    "    # Tokenize the text into words\n",
    "    tokens = nltk.word_tokenize(text)\n",
    "    # Perform POS tagging\n",
    "    tagged_tokens = nltk.pos_tag(tokens)\n",
    "    # Return the tagged tokens\n",
    "    return tagged_tokens"
   ]
  },
  {
   "cell_type": "code",
   "execution_count": 72,
   "id": "4403faa9",
   "metadata": {},
   "outputs": [],
   "source": [
    "# Apply the POS tagging function to the 'Comments' column\n",
    "train['POS_Tagged'] = train['Comments'].apply(pos_tagging)"
   ]
  },
  {
   "cell_type": "code",
   "execution_count": 73,
   "id": "57c4877f",
   "metadata": {},
   "outputs": [
    {
     "data": {
      "text/plain": [
       "0        [(latest, JJS), (podcast, NN), (balenciaga, NN), (run, VBP), (satanists, NNS), (think, VBP), (via, IN), (youtube, NN), (balenciagapedos, NN), (balenciaga, NN), (satan, JJ), (satanist, NN), (satanic, JJ), (pedophelia, NN), (podcastshow, NN), (podcast, JJ), (podcastlife, NN), (podcastandchill, NN), (podcaster, NN), (podcasting, VBG), (lucifer, NN), (luciferian, JJ), (h, NN)]\n",
       "1                                                                                                                                                                                                                       [(brands, NNS), (including, VBG), (gucci, JJ), (offwhite, JJ), (balenciaga, NN), (maisonmargiela, NN), (marineserre, JJ), (saintlaurent, JJ), (fashion, NN), (many, JJ)]\n",
       "2                                                                                                                                                                           [(good, JJ), (share, NN), (check, VB), (items, NNS), (im, JJ), (loving, VBG), (poshmarkapp, NN), (poshmark, NN), (fashion, NN), (style, NN), (shopmycloset, NN), (balenciaga, NN), (variety, NN), (stevemadden, NN)]\n",
       "3                                                                                                                                                                                             [(skkn, NN), (nothing, NN), (dont, JJ), (support, NN), (pedos, VBD), (support, NN), (child, NN), (abuse, IN), (exploitation, NN), (balenciaga, NN), (cancelkimkardashian, NN), (cancelskims, NNS)]\n",
       "4                                                                                                                                                                             [(good, JJ), (share, NN), (check, VB), (items, NNS), (im, JJ), (loving, VBG), (poshmarkapp, NN), (poshmark, NN), (fashion, NN), (style, NN), (shopmycloset, NN), (madewell, NN), (balenciaga, NN), (kaileigh, NN)]\n",
       "                                                                                                                                                                                                  ...                                                                                                                                                                                           \n",
       "29156                          [(nah, CC), (its, PRP$), (past, JJ), (need, NN), (cancelled, VBD), (business, NN), (asap, NN), (theyll, NN), (apologize, VB), (blame, JJ), (random, JJ), (employee, NN), (yet, RB), (theyll, JJ), (continue, VBP), (add, VB), (hidden, JJ), (messages, NNS), (ads, NNS), (thats, NNS), (theyve, VBP), (continued, VBN), (successful, JJ), (cancelbalenciaga, NN)]\n",
       "29157                                                                                                                                                                                                                                                                                               [(itsnatlydenise, NN), (getting, VBG), (worse, JJR), (thought, VBN), (cancelbalenciaga, NN)]\n",
       "29158                                                                                                                                                                                                                                                                           [(itsnatlydenise, NN), (think, VBP), (start, VB), (trending, VBG), (fuckbalenciaga, JJ), (cancelbalenciaga, NN)]\n",
       "29159                                                                                                                                                                                                                                                                                                 [(sick, JJ), (stomach, NN), (byebalenciaga, NN), (balenciaga, NN), (cancelbalenciaga, NN)]\n",
       "29160                                                                                                                                                                                                                                                                                                 [(deleted, VBN), (everything, NN), (dont, NN), (pedophiles, NNS), (cancelbalenciaga, VBP)]\n",
       "Name: POS_Tagged, Length: 29161, dtype: object"
      ]
     },
     "execution_count": 73,
     "metadata": {},
     "output_type": "execute_result"
    }
   ],
   "source": [
    "train['POS_Tagged']"
   ]
  },
  {
   "cell_type": "markdown",
   "id": "e3e5c426",
   "metadata": {},
   "source": [
    "## 8)Word-Embeddings"
   ]
  },
  {
   "cell_type": "code",
   "execution_count": 74,
   "id": "8f50ad00",
   "metadata": {},
   "outputs": [],
   "source": [
    "import pandas as pd\n",
    "from textblob import TextBlob\n",
    "import gensim.downloader as api\n"
   ]
  },
  {
   "cell_type": "code",
   "execution_count": 75,
   "id": "b435bf63",
   "metadata": {},
   "outputs": [],
   "source": [
    "import gensim.downloader as api\n",
    "\n",
    "# Load the GloVe model\n",
    "glove_model = api.load('glove-wiki-gigaword-100')\n",
    "\n",
    "import re\n",
    "\n",
    "def clean_text(text):\n",
    "    text = str(text)\n",
    "    # Remove any URLs\n",
    "    text = re.sub(r'http\\S+', '', text)\n",
    "    # Remove any user mentions and hashtags\n",
    "    text = re.sub(r'@\\w+|#\\w+', '', text)\n",
    "    # Remove any non-word character and extra whitespaces\n",
    "    text = re.sub(r'[^\\w\\s]', '', text).strip()\n",
    "    # Convert to lowercase\n",
    "    text = text.lower()\n",
    "    return text\n",
    "\n",
    "train['cleaned_comments'] = train['Comments'].apply(clean_text)"
   ]
  },
  {
   "cell_type": "code",
   "execution_count": 76,
   "id": "c58c7ca5",
   "metadata": {},
   "outputs": [],
   "source": [
    "# Clean the comments\n",
    "train['cleaned_comments'] = train['Comments'].apply(clean_text)"
   ]
  },
  {
   "cell_type": "code",
   "execution_count": 77,
   "id": "47ccb3be",
   "metadata": {},
   "outputs": [],
   "source": [
    "# Create word embeddings for each comment\n",
    "def create_embeddings(text):\n",
    "    embeddings = []\n",
    "    for word in text.split():\n",
    "        if word in glove_model:\n",
    "            embeddings.append(glove_model[word])\n",
    "    return embeddings\n",
    "\n",
    "train['embeddings'] = train['cleaned_comments'].apply(create_embeddings)"
   ]
  },
  {
   "cell_type": "code",
   "execution_count": 78,
   "id": "4fa5b6f1",
   "metadata": {},
   "outputs": [],
   "source": [
    "# Calculate the sentiment score for each comment\n",
    "def calculate_sentiment_score(text):\n",
    "    return TextBlob(text).sentiment.polarity\n",
    "\n",
    "train['sentiment_score'] = train['cleaned_comments'].apply(calculate_sentiment_score)"
   ]
  },
  {
   "cell_type": "code",
   "execution_count": 79,
   "id": "502f2ce0",
   "metadata": {},
   "outputs": [],
   "source": [
    "# Calculate the polarity scores and sentiment tags\n",
    "polarity = [TextBlob(comment).sentiment.polarity for comment in train['Comments']]\n",
    "sentiment = ['positive' if score > 0 else 'negative' if score < 0 else 'neutral' for score in polarity]"
   ]
  },
  {
   "cell_type": "code",
   "execution_count": 80,
   "id": "5ddae350",
   "metadata": {},
   "outputs": [],
   "source": [
    "# Add the new columns to the train DataFrame\n",
    "train['polarity'] = polarity\n",
    "train['sentiment'] = sentiment"
   ]
  },
  {
   "cell_type": "code",
   "execution_count": 81,
   "id": "ea53eea6",
   "metadata": {},
   "outputs": [
    {
     "name": "stdout",
     "output_type": "stream",
     "text": [
      "<class 'pandas.core.frame.DataFrame'>\n",
      "RangeIndex: 29161 entries, 0 to 29160\n",
      "Data columns (total 11 columns):\n",
      " #   Column            Non-Null Count  Dtype  \n",
      "---  ------            --------------  -----  \n",
      " 0   id                29161 non-null  float64\n",
      " 1   Comments          29161 non-null  object \n",
      " 2   date              29161 non-null  object \n",
      " 3   text_length       29161 non-null  int64  \n",
      " 4   Tokens            29161 non-null  object \n",
      " 5   POS_Tagged        29161 non-null  object \n",
      " 6   cleaned_comments  29161 non-null  object \n",
      " 7   embeddings        29161 non-null  object \n",
      " 8   sentiment_score   29161 non-null  float64\n",
      " 9   polarity          29161 non-null  float64\n",
      " 10  sentiment         29161 non-null  object \n",
      "dtypes: float64(3), int64(1), object(7)\n",
      "memory usage: 2.4+ MB\n"
     ]
    }
   ],
   "source": [
    "train.info()"
   ]
  },
  {
   "cell_type": "code",
   "execution_count": 82,
   "id": "c183e4c3",
   "metadata": {},
   "outputs": [
    {
     "data": {
      "text/plain": [
       "neutral     11828\n",
       "positive     8697\n",
       "negative     8636\n",
       "Name: sentiment, dtype: int64"
      ]
     },
     "execution_count": 82,
     "metadata": {},
     "output_type": "execute_result"
    }
   ],
   "source": [
    "# Count the number of comments for each sentiment\n",
    "train['sentiment'].value_counts()\n",
    "\n"
   ]
  },
  {
   "cell_type": "code",
   "execution_count": 83,
   "id": "83265ca1",
   "metadata": {},
   "outputs": [],
   "source": [
    "from sklearn.svm import LinearSVC\n",
    "from sklearn.pipeline import Pipeline"
   ]
  },
  {
   "cell_type": "code",
   "execution_count": 84,
   "id": "dc70e866",
   "metadata": {},
   "outputs": [],
   "source": [
    "# Define the SVM classifier\n",
    "svm_clf = LinearSVC(random_state=42, multi_class='ovr')"
   ]
  },
  {
   "cell_type": "code",
   "execution_count": 85,
   "id": "6216411d",
   "metadata": {},
   "outputs": [],
   "source": [
    "# Create embeddings for each comment\n",
    "train['embeddings'] = train['cleaned_comments'].apply(create_embeddings)"
   ]
  },
  {
   "cell_type": "code",
   "execution_count": 86,
   "id": "264965b5",
   "metadata": {},
   "outputs": [],
   "source": [
    "# Calculate the actual sentiment labels for each comment\n",
    "polarity = [TextBlob(comment).sentiment.polarity for comment in train['Comments']]\n",
    "sentiment = ['positive' if score > 0 else 'negative' if score < 0 else 'neutral' for score in polarity]\n",
    "train['sentiment'] = sentiment"
   ]
  },
  {
   "cell_type": "code",
   "execution_count": 87,
   "id": "6048a85b",
   "metadata": {},
   "outputs": [
    {
     "name": "stderr",
     "output_type": "stream",
     "text": [
      "C:\\Users\\admin\\AppData\\Local\\Temp\\ipykernel_8720\\2558960413.py:3: RuntimeWarning: Mean of empty slice.\n",
      "  train_embeddings = train_embeddings.apply(lambda x: np.array(x).mean(axis=0))\n"
     ]
    }
   ],
   "source": [
    "# Concatenate the GloVe embeddings for each comment into a single feature vector\n",
    "train_embeddings = train['embeddings'].apply(lambda x: [i for sublist in x for i in sublist])\n",
    "train_embeddings = train_embeddings.apply(lambda x: np.array(x).mean(axis=0))\n",
    "train_embeddings = np.stack(train_embeddings.values)"
   ]
  },
  {
   "cell_type": "code",
   "execution_count": 88,
   "id": "16a67fa9",
   "metadata": {},
   "outputs": [],
   "source": [
    "train_embeddings_2d = train_embeddings.reshape(-1, 1)"
   ]
  },
  {
   "cell_type": "code",
   "execution_count": 89,
   "id": "ee3ff19b",
   "metadata": {},
   "outputs": [],
   "source": [
    "train_embeddings_2d_df = pd.DataFrame(train_embeddings_2d)"
   ]
  },
  {
   "cell_type": "code",
   "execution_count": 90,
   "id": "1815b081",
   "metadata": {},
   "outputs": [
    {
     "name": "stdout",
     "output_type": "stream",
     "text": [
      "47\n",
      "0\n"
     ]
    }
   ],
   "source": [
    "import numpy as np\n",
    "\n",
    "print(np.isnan(train_embeddings_2d).sum())\n",
    "\n",
    "print(np.isinf(train_embeddings_2d).sum())"
   ]
  },
  {
   "cell_type": "code",
   "execution_count": 91,
   "id": "bfaf2582",
   "metadata": {},
   "outputs": [],
   "source": [
    "train_embeddings_2d = np.nan_to_num(train_embeddings_2d, nan=0)"
   ]
  },
  {
   "cell_type": "code",
   "execution_count": 92,
   "id": "9ddde9b7",
   "metadata": {},
   "outputs": [
    {
     "data": {
      "text/plain": [
       "LinearSVC(random_state=42)"
      ]
     },
     "execution_count": 92,
     "metadata": {},
     "output_type": "execute_result"
    }
   ],
   "source": [
    "svm_clf.fit(train_embeddings_2d, train['sentiment'])"
   ]
  },
  {
   "cell_type": "code",
   "execution_count": 93,
   "id": "b20a678d",
   "metadata": {},
   "outputs": [],
   "source": [
    "train_embeddings_2d = train_embeddings.reshape(train_embeddings.shape[0], -1)"
   ]
  },
  {
   "cell_type": "code",
   "execution_count": 94,
   "id": "8f575c1a",
   "metadata": {},
   "outputs": [],
   "source": [
    "from sklearn.model_selection import train_test_split"
   ]
  },
  {
   "cell_type": "code",
   "execution_count": 95,
   "id": "68406258",
   "metadata": {},
   "outputs": [],
   "source": [
    "# Split data into training and testing sets\n",
    "train, test = train_test_split(train, test_size=0.2, random_state=42)"
   ]
  },
  {
   "cell_type": "code",
   "execution_count": 96,
   "id": "33e10c74",
   "metadata": {},
   "outputs": [],
   "source": [
    "# Create embeddings for each comment in the training data\n",
    "train['embeddings'] = train['cleaned_comments'].apply(create_embeddings)"
   ]
  },
  {
   "cell_type": "code",
   "execution_count": 97,
   "id": "255097fc",
   "metadata": {},
   "outputs": [],
   "source": [
    "# Calculate the actual sentiment labels for each comment in the training data        \n",
    "polarity = [TextBlob(comment).sentiment.polarity for comment in train['Comments']]\n",
    "sentiment = ['positive' if score > 0 else 'negative' if score < 0 else 'neutral' for score in polarity]\n",
    "train['sentiment'] = sentiment"
   ]
  },
  {
   "cell_type": "code",
   "execution_count": 98,
   "id": "b21be0f0",
   "metadata": {},
   "outputs": [
    {
     "name": "stderr",
     "output_type": "stream",
     "text": [
      "C:\\Users\\admin\\AppData\\Local\\Temp\\ipykernel_8720\\3497977155.py:3: RuntimeWarning: Mean of empty slice.\n",
      "  train_embeddings = train_embeddings.apply(lambda x: np.array(x).mean(axis=0))\n"
     ]
    }
   ],
   "source": [
    "# Concatenate the GloVe embeddings for each comment in the training data into a single feature vector \n",
    "train_embeddings = train['embeddings'].apply(lambda x: [i for sublist in x for i in sublist])\n",
    "train_embeddings = train_embeddings.apply(lambda x: np.array(x).mean(axis=0))\n",
    "train_embeddings = np.stack(train_embeddings.values)\n",
    "\n",
    "train_embeddings_2d = train_embeddings.reshape(-1, 1)\n",
    "\n",
    "train_embeddings_2d_df = pd.DataFrame(train_embeddings_2d)"
   ]
  },
  {
   "cell_type": "code",
   "execution_count": 99,
   "id": "cba6b3e5",
   "metadata": {},
   "outputs": [],
   "source": [
    "# Create embeddings for each comment in the test data\n",
    "test['embeddings'] = test['cleaned_comments'].apply(create_embeddings)"
   ]
  },
  {
   "cell_type": "code",
   "execution_count": 100,
   "id": "f8566abd",
   "metadata": {},
   "outputs": [],
   "source": [
    "# Calculate the actual sentiment labels for each comment in the test data\n",
    "polarity = [TextBlob(comment).sentiment.polarity for comment in test['Comments']]\n",
    "sentiment = ['positive' if score > 0 else 'negative' if score < 0 else 'neutral' for score in polarity]\n",
    "test['sentiment'] = sentiment"
   ]
  },
  {
   "cell_type": "code",
   "execution_count": 101,
   "id": "a016d690",
   "metadata": {},
   "outputs": [
    {
     "name": "stderr",
     "output_type": "stream",
     "text": [
      "C:\\Users\\admin\\AppData\\Local\\Temp\\ipykernel_8720\\3776866961.py:3: RuntimeWarning: Mean of empty slice.\n",
      "  test_embeddings = test_embeddings.apply(lambda x: np.array(x).mean(axis=0))\n"
     ]
    }
   ],
   "source": [
    "# Concatenate the GloVe embeddings for each comment in the test data into a single feature vector\n",
    "test_embeddings = test['embeddings'].apply(lambda x: [i for sublist in x for i in sublist])\n",
    "test_embeddings = test_embeddings.apply(lambda x: np.array(x).mean(axis=0))\n",
    "test_embeddings = np.stack(test_embeddings.values)"
   ]
  },
  {
   "cell_type": "code",
   "execution_count": 102,
   "id": "4495495f",
   "metadata": {},
   "outputs": [],
   "source": [
    "test_embeddings_2d = test_embeddings.reshape(-1, 1)\n",
    "\n",
    "test_embeddings_2d_df = pd.DataFrame(test_embeddings_2d)"
   ]
  },
  {
   "cell_type": "code",
   "execution_count": 103,
   "id": "08a3efff",
   "metadata": {},
   "outputs": [],
   "source": [
    "import numpy as np\n",
    "\n",
    "# Replace NaN values with 0\n",
    "test_embeddings_2d = np.nan_to_num(test_embeddings_2d)"
   ]
  },
  {
   "cell_type": "code",
   "execution_count": 104,
   "id": "9ba7750e",
   "metadata": {},
   "outputs": [],
   "source": [
    "from sklearn.metrics import accuracy_score, f1_score,confusion_matrix, precision_score, recall_score"
   ]
  },
  {
   "cell_type": "code",
   "execution_count": 105,
   "id": "996b478c",
   "metadata": {},
   "outputs": [],
   "source": [
    "# Make predictions on the test data\n",
    "test_pred = svm_clf.predict(test_embeddings_2d)"
   ]
  },
  {
   "cell_type": "code",
   "execution_count": 106,
   "id": "db4adef5",
   "metadata": {},
   "outputs": [
    {
     "name": "stdout",
     "output_type": "stream",
     "text": [
      "Accuracy: 0.3997942739585119\n",
      "F1 Score: 0.23175776119449104\n"
     ]
    }
   ],
   "source": [
    "# Calculate accuracy and F1 score\n",
    "accuracy = accuracy_score(test['sentiment'], test_pred)\n",
    "f1 = f1_score(test['sentiment'], test_pred, average='weighted')\n",
    "\n",
    "print(f\"Accuracy: {accuracy}\")\n",
    "print(f\"F1 Score: {f1}\")"
   ]
  },
  {
   "cell_type": "code",
   "execution_count": 107,
   "id": "48383cd4",
   "metadata": {},
   "outputs": [
    {
     "name": "stdout",
     "output_type": "stream",
     "text": [
      "Precision: 0.1991\n",
      "Recall: 0.3998\n",
      "Confusion matrix:\n",
      "[[   4 1727    0]\n",
      " [  26 2328    0]\n",
      " [   2 1746    0]]\n"
     ]
    },
    {
     "name": "stderr",
     "output_type": "stream",
     "text": [
      "C:\\Users\\admin\\anaconda3\\lib\\site-packages\\sklearn\\metrics\\_classification.py:1318: UndefinedMetricWarning: Precision is ill-defined and being set to 0.0 in labels with no predicted samples. Use `zero_division` parameter to control this behavior.\n",
      "  _warn_prf(average, modifier, msg_start, len(result))\n"
     ]
    }
   ],
   "source": [
    "# Compute precision and recall\n",
    "precision = precision_score(test['sentiment'], test_pred, average='weighted')\n",
    "recall = recall_score(test['sentiment'], test_pred, average='weighted')\n",
    "\n",
    "# Compute confusion matrix\n",
    "confusion_mat = confusion_matrix(test['sentiment'], test_pred)\n",
    "\n",
    "print(\"Precision: {:.4f}\".format(precision))\n",
    "print(\"Recall: {:.4f}\".format(recall))\n",
    "print(\"Confusion matrix:\")\n",
    "print(confusion_mat)"
   ]
  },
  {
   "cell_type": "code",
   "execution_count": null,
   "id": "887f0a56",
   "metadata": {},
   "outputs": [],
   "source": []
  },
  {
   "cell_type": "code",
   "execution_count": null,
   "id": "d357aa1a",
   "metadata": {},
   "outputs": [],
   "source": []
  },
  {
   "cell_type": "code",
   "execution_count": null,
   "id": "d3396031",
   "metadata": {},
   "outputs": [],
   "source": []
  }
 ],
 "metadata": {
  "kernelspec": {
   "display_name": "Python 3 (ipykernel)",
   "language": "python",
   "name": "python3"
  },
  "language_info": {
   "codemirror_mode": {
    "name": "ipython",
    "version": 3
   },
   "file_extension": ".py",
   "mimetype": "text/x-python",
   "name": "python",
   "nbconvert_exporter": "python",
   "pygments_lexer": "ipython3",
   "version": "3.9.12"
  }
 },
 "nbformat": 4,
 "nbformat_minor": 5
}
