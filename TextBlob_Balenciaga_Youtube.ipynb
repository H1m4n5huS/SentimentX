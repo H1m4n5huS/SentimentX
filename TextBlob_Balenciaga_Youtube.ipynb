{
 "cells": [
  {
   "cell_type": "markdown",
   "id": "7c9ce673",
   "metadata": {},
   "source": [
    "# 1) Standard imports"
   ]
  },
  {
   "cell_type": "code",
   "execution_count": 3,
   "id": "ab90b089",
   "metadata": {},
   "outputs": [
    {
     "name": "stdout",
     "output_type": "stream",
     "text": [
      "Requirement already satisfied: urlextract in c:\\users\\admin\\anaconda3\\lib\\site-packages (1.8.0)Note: you may need to restart the kernel to use updated packages.\n",
      "Requirement already satisfied: platformdirs in c:\\users\\admin\\anaconda3\\lib\\site-packages (from urlextract) (3.0.0)\n",
      "Requirement already satisfied: filelock in c:\\users\\admin\\anaconda3\\lib\\site-packages (from urlextract) (3.6.0)\n",
      "Requirement already satisfied: idna in c:\\users\\admin\\anaconda3\\lib\\site-packages (from urlextract) (3.3)\n",
      "Requirement already satisfied: uritools in c:\\users\\admin\\anaconda3\\lib\\site-packages (from urlextract) (4.0.1)\n",
      "\n"
     ]
    }
   ],
   "source": [
    "pip install urlextract"
   ]
  },
  {
   "cell_type": "code",
   "execution_count": 4,
   "id": "3e7cab6c",
   "metadata": {},
   "outputs": [
    {
     "name": "stdout",
     "output_type": "stream",
     "text": [
      "Requirement already satisfied: xlrd in c:\\users\\admin\\anaconda3\\lib\\site-packages (2.0.1)\n",
      "Note: you may need to restart the kernel to use updated packages.\n"
     ]
    }
   ],
   "source": [
    "pip install xlrd"
   ]
  },
  {
   "cell_type": "code",
   "execution_count": 5,
   "id": "36f786a2",
   "metadata": {},
   "outputs": [],
   "source": [
    "import numpy as np \n",
    "import pandas as pd \n",
    "import re\n",
    "import urlextract\n",
    "import xlrd\n",
    "\n",
    "\n",
    "# For Preprocesssing Text Data\n",
    "\n",
    "\n",
    "from nltk import word_tokenize, pos_tag\n",
    "from nltk.stem import WordNetLemmatizer\n",
    "from nltk.corpus import stopwords\n",
    "pd.set_option('display.max_colwidth', 1000)\n",
    "\n",
    "# Feature Extraction\n",
    "from sklearn.feature_extraction.text import TfidfVectorizer\n",
    "\n",
    "\n",
    "# Check Performance\n",
    "from sklearn.metrics import classification_report"
   ]
  },
  {
   "cell_type": "markdown",
   "id": "85a24aed",
   "metadata": {},
   "source": [
    "# 2)Importing Data"
   ]
  },
  {
   "cell_type": "code",
   "execution_count": 6,
   "id": "3e453b20",
   "metadata": {},
   "outputs": [],
   "source": [
    "train = pd.read_excel(r\"Youtube_Balenciaga.xlsx\")"
   ]
  },
  {
   "cell_type": "code",
   "execution_count": 7,
   "id": "a75cc505",
   "metadata": {},
   "outputs": [
    {
     "data": {
      "text/html": [
       "<div>\n",
       "<style scoped>\n",
       "    .dataframe tbody tr th:only-of-type {\n",
       "        vertical-align: middle;\n",
       "    }\n",
       "\n",
       "    .dataframe tbody tr th {\n",
       "        vertical-align: top;\n",
       "    }\n",
       "\n",
       "    .dataframe thead th {\n",
       "        text-align: right;\n",
       "    }\n",
       "</style>\n",
       "<table border=\"1\" class=\"dataframe\">\n",
       "  <thead>\n",
       "    <tr style=\"text-align: right;\">\n",
       "      <th></th>\n",
       "      <th>Comment Number</th>\n",
       "      <th>Reply Number</th>\n",
       "      <th>Like Count</th>\n",
       "      <th>Published At</th>\n",
       "      <th>Text</th>\n",
       "    </tr>\n",
       "  </thead>\n",
       "  <tbody>\n",
       "    <tr>\n",
       "      <th>0</th>\n",
       "      <td>1.0</td>\n",
       "      <td>NaN</td>\n",
       "      <td>0</td>\n",
       "      <td>2023-02-24T21:49:40Z</td>\n",
       "      <td>Thank you for this.</td>\n",
       "    </tr>\n",
       "    <tr>\n",
       "      <th>1</th>\n",
       "      <td>2.0</td>\n",
       "      <td>NaN</td>\n",
       "      <td>0</td>\n",
       "      <td>2023-02-24T18:56:11Z</td>\n",
       "      <td>That wasn't an apology, it was one excuse after another.</td>\n",
       "    </tr>\n",
       "    <tr>\n",
       "      <th>2</th>\n",
       "      <td>3.0</td>\n",
       "      <td>NaN</td>\n",
       "      <td>0</td>\n",
       "      <td>2023-02-23T00:40:54Z</td>\n",
       "      <td>Those are probably children that are trafficked in the entertainment industry</td>\n",
       "    </tr>\n",
       "    <tr>\n",
       "      <th>3</th>\n",
       "      <td>4.0</td>\n",
       "      <td>NaN</td>\n",
       "      <td>0</td>\n",
       "      <td>2023-02-23T00:40:49Z</td>\n",
       "      <td>Those are probably children that are trafficked in the entertainment industry</td>\n",
       "    </tr>\n",
       "    <tr>\n",
       "      <th>4</th>\n",
       "      <td>5.0</td>\n",
       "      <td>NaN</td>\n",
       "      <td>0</td>\n",
       "      <td>2023-02-19T13:26:47Z</td>\n",
       "      <td>Epstein and his group of elitists abused their power and saw the girls they used as nothing more than trash... but let's not go tabloid, Michael. Paedophilia is sexual attraction to prepubescent children and that doesn't describe the girls they used as their play things. \\n\\nWhat we are seeing in these 'adverts' IS for paedophiles.</td>\n",
       "    </tr>\n",
       "    <tr>\n",
       "      <th>5</th>\n",
       "      <td>6.0</td>\n",
       "      <td>NaN</td>\n",
       "      <td>0</td>\n",
       "      <td>2023-02-19T05:21:41Z</td>\n",
       "      <td>The blind could see there is an evil attack, a demonic war being waged on our minds, hearts and spirits.</td>\n",
       "    </tr>\n",
       "    <tr>\n",
       "      <th>6</th>\n",
       "      <td>7.0</td>\n",
       "      <td>NaN</td>\n",
       "      <td>0</td>\n",
       "      <td>2023-02-18T20:09:59Z</td>\n",
       "      <td>Another thing I found is in one of the child ads thereâ€™s a kids drawing in the background literally depicting satan. There also a folded black satanic robe. And in the same ad, thereâ€™s balenciaga tape. Except on it balenciaga is spelt â€œbaal-enciagaâ€ with the part â€œBaalâ€ facing the camera. And ofc Baal is one of the idols they worshipped in biblical times and was known for child sacrifice. Similar to the child sacrifice we see in todays culture with this over sexualization, abortion, etc. On top of that, similarly how you translated â€œba len ci agaâ€ into Latin and it says â€œdo what you wantâ€ (a known satanic phrase) if you type â€œBaal enci agaâ€ it translates to Baal is king. Theyâ€™re literally not even hiding it anymore because of how normalized itâ€™s become</td>\n",
       "    </tr>\n",
       "    <tr>\n",
       "      <th>7</th>\n",
       "      <td>8.0</td>\n",
       "      <td>NaN</td>\n",
       "      <td>0</td>\n",
       "      <td>2023-02-18T14:54:31Z</td>\n",
       "      <td>They are sorry they got caught</td>\n",
       "    </tr>\n",
       "    <tr>\n",
       "      <th>8</th>\n",
       "      <td>9.0</td>\n",
       "      <td>NaN</td>\n",
       "      <td>0</td>\n",
       "      <td>2023-02-17T23:17:16Z</td>\n",
       "      <td>Madeleine McCann used to carry a teddy bear around with her all the time</td>\n",
       "    </tr>\n",
       "    <tr>\n",
       "      <th>9</th>\n",
       "      <td>10.0</td>\n",
       "      <td>NaN</td>\n",
       "      <td>0</td>\n",
       "      <td>2023-02-17T19:54:57Z</td>\n",
       "      <td>Wyta. weird sex things is and has always been a right w thing not left. Also I am a centrist Iâ€™m above you all ðŸ‘ˆðŸ‘‰ ðŸ˜‚</td>\n",
       "    </tr>\n",
       "    <tr>\n",
       "      <th>10</th>\n",
       "      <td>11.0</td>\n",
       "      <td>NaN</td>\n",
       "      <td>0</td>\n",
       "      <td>2023-02-17T14:16:10Z</td>\n",
       "      <td>Pedogate is real yet the Podesta brothers and high level government and Hollywood elites walk around with Blood on their hands.</td>\n",
       "    </tr>\n",
       "    <tr>\n",
       "      <th>11</th>\n",
       "      <td>12.0</td>\n",
       "      <td>NaN</td>\n",
       "      <td>1</td>\n",
       "      <td>2023-02-17T02:50:18Z</td>\n",
       "      <td>The deplorable offenses committed by Balenciaga are NOT aligned with Satanism. In fact, their actions are directly OPPOSED to Satanic beliefs. Satanism is wildly misunderstood. Below are a few of the official tenets (or beliefs) of Satanism: \\n\\n1.) *One should strive to act with compassion and empathy toward all creatures in accordance with reason.*\\n\\n2.) *Oneâ€™s body is inviolable, subject to oneâ€™s own will alone.*\\n\\n3.) *DO NOT HARM LITTLE CHILDREN.*\\n\\nThey say â€œdo what thou wiltâ€ with the subtext being â€œas long as you donâ€™t harm anyone in the processâ€ because that would be an encroachment on another personâ€™s free will, which directly opposes the Satanic tenets.\\n\\nSatanists are passionate about bodily autonomy (which obviously includes consent), as autonomy in general is the CORE TENET of their entire belief system. \\n\\nSatanism has NEVER endorsed pedophilia, and NEVER will, because it is directly opposed to the tenets you must follow to be a practicing Satani...</td>\n",
       "    </tr>\n",
       "    <tr>\n",
       "      <th>12</th>\n",
       "      <td>13.0</td>\n",
       "      <td>NaN</td>\n",
       "      <td>0</td>\n",
       "      <td>2023-02-16T00:25:11Z</td>\n",
       "      <td>Can we please bring back the guillotine or noose at least...</td>\n",
       "    </tr>\n",
       "    <tr>\n",
       "      <th>13</th>\n",
       "      <td>14.0</td>\n",
       "      <td>NaN</td>\n",
       "      <td>0</td>\n",
       "      <td>2023-02-15T00:44:55Z</td>\n",
       "      <td>Apparently balenciaga are about to rebrand and partner withâ€¦â€¦â€¦.wait for itâ€¦â€¦Disney!!!!.</td>\n",
       "    </tr>\n",
       "    <tr>\n",
       "      <th>14</th>\n",
       "      <td>15.0</td>\n",
       "      <td>NaN</td>\n",
       "      <td>0</td>\n",
       "      <td>2023-02-14T02:49:54Z</td>\n",
       "      <td>Wow! This is Satan right in front of our eyes! God is coming soonâ€¦I am so glad I am with him.</td>\n",
       "    </tr>\n",
       "    <tr>\n",
       "      <th>15</th>\n",
       "      <td>16.0</td>\n",
       "      <td>NaN</td>\n",
       "      <td>0</td>\n",
       "      <td>2023-02-14T01:44:41Z</td>\n",
       "      <td>Too late... they have revealed their real intentions. Very Demonic.</td>\n",
       "    </tr>\n",
       "    <tr>\n",
       "      <th>16</th>\n",
       "      <td>17.0</td>\n",
       "      <td>NaN</td>\n",
       "      <td>0</td>\n",
       "      <td>2023-02-13T22:28:00Z</td>\n",
       "      <td>The Devil wears Balenciaga.</td>\n",
       "    </tr>\n",
       "    <tr>\n",
       "      <th>17</th>\n",
       "      <td>18.0</td>\n",
       "      <td>NaN</td>\n",
       "      <td>0</td>\n",
       "      <td>2023-02-13T21:37:11Z</td>\n",
       "      <td>America has to take it where no one else thought of. Bitch it's catwalk not dogwalk for a reason. Bitch it's catwalk not furbaby. This guy in charge is gay and asexual obviously. He's been seduced by prostitutes and thinks this is art. Omg!</td>\n",
       "    </tr>\n",
       "  </tbody>\n",
       "</table>\n",
       "</div>"
      ],
      "text/plain": [
       "    Comment Number  Reply Number  Like Count          Published At  \\\n",
       "0              1.0           NaN           0  2023-02-24T21:49:40Z   \n",
       "1              2.0           NaN           0  2023-02-24T18:56:11Z   \n",
       "2              3.0           NaN           0  2023-02-23T00:40:54Z   \n",
       "3              4.0           NaN           0  2023-02-23T00:40:49Z   \n",
       "4              5.0           NaN           0  2023-02-19T13:26:47Z   \n",
       "5              6.0           NaN           0  2023-02-19T05:21:41Z   \n",
       "6              7.0           NaN           0  2023-02-18T20:09:59Z   \n",
       "7              8.0           NaN           0  2023-02-18T14:54:31Z   \n",
       "8              9.0           NaN           0  2023-02-17T23:17:16Z   \n",
       "9             10.0           NaN           0  2023-02-17T19:54:57Z   \n",
       "10            11.0           NaN           0  2023-02-17T14:16:10Z   \n",
       "11            12.0           NaN           1  2023-02-17T02:50:18Z   \n",
       "12            13.0           NaN           0  2023-02-16T00:25:11Z   \n",
       "13            14.0           NaN           0  2023-02-15T00:44:55Z   \n",
       "14            15.0           NaN           0  2023-02-14T02:49:54Z   \n",
       "15            16.0           NaN           0  2023-02-14T01:44:41Z   \n",
       "16            17.0           NaN           0  2023-02-13T22:28:00Z   \n",
       "17            18.0           NaN           0  2023-02-13T21:37:11Z   \n",
       "\n",
       "                                                                                                                                                                                                                                                                                                                                                                                                                                                                                                                                                                                                                                                                                                                                                                                                                                                                                                                                                                                                                                       Text  \n",
       "0                                                                                                                                                                                                                                                                                                                                                                                                                                                                                                                                                                                                                                                                                                                                                                                                                                                                                                                                                                                                                       Thank you for this.  \n",
       "1                                                                                                                                                                                                                                                                                                                                                                                                                                                                                                                                                                                                                                                                                                                                                                                                                                                                                                                                                                                  That wasn't an apology, it was one excuse after another.  \n",
       "2                                                                                                                                                                                                                                                                                                                                                                                                                                                                                                                                                                                                                                                                                                                                                                                                                                                                                                                                                             Those are probably children that are trafficked in the entertainment industry  \n",
       "3                                                                                                                                                                                                                                                                                                                                                                                                                                                                                                                                                                                                                                                                                                                                                                                                                                                                                                                                                             Those are probably children that are trafficked in the entertainment industry  \n",
       "4                                                                                                                                                                                                                                                                                                                                                                                                                                                                                                                                                                                                                                                                                             Epstein and his group of elitists abused their power and saw the girls they used as nothing more than trash... but let's not go tabloid, Michael. Paedophilia is sexual attraction to prepubescent children and that doesn't describe the girls they used as their play things. \\n\\nWhat we are seeing in these 'adverts' IS for paedophiles.  \n",
       "5                                                                                                                                                                                                                                                                                                                                                                                                                                                                                                                                                                                                                                                                                                                                                                                                                                                                                                                                  The blind could see there is an evil attack, a demonic war being waged on our minds, hearts and spirits.  \n",
       "6                                                                                                                                                                                                                    Another thing I found is in one of the child ads thereâ€™s a kids drawing in the background literally depicting satan. There also a folded black satanic robe. And in the same ad, thereâ€™s balenciaga tape. Except on it balenciaga is spelt â€œbaal-enciagaâ€ with the part â€œBaalâ€ facing the camera. And ofc Baal is one of the idols they worshipped in biblical times and was known for child sacrifice. Similar to the child sacrifice we see in todays culture with this over sexualization, abortion, etc. On top of that, similarly how you translated â€œba len ci agaâ€ into Latin and it says â€œdo what you wantâ€ (a known satanic phrase) if you type â€œBaal enci agaâ€ it translates to Baal is king. Theyâ€™re literally not even hiding it anymore because of how normalized itâ€™s become  \n",
       "7                                                                                                                                                                                                                                                                                                                                                                                                                                                                                                                                                                                                                                                                                                                                                                                                                                                                                                                                                                                                            They are sorry they got caught  \n",
       "8                                                                                                                                                                                                                                                                                                                                                                                                                                                                                                                                                                                                                                                                                                                                                                                                                                                                                                                                                                  Madeleine McCann used to carry a teddy bear around with her all the time  \n",
       "9                                                                                                                                                                                                                                                                                                                                                                                                                                                                                                                                                                                                                                                                                                                                                                                                                                                                                                            Wyta. weird sex things is and has always been a right w thing not left. Also I am a centrist Iâ€™m above you all ðŸ‘ˆðŸ‘‰ ðŸ˜‚  \n",
       "10                                                                                                                                                                                                                                                                                                                                                                                                                                                                                                                                                                                                                                                                                                                                                                                                                                                                                                          Pedogate is real yet the Podesta brothers and high level government and Hollywood elites walk around with Blood on their hands.  \n",
       "11  The deplorable offenses committed by Balenciaga are NOT aligned with Satanism. In fact, their actions are directly OPPOSED to Satanic beliefs. Satanism is wildly misunderstood. Below are a few of the official tenets (or beliefs) of Satanism: \\n\\n1.) *One should strive to act with compassion and empathy toward all creatures in accordance with reason.*\\n\\n2.) *Oneâ€™s body is inviolable, subject to oneâ€™s own will alone.*\\n\\n3.) *DO NOT HARM LITTLE CHILDREN.*\\n\\nThey say â€œdo what thou wiltâ€ with the subtext being â€œas long as you donâ€™t harm anyone in the processâ€ because that would be an encroachment on another personâ€™s free will, which directly opposes the Satanic tenets.\\n\\nSatanists are passionate about bodily autonomy (which obviously includes consent), as autonomy in general is the CORE TENET of their entire belief system. \\n\\nSatanism has NEVER endorsed pedophilia, and NEVER will, because it is directly opposed to the tenets you must follow to be a practicing Satani...  \n",
       "12                                                                                                                                                                                                                                                                                                                                                                                                                                                                                                                                                                                                                                                                                                                                                                                                                                                                                                                                                                             Can we please bring back the guillotine or noose at least...  \n",
       "13                                                                                                                                                                                                                                                                                                                                                                                                                                                                                                                                                                                                                                                                                                                                                                                                                                                                                                                                        Apparently balenciaga are about to rebrand and partner withâ€¦â€¦â€¦.wait for itâ€¦â€¦Disney!!!!.  \n",
       "14                                                                                                                                                                                                                                                                                                                                                                                                                                                                                                                                                                                                                                                                                                                                                                                                                                                                                                                                          Wow! This is Satan right in front of our eyes! God is coming soonâ€¦I am so glad I am with him.  \n",
       "15                                                                                                                                                                                                                                                                                                                                                                                                                                                                                                                                                                                                                                                                                                                                                                                                                                                                                                                                                                      Too late... they have revealed their real intentions. Very Demonic.  \n",
       "16                                                                                                                                                                                                                                                                                                                                                                                                                                                                                                                                                                                                                                                                                                                                                                                                                                                                                                                                                                                                              The Devil wears Balenciaga.  \n",
       "17                                                                                                                                                                                                                                                                                                                                                                                                                                                                                                                                                                                                                                                                                                                                                                                         America has to take it where no one else thought of. Bitch it's catwalk not dogwalk for a reason. Bitch it's catwalk not furbaby. This guy in charge is gay and asexual obviously. He's been seduced by prostitutes and thinks this is art. Omg!  "
      ]
     },
     "execution_count": 7,
     "metadata": {},
     "output_type": "execute_result"
    }
   ],
   "source": [
    "train.head(18)"
   ]
  },
  {
   "cell_type": "code",
   "execution_count": 8,
   "id": "1a61098b",
   "metadata": {},
   "outputs": [
    {
     "data": {
      "text/plain": [
       "26530"
      ]
     },
     "execution_count": 8,
     "metadata": {},
     "output_type": "execute_result"
    }
   ],
   "source": [
    "train.shape[0]"
   ]
  },
  {
   "cell_type": "code",
   "execution_count": 9,
   "id": "23bd83c3",
   "metadata": {},
   "outputs": [],
   "source": [
    "##Replace 'Text' column to 'Comments'\n",
    "\n",
    "train.rename(columns = {'Text':'Comments'}, inplace = True)"
   ]
  },
  {
   "cell_type": "code",
   "execution_count": 10,
   "id": "f00ee935",
   "metadata": {},
   "outputs": [
    {
     "data": {
      "text/plain": [
       "Index(['Comment Number', 'Reply Number', 'Like Count', 'Published At',\n",
       "       'Comments'],\n",
       "      dtype='object')"
      ]
     },
     "execution_count": 10,
     "metadata": {},
     "output_type": "execute_result"
    }
   ],
   "source": [
    "train.columns"
   ]
  },
  {
   "cell_type": "markdown",
   "id": "3dedb65c",
   "metadata": {},
   "source": [
    "# 3)Comments - Descriptive Stats"
   ]
  },
  {
   "cell_type": "code",
   "execution_count": 11,
   "id": "a88e3427",
   "metadata": {},
   "outputs": [
    {
     "data": {
      "text/plain": [
       "26529"
      ]
     },
     "execution_count": 11,
     "metadata": {},
     "output_type": "execute_result"
    }
   ],
   "source": [
    "train[train.columns[-1]].count()"
   ]
  },
  {
   "cell_type": "code",
   "execution_count": 12,
   "id": "d6d7df84",
   "metadata": {},
   "outputs": [
    {
     "name": "stdout",
     "output_type": "stream",
     "text": [
      "       Comment Number  Reply Number  Like Count          Published At Comments\n",
      "17229          5640.0           NaN           0  2022-11-23T05:49:29Z      NaN\n"
     ]
    }
   ],
   "source": [
    "# Null rows detection\n",
    "\n",
    "null_rows = train[train['Comments'].isnull()]\n",
    "\n",
    "print(null_rows)"
   ]
  },
  {
   "cell_type": "code",
   "execution_count": 13,
   "id": "c3a9acfb",
   "metadata": {},
   "outputs": [],
   "source": [
    "# Drop rows with null values in 'Comments' column\n",
    "train = train.dropna(subset=['Comments'])"
   ]
  },
  {
   "cell_type": "code",
   "execution_count": 14,
   "id": "e285304b",
   "metadata": {},
   "outputs": [
    {
     "data": {
      "text/plain": [
       "(26529, 5)"
      ]
     },
     "execution_count": 14,
     "metadata": {},
     "output_type": "execute_result"
    }
   ],
   "source": [
    "train.shape"
   ]
  },
  {
   "cell_type": "code",
   "execution_count": 15,
   "id": "dd2db26e",
   "metadata": {},
   "outputs": [
    {
     "name": "stdout",
     "output_type": "stream",
     "text": [
      "Empty DataFrame\n",
      "Columns: [Comment Number, Reply Number, Like Count, Published At, Comments]\n",
      "Index: []\n"
     ]
    }
   ],
   "source": [
    "# Null rows detection\n",
    "\n",
    "null_rows = train[train['Comments'].isnull()]\n",
    "\n",
    "print(null_rows)"
   ]
  },
  {
   "cell_type": "code",
   "execution_count": 16,
   "id": "c5993e52",
   "metadata": {},
   "outputs": [],
   "source": [
    "train['Comments'] = train['Comments'].astype(str)"
   ]
  },
  {
   "cell_type": "code",
   "execution_count": 17,
   "id": "7589346c",
   "metadata": {},
   "outputs": [],
   "source": [
    "##train = train.sample(n=18000,replace=True)"
   ]
  },
  {
   "cell_type": "code",
   "execution_count": 18,
   "id": "67f33b2e",
   "metadata": {},
   "outputs": [
    {
     "data": {
      "text/plain": [
       "(26529, 5)"
      ]
     },
     "execution_count": 18,
     "metadata": {},
     "output_type": "execute_result"
    }
   ],
   "source": [
    "train.shape"
   ]
  },
  {
   "cell_type": "code",
   "execution_count": 19,
   "id": "025b5c4f",
   "metadata": {},
   "outputs": [],
   "source": [
    "### Create Length Feature\n",
    "\n",
    "train['text_length'] = train['Comments'].apply(lambda x : len(x))"
   ]
  },
  {
   "cell_type": "code",
   "execution_count": 20,
   "id": "ced293ff",
   "metadata": {},
   "outputs": [
    {
     "data": {
      "text/plain": [
       "<AxesSubplot:ylabel='Frequency'>"
      ]
     },
     "execution_count": 20,
     "metadata": {},
     "output_type": "execute_result"
    },
    {
     "data": {
      "image/png": "[encoded data removed]",
      "text/plain": [
       "<Figure size 432x288 with 1 Axes>"
      ]
     },
     "metadata": {
      "needs_background": "light"
     },
     "output_type": "display_data"
    }
   ],
   "source": [
    "train['text_length'].plot.hist(bins = 10)"
   ]
  },
  {
   "cell_type": "markdown",
   "id": "691d6616",
   "metadata": {},
   "source": [
    "# 4) Cleaning - URL & Punctuation Removal"
   ]
  },
  {
   "cell_type": "code",
   "execution_count": 21,
   "id": "e7fad471",
   "metadata": {},
   "outputs": [],
   "source": [
    "# URLs removal and extra spaces too\n",
    "\n",
    "train['Comments'] = train['Comments'].apply(lambda x: re.sub(r'https?\\S+', '', x).strip())"
   ]
  },
  {
   "cell_type": "code",
   "execution_count": 22,
   "id": "ce55fa71",
   "metadata": {},
   "outputs": [
    {
     "data": {
      "text/html": [
       "<div>\n",
       "<style scoped>\n",
       "    .dataframe tbody tr th:only-of-type {\n",
       "        vertical-align: middle;\n",
       "    }\n",
       "\n",
       "    .dataframe tbody tr th {\n",
       "        vertical-align: top;\n",
       "    }\n",
       "\n",
       "    .dataframe thead th {\n",
       "        text-align: right;\n",
       "    }\n",
       "</style>\n",
       "<table border=\"1\" class=\"dataframe\">\n",
       "  <thead>\n",
       "    <tr style=\"text-align: right;\">\n",
       "      <th></th>\n",
       "      <th>Comment Number</th>\n",
       "      <th>Reply Number</th>\n",
       "      <th>Like Count</th>\n",
       "      <th>Published At</th>\n",
       "      <th>Comments</th>\n",
       "      <th>text_length</th>\n",
       "    </tr>\n",
       "  </thead>\n",
       "  <tbody>\n",
       "    <tr>\n",
       "      <th>0</th>\n",
       "      <td>1.0</td>\n",
       "      <td>NaN</td>\n",
       "      <td>0</td>\n",
       "      <td>2023-02-24T21:49:40Z</td>\n",
       "      <td>Thank you for this.</td>\n",
       "      <td>19</td>\n",
       "    </tr>\n",
       "    <tr>\n",
       "      <th>1</th>\n",
       "      <td>2.0</td>\n",
       "      <td>NaN</td>\n",
       "      <td>0</td>\n",
       "      <td>2023-02-24T18:56:11Z</td>\n",
       "      <td>That wasn't an apology, it was one excuse after another.</td>\n",
       "      <td>56</td>\n",
       "    </tr>\n",
       "    <tr>\n",
       "      <th>2</th>\n",
       "      <td>3.0</td>\n",
       "      <td>NaN</td>\n",
       "      <td>0</td>\n",
       "      <td>2023-02-23T00:40:54Z</td>\n",
       "      <td>Those are probably children that are trafficked in the entertainment industry</td>\n",
       "      <td>77</td>\n",
       "    </tr>\n",
       "    <tr>\n",
       "      <th>3</th>\n",
       "      <td>4.0</td>\n",
       "      <td>NaN</td>\n",
       "      <td>0</td>\n",
       "      <td>2023-02-23T00:40:49Z</td>\n",
       "      <td>Those are probably children that are trafficked in the entertainment industry</td>\n",
       "      <td>77</td>\n",
       "    </tr>\n",
       "    <tr>\n",
       "      <th>4</th>\n",
       "      <td>5.0</td>\n",
       "      <td>NaN</td>\n",
       "      <td>0</td>\n",
       "      <td>2023-02-19T13:26:47Z</td>\n",
       "      <td>Epstein and his group of elitists abused their power and saw the girls they used as nothing more than trash... but let's not go tabloid, Michael. Paedophilia is sexual attraction to prepubescent children and that doesn't describe the girls they used as their play things. \\n\\nWhat we are seeing in these 'adverts' IS for paedophiles.</td>\n",
       "      <td>331</td>\n",
       "    </tr>\n",
       "    <tr>\n",
       "      <th>5</th>\n",
       "      <td>6.0</td>\n",
       "      <td>NaN</td>\n",
       "      <td>0</td>\n",
       "      <td>2023-02-19T05:21:41Z</td>\n",
       "      <td>The blind could see there is an evil attack, a demonic war being waged on our minds, hearts and spirits.</td>\n",
       "      <td>104</td>\n",
       "    </tr>\n",
       "    <tr>\n",
       "      <th>6</th>\n",
       "      <td>7.0</td>\n",
       "      <td>NaN</td>\n",
       "      <td>0</td>\n",
       "      <td>2023-02-18T20:09:59Z</td>\n",
       "      <td>Another thing I found is in one of the child ads thereâ€™s a kids drawing in the background literally depicting satan. There also a folded black satanic robe. And in the same ad, thereâ€™s balenciaga tape. Except on it balenciaga is spelt â€œbaal-enciagaâ€ with the part â€œBaalâ€ facing the camera. And ofc Baal is one of the idols they worshipped in biblical times and was known for child sacrifice. Similar to the child sacrifice we see in todays culture with this over sexualization, abortion, etc. On top of that, similarly how you translated â€œba len ci agaâ€ into Latin and it says â€œdo what you wantâ€ (a known satanic phrase) if you type â€œBaal enci agaâ€ it translates to Baal is king. Theyâ€™re literally not even hiding it anymore because of how normalized itâ€™s become</td>\n",
       "      <td>790</td>\n",
       "    </tr>\n",
       "    <tr>\n",
       "      <th>7</th>\n",
       "      <td>8.0</td>\n",
       "      <td>NaN</td>\n",
       "      <td>0</td>\n",
       "      <td>2023-02-18T14:54:31Z</td>\n",
       "      <td>They are sorry they got caught</td>\n",
       "      <td>30</td>\n",
       "    </tr>\n",
       "    <tr>\n",
       "      <th>8</th>\n",
       "      <td>9.0</td>\n",
       "      <td>NaN</td>\n",
       "      <td>0</td>\n",
       "      <td>2023-02-17T23:17:16Z</td>\n",
       "      <td>Madeleine McCann used to carry a teddy bear around with her all the time</td>\n",
       "      <td>72</td>\n",
       "    </tr>\n",
       "    <tr>\n",
       "      <th>9</th>\n",
       "      <td>10.0</td>\n",
       "      <td>NaN</td>\n",
       "      <td>0</td>\n",
       "      <td>2023-02-17T19:54:57Z</td>\n",
       "      <td>Wyta. weird sex things is and has always been a right w thing not left. Also I am a centrist Iâ€™m above you all ðŸ‘ˆðŸ‘‰ ðŸ˜‚</td>\n",
       "      <td>126</td>\n",
       "    </tr>\n",
       "  </tbody>\n",
       "</table>\n",
       "</div>"
      ],
      "text/plain": [
       "   Comment Number  Reply Number  Like Count          Published At  \\\n",
       "0             1.0           NaN           0  2023-02-24T21:49:40Z   \n",
       "1             2.0           NaN           0  2023-02-24T18:56:11Z   \n",
       "2             3.0           NaN           0  2023-02-23T00:40:54Z   \n",
       "3             4.0           NaN           0  2023-02-23T00:40:49Z   \n",
       "4             5.0           NaN           0  2023-02-19T13:26:47Z   \n",
       "5             6.0           NaN           0  2023-02-19T05:21:41Z   \n",
       "6             7.0           NaN           0  2023-02-18T20:09:59Z   \n",
       "7             8.0           NaN           0  2023-02-18T14:54:31Z   \n",
       "8             9.0           NaN           0  2023-02-17T23:17:16Z   \n",
       "9            10.0           NaN           0  2023-02-17T19:54:57Z   \n",
       "\n",
       "                                                                                                                                                                                                                                                                                                                                                                                                                                                                                                                                                                                                                                                                                                                                                                                                                 Comments  \\\n",
       "0                                                                                                                                                                                                                                                                                                                                                                                                                                                                                                                                                                                                                                                                                                                                                                                                     Thank you for this.   \n",
       "1                                                                                                                                                                                                                                                                                                                                                                                                                                                                                                                                                                                                                                                                                                                                                                That wasn't an apology, it was one excuse after another.   \n",
       "2                                                                                                                                                                                                                                                                                                                                                                                                                                                                                                                                                                                                                                                                                                                                           Those are probably children that are trafficked in the entertainment industry   \n",
       "3                                                                                                                                                                                                                                                                                                                                                                                                                                                                                                                                                                                                                                                                                                                                           Those are probably children that are trafficked in the entertainment industry   \n",
       "4                                                                                                                                                                                                                                                                                                                                                                                                                                                                           Epstein and his group of elitists abused their power and saw the girls they used as nothing more than trash... but let's not go tabloid, Michael. Paedophilia is sexual attraction to prepubescent children and that doesn't describe the girls they used as their play things. \\n\\nWhat we are seeing in these 'adverts' IS for paedophiles.   \n",
       "5                                                                                                                                                                                                                                                                                                                                                                                                                                                                                                                                                                                                                                                                                                                The blind could see there is an evil attack, a demonic war being waged on our minds, hearts and spirits.   \n",
       "6  Another thing I found is in one of the child ads thereâ€™s a kids drawing in the background literally depicting satan. There also a folded black satanic robe. And in the same ad, thereâ€™s balenciaga tape. Except on it balenciaga is spelt â€œbaal-enciagaâ€ with the part â€œBaalâ€ facing the camera. And ofc Baal is one of the idols they worshipped in biblical times and was known for child sacrifice. Similar to the child sacrifice we see in todays culture with this over sexualization, abortion, etc. On top of that, similarly how you translated â€œba len ci agaâ€ into Latin and it says â€œdo what you wantâ€ (a known satanic phrase) if you type â€œBaal enci agaâ€ it translates to Baal is king. Theyâ€™re literally not even hiding it anymore because of how normalized itâ€™s become   \n",
       "7                                                                                                                                                                                                                                                                                                                                                                                                                                                                                                                                                                                                                                                                                                                                                                                          They are sorry they got caught   \n",
       "8                                                                                                                                                                                                                                                                                                                                                                                                                                                                                                                                                                                                                                                                                                                                                Madeleine McCann used to carry a teddy bear around with her all the time   \n",
       "9                                                                                                                                                                                                                                                                                                                                                                                                                                                                                                                                                                                                                                                                                          Wyta. weird sex things is and has always been a right w thing not left. Also I am a centrist Iâ€™m above you all ðŸ‘ˆðŸ‘‰ ðŸ˜‚   \n",
       "\n",
       "   text_length  \n",
       "0           19  \n",
       "1           56  \n",
       "2           77  \n",
       "3           77  \n",
       "4          331  \n",
       "5          104  \n",
       "6          790  \n",
       "7           30  \n",
       "8           72  \n",
       "9          126  "
      ]
     },
     "execution_count": 22,
     "metadata": {},
     "output_type": "execute_result"
    }
   ],
   "source": [
    "train.head(10)"
   ]
  },
  {
   "cell_type": "code",
   "execution_count": 23,
   "id": "86aff4eb",
   "metadata": {},
   "outputs": [],
   "source": [
    "##Remove punctuation\n",
    "\n",
    "import string\n",
    "def remove_punctuations(text):\n",
    "    for punctuation in string.punctuation:\n",
    "        text = text.replace(punctuation, '')\n",
    "    return text"
   ]
  },
  {
   "cell_type": "code",
   "execution_count": 24,
   "id": "fc4ce243",
   "metadata": {},
   "outputs": [
    {
     "data": {
      "text/plain": [
       "0                                                                                                                                                                                                                                                                                                                        Thank you for this\n",
       "1                                                                                                                                                                                                                                                                                     That wasnt an apology it was one excuse after another\n",
       "2                                                                                                                                                                                                                                                             Those are probably children that are trafficked in the entertainment industry\n",
       "3                                                                                                                                                                                                                                                             Those are probably children that are trafficked in the entertainment industry\n",
       "4        Epstein and his group of elitists abused their power and saw the girls they used as nothing more than trash but lets not go tabloid Michael Paedophilia is sexual attraction to prepubescent children and that doesnt describe the girls they used as their play things \\n\\nWhat we are seeing in these adverts IS for paedophiles\n",
       "                                                                                                                                                                        ...                                                                                                                                                                \n",
       "26525                                                                                                                                  LOL Dolls are creepy too I saw a video in the past when you put them in cold water then lingerie would appear on the dolls They got flack so idk if they changed it or not Very disgusting I hope so\n",
       "26526                                                                                             Blaire you are beautiful you should NEVER be a billboard for a brand  If you must find a small designer who is just getting started who has values that align with yours maybe you will be the person who pushes them into the mainstream\n",
       "26527                                             If a person sees what is under the rug here and does not denounce it they are part of the problem  It is not a RL thing it is an essential human rights issue children should be protected by all adults they cannot give consent their innocence should be protected as long as possible\n",
       "26528                                                                                                                        Again GIRLYES When someone tells you who they are absolutely believe them Im seeing a lot of it that in the comments Some good some I will believe what they are telling Keep up the good works Im here for it\n",
       "26529                                                                                                                                   Omg Im too broke to buy fashion like this I dont read fashion magazines Omg I knew it was evil This is worse than I thought And Nicole Kidman posted with Belenciaga stuff AFTER we called them out\n",
       "Name: Comments, Length: 26529, dtype: object"
      ]
     },
     "execution_count": 24,
     "metadata": {},
     "output_type": "execute_result"
    }
   ],
   "source": [
    "train['Comments'].apply(remove_punctuations)"
   ]
  },
  {
   "cell_type": "code",
   "execution_count": 25,
   "id": "01d67e19",
   "metadata": {},
   "outputs": [],
   "source": [
    "# Commit to Table\n",
    "train['Comments'] = train['Comments'].apply(remove_punctuations)"
   ]
  },
  {
   "cell_type": "code",
   "execution_count": 26,
   "id": "68699145",
   "metadata": {},
   "outputs": [
    {
     "data": {
      "text/plain": [
       "<AxesSubplot:ylabel='Frequency'>"
      ]
     },
     "execution_count": 26,
     "metadata": {},
     "output_type": "execute_result"
    },
    {
     "data": {
      "image/png": "[encoded data removed]",
      "text/plain": [
       "<Figure size 432x288 with 1 Axes>"
      ]
     },
     "metadata": {
      "needs_background": "light"
     },
     "output_type": "display_data"
    }
   ],
   "source": [
    "train['text_length'].plot.hist(bins = 10)"
   ]
  },
  {
   "cell_type": "markdown",
   "id": "594bb519",
   "metadata": {},
   "source": [
    "# 5) Cleaning - lower case"
   ]
  },
  {
   "cell_type": "code",
   "execution_count": 27,
   "id": "76e5bdb7",
   "metadata": {},
   "outputs": [
    {
     "data": {
      "text/plain": [
       "0                                                                                                                                                                                                                                                                                                                        thank you for this\n",
       "1                                                                                                                                                                                                                                                                                     that wasnt an apology it was one excuse after another\n",
       "2                                                                                                                                                                                                                                                             those are probably children that are trafficked in the entertainment industry\n",
       "3                                                                                                                                                                                                                                                             those are probably children that are trafficked in the entertainment industry\n",
       "4        epstein and his group of elitists abused their power and saw the girls they used as nothing more than trash but lets not go tabloid michael paedophilia is sexual attraction to prepubescent children and that doesnt describe the girls they used as their play things \\n\\nwhat we are seeing in these adverts is for paedophiles\n",
       "                                                                                                                                                                        ...                                                                                                                                                                \n",
       "26525                                                                                                                                  lol dolls are creepy too i saw a video in the past when you put them in cold water then lingerie would appear on the dolls they got flack so idk if they changed it or not very disgusting i hope so\n",
       "26526                                                                                             blaire you are beautiful you should never be a billboard for a brand  if you must find a small designer who is just getting started who has values that align with yours maybe you will be the person who pushes them into the mainstream\n",
       "26527                                             if a person sees what is under the rug here and does not denounce it they are part of the problem  it is not a rl thing it is an essential human rights issue children should be protected by all adults they cannot give consent their innocence should be protected as long as possible\n",
       "26528                                                                                                                        again girlyes when someone tells you who they are absolutely believe them im seeing a lot of it that in the comments some good some i will believe what they are telling keep up the good works im here for it\n",
       "26529                                                                                                                                   omg im too broke to buy fashion like this i dont read fashion magazines omg i knew it was evil this is worse than i thought and nicole kidman posted with belenciaga stuff after we called them out\n",
       "Name: Comments, Length: 26529, dtype: object"
      ]
     },
     "execution_count": 27,
     "metadata": {},
     "output_type": "execute_result"
    }
   ],
   "source": [
    "# Showing only\n",
    "train['Comments'].apply(lambda x: x.lower())"
   ]
  },
  {
   "cell_type": "code",
   "execution_count": 28,
   "id": "3a5f70ee",
   "metadata": {},
   "outputs": [],
   "source": [
    "# Commit to Table\n",
    "train['Comments'] = train['Comments'].apply(lambda x: x.lower())"
   ]
  },
  {
   "cell_type": "markdown",
   "id": "89d0c11c",
   "metadata": {},
   "source": [
    "# 6) Tweet tokenization"
   ]
  },
  {
   "cell_type": "code",
   "execution_count": 29,
   "id": "44b59302",
   "metadata": {},
   "outputs": [],
   "source": [
    "import nltk\n",
    "from nltk.tokenize import TweetTokenizer\n",
    "\n",
    "# Instantiate the TweetTokenizer\n",
    "tokenizer = TweetTokenizer()\n",
    "\n",
    "# Define a function to tokenize a tweet\n",
    "def tokenize_tweet(tweet):\n",
    "    # Use the TweetTokenizer to tokenize the tweet\n",
    "    tokens = tokenizer.tokenize(tweet)\n",
    "    return tokens\n",
    "\n",
    "# Apply the tokenization function to the 'Comments' column\n",
    "train['Tokens'] = train['Comments'].apply(tokenize_tweet)"
   ]
  },
  {
   "cell_type": "code",
   "execution_count": 30,
   "id": "ea5706be",
   "metadata": {},
   "outputs": [
    {
     "data": {
      "text/html": [
       "<div>\n",
       "<style scoped>\n",
       "    .dataframe tbody tr th:only-of-type {\n",
       "        vertical-align: middle;\n",
       "    }\n",
       "\n",
       "    .dataframe tbody tr th {\n",
       "        vertical-align: top;\n",
       "    }\n",
       "\n",
       "    .dataframe thead th {\n",
       "        text-align: right;\n",
       "    }\n",
       "</style>\n",
       "<table border=\"1\" class=\"dataframe\">\n",
       "  <thead>\n",
       "    <tr style=\"text-align: right;\">\n",
       "      <th></th>\n",
       "      <th>Comment Number</th>\n",
       "      <th>Reply Number</th>\n",
       "      <th>Like Count</th>\n",
       "      <th>Published At</th>\n",
       "      <th>Comments</th>\n",
       "      <th>text_length</th>\n",
       "      <th>Tokens</th>\n",
       "    </tr>\n",
       "  </thead>\n",
       "  <tbody>\n",
       "    <tr>\n",
       "      <th>0</th>\n",
       "      <td>1.0</td>\n",
       "      <td>NaN</td>\n",
       "      <td>0</td>\n",
       "      <td>2023-02-24T21:49:40Z</td>\n",
       "      <td>thank you for this</td>\n",
       "      <td>19</td>\n",
       "      <td>[thank, you, for, this]</td>\n",
       "    </tr>\n",
       "    <tr>\n",
       "      <th>1</th>\n",
       "      <td>2.0</td>\n",
       "      <td>NaN</td>\n",
       "      <td>0</td>\n",
       "      <td>2023-02-24T18:56:11Z</td>\n",
       "      <td>that wasnt an apology it was one excuse after another</td>\n",
       "      <td>56</td>\n",
       "      <td>[that, wasnt, an, apology, it, was, one, excuse, after, another]</td>\n",
       "    </tr>\n",
       "    <tr>\n",
       "      <th>2</th>\n",
       "      <td>3.0</td>\n",
       "      <td>NaN</td>\n",
       "      <td>0</td>\n",
       "      <td>2023-02-23T00:40:54Z</td>\n",
       "      <td>those are probably children that are trafficked in the entertainment industry</td>\n",
       "      <td>77</td>\n",
       "      <td>[those, are, probably, children, that, are, trafficked, in, the, entertainment, industry]</td>\n",
       "    </tr>\n",
       "    <tr>\n",
       "      <th>3</th>\n",
       "      <td>4.0</td>\n",
       "      <td>NaN</td>\n",
       "      <td>0</td>\n",
       "      <td>2023-02-23T00:40:49Z</td>\n",
       "      <td>those are probably children that are trafficked in the entertainment industry</td>\n",
       "      <td>77</td>\n",
       "      <td>[those, are, probably, children, that, are, trafficked, in, the, entertainment, industry]</td>\n",
       "    </tr>\n",
       "    <tr>\n",
       "      <th>4</th>\n",
       "      <td>5.0</td>\n",
       "      <td>NaN</td>\n",
       "      <td>0</td>\n",
       "      <td>2023-02-19T13:26:47Z</td>\n",
       "      <td>epstein and his group of elitists abused their power and saw the girls they used as nothing more than trash but lets not go tabloid michael paedophilia is sexual attraction to prepubescent children and that doesnt describe the girls they used as their play things \\n\\nwhat we are seeing in these adverts is for paedophiles</td>\n",
       "      <td>331</td>\n",
       "      <td>[epstein, and, his, group, of, elitists, abused, their, power, and, saw, the, girls, they, used, as, nothing, more, than, trash, but, lets, not, go, tabloid, michael, paedophilia, is, sexual, attraction, to, prepubescent, children, and, that, doesnt, describe, the, girls, they, used, as, their, play, things, what, we, are, seeing, in, these, adverts, is, for, paedophiles]</td>\n",
       "    </tr>\n",
       "    <tr>\n",
       "      <th>5</th>\n",
       "      <td>6.0</td>\n",
       "      <td>NaN</td>\n",
       "      <td>0</td>\n",
       "      <td>2023-02-19T05:21:41Z</td>\n",
       "      <td>the blind could see there is an evil attack a demonic war being waged on our minds hearts and spirits</td>\n",
       "      <td>104</td>\n",
       "      <td>[the, blind, could, see, there, is, an, evil, attack, a, demonic, war, being, waged, on, our, minds, hearts, and, spirits]</td>\n",
       "    </tr>\n",
       "    <tr>\n",
       "      <th>6</th>\n",
       "      <td>7.0</td>\n",
       "      <td>NaN</td>\n",
       "      <td>0</td>\n",
       "      <td>2023-02-18T20:09:59Z</td>\n",
       "      <td>another thing i found is in one of the child ads thereâ€™s a kids drawing in the background literally depicting satan there also a folded black satanic robe and in the same ad thereâ€™s balenciaga tape except on it balenciaga is spelt â€œbaalenciagaâ€ with the part â€œbaalâ€ facing the camera and ofc baal is one of the idols they worshipped in biblical times and was known for child sacrifice similar to the child sacrifice we see in todays culture with this over sexualization abortion etc on top of that similarly how you translated â€œba len ci agaâ€ into latin and it says â€œdo what you wantâ€ a known satanic phrase if you type â€œbaal enci agaâ€ it translates to baal is king theyâ€™re literally not even hiding it anymore because of how normalized itâ€™s become</td>\n",
       "      <td>790</td>\n",
       "      <td>[another, thing, i, found, is, in, one, of, the, child, ads, thereâ, €, ™, s, a, kids, drawing, in, the, background, literally, depicting, satan, there, also, a, folded, black, satanic, robe, and, in, the, same, ad, thereâ, €, ™, s, balenciaga, tape, except, on, it, balenciaga, is, spelt, â, €, œbaalenciagaâ, €, , with, the, part, â, €, œbaalâ, €, , facing, the, camera, and, ofc, baal, is, one, of, the, idols, they, worshipped, in, biblical, times, and, was, known, for, child, sacrifice, similar, to, the, child, sacrifice, we, see, in, todays, culture, with, this, over, sexualization, abortion, etc, on, ...]</td>\n",
       "    </tr>\n",
       "    <tr>\n",
       "      <th>7</th>\n",
       "      <td>8.0</td>\n",
       "      <td>NaN</td>\n",
       "      <td>0</td>\n",
       "      <td>2023-02-18T14:54:31Z</td>\n",
       "      <td>they are sorry they got caught</td>\n",
       "      <td>30</td>\n",
       "      <td>[they, are, sorry, they, got, caught]</td>\n",
       "    </tr>\n",
       "    <tr>\n",
       "      <th>8</th>\n",
       "      <td>9.0</td>\n",
       "      <td>NaN</td>\n",
       "      <td>0</td>\n",
       "      <td>2023-02-17T23:17:16Z</td>\n",
       "      <td>madeleine mccann used to carry a teddy bear around with her all the time</td>\n",
       "      <td>72</td>\n",
       "      <td>[madeleine, mccann, used, to, carry, a, teddy, bear, around, with, her, all, the, time]</td>\n",
       "    </tr>\n",
       "    <tr>\n",
       "      <th>9</th>\n",
       "      <td>10.0</td>\n",
       "      <td>NaN</td>\n",
       "      <td>0</td>\n",
       "      <td>2023-02-17T19:54:57Z</td>\n",
       "      <td>wyta weird sex things is and has always been a right w thing not left also i am a centrist iâ€™m above you all ðÿ‘ˆðÿ‘‰ ðÿ˜‚</td>\n",
       "      <td>126</td>\n",
       "      <td>[wyta, weird, sex, things, is, and, has, always, been, a, right, w, thing, not, left, also, i, am, a, centrist, iâ, €, ™, m, above, you, all, ðÿ, ‘, ˆðÿ, ‘, ‰, ðÿ, ˜, ‚]</td>\n",
       "    </tr>\n",
       "    <tr>\n",
       "      <th>10</th>\n",
       "      <td>11.0</td>\n",
       "      <td>NaN</td>\n",
       "      <td>0</td>\n",
       "      <td>2023-02-17T14:16:10Z</td>\n",
       "      <td>pedogate is real yet the podesta brothers and high level government and hollywood elites walk around with blood on their hands</td>\n",
       "      <td>127</td>\n",
       "      <td>[pedogate, is, real, yet, the, podesta, brothers, and, high, level, government, and, hollywood, elites, walk, around, with, blood, on, their, hands]</td>\n",
       "    </tr>\n",
       "    <tr>\n",
       "      <th>11</th>\n",
       "      <td>12.0</td>\n",
       "      <td>NaN</td>\n",
       "      <td>1</td>\n",
       "      <td>2023-02-17T02:50:18Z</td>\n",
       "      <td>the deplorable offenses committed by balenciaga are not aligned with satanism in fact their actions are directly opposed to satanic beliefs satanism is wildly misunderstood below are a few of the official tenets or beliefs of satanism \\n\\n1 one should strive to act with compassion and empathy toward all creatures in accordance with reason\\n\\n2 oneâ€™s body is inviolable subject to oneâ€™s own will alone\\n\\n3 do not harm little children\\n\\nthey say â€œdo what thou wiltâ€ with the subtext being â€œas long as you donâ€™t harm anyone in the processâ€ because that would be an encroachment on another personâ€™s free will which directly opposes the satanic tenets\\n\\nsatanists are passionate about bodily autonomy which obviously includes consent as autonomy in general is the core tenet of their entire belief system \\n\\nsatanism has never endorsed pedophilia and never will because it is directly opposed to the tenets you must follow to be a practicing satanist \\n\\nlastly satanism is not t...</td>\n",
       "      <td>1502</td>\n",
       "      <td>[the, deplorable, offenses, committed, by, balenciaga, are, not, aligned, with, satanism, in, fact, their, actions, are, directly, opposed, to, satanic, beliefs, satanism, is, wildly, misunderstood, below, are, a, few, of, the, official, tenets, or, beliefs, of, satanism, 1, one, should, strive, to, act, with, compassion, and, empathy, toward, all, creatures, in, accordance, with, reason, 2, oneâ, €, ™, s, body, is, inviolable, subject, to, oneâ, €, ™, s, own, will, alone, 3, do, not, harm, little, children, they, say, â, €, œdo, what, thou, wiltâ, €, , with, the, subtext, being, â, €, œas, long, as, you, donâ, €, ™, ...]</td>\n",
       "    </tr>\n",
       "    <tr>\n",
       "      <th>12</th>\n",
       "      <td>13.0</td>\n",
       "      <td>NaN</td>\n",
       "      <td>0</td>\n",
       "      <td>2023-02-16T00:25:11Z</td>\n",
       "      <td>can we please bring back the guillotine or noose at least</td>\n",
       "      <td>60</td>\n",
       "      <td>[can, we, please, bring, back, the, guillotine, or, noose, at, least]</td>\n",
       "    </tr>\n",
       "    <tr>\n",
       "      <th>13</th>\n",
       "      <td>14.0</td>\n",
       "      <td>NaN</td>\n",
       "      <td>0</td>\n",
       "      <td>2023-02-15T00:44:55Z</td>\n",
       "      <td>apparently balenciaga are about to rebrand and partner withâ€¦â€¦â€¦wait for itâ€¦â€¦disney</td>\n",
       "      <td>97</td>\n",
       "      <td>[apparently, balenciaga, are, about, to, rebrand, and, partner, withâ, €, ¦, â, €, ¦, â, €, ¦, wait, for, itâ, €, ¦, â, €, ¦, disney]</td>\n",
       "    </tr>\n",
       "    <tr>\n",
       "      <th>14</th>\n",
       "      <td>15.0</td>\n",
       "      <td>NaN</td>\n",
       "      <td>0</td>\n",
       "      <td>2023-02-14T02:49:54Z</td>\n",
       "      <td>wow this is satan right in front of our eyes god is coming soonâ€¦i am so glad i am with him</td>\n",
       "      <td>95</td>\n",
       "      <td>[wow, this, is, satan, right, in, front, of, our, eyes, god, is, coming, soonâ, €, ¦, i, am, so, glad, i, am, with, him]</td>\n",
       "    </tr>\n",
       "    <tr>\n",
       "      <th>15</th>\n",
       "      <td>16.0</td>\n",
       "      <td>NaN</td>\n",
       "      <td>0</td>\n",
       "      <td>2023-02-14T01:44:41Z</td>\n",
       "      <td>too late they have revealed their real intentions very demonic</td>\n",
       "      <td>67</td>\n",
       "      <td>[too, late, they, have, revealed, their, real, intentions, very, demonic]</td>\n",
       "    </tr>\n",
       "    <tr>\n",
       "      <th>16</th>\n",
       "      <td>17.0</td>\n",
       "      <td>NaN</td>\n",
       "      <td>0</td>\n",
       "      <td>2023-02-13T22:28:00Z</td>\n",
       "      <td>the devil wears balenciaga</td>\n",
       "      <td>27</td>\n",
       "      <td>[the, devil, wears, balenciaga]</td>\n",
       "    </tr>\n",
       "    <tr>\n",
       "      <th>17</th>\n",
       "      <td>18.0</td>\n",
       "      <td>NaN</td>\n",
       "      <td>0</td>\n",
       "      <td>2023-02-13T21:37:11Z</td>\n",
       "      <td>america has to take it where no one else thought of bitch its catwalk not dogwalk for a reason bitch its catwalk not furbaby this guy in charge is gay and asexual obviously hes been seduced by prostitutes and thinks this is art omg</td>\n",
       "      <td>240</td>\n",
       "      <td>[america, has, to, take, it, where, no, one, else, thought, of, bitch, its, catwalk, not, dogwalk, for, a, reason, bitch, its, catwalk, not, furbaby, this, guy, in, charge, is, gay, and, asexual, obviously, hes, been, seduced, by, prostitutes, and, thinks, this, is, art, omg]</td>\n",
       "    </tr>\n",
       "    <tr>\n",
       "      <th>18</th>\n",
       "      <td>19.0</td>\n",
       "      <td>NaN</td>\n",
       "      <td>0</td>\n",
       "      <td>2023-02-13T11:36:50Z</td>\n",
       "      <td>i agreed  with you balenciaga just try to say that they dont haha of course who would admit that  their names will be ruined of course there good at this  kind of lies</td>\n",
       "      <td>169</td>\n",
       "      <td>[i, agreed, with, you, balenciaga, just, try, to, say, that, they, dont, haha, of, course, who, would, admit, that, their, names, will, be, ruined, of, course, there, good, at, this, kind, of, lies]</td>\n",
       "    </tr>\n",
       "    <tr>\n",
       "      <th>19</th>\n",
       "      <td>20.0</td>\n",
       "      <td>NaN</td>\n",
       "      <td>0</td>\n",
       "      <td>2023-02-11T16:40:55Z</td>\n",
       "      <td>theyre not even aorry</td>\n",
       "      <td>22</td>\n",
       "      <td>[theyre, not, even, aorry]</td>\n",
       "    </tr>\n",
       "  </tbody>\n",
       "</table>\n",
       "</div>"
      ],
      "text/plain": [
       "    Comment Number  Reply Number  Like Count          Published At  \\\n",
       "0              1.0           NaN           0  2023-02-24T21:49:40Z   \n",
       "1              2.0           NaN           0  2023-02-24T18:56:11Z   \n",
       "2              3.0           NaN           0  2023-02-23T00:40:54Z   \n",
       "3              4.0           NaN           0  2023-02-23T00:40:49Z   \n",
       "4              5.0           NaN           0  2023-02-19T13:26:47Z   \n",
       "5              6.0           NaN           0  2023-02-19T05:21:41Z   \n",
       "6              7.0           NaN           0  2023-02-18T20:09:59Z   \n",
       "7              8.0           NaN           0  2023-02-18T14:54:31Z   \n",
       "8              9.0           NaN           0  2023-02-17T23:17:16Z   \n",
       "9             10.0           NaN           0  2023-02-17T19:54:57Z   \n",
       "10            11.0           NaN           0  2023-02-17T14:16:10Z   \n",
       "11            12.0           NaN           1  2023-02-17T02:50:18Z   \n",
       "12            13.0           NaN           0  2023-02-16T00:25:11Z   \n",
       "13            14.0           NaN           0  2023-02-15T00:44:55Z   \n",
       "14            15.0           NaN           0  2023-02-14T02:49:54Z   \n",
       "15            16.0           NaN           0  2023-02-14T01:44:41Z   \n",
       "16            17.0           NaN           0  2023-02-13T22:28:00Z   \n",
       "17            18.0           NaN           0  2023-02-13T21:37:11Z   \n",
       "18            19.0           NaN           0  2023-02-13T11:36:50Z   \n",
       "19            20.0           NaN           0  2023-02-11T16:40:55Z   \n",
       "\n",
       "                                                                                                                                                                                                                                                                                                                                                                                                                                                                                                                                                                                                                                                                                                                                                                                                                                                                                                                                                                                                                                   Comments  \\\n",
       "0                                                                                                                                                                                                                                                                                                                                                                                                                                                                                                                                                                                                                                                                                                                                                                                                                                                                                                                                                                                                                        thank you for this   \n",
       "1                                                                                                                                                                                                                                                                                                                                                                                                                                                                                                                                                                                                                                                                                                                                                                                                                                                                                                                                                                                     that wasnt an apology it was one excuse after another   \n",
       "2                                                                                                                                                                                                                                                                                                                                                                                                                                                                                                                                                                                                                                                                                                                                                                                                                                                                                                                                                             those are probably children that are trafficked in the entertainment industry   \n",
       "3                                                                                                                                                                                                                                                                                                                                                                                                                                                                                                                                                                                                                                                                                                                                                                                                                                                                                                                                                             those are probably children that are trafficked in the entertainment industry   \n",
       "4                                                                                                                                                                                                                                                                                                                                                                                                                                                                                                                                                                                                                                                                                                        epstein and his group of elitists abused their power and saw the girls they used as nothing more than trash but lets not go tabloid michael paedophilia is sexual attraction to prepubescent children and that doesnt describe the girls they used as their play things \\n\\nwhat we are seeing in these adverts is for paedophiles   \n",
       "5                                                                                                                                                                                                                                                                                                                                                                                                                                                                                                                                                                                                                                                                                                                                                                                                                                                                                                                                     the blind could see there is an evil attack a demonic war being waged on our minds hearts and spirits   \n",
       "6                                                                                                                                                                                                                                  another thing i found is in one of the child ads thereâ€™s a kids drawing in the background literally depicting satan there also a folded black satanic robe and in the same ad thereâ€™s balenciaga tape except on it balenciaga is spelt â€œbaalenciagaâ€ with the part â€œbaalâ€ facing the camera and ofc baal is one of the idols they worshipped in biblical times and was known for child sacrifice similar to the child sacrifice we see in todays culture with this over sexualization abortion etc on top of that similarly how you translated â€œba len ci agaâ€ into latin and it says â€œdo what you wantâ€ a known satanic phrase if you type â€œbaal enci agaâ€ it translates to baal is king theyâ€™re literally not even hiding it anymore because of how normalized itâ€™s become   \n",
       "7                                                                                                                                                                                                                                                                                                                                                                                                                                                                                                                                                                                                                                                                                                                                                                                                                                                                                                                                                                                                            they are sorry they got caught   \n",
       "8                                                                                                                                                                                                                                                                                                                                                                                                                                                                                                                                                                                                                                                                                                                                                                                                                                                                                                                                                                  madeleine mccann used to carry a teddy bear around with her all the time   \n",
       "9                                                                                                                                                                                                                                                                                                                                                                                                                                                                                                                                                                                                                                                                                                                                                                                                                                                                                                              wyta weird sex things is and has always been a right w thing not left also i am a centrist iâ€™m above you all ðÿ‘ˆðÿ‘‰ ðÿ˜‚   \n",
       "10                                                                                                                                                                                                                                                                                                                                                                                                                                                                                                                                                                                                                                                                                                                                                                                                                                                                                                           pedogate is real yet the podesta brothers and high level government and hollywood elites walk around with blood on their hands   \n",
       "11  the deplorable offenses committed by balenciaga are not aligned with satanism in fact their actions are directly opposed to satanic beliefs satanism is wildly misunderstood below are a few of the official tenets or beliefs of satanism \\n\\n1 one should strive to act with compassion and empathy toward all creatures in accordance with reason\\n\\n2 oneâ€™s body is inviolable subject to oneâ€™s own will alone\\n\\n3 do not harm little children\\n\\nthey say â€œdo what thou wiltâ€ with the subtext being â€œas long as you donâ€™t harm anyone in the processâ€ because that would be an encroachment on another personâ€™s free will which directly opposes the satanic tenets\\n\\nsatanists are passionate about bodily autonomy which obviously includes consent as autonomy in general is the core tenet of their entire belief system \\n\\nsatanism has never endorsed pedophilia and never will because it is directly opposed to the tenets you must follow to be a practicing satanist \\n\\nlastly satanism is not t...   \n",
       "12                                                                                                                                                                                                                                                                                                                                                                                                                                                                                                                                                                                                                                                                                                                                                                                                                                                                                                                                                                                can we please bring back the guillotine or noose at least   \n",
       "13                                                                                                                                                                                                                                                                                                                                                                                                                                                                                                                                                                                                                                                                                                                                                                                                                                                                                                                                              apparently balenciaga are about to rebrand and partner withâ€¦â€¦â€¦wait for itâ€¦â€¦disney   \n",
       "14                                                                                                                                                                                                                                                                                                                                                                                                                                                                                                                                                                                                                                                                                                                                                                                                                                                                                                                                             wow this is satan right in front of our eyes god is coming soonâ€¦i am so glad i am with him   \n",
       "15                                                                                                                                                                                                                                                                                                                                                                                                                                                                                                                                                                                                                                                                                                                                                                                                                                                                                                                                                                           too late they have revealed their real intentions very demonic   \n",
       "16                                                                                                                                                                                                                                                                                                                                                                                                                                                                                                                                                                                                                                                                                                                                                                                                                                                                                                                                                                                                               the devil wears balenciaga   \n",
       "17                                                                                                                                                                                                                                                                                                                                                                                                                                                                                                                                                                                                                                                                                                                                                                                                  america has to take it where no one else thought of bitch its catwalk not dogwalk for a reason bitch its catwalk not furbaby this guy in charge is gay and asexual obviously hes been seduced by prostitutes and thinks this is art omg   \n",
       "18                                                                                                                                                                                                                                                                                                                                                                                                                                                                                                                                                                                                                                                                                                                                                                                                                                                                  i agreed  with you balenciaga just try to say that they dont haha of course who would admit that  their names will be ruined of course there good at this  kind of lies   \n",
       "19                                                                                                                                                                                                                                                                                                                                                                                                                                                                                                                                                                                                                                                                                                                                                                                                                                                                                                                                                                                                                    theyre not even aorry   \n",
       "\n",
       "    text_length  \\\n",
       "0            19   \n",
       "1            56   \n",
       "2            77   \n",
       "3            77   \n",
       "4           331   \n",
       "5           104   \n",
       "6           790   \n",
       "7            30   \n",
       "8            72   \n",
       "9           126   \n",
       "10          127   \n",
       "11         1502   \n",
       "12           60   \n",
       "13           97   \n",
       "14           95   \n",
       "15           67   \n",
       "16           27   \n",
       "17          240   \n",
       "18          169   \n",
       "19           22   \n",
       "\n",
       "                                                                                                                                                                                                                                                                                                                                                                                                                                                                                                                                                                                                                                                    Tokens  \n",
       "0                                                                                                                                                                                                                                                                                                                                                                                                                                                                                                                                                                                                                                  [thank, you, for, this]  \n",
       "1                                                                                                                                                                                                                                                                                                                                                                                                                                                                                                                                                                                         [that, wasnt, an, apology, it, was, one, excuse, after, another]  \n",
       "2                                                                                                                                                                                                                                                                                                                                                                                                                                                                                                                                                                [those, are, probably, children, that, are, trafficked, in, the, entertainment, industry]  \n",
       "3                                                                                                                                                                                                                                                                                                                                                                                                                                                                                                                                                                [those, are, probably, children, that, are, trafficked, in, the, entertainment, industry]  \n",
       "4                                                                                                                                                                                                                                                                   [epstein, and, his, group, of, elitists, abused, their, power, and, saw, the, girls, they, used, as, nothing, more, than, trash, but, lets, not, go, tabloid, michael, paedophilia, is, sexual, attraction, to, prepubescent, children, and, that, doesnt, describe, the, girls, they, used, as, their, play, things, what, we, are, seeing, in, these, adverts, is, for, paedophiles]  \n",
       "5                                                                                                                                                                                                                                                                                                                                                                                                                                                                                                                               [the, blind, could, see, there, is, an, evil, attack, a, demonic, war, being, waged, on, our, minds, hearts, and, spirits]  \n",
       "6                [another, thing, i, found, is, in, one, of, the, child, ads, thereâ, €, ™, s, a, kids, drawing, in, the, background, literally, depicting, satan, there, also, a, folded, black, satanic, robe, and, in, the, same, ad, thereâ, €, ™, s, balenciaga, tape, except, on, it, balenciaga, is, spelt, â, €, œbaalenciagaâ, €, , with, the, part, â, €, œbaalâ, €, , facing, the, camera, and, ofc, baal, is, one, of, the, idols, they, worshipped, in, biblical, times, and, was, known, for, child, sacrifice, similar, to, the, child, sacrifice, we, see, in, todays, culture, with, this, over, sexualization, abortion, etc, on, ...]  \n",
       "7                                                                                                                                                                                                                                                                                                                                                                                                                                                                                                                                                                                                                    [they, are, sorry, they, got, caught]  \n",
       "8                                                                                                                                                                                                                                                                                                                                                                                                                                                                                                                                                                  [madeleine, mccann, used, to, carry, a, teddy, bear, around, with, her, all, the, time]  \n",
       "9                                                                                                                                                                                                                                                                                                                                                                                                                                                                                [wyta, weird, sex, things, is, and, has, always, been, a, right, w, thing, not, left, also, i, am, a, centrist, iâ, €, ™, m, above, you, all, ðÿ, ‘, ˆðÿ, ‘, ‰, ðÿ, ˜, ‚]  \n",
       "10                                                                                                                                                                                                                                                                                                                                                                                                                                                                                                    [pedogate, is, real, yet, the, podesta, brothers, and, high, level, government, and, hollywood, elites, walk, around, with, blood, on, their, hands]  \n",
       "11  [the, deplorable, offenses, committed, by, balenciaga, are, not, aligned, with, satanism, in, fact, their, actions, are, directly, opposed, to, satanic, beliefs, satanism, is, wildly, misunderstood, below, are, a, few, of, the, official, tenets, or, beliefs, of, satanism, 1, one, should, strive, to, act, with, compassion, and, empathy, toward, all, creatures, in, accordance, with, reason, 2, oneâ, €, ™, s, body, is, inviolable, subject, to, oneâ, €, ™, s, own, will, alone, 3, do, not, harm, little, children, they, say, â, €, œdo, what, thou, wiltâ, €, , with, the, subtext, being, â, €, œas, long, as, you, donâ, €, ™, ...]  \n",
       "12                                                                                                                                                                                                                                                                                                                                                                                                                                                                                                                                                                                   [can, we, please, bring, back, the, guillotine, or, noose, at, least]  \n",
       "13                                                                                                                                                                                                                                                                                                                                                                                                                                                                                                                   [apparently, balenciaga, are, about, to, rebrand, and, partner, withâ, €, ¦, â, €, ¦, â, €, ¦, wait, for, itâ, €, ¦, â, €, ¦, disney]  \n",
       "14                                                                                                                                                                                                                                                                                                                                                                                                                                                                                                                                [wow, this, is, satan, right, in, front, of, our, eyes, god, is, coming, soonâ, €, ¦, i, am, so, glad, i, am, with, him]  \n",
       "15                                                                                                                                                                                                                                                                                                                                                                                                                                                                                                                                                                               [too, late, they, have, revealed, their, real, intentions, very, demonic]  \n",
       "16                                                                                                                                                                                                                                                                                                                                                                                                                                                                                                                                                                                                                         [the, devil, wears, balenciaga]  \n",
       "17                                                                                                                                                                                                                                                                                                                                                                    [america, has, to, take, it, where, no, one, else, thought, of, bitch, its, catwalk, not, dogwalk, for, a, reason, bitch, its, catwalk, not, furbaby, this, guy, in, charge, is, gay, and, asexual, obviously, hes, been, seduced, by, prostitutes, and, thinks, this, is, art, omg]  \n",
       "18                                                                                                                                                                                                                                                                                                                                                                                                                                                  [i, agreed, with, you, balenciaga, just, try, to, say, that, they, dont, haha, of, course, who, would, admit, that, their, names, will, be, ruined, of, course, there, good, at, this, kind, of, lies]  \n",
       "19                                                                                                                                                                                                                                                                                                                                                                                                                                                                                                                                                                                                                              [theyre, not, even, aorry]  "
      ]
     },
     "execution_count": 30,
     "metadata": {},
     "output_type": "execute_result"
    }
   ],
   "source": [
    "train.head(20)"
   ]
  },
  {
   "cell_type": "markdown",
   "id": "07218c4a",
   "metadata": {},
   "source": [
    "# 7) Cleaning - Remove Stopwords,numbers & special characters"
   ]
  },
  {
   "cell_type": "code",
   "execution_count": 31,
   "id": "b48b6efe",
   "metadata": {},
   "outputs": [],
   "source": [
    "# Get Stopwords\n",
    "stop = stopwords.words('english')"
   ]
  },
  {
   "cell_type": "code",
   "execution_count": 32,
   "id": "86a56e8e",
   "metadata": {},
   "outputs": [
    {
     "data": {
      "text/plain": [
       "0                                                                                                                                                                                                                                            [thank]\n",
       "1                                                                                                                                                                                                             [wasnt, apology, one, excuse, another]\n",
       "2                                                                                                                                                                                          [probably, children, trafficked, entertainment, industry]\n",
       "3                                                                                                                                                                                          [probably, children, trafficked, entertainment, industry]\n",
       "4        [epstein, group, elitists, abused, power, saw, girls, used, nothing, trash, lets, go, tabloid, michael, paedophilia, sexual, attraction, prepubescent, children, doesnt, describe, girls, used, play, things, seeing, adverts, paedophiles]\n",
       "                                                                                                                            ...                                                                                                                     \n",
       "26525                                                                                                           [lol, dolls, creepy, saw, video, past, put, cold, water, lingerie, would, appear, dolls, got, flack, idk, changed, disgusting, hope]\n",
       "26526                                                                                                  [blaire, beautiful, never, billboard, brand, must, find, small, designer, getting, started, values, align, maybe, person, pushes, mainstream]\n",
       "26527                                                             [person, sees, rug, denounce, part, problem, rl, thing, essential, human, rights, issue, children, protected, adults, cannot, give, consent, innocence, protected, long, possible]\n",
       "26528                                                                                                                       [girlyes, someone, tells, absolutely, believe, im, seeing, lot, comments, good, believe, telling, keep, good, works, im]\n",
       "26529                                                                                       [omg, im, broke, buy, fashion, like, dont, read, fashion, magazines, omg, knew, evil, worse, thought, nicole, kidman, posted, belenciaga, stuff, called]\n",
       "Name: Comments, Length: 26529, dtype: object"
      ]
     },
     "execution_count": 32,
     "metadata": {},
     "output_type": "execute_result"
    }
   ],
   "source": [
    "# Tokenize and Remove Stop Words\n",
    "train['Comments'].apply(lambda x: [word for word in x.split() if word not in stop])"
   ]
  },
  {
   "cell_type": "code",
   "execution_count": 33,
   "id": "74df7e2f",
   "metadata": {},
   "outputs": [
    {
     "data": {
      "text/plain": [
       "0                                                                                                                                                                                                                 thank\n",
       "1                                                                                                                                                                                      wasnt apology one excuse another\n",
       "2                                                                                                                                                                   probably children trafficked entertainment industry\n",
       "3                                                                                                                                                                   probably children trafficked entertainment industry\n",
       "4        epstein group elitists abused power saw girls used nothing trash lets go tabloid michael paedophilia sexual attraction prepubescent children doesnt describe girls used play things seeing adverts paedophiles\n",
       "                                                                                                              ...                                                                                                      \n",
       "26525                                                                                                  lol dolls creepy saw video past put cold water lingerie would appear dolls got flack idk changed disgusting hope\n",
       "26526                                                                                       blaire beautiful never billboard brand must find small designer getting started values align maybe person pushes mainstream\n",
       "26527                                                       person sees rug denounce part problem rl thing essential human rights issue children protected adults cannot give consent innocence protected long possible\n",
       "26528                                                                                                           girlyes someone tells absolutely believe im seeing lot comments good believe telling keep good works im\n",
       "26529                                                                                omg im broke buy fashion like dont read fashion magazines omg knew evil worse thought nicole kidman posted belenciaga stuff called\n",
       "Name: Comments, Length: 26529, dtype: object"
      ]
     },
     "execution_count": 33,
     "metadata": {},
     "output_type": "execute_result"
    }
   ],
   "source": [
    "train['Comments'].apply(lambda x: ' '.join([word for word in x.split() if word not in (stop)]))"
   ]
  },
  {
   "cell_type": "code",
   "execution_count": 34,
   "id": "89164f0b",
   "metadata": {},
   "outputs": [],
   "source": [
    "# Join the words back\n",
    "train['Comments'] = train['Comments'].apply(lambda x: ' '.join([word for word in x.split() if word not in (stop)]))"
   ]
  },
  {
   "cell_type": "code",
   "execution_count": 35,
   "id": "6f53c389",
   "metadata": {},
   "outputs": [
    {
     "data": {
      "text/html": [
       "<div>\n",
       "<style scoped>\n",
       "    .dataframe tbody tr th:only-of-type {\n",
       "        vertical-align: middle;\n",
       "    }\n",
       "\n",
       "    .dataframe tbody tr th {\n",
       "        vertical-align: top;\n",
       "    }\n",
       "\n",
       "    .dataframe thead th {\n",
       "        text-align: right;\n",
       "    }\n",
       "</style>\n",
       "<table border=\"1\" class=\"dataframe\">\n",
       "  <thead>\n",
       "    <tr style=\"text-align: right;\">\n",
       "      <th></th>\n",
       "      <th>Comment Number</th>\n",
       "      <th>Reply Number</th>\n",
       "      <th>Like Count</th>\n",
       "      <th>Published At</th>\n",
       "      <th>Comments</th>\n",
       "      <th>text_length</th>\n",
       "      <th>Tokens</th>\n",
       "    </tr>\n",
       "  </thead>\n",
       "  <tbody>\n",
       "    <tr>\n",
       "      <th>0</th>\n",
       "      <td>1.0</td>\n",
       "      <td>NaN</td>\n",
       "      <td>0</td>\n",
       "      <td>2023-02-24T21:49:40Z</td>\n",
       "      <td>thank</td>\n",
       "      <td>19</td>\n",
       "      <td>[thank, you, for, this]</td>\n",
       "    </tr>\n",
       "    <tr>\n",
       "      <th>1</th>\n",
       "      <td>2.0</td>\n",
       "      <td>NaN</td>\n",
       "      <td>0</td>\n",
       "      <td>2023-02-24T18:56:11Z</td>\n",
       "      <td>wasnt apology one excuse another</td>\n",
       "      <td>56</td>\n",
       "      <td>[that, wasnt, an, apology, it, was, one, excuse, after, another]</td>\n",
       "    </tr>\n",
       "    <tr>\n",
       "      <th>2</th>\n",
       "      <td>3.0</td>\n",
       "      <td>NaN</td>\n",
       "      <td>0</td>\n",
       "      <td>2023-02-23T00:40:54Z</td>\n",
       "      <td>probably children trafficked entertainment industry</td>\n",
       "      <td>77</td>\n",
       "      <td>[those, are, probably, children, that, are, trafficked, in, the, entertainment, industry]</td>\n",
       "    </tr>\n",
       "    <tr>\n",
       "      <th>3</th>\n",
       "      <td>4.0</td>\n",
       "      <td>NaN</td>\n",
       "      <td>0</td>\n",
       "      <td>2023-02-23T00:40:49Z</td>\n",
       "      <td>probably children trafficked entertainment industry</td>\n",
       "      <td>77</td>\n",
       "      <td>[those, are, probably, children, that, are, trafficked, in, the, entertainment, industry]</td>\n",
       "    </tr>\n",
       "    <tr>\n",
       "      <th>4</th>\n",
       "      <td>5.0</td>\n",
       "      <td>NaN</td>\n",
       "      <td>0</td>\n",
       "      <td>2023-02-19T13:26:47Z</td>\n",
       "      <td>epstein group elitists abused power saw girls used nothing trash lets go tabloid michael paedophilia sexual attraction prepubescent children doesnt describe girls used play things seeing adverts paedophiles</td>\n",
       "      <td>331</td>\n",
       "      <td>[epstein, and, his, group, of, elitists, abused, their, power, and, saw, the, girls, they, used, as, nothing, more, than, trash, but, lets, not, go, tabloid, michael, paedophilia, is, sexual, attraction, to, prepubescent, children, and, that, doesnt, describe, the, girls, they, used, as, their, play, things, what, we, are, seeing, in, these, adverts, is, for, paedophiles]</td>\n",
       "    </tr>\n",
       "    <tr>\n",
       "      <th>5</th>\n",
       "      <td>6.0</td>\n",
       "      <td>NaN</td>\n",
       "      <td>0</td>\n",
       "      <td>2023-02-19T05:21:41Z</td>\n",
       "      <td>blind could see evil attack demonic war waged minds hearts spirits</td>\n",
       "      <td>104</td>\n",
       "      <td>[the, blind, could, see, there, is, an, evil, attack, a, demonic, war, being, waged, on, our, minds, hearts, and, spirits]</td>\n",
       "    </tr>\n",
       "    <tr>\n",
       "      <th>6</th>\n",
       "      <td>7.0</td>\n",
       "      <td>NaN</td>\n",
       "      <td>0</td>\n",
       "      <td>2023-02-18T20:09:59Z</td>\n",
       "      <td>another thing found one child ads thereâ€™s kids drawing background literally depicting satan also folded black satanic robe ad thereâ€™s balenciaga tape except balenciaga spelt â€œbaalenciagaâ€ part â€œbaalâ€ facing camera ofc baal one idols worshipped biblical times known child sacrifice similar child sacrifice see todays culture sexualization abortion etc top similarly translated â€œba len ci agaâ€ latin says â€œdo wantâ€ known satanic phrase type â€œbaal enci agaâ€ translates baal king theyâ€™re literally even hiding anymore normalized itâ€™s become</td>\n",
       "      <td>790</td>\n",
       "      <td>[another, thing, i, found, is, in, one, of, the, child, ads, thereâ, €, ™, s, a, kids, drawing, in, the, background, literally, depicting, satan, there, also, a, folded, black, satanic, robe, and, in, the, same, ad, thereâ, €, ™, s, balenciaga, tape, except, on, it, balenciaga, is, spelt, â, €, œbaalenciagaâ, €, , with, the, part, â, €, œbaalâ, €, , facing, the, camera, and, ofc, baal, is, one, of, the, idols, they, worshipped, in, biblical, times, and, was, known, for, child, sacrifice, similar, to, the, child, sacrifice, we, see, in, todays, culture, with, this, over, sexualization, abortion, etc, on, ...]</td>\n",
       "    </tr>\n",
       "    <tr>\n",
       "      <th>7</th>\n",
       "      <td>8.0</td>\n",
       "      <td>NaN</td>\n",
       "      <td>0</td>\n",
       "      <td>2023-02-18T14:54:31Z</td>\n",
       "      <td>sorry got caught</td>\n",
       "      <td>30</td>\n",
       "      <td>[they, are, sorry, they, got, caught]</td>\n",
       "    </tr>\n",
       "    <tr>\n",
       "      <th>8</th>\n",
       "      <td>9.0</td>\n",
       "      <td>NaN</td>\n",
       "      <td>0</td>\n",
       "      <td>2023-02-17T23:17:16Z</td>\n",
       "      <td>madeleine mccann used carry teddy bear around time</td>\n",
       "      <td>72</td>\n",
       "      <td>[madeleine, mccann, used, to, carry, a, teddy, bear, around, with, her, all, the, time]</td>\n",
       "    </tr>\n",
       "    <tr>\n",
       "      <th>9</th>\n",
       "      <td>10.0</td>\n",
       "      <td>NaN</td>\n",
       "      <td>0</td>\n",
       "      <td>2023-02-17T19:54:57Z</td>\n",
       "      <td>wyta weird sex things always right w thing left also centrist iâ€™m ðÿ‘ˆðÿ‘‰ ðÿ˜‚</td>\n",
       "      <td>126</td>\n",
       "      <td>[wyta, weird, sex, things, is, and, has, always, been, a, right, w, thing, not, left, also, i, am, a, centrist, iâ, €, ™, m, above, you, all, ðÿ, ‘, ˆðÿ, ‘, ‰, ðÿ, ˜, ‚]</td>\n",
       "    </tr>\n",
       "  </tbody>\n",
       "</table>\n",
       "</div>"
      ],
      "text/plain": [
       "   Comment Number  Reply Number  Like Count          Published At  \\\n",
       "0             1.0           NaN           0  2023-02-24T21:49:40Z   \n",
       "1             2.0           NaN           0  2023-02-24T18:56:11Z   \n",
       "2             3.0           NaN           0  2023-02-23T00:40:54Z   \n",
       "3             4.0           NaN           0  2023-02-23T00:40:49Z   \n",
       "4             5.0           NaN           0  2023-02-19T13:26:47Z   \n",
       "5             6.0           NaN           0  2023-02-19T05:21:41Z   \n",
       "6             7.0           NaN           0  2023-02-18T20:09:59Z   \n",
       "7             8.0           NaN           0  2023-02-18T14:54:31Z   \n",
       "8             9.0           NaN           0  2023-02-17T23:17:16Z   \n",
       "9            10.0           NaN           0  2023-02-17T19:54:57Z   \n",
       "\n",
       "                                                                                                                                                                                                                                                                                                                                                                                                                                                                                                                                                                               Comments  \\\n",
       "0                                                                                                                                                                                                                                                                                                                                                                                                                                                                                                                                                                                 thank   \n",
       "1                                                                                                                                                                                                                                                                                                                                                                                                                                                                                                                                                      wasnt apology one excuse another   \n",
       "2                                                                                                                                                                                                                                                                                                                                                                                                                                                                                                                                   probably children trafficked entertainment industry   \n",
       "3                                                                                                                                                                                                                                                                                                                                                                                                                                                                                                                                   probably children trafficked entertainment industry   \n",
       "4                                                                                                                                                                                                                                                                                                                                                                        epstein group elitists abused power saw girls used nothing trash lets go tabloid michael paedophilia sexual attraction prepubescent children doesnt describe girls used play things seeing adverts paedophiles   \n",
       "5                                                                                                                                                                                                                                                                                                                                                                                                                                                                                                                    blind could see evil attack demonic war waged minds hearts spirits   \n",
       "6  another thing found one child ads thereâ€™s kids drawing background literally depicting satan also folded black satanic robe ad thereâ€™s balenciaga tape except balenciaga spelt â€œbaalenciagaâ€ part â€œbaalâ€ facing camera ofc baal one idols worshipped biblical times known child sacrifice similar child sacrifice see todays culture sexualization abortion etc top similarly translated â€œba len ci agaâ€ latin says â€œdo wantâ€ known satanic phrase type â€œbaal enci agaâ€ translates baal king theyâ€™re literally even hiding anymore normalized itâ€™s become   \n",
       "7                                                                                                                                                                                                                                                                                                                                                                                                                                                                                                                                                                      sorry got caught   \n",
       "8                                                                                                                                                                                                                                                                                                                                                                                                                                                                                                                                    madeleine mccann used carry teddy bear around time   \n",
       "9                                                                                                                                                                                                                                                                                                                                                                                                                                                                                                     wyta weird sex things always right w thing left also centrist iâ€™m ðÿ‘ˆðÿ‘‰ ðÿ˜‚   \n",
       "\n",
       "   text_length  \\\n",
       "0           19   \n",
       "1           56   \n",
       "2           77   \n",
       "3           77   \n",
       "4          331   \n",
       "5          104   \n",
       "6          790   \n",
       "7           30   \n",
       "8           72   \n",
       "9          126   \n",
       "\n",
       "                                                                                                                                                                                                                                                                                                                                                                                                                                                                                                                                                                                                                                      Tokens  \n",
       "0                                                                                                                                                                                                                                                                                                                                                                                                                                                                                                                                                                                                                    [thank, you, for, this]  \n",
       "1                                                                                                                                                                                                                                                                                                                                                                                                                                                                                                                                                                           [that, wasnt, an, apology, it, was, one, excuse, after, another]  \n",
       "2                                                                                                                                                                                                                                                                                                                                                                                                                                                                                                                                                  [those, are, probably, children, that, are, trafficked, in, the, entertainment, industry]  \n",
       "3                                                                                                                                                                                                                                                                                                                                                                                                                                                                                                                                                  [those, are, probably, children, that, are, trafficked, in, the, entertainment, industry]  \n",
       "4                                                                                                                                                                                                                                                     [epstein, and, his, group, of, elitists, abused, their, power, and, saw, the, girls, they, used, as, nothing, more, than, trash, but, lets, not, go, tabloid, michael, paedophilia, is, sexual, attraction, to, prepubescent, children, and, that, doesnt, describe, the, girls, they, used, as, their, play, things, what, we, are, seeing, in, these, adverts, is, for, paedophiles]  \n",
       "5                                                                                                                                                                                                                                                                                                                                                                                                                                                                                                                 [the, blind, could, see, there, is, an, evil, attack, a, demonic, war, being, waged, on, our, minds, hearts, and, spirits]  \n",
       "6  [another, thing, i, found, is, in, one, of, the, child, ads, thereâ, €, ™, s, a, kids, drawing, in, the, background, literally, depicting, satan, there, also, a, folded, black, satanic, robe, and, in, the, same, ad, thereâ, €, ™, s, balenciaga, tape, except, on, it, balenciaga, is, spelt, â, €, œbaalenciagaâ, €, , with, the, part, â, €, œbaalâ, €, , facing, the, camera, and, ofc, baal, is, one, of, the, idols, they, worshipped, in, biblical, times, and, was, known, for, child, sacrifice, similar, to, the, child, sacrifice, we, see, in, todays, culture, with, this, over, sexualization, abortion, etc, on, ...]  \n",
       "7                                                                                                                                                                                                                                                                                                                                                                                                                                                                                                                                                                                                      [they, are, sorry, they, got, caught]  \n",
       "8                                                                                                                                                                                                                                                                                                                                                                                                                                                                                                                                                    [madeleine, mccann, used, to, carry, a, teddy, bear, around, with, her, all, the, time]  \n",
       "9                                                                                                                                                                                                                                                                                                                                                                                                                                                                  [wyta, weird, sex, things, is, and, has, always, been, a, right, w, thing, not, left, also, i, am, a, centrist, iâ, €, ™, m, above, you, all, ðÿ, ‘, ˆðÿ, ‘, ‰, ðÿ, ˜, ‚]  "
      ]
     },
     "execution_count": 35,
     "metadata": {},
     "output_type": "execute_result"
    }
   ],
   "source": [
    "train.head(10)"
   ]
  },
  {
   "cell_type": "code",
   "execution_count": 36,
   "id": "0b6136d0",
   "metadata": {},
   "outputs": [],
   "source": [
    "##Remove characters other than emoticons\n",
    "\n",
    "def remove_emoticons(text):\n",
    "    emoticon_pattern = re.compile(\"[\"\n",
    "        u\"\\U0001F600-\\U0001F64F\"  # emoticons\n",
    "        u\"\\U0001F300-\\U0001F5FF\"  # symbols & pictographs\n",
    "        u\"\\U0001F680-\\U0001F6FF\"  # transport & map symbols\n",
    "        u\"\\U0001F1E0-\\U0001F1FF\"  # flags (iOS)\n",
    "        u\"\\u2764\"                  # heart symbol\n",
    "        u\"\\U0001F644\"              # rolling eyes face\n",
    "        u\"\\U000024C2-\\U0001F251\"  # miscellaneous symbols\n",
    "        u\"\\U0001f926-\\U0001f937\"  # people and body-related symbols\n",
    "        u\"\\u2600-\\u2B55\"          # weather-related symbols\n",
    "        u\"\\u200d\"                 # zero width joiner\n",
    "        u\"\\u23cf\"                 # eject symbol\n",
    "        u\"\\u23e9\"                 # fast forward symbol\n",
    "        u\"\\u231a\"                 # watch symbol\n",
    "        u\"\\ufe0f\"                 # emoji variation selector\n",
    "                                  \n",
    "                           \"]+\", flags=re.UNICODE)\n",
    "    text = emoticon_pattern.sub(r' ', text)  # replace emoticons with a space\n",
    "    text = re.sub(r'[^\\w\\s]', '', text)  # remove non-word characters except spaces\n",
    "    return text.strip()"
   ]
  },
  {
   "cell_type": "code",
   "execution_count": 37,
   "id": "c50c91d0",
   "metadata": {},
   "outputs": [],
   "source": [
    "\n",
    "# Apply the remove_emoticons function to the 'Comments' column\n",
    "train['Comments'] = train['Comments'].apply(remove_emoticons)"
   ]
  },
  {
   "cell_type": "code",
   "execution_count": 38,
   "id": "c9bf3cba",
   "metadata": {},
   "outputs": [],
   "source": [
    "##Remove numbers\n",
    "\n",
    "train['Comments'] = train['Comments'].apply(lambda x: re.sub(r'\\d+', '', x))"
   ]
  },
  {
   "cell_type": "code",
   "execution_count": 39,
   "id": "8c6059da",
   "metadata": {},
   "outputs": [
    {
     "data": {
      "text/html": [
       "<div>\n",
       "<style scoped>\n",
       "    .dataframe tbody tr th:only-of-type {\n",
       "        vertical-align: middle;\n",
       "    }\n",
       "\n",
       "    .dataframe tbody tr th {\n",
       "        vertical-align: top;\n",
       "    }\n",
       "\n",
       "    .dataframe thead th {\n",
       "        text-align: right;\n",
       "    }\n",
       "</style>\n",
       "<table border=\"1\" class=\"dataframe\">\n",
       "  <thead>\n",
       "    <tr style=\"text-align: right;\">\n",
       "      <th></th>\n",
       "      <th>Comment Number</th>\n",
       "      <th>Reply Number</th>\n",
       "      <th>Like Count</th>\n",
       "      <th>Published At</th>\n",
       "      <th>Comments</th>\n",
       "      <th>text_length</th>\n",
       "      <th>Tokens</th>\n",
       "    </tr>\n",
       "  </thead>\n",
       "  <tbody>\n",
       "    <tr>\n",
       "      <th>0</th>\n",
       "      <td>1.0</td>\n",
       "      <td>NaN</td>\n",
       "      <td>0</td>\n",
       "      <td>2023-02-24T21:49:40Z</td>\n",
       "      <td>thank</td>\n",
       "      <td>19</td>\n",
       "      <td>[thank, you, for, this]</td>\n",
       "    </tr>\n",
       "    <tr>\n",
       "      <th>1</th>\n",
       "      <td>2.0</td>\n",
       "      <td>NaN</td>\n",
       "      <td>0</td>\n",
       "      <td>2023-02-24T18:56:11Z</td>\n",
       "      <td>wasnt apology one excuse another</td>\n",
       "      <td>56</td>\n",
       "      <td>[that, wasnt, an, apology, it, was, one, excuse, after, another]</td>\n",
       "    </tr>\n",
       "    <tr>\n",
       "      <th>2</th>\n",
       "      <td>3.0</td>\n",
       "      <td>NaN</td>\n",
       "      <td>0</td>\n",
       "      <td>2023-02-23T00:40:54Z</td>\n",
       "      <td>probably children trafficked entertainment industry</td>\n",
       "      <td>77</td>\n",
       "      <td>[those, are, probably, children, that, are, trafficked, in, the, entertainment, industry]</td>\n",
       "    </tr>\n",
       "    <tr>\n",
       "      <th>3</th>\n",
       "      <td>4.0</td>\n",
       "      <td>NaN</td>\n",
       "      <td>0</td>\n",
       "      <td>2023-02-23T00:40:49Z</td>\n",
       "      <td>probably children trafficked entertainment industry</td>\n",
       "      <td>77</td>\n",
       "      <td>[those, are, probably, children, that, are, trafficked, in, the, entertainment, industry]</td>\n",
       "    </tr>\n",
       "    <tr>\n",
       "      <th>4</th>\n",
       "      <td>5.0</td>\n",
       "      <td>NaN</td>\n",
       "      <td>0</td>\n",
       "      <td>2023-02-19T13:26:47Z</td>\n",
       "      <td>epstein group elitists abused power saw girls used nothing trash lets go tabloid michael paedophilia sexual attraction prepubescent children doesnt describe girls used play things seeing adverts paedophiles</td>\n",
       "      <td>331</td>\n",
       "      <td>[epstein, and, his, group, of, elitists, abused, their, power, and, saw, the, girls, they, used, as, nothing, more, than, trash, but, lets, not, go, tabloid, michael, paedophilia, is, sexual, attraction, to, prepubescent, children, and, that, doesnt, describe, the, girls, they, used, as, their, play, things, what, we, are, seeing, in, these, adverts, is, for, paedophiles]</td>\n",
       "    </tr>\n",
       "    <tr>\n",
       "      <th>...</th>\n",
       "      <td>...</td>\n",
       "      <td>...</td>\n",
       "      <td>...</td>\n",
       "      <td>...</td>\n",
       "      <td>...</td>\n",
       "      <td>...</td>\n",
       "      <td>...</td>\n",
       "    </tr>\n",
       "    <tr>\n",
       "      <th>495</th>\n",
       "      <td>477.0</td>\n",
       "      <td>NaN</td>\n",
       "      <td>0</td>\n",
       "      <td>2022-12-17T21:45:39Z</td>\n",
       "      <td>many people mention artist sx dolls size shape children gntaps faces</td>\n",
       "      <td>143</td>\n",
       "      <td>[not, too, many, people, mention, that, artist, with, the, s3x, dolls, the, same, size, and, shape, as, children, only, with, g3ntaps, where, their, faces, should, be]</td>\n",
       "    </tr>\n",
       "    <tr>\n",
       "      <th>496</th>\n",
       "      <td>NaN</td>\n",
       "      <td>20.0</td>\n",
       "      <td>0</td>\n",
       "      <td>2022-12-17T21:46:22Z</td>\n",
       "      <td>working collaboration em something hard find anything</td>\n",
       "      <td>89</td>\n",
       "      <td>[they, were, working, in, collaboration, with, em, or, something, hard, to, find, anything, on, it, now]</td>\n",
       "    </tr>\n",
       "    <tr>\n",
       "      <th>497</th>\n",
       "      <td>NaN</td>\n",
       "      <td>21.0</td>\n",
       "      <td>0</td>\n",
       "      <td>2022-12-17T21:45:56Z</td>\n",
       "      <td>gntals</td>\n",
       "      <td>13</td>\n",
       "      <td>[g3ntals]</td>\n",
       "    </tr>\n",
       "    <tr>\n",
       "      <th>498</th>\n",
       "      <td>478.0</td>\n",
       "      <td>NaN</td>\n",
       "      <td>0</td>\n",
       "      <td>2022-12-17T21:41:31Z</td>\n",
       "      <td>must woke liberal ðÿðÿðÿ¾ðÿðÿ¾ðÿðÿ¾ðÿðÿ¾ðÿðÿ¾ðÿðÿ¾ðÿðÿ¾ðÿðÿ¾ðÿðÿ¾ðÿðÿ¾ðÿ</td>\n",
       "      <td>118</td>\n",
       "      <td>[they, must, be, woke, and, liberal, ðÿ, ”, ¥, ðÿ, ¤, , ðÿ, , ¾, ðÿ, ¤, , ðÿ, , ¾, ðÿ, ¤, , ðÿ, , ¾, ðÿ, ¤, , ðÿ, , ¾, ðÿ, ¤, , ðÿ, , ¾, ðÿ, ¤, , ðÿ, , ¾, ðÿ, ¤, , ðÿ, , ¾, ðÿ, ¤, , ðÿ, , ¾, ðÿ, ¤, , ðÿ, , ¾, ðÿ, ¤, , ðÿ, , ¾, ðÿ, ¤, £]</td>\n",
       "    </tr>\n",
       "    <tr>\n",
       "      <th>499</th>\n",
       "      <td>479.0</td>\n",
       "      <td>NaN</td>\n",
       "      <td>0</td>\n",
       "      <td>2022-12-17T21:40:50Z</td>\n",
       "      <td>hell would actually buy anything moving forward ðÿðÿ¾ðÿðÿ¾ðÿðÿ¾ðÿðÿ¾ðÿðÿ¾ðÿðÿ¾ðÿðÿ¾ðÿðÿ¾</td>\n",
       "      <td>131</td>\n",
       "      <td>[who, the, hell, would, actually, buy, anything, from, there, moving, forward, ðÿ, ¤, , ðÿ, , ¾, ðÿ, ¤, , ðÿ, , ¾, ðÿ, ¤, , ðÿ, , ¾, ðÿ, ¤, , ðÿ, , ¾, ðÿ, ¤, , ðÿ, , ¾, ðÿ, ¤, , ðÿ, , ¾, ðÿ, ¤, , ðÿ, , ¾, ðÿ, ¤, , ðÿ, , ¾]</td>\n",
       "    </tr>\n",
       "  </tbody>\n",
       "</table>\n",
       "<p>500 rows × 7 columns</p>\n",
       "</div>"
      ],
      "text/plain": [
       "     Comment Number  Reply Number  Like Count          Published At  \\\n",
       "0               1.0           NaN           0  2023-02-24T21:49:40Z   \n",
       "1               2.0           NaN           0  2023-02-24T18:56:11Z   \n",
       "2               3.0           NaN           0  2023-02-23T00:40:54Z   \n",
       "3               4.0           NaN           0  2023-02-23T00:40:49Z   \n",
       "4               5.0           NaN           0  2023-02-19T13:26:47Z   \n",
       "..              ...           ...         ...                   ...   \n",
       "495           477.0           NaN           0  2022-12-17T21:45:39Z   \n",
       "496             NaN          20.0           0  2022-12-17T21:46:22Z   \n",
       "497             NaN          21.0           0  2022-12-17T21:45:56Z   \n",
       "498           478.0           NaN           0  2022-12-17T21:41:31Z   \n",
       "499           479.0           NaN           0  2022-12-17T21:40:50Z   \n",
       "\n",
       "                                                                                                                                                                                                           Comments  \\\n",
       "0                                                                                                                                                                                                             thank   \n",
       "1                                                                                                                                                                                  wasnt apology one excuse another   \n",
       "2                                                                                                                                                               probably children trafficked entertainment industry   \n",
       "3                                                                                                                                                               probably children trafficked entertainment industry   \n",
       "4    epstein group elitists abused power saw girls used nothing trash lets go tabloid michael paedophilia sexual attraction prepubescent children doesnt describe girls used play things seeing adverts paedophiles   \n",
       "..                                                                                                                                                                                                              ...   \n",
       "495                                                                                                                                            many people mention artist sx dolls size shape children gntaps faces   \n",
       "496                                                                                                                                                           working collaboration em something hard find anything   \n",
       "497                                                                                                                                                                                                          gntals   \n",
       "498                                                                                                                                        must woke liberal ðÿðÿðÿ¾ðÿðÿ¾ðÿðÿ¾ðÿðÿ¾ðÿðÿ¾ðÿðÿ¾ðÿðÿ¾ðÿðÿ¾ðÿðÿ¾ðÿðÿ¾ðÿ   \n",
       "499                                                                                                                        hell would actually buy anything moving forward ðÿðÿ¾ðÿðÿ¾ðÿðÿ¾ðÿðÿ¾ðÿðÿ¾ðÿðÿ¾ðÿðÿ¾ðÿðÿ¾   \n",
       "\n",
       "     text_length  \\\n",
       "0             19   \n",
       "1             56   \n",
       "2             77   \n",
       "3             77   \n",
       "4            331   \n",
       "..           ...   \n",
       "495          143   \n",
       "496           89   \n",
       "497           13   \n",
       "498          118   \n",
       "499          131   \n",
       "\n",
       "                                                                                                                                                                                                                                                                                                                                                                                     Tokens  \n",
       "0                                                                                                                                                                                                                                                                                                                                                                   [thank, you, for, this]  \n",
       "1                                                                                                                                                                                                                                                                                                                          [that, wasnt, an, apology, it, was, one, excuse, after, another]  \n",
       "2                                                                                                                                                                                                                                                                                                 [those, are, probably, children, that, are, trafficked, in, the, entertainment, industry]  \n",
       "3                                                                                                                                                                                                                                                                                                 [those, are, probably, children, that, are, trafficked, in, the, entertainment, industry]  \n",
       "4    [epstein, and, his, group, of, elitists, abused, their, power, and, saw, the, girls, they, used, as, nothing, more, than, trash, but, lets, not, go, tabloid, michael, paedophilia, is, sexual, attraction, to, prepubescent, children, and, that, doesnt, describe, the, girls, they, used, as, their, play, things, what, we, are, seeing, in, these, adverts, is, for, paedophiles]  \n",
       "..                                                                                                                                                                                                                                                                                                                                                                                      ...  \n",
       "495                                                                                                                                                                                                                 [not, too, many, people, mention, that, artist, with, the, s3x, dolls, the, same, size, and, shape, as, children, only, with, g3ntaps, where, their, faces, should, be]  \n",
       "496                                                                                                                                                                                                                                                                                [they, were, working, in, collaboration, with, em, or, something, hard, to, find, anything, on, it, now]  \n",
       "497                                                                                                                                                                                                                                                                                                                                                                               [g3ntals]  \n",
       "498                                                                                                                        [they, must, be, woke, and, liberal, ðÿ, ”, ¥, ðÿ, ¤, , ðÿ, , ¾, ðÿ, ¤, , ðÿ, , ¾, ðÿ, ¤, , ðÿ, , ¾, ðÿ, ¤, , ðÿ, , ¾, ðÿ, ¤, , ðÿ, , ¾, ðÿ, ¤, , ðÿ, , ¾, ðÿ, ¤, , ðÿ, , ¾, ðÿ, ¤, , ðÿ, , ¾, ðÿ, ¤, , ðÿ, , ¾, ðÿ, ¤, , ðÿ, , ¾, ðÿ, ¤, £]  \n",
       "499                                                                                                                                          [who, the, hell, would, actually, buy, anything, from, there, moving, forward, ðÿ, ¤, , ðÿ, , ¾, ðÿ, ¤, , ðÿ, , ¾, ðÿ, ¤, , ðÿ, , ¾, ðÿ, ¤, , ðÿ, , ¾, ðÿ, ¤, , ðÿ, , ¾, ðÿ, ¤, , ðÿ, , ¾, ðÿ, ¤, , ðÿ, , ¾, ðÿ, ¤, , ðÿ, , ¾]  \n",
       "\n",
       "[500 rows x 7 columns]"
      ]
     },
     "execution_count": 39,
     "metadata": {},
     "output_type": "execute_result"
    }
   ],
   "source": [
    "train.head(500)"
   ]
  },
  {
   "cell_type": "code",
   "execution_count": 40,
   "id": "1524ffa9",
   "metadata": {},
   "outputs": [],
   "source": [
    "##Remove non-ASCII improperly encoded characters\n",
    "\n",
    "def remove_invalid_chars(text):\n",
    "    # encode the text string using ASCII encoding\n",
    "    encoded_text = text.encode('ascii', 'ignore')\n",
    "    # decode the encoded text using ASCII encoding\n",
    "    decoded_text = encoded_text.decode('ascii')\n",
    "    return decoded_text"
   ]
  },
  {
   "cell_type": "code",
   "execution_count": 41,
   "id": "2e0c94f1",
   "metadata": {},
   "outputs": [],
   "source": [
    "# apply the remove_invalid_chars function to the 'Comments' column\n",
    "train['Comments'] = train['Comments'].apply(remove_invalid_chars)\n"
   ]
  },
  {
   "cell_type": "code",
   "execution_count": 42,
   "id": "d9b6513e",
   "metadata": {},
   "outputs": [
    {
     "data": {
      "text/html": [
       "<div>\n",
       "<style scoped>\n",
       "    .dataframe tbody tr th:only-of-type {\n",
       "        vertical-align: middle;\n",
       "    }\n",
       "\n",
       "    .dataframe tbody tr th {\n",
       "        vertical-align: top;\n",
       "    }\n",
       "\n",
       "    .dataframe thead th {\n",
       "        text-align: right;\n",
       "    }\n",
       "</style>\n",
       "<table border=\"1\" class=\"dataframe\">\n",
       "  <thead>\n",
       "    <tr style=\"text-align: right;\">\n",
       "      <th></th>\n",
       "      <th>Comment Number</th>\n",
       "      <th>Reply Number</th>\n",
       "      <th>Like Count</th>\n",
       "      <th>Published At</th>\n",
       "      <th>Comments</th>\n",
       "      <th>text_length</th>\n",
       "      <th>Tokens</th>\n",
       "    </tr>\n",
       "  </thead>\n",
       "  <tbody>\n",
       "    <tr>\n",
       "      <th>0</th>\n",
       "      <td>1.0</td>\n",
       "      <td>NaN</td>\n",
       "      <td>0</td>\n",
       "      <td>2023-02-24T21:49:40Z</td>\n",
       "      <td>thank</td>\n",
       "      <td>19</td>\n",
       "      <td>[thank, you, for, this]</td>\n",
       "    </tr>\n",
       "    <tr>\n",
       "      <th>1</th>\n",
       "      <td>2.0</td>\n",
       "      <td>NaN</td>\n",
       "      <td>0</td>\n",
       "      <td>2023-02-24T18:56:11Z</td>\n",
       "      <td>wasnt apology one excuse another</td>\n",
       "      <td>56</td>\n",
       "      <td>[that, wasnt, an, apology, it, was, one, excuse, after, another]</td>\n",
       "    </tr>\n",
       "    <tr>\n",
       "      <th>2</th>\n",
       "      <td>3.0</td>\n",
       "      <td>NaN</td>\n",
       "      <td>0</td>\n",
       "      <td>2023-02-23T00:40:54Z</td>\n",
       "      <td>probably children trafficked entertainment industry</td>\n",
       "      <td>77</td>\n",
       "      <td>[those, are, probably, children, that, are, trafficked, in, the, entertainment, industry]</td>\n",
       "    </tr>\n",
       "    <tr>\n",
       "      <th>3</th>\n",
       "      <td>4.0</td>\n",
       "      <td>NaN</td>\n",
       "      <td>0</td>\n",
       "      <td>2023-02-23T00:40:49Z</td>\n",
       "      <td>probably children trafficked entertainment industry</td>\n",
       "      <td>77</td>\n",
       "      <td>[those, are, probably, children, that, are, trafficked, in, the, entertainment, industry]</td>\n",
       "    </tr>\n",
       "    <tr>\n",
       "      <th>4</th>\n",
       "      <td>5.0</td>\n",
       "      <td>NaN</td>\n",
       "      <td>0</td>\n",
       "      <td>2023-02-19T13:26:47Z</td>\n",
       "      <td>epstein group elitists abused power saw girls used nothing trash lets go tabloid michael paedophilia sexual attraction prepubescent children doesnt describe girls used play things seeing adverts paedophiles</td>\n",
       "      <td>331</td>\n",
       "      <td>[epstein, and, his, group, of, elitists, abused, their, power, and, saw, the, girls, they, used, as, nothing, more, than, trash, but, lets, not, go, tabloid, michael, paedophilia, is, sexual, attraction, to, prepubescent, children, and, that, doesnt, describe, the, girls, they, used, as, their, play, things, what, we, are, seeing, in, these, adverts, is, for, paedophiles]</td>\n",
       "    </tr>\n",
       "    <tr>\n",
       "      <th>5</th>\n",
       "      <td>6.0</td>\n",
       "      <td>NaN</td>\n",
       "      <td>0</td>\n",
       "      <td>2023-02-19T05:21:41Z</td>\n",
       "      <td>blind could see evil attack demonic war waged minds hearts spirits</td>\n",
       "      <td>104</td>\n",
       "      <td>[the, blind, could, see, there, is, an, evil, attack, a, demonic, war, being, waged, on, our, minds, hearts, and, spirits]</td>\n",
       "    </tr>\n",
       "    <tr>\n",
       "      <th>6</th>\n",
       "      <td>7.0</td>\n",
       "      <td>NaN</td>\n",
       "      <td>0</td>\n",
       "      <td>2023-02-18T20:09:59Z</td>\n",
       "      <td>another thing found one child ads theres kids drawing background literally depicting satan also folded black satanic robe ad theres balenciaga tape except balenciaga spelt baalenciaga part baal facing camera ofc baal one idols worshipped biblical times known child sacrifice similar child sacrifice see todays culture sexualization abortion etc top similarly translated ba len ci aga latin says do want known satanic phrase type baal enci aga translates baal king theyre literally even hiding anymore normalized its become</td>\n",
       "      <td>790</td>\n",
       "      <td>[another, thing, i, found, is, in, one, of, the, child, ads, thereâ, €, ™, s, a, kids, drawing, in, the, background, literally, depicting, satan, there, also, a, folded, black, satanic, robe, and, in, the, same, ad, thereâ, €, ™, s, balenciaga, tape, except, on, it, balenciaga, is, spelt, â, €, œbaalenciagaâ, €, , with, the, part, â, €, œbaalâ, €, , facing, the, camera, and, ofc, baal, is, one, of, the, idols, they, worshipped, in, biblical, times, and, was, known, for, child, sacrifice, similar, to, the, child, sacrifice, we, see, in, todays, culture, with, this, over, sexualization, abortion, etc, on, ...]</td>\n",
       "    </tr>\n",
       "    <tr>\n",
       "      <th>7</th>\n",
       "      <td>8.0</td>\n",
       "      <td>NaN</td>\n",
       "      <td>0</td>\n",
       "      <td>2023-02-18T14:54:31Z</td>\n",
       "      <td>sorry got caught</td>\n",
       "      <td>30</td>\n",
       "      <td>[they, are, sorry, they, got, caught]</td>\n",
       "    </tr>\n",
       "    <tr>\n",
       "      <th>8</th>\n",
       "      <td>9.0</td>\n",
       "      <td>NaN</td>\n",
       "      <td>0</td>\n",
       "      <td>2023-02-17T23:17:16Z</td>\n",
       "      <td>madeleine mccann used carry teddy bear around time</td>\n",
       "      <td>72</td>\n",
       "      <td>[madeleine, mccann, used, to, carry, a, teddy, bear, around, with, her, all, the, time]</td>\n",
       "    </tr>\n",
       "    <tr>\n",
       "      <th>9</th>\n",
       "      <td>10.0</td>\n",
       "      <td>NaN</td>\n",
       "      <td>0</td>\n",
       "      <td>2023-02-17T19:54:57Z</td>\n",
       "      <td>wyta weird sex things always right w thing left also centrist im</td>\n",
       "      <td>126</td>\n",
       "      <td>[wyta, weird, sex, things, is, and, has, always, been, a, right, w, thing, not, left, also, i, am, a, centrist, iâ, €, ™, m, above, you, all, ðÿ, ‘, ˆðÿ, ‘, ‰, ðÿ, ˜, ‚]</td>\n",
       "    </tr>\n",
       "    <tr>\n",
       "      <th>10</th>\n",
       "      <td>11.0</td>\n",
       "      <td>NaN</td>\n",
       "      <td>0</td>\n",
       "      <td>2023-02-17T14:16:10Z</td>\n",
       "      <td>pedogate real yet podesta brothers high level government hollywood elites walk around blood hands</td>\n",
       "      <td>127</td>\n",
       "      <td>[pedogate, is, real, yet, the, podesta, brothers, and, high, level, government, and, hollywood, elites, walk, around, with, blood, on, their, hands]</td>\n",
       "    </tr>\n",
       "    <tr>\n",
       "      <th>11</th>\n",
       "      <td>12.0</td>\n",
       "      <td>NaN</td>\n",
       "      <td>1</td>\n",
       "      <td>2023-02-17T02:50:18Z</td>\n",
       "      <td>deplorable offenses committed balenciaga aligned satanism fact actions directly opposed satanic beliefs satanism wildly misunderstood official tenets beliefs satanism  one strive act compassion empathy toward creatures accordance reason  ones body inviolable subject ones alone  harm little children say do thou wilt subtext as long dont harm anyone process would encroachment another persons free directly opposes satanic tenets satanists passionate bodily autonomy obviously includes consent autonomy general core tenet entire belief system satanism never endorsed pedophilia never directly opposed tenets must follow practicing satanist lastly satanism devil worship fact satanists atheists dont believe deity rather concept satan story defiance used symbol human freedom free choose destiny simultaneously respecting peoples right free read far commend staying curious remember remain skeptical openminded always research friends fuck balenciaga</td>\n",
       "      <td>1502</td>\n",
       "      <td>[the, deplorable, offenses, committed, by, balenciaga, are, not, aligned, with, satanism, in, fact, their, actions, are, directly, opposed, to, satanic, beliefs, satanism, is, wildly, misunderstood, below, are, a, few, of, the, official, tenets, or, beliefs, of, satanism, 1, one, should, strive, to, act, with, compassion, and, empathy, toward, all, creatures, in, accordance, with, reason, 2, oneâ, €, ™, s, body, is, inviolable, subject, to, oneâ, €, ™, s, own, will, alone, 3, do, not, harm, little, children, they, say, â, €, œdo, what, thou, wiltâ, €, , with, the, subtext, being, â, €, œas, long, as, you, donâ, €, ™, ...]</td>\n",
       "    </tr>\n",
       "    <tr>\n",
       "      <th>12</th>\n",
       "      <td>13.0</td>\n",
       "      <td>NaN</td>\n",
       "      <td>0</td>\n",
       "      <td>2023-02-16T00:25:11Z</td>\n",
       "      <td>please bring back guillotine noose least</td>\n",
       "      <td>60</td>\n",
       "      <td>[can, we, please, bring, back, the, guillotine, or, noose, at, least]</td>\n",
       "    </tr>\n",
       "    <tr>\n",
       "      <th>13</th>\n",
       "      <td>14.0</td>\n",
       "      <td>NaN</td>\n",
       "      <td>0</td>\n",
       "      <td>2023-02-15T00:44:55Z</td>\n",
       "      <td>apparently balenciaga rebrand partner withwait itdisney</td>\n",
       "      <td>97</td>\n",
       "      <td>[apparently, balenciaga, are, about, to, rebrand, and, partner, withâ, €, ¦, â, €, ¦, â, €, ¦, wait, for, itâ, €, ¦, â, €, ¦, disney]</td>\n",
       "    </tr>\n",
       "    <tr>\n",
       "      <th>14</th>\n",
       "      <td>15.0</td>\n",
       "      <td>NaN</td>\n",
       "      <td>0</td>\n",
       "      <td>2023-02-14T02:49:54Z</td>\n",
       "      <td>wow satan right front eyes god coming sooni glad</td>\n",
       "      <td>95</td>\n",
       "      <td>[wow, this, is, satan, right, in, front, of, our, eyes, god, is, coming, soonâ, €, ¦, i, am, so, glad, i, am, with, him]</td>\n",
       "    </tr>\n",
       "    <tr>\n",
       "      <th>15</th>\n",
       "      <td>16.0</td>\n",
       "      <td>NaN</td>\n",
       "      <td>0</td>\n",
       "      <td>2023-02-14T01:44:41Z</td>\n",
       "      <td>late revealed real intentions demonic</td>\n",
       "      <td>67</td>\n",
       "      <td>[too, late, they, have, revealed, their, real, intentions, very, demonic]</td>\n",
       "    </tr>\n",
       "    <tr>\n",
       "      <th>16</th>\n",
       "      <td>17.0</td>\n",
       "      <td>NaN</td>\n",
       "      <td>0</td>\n",
       "      <td>2023-02-13T22:28:00Z</td>\n",
       "      <td>devil wears balenciaga</td>\n",
       "      <td>27</td>\n",
       "      <td>[the, devil, wears, balenciaga]</td>\n",
       "    </tr>\n",
       "    <tr>\n",
       "      <th>17</th>\n",
       "      <td>18.0</td>\n",
       "      <td>NaN</td>\n",
       "      <td>0</td>\n",
       "      <td>2023-02-13T21:37:11Z</td>\n",
       "      <td>america take one else thought bitch catwalk dogwalk reason bitch catwalk furbaby guy charge gay asexual obviously hes seduced prostitutes thinks art omg</td>\n",
       "      <td>240</td>\n",
       "      <td>[america, has, to, take, it, where, no, one, else, thought, of, bitch, its, catwalk, not, dogwalk, for, a, reason, bitch, its, catwalk, not, furbaby, this, guy, in, charge, is, gay, and, asexual, obviously, hes, been, seduced, by, prostitutes, and, thinks, this, is, art, omg]</td>\n",
       "    </tr>\n",
       "    <tr>\n",
       "      <th>18</th>\n",
       "      <td>19.0</td>\n",
       "      <td>NaN</td>\n",
       "      <td>0</td>\n",
       "      <td>2023-02-13T11:36:50Z</td>\n",
       "      <td>agreed balenciaga try say dont haha course would admit names ruined course good kind lies</td>\n",
       "      <td>169</td>\n",
       "      <td>[i, agreed, with, you, balenciaga, just, try, to, say, that, they, dont, haha, of, course, who, would, admit, that, their, names, will, be, ruined, of, course, there, good, at, this, kind, of, lies]</td>\n",
       "    </tr>\n",
       "    <tr>\n",
       "      <th>19</th>\n",
       "      <td>20.0</td>\n",
       "      <td>NaN</td>\n",
       "      <td>0</td>\n",
       "      <td>2023-02-11T16:40:55Z</td>\n",
       "      <td>theyre even aorry</td>\n",
       "      <td>22</td>\n",
       "      <td>[theyre, not, even, aorry]</td>\n",
       "    </tr>\n",
       "  </tbody>\n",
       "</table>\n",
       "</div>"
      ],
      "text/plain": [
       "    Comment Number  Reply Number  Like Count          Published At  \\\n",
       "0              1.0           NaN           0  2023-02-24T21:49:40Z   \n",
       "1              2.0           NaN           0  2023-02-24T18:56:11Z   \n",
       "2              3.0           NaN           0  2023-02-23T00:40:54Z   \n",
       "3              4.0           NaN           0  2023-02-23T00:40:49Z   \n",
       "4              5.0           NaN           0  2023-02-19T13:26:47Z   \n",
       "5              6.0           NaN           0  2023-02-19T05:21:41Z   \n",
       "6              7.0           NaN           0  2023-02-18T20:09:59Z   \n",
       "7              8.0           NaN           0  2023-02-18T14:54:31Z   \n",
       "8              9.0           NaN           0  2023-02-17T23:17:16Z   \n",
       "9             10.0           NaN           0  2023-02-17T19:54:57Z   \n",
       "10            11.0           NaN           0  2023-02-17T14:16:10Z   \n",
       "11            12.0           NaN           1  2023-02-17T02:50:18Z   \n",
       "12            13.0           NaN           0  2023-02-16T00:25:11Z   \n",
       "13            14.0           NaN           0  2023-02-15T00:44:55Z   \n",
       "14            15.0           NaN           0  2023-02-14T02:49:54Z   \n",
       "15            16.0           NaN           0  2023-02-14T01:44:41Z   \n",
       "16            17.0           NaN           0  2023-02-13T22:28:00Z   \n",
       "17            18.0           NaN           0  2023-02-13T21:37:11Z   \n",
       "18            19.0           NaN           0  2023-02-13T11:36:50Z   \n",
       "19            20.0           NaN           0  2023-02-11T16:40:55Z   \n",
       "\n",
       "                                                                                                                                                                                                                                                                                                                                                                                                                                                                                                                                                                                                                                                                                                                                                                                                                                                                                                                                                                                 Comments  \\\n",
       "0                                                                                                                                                                                                                                                                                                                                                                                                                                                                                                                                                                                                                                                                                                                                                                                                                                                                                                                                                                                   thank   \n",
       "1                                                                                                                                                                                                                                                                                                                                                                                                                                                                                                                                                                                                                                                                                                                                                                                                                                                                                                                                                        wasnt apology one excuse another   \n",
       "2                                                                                                                                                                                                                                                                                                                                                                                                                                                                                                                                                                                                                                                                                                                                                                                                                                                                                                                                     probably children trafficked entertainment industry   \n",
       "3                                                                                                                                                                                                                                                                                                                                                                                                                                                                                                                                                                                                                                                                                                                                                                                                                                                                                                                                     probably children trafficked entertainment industry   \n",
       "4                                                                                                                                                                                                                                                                                                                                                                                                                                                                                                                                                                                                                                                                                                                                                                          epstein group elitists abused power saw girls used nothing trash lets go tabloid michael paedophilia sexual attraction prepubescent children doesnt describe girls used play things seeing adverts paedophiles   \n",
       "5                                                                                                                                                                                                                                                                                                                                                                                                                                                                                                                                                                                                                                                                                                                                                                                                                                                                                                                      blind could see evil attack demonic war waged minds hearts spirits   \n",
       "6                                                                                                                                                                                                                                                                                                                                                                                                                                              another thing found one child ads theres kids drawing background literally depicting satan also folded black satanic robe ad theres balenciaga tape except balenciaga spelt baalenciaga part baal facing camera ofc baal one idols worshipped biblical times known child sacrifice similar child sacrifice see todays culture sexualization abortion etc top similarly translated ba len ci aga latin says do want known satanic phrase type baal enci aga translates baal king theyre literally even hiding anymore normalized its become   \n",
       "7                                                                                                                                                                                                                                                                                                                                                                                                                                                                                                                                                                                                                                                                                                                                                                                                                                                                                                                                                                        sorry got caught   \n",
       "8                                                                                                                                                                                                                                                                                                                                                                                                                                                                                                                                                                                                                                                                                                                                                                                                                                                                                                                                      madeleine mccann used carry teddy bear around time   \n",
       "9                                                                                                                                                                                                                                                                                                                                                                                                                                                                                                                                                                                                                                                                                                                                                                                                                                                                                                                      wyta weird sex things always right w thing left also centrist im     \n",
       "10                                                                                                                                                                                                                                                                                                                                                                                                                                                                                                                                                                                                                                                                                                                                                                                                                                                                                      pedogate real yet podesta brothers high level government hollywood elites walk around blood hands   \n",
       "11  deplorable offenses committed balenciaga aligned satanism fact actions directly opposed satanic beliefs satanism wildly misunderstood official tenets beliefs satanism  one strive act compassion empathy toward creatures accordance reason  ones body inviolable subject ones alone  harm little children say do thou wilt subtext as long dont harm anyone process would encroachment another persons free directly opposes satanic tenets satanists passionate bodily autonomy obviously includes consent autonomy general core tenet entire belief system satanism never endorsed pedophilia never directly opposed tenets must follow practicing satanist lastly satanism devil worship fact satanists atheists dont believe deity rather concept satan story defiance used symbol human freedom free choose destiny simultaneously respecting peoples right free read far commend staying curious remember remain skeptical openminded always research friends fuck balenciaga   \n",
       "12                                                                                                                                                                                                                                                                                                                                                                                                                                                                                                                                                                                                                                                                                                                                                                                                                                                                                                                                               please bring back guillotine noose least   \n",
       "13                                                                                                                                                                                                                                                                                                                                                                                                                                                                                                                                                                                                                                                                                                                                                                                                                                                                                                                                apparently balenciaga rebrand partner withwait itdisney   \n",
       "14                                                                                                                                                                                                                                                                                                                                                                                                                                                                                                                                                                                                                                                                                                                                                                                                                                                                                                                                       wow satan right front eyes god coming sooni glad   \n",
       "15                                                                                                                                                                                                                                                                                                                                                                                                                                                                                                                                                                                                                                                                                                                                                                                                                                                                                                                                                  late revealed real intentions demonic   \n",
       "16                                                                                                                                                                                                                                                                                                                                                                                                                                                                                                                                                                                                                                                                                                                                                                                                                                                                                                                                                                 devil wears balenciaga   \n",
       "17                                                                                                                                                                                                                                                                                                                                                                                                                                                                                                                                                                                                                                                                                                                                                                                                                               america take one else thought bitch catwalk dogwalk reason bitch catwalk furbaby guy charge gay asexual obviously hes seduced prostitutes thinks art omg   \n",
       "18                                                                                                                                                                                                                                                                                                                                                                                                                                                                                                                                                                                                                                                                                                                                                                                                                                                                                              agreed balenciaga try say dont haha course would admit names ruined course good kind lies   \n",
       "19                                                                                                                                                                                                                                                                                                                                                                                                                                                                                                                                                                                                                                                                                                                                                                                                                                                                                                                                                                      theyre even aorry   \n",
       "\n",
       "    text_length  \\\n",
       "0            19   \n",
       "1            56   \n",
       "2            77   \n",
       "3            77   \n",
       "4           331   \n",
       "5           104   \n",
       "6           790   \n",
       "7            30   \n",
       "8            72   \n",
       "9           126   \n",
       "10          127   \n",
       "11         1502   \n",
       "12           60   \n",
       "13           97   \n",
       "14           95   \n",
       "15           67   \n",
       "16           27   \n",
       "17          240   \n",
       "18          169   \n",
       "19           22   \n",
       "\n",
       "                                                                                                                                                                                                                                                                                                                                                                                                                                                                                                                                                                                                                                                    Tokens  \n",
       "0                                                                                                                                                                                                                                                                                                                                                                                                                                                                                                                                                                                                                                  [thank, you, for, this]  \n",
       "1                                                                                                                                                                                                                                                                                                                                                                                                                                                                                                                                                                                         [that, wasnt, an, apology, it, was, one, excuse, after, another]  \n",
       "2                                                                                                                                                                                                                                                                                                                                                                                                                                                                                                                                                                [those, are, probably, children, that, are, trafficked, in, the, entertainment, industry]  \n",
       "3                                                                                                                                                                                                                                                                                                                                                                                                                                                                                                                                                                [those, are, probably, children, that, are, trafficked, in, the, entertainment, industry]  \n",
       "4                                                                                                                                                                                                                                                                   [epstein, and, his, group, of, elitists, abused, their, power, and, saw, the, girls, they, used, as, nothing, more, than, trash, but, lets, not, go, tabloid, michael, paedophilia, is, sexual, attraction, to, prepubescent, children, and, that, doesnt, describe, the, girls, they, used, as, their, play, things, what, we, are, seeing, in, these, adverts, is, for, paedophiles]  \n",
       "5                                                                                                                                                                                                                                                                                                                                                                                                                                                                                                                               [the, blind, could, see, there, is, an, evil, attack, a, demonic, war, being, waged, on, our, minds, hearts, and, spirits]  \n",
       "6                [another, thing, i, found, is, in, one, of, the, child, ads, thereâ, €, ™, s, a, kids, drawing, in, the, background, literally, depicting, satan, there, also, a, folded, black, satanic, robe, and, in, the, same, ad, thereâ, €, ™, s, balenciaga, tape, except, on, it, balenciaga, is, spelt, â, €, œbaalenciagaâ, €, , with, the, part, â, €, œbaalâ, €, , facing, the, camera, and, ofc, baal, is, one, of, the, idols, they, worshipped, in, biblical, times, and, was, known, for, child, sacrifice, similar, to, the, child, sacrifice, we, see, in, todays, culture, with, this, over, sexualization, abortion, etc, on, ...]  \n",
       "7                                                                                                                                                                                                                                                                                                                                                                                                                                                                                                                                                                                                                    [they, are, sorry, they, got, caught]  \n",
       "8                                                                                                                                                                                                                                                                                                                                                                                                                                                                                                                                                                  [madeleine, mccann, used, to, carry, a, teddy, bear, around, with, her, all, the, time]  \n",
       "9                                                                                                                                                                                                                                                                                                                                                                                                                                                                                [wyta, weird, sex, things, is, and, has, always, been, a, right, w, thing, not, left, also, i, am, a, centrist, iâ, €, ™, m, above, you, all, ðÿ, ‘, ˆðÿ, ‘, ‰, ðÿ, ˜, ‚]  \n",
       "10                                                                                                                                                                                                                                                                                                                                                                                                                                                                                                    [pedogate, is, real, yet, the, podesta, brothers, and, high, level, government, and, hollywood, elites, walk, around, with, blood, on, their, hands]  \n",
       "11  [the, deplorable, offenses, committed, by, balenciaga, are, not, aligned, with, satanism, in, fact, their, actions, are, directly, opposed, to, satanic, beliefs, satanism, is, wildly, misunderstood, below, are, a, few, of, the, official, tenets, or, beliefs, of, satanism, 1, one, should, strive, to, act, with, compassion, and, empathy, toward, all, creatures, in, accordance, with, reason, 2, oneâ, €, ™, s, body, is, inviolable, subject, to, oneâ, €, ™, s, own, will, alone, 3, do, not, harm, little, children, they, say, â, €, œdo, what, thou, wiltâ, €, , with, the, subtext, being, â, €, œas, long, as, you, donâ, €, ™, ...]  \n",
       "12                                                                                                                                                                                                                                                                                                                                                                                                                                                                                                                                                                                   [can, we, please, bring, back, the, guillotine, or, noose, at, least]  \n",
       "13                                                                                                                                                                                                                                                                                                                                                                                                                                                                                                                   [apparently, balenciaga, are, about, to, rebrand, and, partner, withâ, €, ¦, â, €, ¦, â, €, ¦, wait, for, itâ, €, ¦, â, €, ¦, disney]  \n",
       "14                                                                                                                                                                                                                                                                                                                                                                                                                                                                                                                                [wow, this, is, satan, right, in, front, of, our, eyes, god, is, coming, soonâ, €, ¦, i, am, so, glad, i, am, with, him]  \n",
       "15                                                                                                                                                                                                                                                                                                                                                                                                                                                                                                                                                                               [too, late, they, have, revealed, their, real, intentions, very, demonic]  \n",
       "16                                                                                                                                                                                                                                                                                                                                                                                                                                                                                                                                                                                                                         [the, devil, wears, balenciaga]  \n",
       "17                                                                                                                                                                                                                                                                                                                                                                    [america, has, to, take, it, where, no, one, else, thought, of, bitch, its, catwalk, not, dogwalk, for, a, reason, bitch, its, catwalk, not, furbaby, this, guy, in, charge, is, gay, and, asexual, obviously, hes, been, seduced, by, prostitutes, and, thinks, this, is, art, omg]  \n",
       "18                                                                                                                                                                                                                                                                                                                                                                                                                                                  [i, agreed, with, you, balenciaga, just, try, to, say, that, they, dont, haha, of, course, who, would, admit, that, their, names, will, be, ruined, of, course, there, good, at, this, kind, of, lies]  \n",
       "19                                                                                                                                                                                                                                                                                                                                                                                                                                                                                                                                                                                                                              [theyre, not, even, aorry]  "
      ]
     },
     "execution_count": 42,
     "metadata": {},
     "output_type": "execute_result"
    }
   ],
   "source": [
    "train.head(20)"
   ]
  },
  {
   "cell_type": "markdown",
   "id": "8ee3feaf",
   "metadata": {},
   "source": [
    "# 8)Lemmatize"
   ]
  },
  {
   "cell_type": "code",
   "execution_count": 43,
   "id": "1c1e4519",
   "metadata": {},
   "outputs": [
    {
     "name": "stdout",
     "output_type": "stream",
     "text": [
      "Requirement already satisfied: nltk in c:\\users\\admin\\anaconda3\\lib\\site-packages (3.8.1)\n",
      "Requirement already satisfied: joblib in c:\\users\\admin\\anaconda3\\lib\\site-packages (from nltk) (1.1.0)\n",
      "Requirement already satisfied: regex>=2021.8.3 in c:\\users\\admin\\anaconda3\\lib\\site-packages (from nltk) (2022.3.15)\n",
      "Requirement already satisfied: tqdm in c:\\users\\admin\\anaconda3\\lib\\site-packages (from nltk) (4.64.0)\n",
      "Requirement already satisfied: click in c:\\users\\admin\\anaconda3\\lib\\site-packages (from nltk) (8.0.4)\n",
      "Requirement already satisfied: colorama in c:\\users\\admin\\anaconda3\\lib\\site-packages (from click->nltk) (0.4.6)\n"
     ]
    }
   ],
   "source": [
    "!pip install nltk"
   ]
  },
  {
   "cell_type": "code",
   "execution_count": 44,
   "id": "439e6cd6",
   "metadata": {},
   "outputs": [
    {
     "name": "stderr",
     "output_type": "stream",
     "text": [
      "[nltk_data] Downloading package wordnet to\n",
      "[nltk_data]     C:\\Users\\admin\\AppData\\Roaming\\nltk_data...\n",
      "[nltk_data]   Package wordnet is already up-to-date!\n"
     ]
    },
    {
     "data": {
      "text/plain": [
       "True"
      ]
     },
     "execution_count": 44,
     "metadata": {},
     "output_type": "execute_result"
    }
   ],
   "source": [
    "import nltk\n",
    "nltk.download('wordnet')"
   ]
  },
  {
   "cell_type": "code",
   "execution_count": 45,
   "id": "fc780355",
   "metadata": {},
   "outputs": [
    {
     "name": "stderr",
     "output_type": "stream",
     "text": [
      "[nltk_data] Downloading package wordnet to\n",
      "[nltk_data]     C:\\Users\\admin\\AppData\\Roaming\\nltk_data...\n",
      "[nltk_data]   Package wordnet is already up-to-date!\n",
      "[nltk_data] Downloading package punkt to\n",
      "[nltk_data]     C:\\Users\\admin\\AppData\\Roaming\\nltk_data...\n",
      "[nltk_data]   Package punkt is already up-to-date!\n"
     ]
    },
    {
     "data": {
      "text/plain": [
       "True"
      ]
     },
     "execution_count": 45,
     "metadata": {},
     "output_type": "execute_result"
    }
   ],
   "source": [
    "import nltk\n",
    "nltk.download('wordnet')\n",
    "nltk.download('punkt')"
   ]
  },
  {
   "cell_type": "code",
   "execution_count": 46,
   "id": "c52b8aea",
   "metadata": {},
   "outputs": [],
   "source": [
    "from nltk.stem import WordNetLemmatizer\n",
    "\n",
    "\n",
    "lemmatizer = WordNetLemmatizer()"
   ]
  },
  {
   "cell_type": "code",
   "execution_count": 47,
   "id": "b106c28a",
   "metadata": {},
   "outputs": [
    {
     "name": "stderr",
     "output_type": "stream",
     "text": [
      "[nltk_data] Downloading package omw-1.4 to\n",
      "[nltk_data]     C:\\Users\\admin\\AppData\\Roaming\\nltk_data...\n",
      "[nltk_data]   Package omw-1.4 is already up-to-date!\n"
     ]
    },
    {
     "data": {
      "text/plain": [
       "0                                                                                                                                                                                                                 thank\n",
       "1                                                                                                                                                                                      wasnt apology one excuse another\n",
       "2                                                                                                                                                                   probably children trafficked entertainment industry\n",
       "3                                                                                                                                                                   probably children trafficked entertainment industry\n",
       "4        epstein group elitists abused power saw girls used nothing trash lets go tabloid michael paedophilia sexual attraction prepubescent children doesnt describe girls used play things seeing adverts paedophiles\n",
       "                                                                                                              ...                                                                                                      \n",
       "26525                                                                                                  lol dolls creepy saw video past put cold water lingerie would appear dolls got flack idk changed disgusting hope\n",
       "26526                                                                                       blaire beautiful never billboard brand must find small designer getting started values align maybe person pushes mainstream\n",
       "26527                                                       person sees rug denounce part problem rl thing essential human rights issue children protected adults cannot give consent innocence protected long possible\n",
       "26528                                                                                                           girlyes someone tells absolutely believe im seeing lot comments good believe telling keep good works im\n",
       "26529                                                                                omg im broke buy fashion like dont read fashion magazines omg knew evil worse thought nicole kidman posted belenciaga stuff called\n",
       "Name: Comments, Length: 26529, dtype: object"
      ]
     },
     "execution_count": 47,
     "metadata": {},
     "output_type": "execute_result"
    }
   ],
   "source": [
    "nltk.download('omw-1.4')\n",
    "\n",
    "# Lemmatize\n",
    "train['Comments'].apply(lambda x: lemmatizer.lemmatize(x))"
   ]
  },
  {
   "cell_type": "code",
   "execution_count": 48,
   "id": "181ed28d",
   "metadata": {},
   "outputs": [],
   "source": [
    "# Commit to Table\n",
    "\n",
    "train['Comments'] = train['Comments'].apply(lambda x: lemmatizer.lemmatize(x))"
   ]
  },
  {
   "cell_type": "code",
   "execution_count": 49,
   "id": "4ae66323",
   "metadata": {},
   "outputs": [
    {
     "name": "stderr",
     "output_type": "stream",
     "text": [
      "[nltk_data] Downloading package punkt to\n",
      "[nltk_data]     C:\\Users\\admin\\AppData\\Roaming\\nltk_data...\n",
      "[nltk_data]   Package punkt is already up-to-date!\n",
      "[nltk_data] Downloading package averaged_perceptron_tagger to\n",
      "[nltk_data]     C:\\Users\\admin\\AppData\\Roaming\\nltk_data...\n",
      "[nltk_data]   Package averaged_perceptron_tagger is already up-to-\n",
      "[nltk_data]       date!\n"
     ]
    },
    {
     "data": {
      "text/plain": [
       "True"
      ]
     },
     "execution_count": 49,
     "metadata": {},
     "output_type": "execute_result"
    }
   ],
   "source": [
    "# Download the required NLTK resources\n",
    "nltk.download('punkt')\n",
    "nltk.download('averaged_perceptron_tagger')"
   ]
  },
  {
   "cell_type": "markdown",
   "id": "40b7cd19",
   "metadata": {},
   "source": [
    "# 9) POS Tagging"
   ]
  },
  {
   "cell_type": "code",
   "execution_count": 50,
   "id": "9884859f",
   "metadata": {},
   "outputs": [],
   "source": [
    "def pos_tagging(text):\n",
    "    # Tokenize the text into words\n",
    "    tokens = nltk.word_tokenize(text)\n",
    "    # Perform POS tagging\n",
    "    tagged_tokens = nltk.pos_tag(tokens)\n",
    "    # Return the tagged tokens\n",
    "    return tagged_tokens"
   ]
  },
  {
   "cell_type": "code",
   "execution_count": 51,
   "id": "f48045c3",
   "metadata": {},
   "outputs": [],
   "source": [
    "# Apply the POS tagging function to the 'Comments' column\n",
    "train['POS_Tagged'] = train['Comments'].apply(pos_tagging)"
   ]
  },
  {
   "cell_type": "code",
   "execution_count": 52,
   "id": "7f6eafa8",
   "metadata": {
    "scrolled": true
   },
   "outputs": [
    {
     "data": {
      "text/plain": [
       "0                                                                                                                                                                                                                                                                                                                                                                                                                              [(thank, NN)]\n",
       "1                                                                                                                                                                                                                                                                                                                                                                       [(wasnt, NN), (apology, NN), (one, CD), (excuse, NN), (another, DT)]\n",
       "2                                                                                                                                                                                                                                                                                                                                                  [(probably, RB), (children, NNS), (trafficked, VBD), (entertainment, NN), (industry, NN)]\n",
       "3                                                                                                                                                                                                                                                                                                                                                  [(probably, RB), (children, NNS), (trafficked, VBD), (entertainment, NN), (industry, NN)]\n",
       "4        [(epstein, NN), (group, NN), (elitists, VBZ), (abused, JJ), (power, NN), (saw, VBD), (girls, NNS), (used, VBN), (nothing, NN), (trash, NN), (lets, NNS), (go, VBP), (tabloid, JJ), (michael, NN), (paedophilia, VBP), (sexual, JJ), (attraction, NN), (prepubescent, NN), (children, NNS), (doesnt, VBP), (describe, JJ), (girls, NNS), (used, VBN), (play, VBP), (things, NNS), (seeing, VBG), (adverts, NNS), (paedophiles, NNS)]\n",
       "                                                                                                                                                                                                                        ...                                                                                                                                                                                                                 \n",
       "26525                                                                                                                                                                          [(lol, NN), (dolls, NNS), (creepy, VBP), (saw, VBD), (video, JJ), (past, IN), (put, NN), (cold, JJ), (water, NN), (lingerie, NN), (would, MD), (appear, VB), (dolls, NNS), (got, VBD), (flack, RB), (idk, RB), (changed, VBN), (disgusting, VBG), (hope, NN)]\n",
       "26526                                                                                                                                                                               [(blaire, NN), (beautiful, NN), (never, RB), (billboard, RB), (brand, NN), (must, MD), (find, VB), (small, JJ), (designer, NN), (getting, VBG), (started, VBD), (values, NNS), (align, VB), (maybe, RB), (person, NN), (pushes, NNS), (mainstream, VBP)]\n",
       "26527                                                                                                  [(person, NN), (sees, NNS), (rug, VBP), (denounce, NN), (part, NN), (problem, NN), (rl, NN), (thing, NN), (essential, JJ), (human, JJ), (rights, NNS), (issue, NN), (children, NNS), (protected, VBD), (adults, NNS), (can, MD), (not, RB), (give, VB), (consent, NN), (innocence, NN), (protected, VBD), (long, JJ), (possible, JJ)]\n",
       "26528                                                                                                                                                                                                       [(girlyes, NNS), (someone, NN), (tells, VBZ), (absolutely, RB), (believe, JJ), (im, NN), (seeing, VBG), (lot, NN), (comments, NNS), (good, JJ), (believe, VBP), (telling, VBG), (keep, VB), (good, JJ), (works, NNS), (im, VBP)]\n",
       "26529                                                                                                                                           [(omg, NN), (im, NN), (broke, VBD), (buy, JJ), (fashion, NN), (like, IN), (dont, JJ), (read, JJ), (fashion, NN), (magazines, NNS), (omg, VBP), (knew, JJ), (evil, JJ), (worse, JJR), (thought, JJ), (nicole, NN), (kidman, NN), (posted, VBD), (belenciaga, JJ), (stuff, NN), (called, VBD)]\n",
       "Name: POS_Tagged, Length: 26529, dtype: object"
      ]
     },
     "execution_count": 52,
     "metadata": {},
     "output_type": "execute_result"
    }
   ],
   "source": [
    "train['POS_Tagged']"
   ]
  },
  {
   "cell_type": "markdown",
   "id": "47f8790a",
   "metadata": {},
   "source": [
    "# 10)Word-Embeddings using Glove & textblob for sentiment analysis"
   ]
  },
  {
   "cell_type": "code",
   "execution_count": 53,
   "id": "5d78bc09",
   "metadata": {},
   "outputs": [
    {
     "name": "stdout",
     "output_type": "stream",
     "text": [
      "Requirement already satisfied: textblob in c:\\users\\admin\\anaconda3\\lib\\site-packages (0.17.1)\n",
      "Requirement already satisfied: nltk>=3.1 in c:\\users\\admin\\anaconda3\\lib\\site-packages (from textblob) (3.8.1)\n",
      "Requirement already satisfied: regex>=2021.8.3 in c:\\users\\admin\\anaconda3\\lib\\site-packages (from nltk>=3.1->textblob) (2022.3.15)\n",
      "Requirement already satisfied: joblib in c:\\users\\admin\\anaconda3\\lib\\site-packages (from nltk>=3.1->textblob) (1.1.0)\n",
      "Requirement already satisfied: click in c:\\users\\admin\\anaconda3\\lib\\site-packages (from nltk>=3.1->textblob) (8.0.4)\n",
      "Requirement already satisfied: tqdm in c:\\users\\admin\\anaconda3\\lib\\site-packages (from nltk>=3.1->textblob) (4.64.0)\n",
      "Requirement already satisfied: colorama in c:\\users\\admin\\anaconda3\\lib\\site-packages (from click->nltk>=3.1->textblob) (0.4.6)\n"
     ]
    }
   ],
   "source": [
    "!pip install textblob"
   ]
  },
  {
   "cell_type": "code",
   "execution_count": 54,
   "id": "46383d03",
   "metadata": {
    "scrolled": true
   },
   "outputs": [],
   "source": [
    "import pandas as pd\n",
    "from textblob import TextBlob\n",
    "import gensim.downloader as api"
   ]
  },
  {
   "cell_type": "code",
   "execution_count": 55,
   "id": "564af03d",
   "metadata": {},
   "outputs": [],
   "source": [
    "import gensim.downloader as api\n",
    "\n",
    "# Load the GloVe model\n",
    "glove_model = api.load('glove-wiki-gigaword-100')\n",
    "\n",
    "import re\n",
    "\n",
    "def clean_text(text):\n",
    "    text = str(text)\n",
    "    # Remove any URLs\n",
    "    text = re.sub(r'http\\S+', '', text)\n",
    "    # Remove any user mentions and hashtags\n",
    "    text = re.sub(r'@\\w+|#\\w+', '', text)\n",
    "    # Remove any non-word character and extra whitespaces\n",
    "    text = re.sub(r'[^\\w\\s]', '', text).strip()\n",
    "    # Convert to lowercase\n",
    "    text = text.lower()\n",
    "    return text\n",
    "\n",
    "train['cleaned_comments'] = train['Comments'].apply(clean_text)"
   ]
  },
  {
   "cell_type": "code",
   "execution_count": 56,
   "id": "e72c0e84",
   "metadata": {},
   "outputs": [],
   "source": [
    "# Clean the comments\n",
    "train['cleaned_comments'] = train['Comments'].apply(clean_text)"
   ]
  },
  {
   "cell_type": "code",
   "execution_count": 57,
   "id": "b15a5a15",
   "metadata": {},
   "outputs": [],
   "source": [
    "# Create word embeddings for each comment\n",
    "def create_embeddings(text):\n",
    "    embeddings = []\n",
    "    for word in text.split():\n",
    "        if word in glove_model:\n",
    "            embeddings.append(glove_model[word])\n",
    "    return embeddings\n",
    "\n",
    "train['embeddings'] = train['cleaned_comments'].apply(create_embeddings)"
   ]
  },
  {
   "cell_type": "code",
   "execution_count": 58,
   "id": "934a5100",
   "metadata": {},
   "outputs": [],
   "source": [
    "# Calculate the sentiment score for each comment\n",
    "def calculate_sentiment_score(text):\n",
    "    return TextBlob(text).sentiment.polarity\n",
    "\n",
    "train['sentiment_score'] = train['cleaned_comments'].apply(calculate_sentiment_score)"
   ]
  },
  {
   "cell_type": "code",
   "execution_count": 59,
   "id": "0765bac1",
   "metadata": {},
   "outputs": [],
   "source": [
    "# Calculate the polarity scores and sentiment tags\n",
    "polarity = [TextBlob(comment).sentiment.polarity for comment in train['Comments']]\n",
    "sentiment = ['positive' if score > 0 else 'negative'  for score in polarity]"
   ]
  },
  {
   "cell_type": "code",
   "execution_count": 60,
   "id": "cdadd8d8",
   "metadata": {},
   "outputs": [],
   "source": [
    "# Add the new columns to the train DataFrame\n",
    "train['polarity'] = polarity\n",
    "train['sentiment'] = sentiment"
   ]
  },
  {
   "cell_type": "code",
   "execution_count": 61,
   "id": "50a69031",
   "metadata": {},
   "outputs": [
    {
     "name": "stdout",
     "output_type": "stream",
     "text": [
      "<class 'pandas.core.frame.DataFrame'>\n",
      "Int64Index: 26529 entries, 0 to 26529\n",
      "Data columns (total 13 columns):\n",
      " #   Column            Non-Null Count  Dtype  \n",
      "---  ------            --------------  -----  \n",
      " 0   Comment Number    21265 non-null  float64\n",
      " 1   Reply Number      5264 non-null   float64\n",
      " 2   Like Count        26529 non-null  int64  \n",
      " 3   Published At      26529 non-null  object \n",
      " 4   Comments          26529 non-null  object \n",
      " 5   text_length       26529 non-null  int64  \n",
      " 6   Tokens            26529 non-null  object \n",
      " 7   POS_Tagged        26529 non-null  object \n",
      " 8   cleaned_comments  26529 non-null  object \n",
      " 9   embeddings        26529 non-null  object \n",
      " 10  sentiment_score   26529 non-null  float64\n",
      " 11  polarity          26529 non-null  float64\n",
      " 12  sentiment         26529 non-null  object \n",
      "dtypes: float64(4), int64(2), object(7)\n",
      "memory usage: 2.8+ MB\n"
     ]
    }
   ],
   "source": [
    "train.info()"
   ]
  },
  {
   "cell_type": "code",
   "execution_count": 62,
   "id": "9a0b28b5",
   "metadata": {},
   "outputs": [
    {
     "data": {
      "text/plain": [
       "negative    18625\n",
       "positive     7904\n",
       "Name: sentiment, dtype: int64"
      ]
     },
     "execution_count": 62,
     "metadata": {},
     "output_type": "execute_result"
    }
   ],
   "source": [
    "# Count the number of comments for each sentiment\n",
    "train['sentiment'].value_counts()\n"
   ]
  },
  {
   "cell_type": "code",
   "execution_count": 63,
   "id": "ff92b9dc",
   "metadata": {},
   "outputs": [],
   "source": [
    "import numpy as np\n",
    "from sklearn.model_selection import train_test_split\n",
    "from sklearn.metrics import accuracy_score\n",
    "from sklearn.preprocessing import KBinsDiscretizer, StandardScaler\n",
    "from sklearn.linear_model import LinearRegression"
   ]
  },
  {
   "cell_type": "code",
   "execution_count": 64,
   "id": "b41dedb9",
   "metadata": {},
   "outputs": [],
   "source": [
    "def create_embeddings(text):\n",
    "    embeddings = []\n",
    "    for word in text.split():\n",
    "        if word in glove_model:\n",
    "            embeddings.append(glove_model[word])\n",
    "    if embeddings:\n",
    "        return np.mean(embeddings, axis=0)\n",
    "    else:\n",
    "        return np.zeros(glove_model.vector_size)"
   ]
  },
  {
   "cell_type": "code",
   "execution_count": 65,
   "id": "eac1f45a",
   "metadata": {},
   "outputs": [],
   "source": [
    "X = train[\"Comments\"].apply(create_embeddings).to_numpy()\n",
    "y = train[\"sentiment\"].to_numpy()"
   ]
  },
  {
   "cell_type": "code",
   "execution_count": 66,
   "id": "eea035a1",
   "metadata": {},
   "outputs": [],
   "source": [
    "# Reshape the data to have shape (n_samples, n_features)\n",
    "X = X.reshape(X.shape[0], -1)"
   ]
  },
  {
   "cell_type": "code",
   "execution_count": 67,
   "id": "6645028c",
   "metadata": {},
   "outputs": [],
   "source": [
    "X = X.reshape(-1) "
   ]
  },
  {
   "cell_type": "code",
   "execution_count": 68,
   "id": "fb6217ab",
   "metadata": {},
   "outputs": [],
   "source": [
    "from sklearn.feature_extraction.text import CountVectorizer\n",
    "import numpy as np\n",
    "\n",
    "X = np.apply_along_axis(lambda x: str(x[0]), axis=1, arr=X.reshape(-1,1))\n",
    "\n",
    "vectorizer = CountVectorizer()\n",
    "\n",
    "X = vectorizer.fit_transform(X.ravel())\n",
    "\n",
    "X = X.astype(np.float64)\n"
   ]
  },
  {
   "cell_type": "code",
   "execution_count": 69,
   "id": "708cc602",
   "metadata": {},
   "outputs": [],
   "source": [
    "from sklearn.preprocessing import StandardScaler\n",
    "\n",
    "# Normalize the data using StandardScaler\n",
    "scaler = StandardScaler(with_mean=False)\n",
    "X = scaler.fit_transform(X)\n"
   ]
  },
  {
   "cell_type": "code",
   "execution_count": 70,
   "id": "2c8fa9d6",
   "metadata": {},
   "outputs": [],
   "source": [
    "# Ensure that the data has a data type of float64\n",
    "X = X.astype(np.float64)"
   ]
  },
  {
   "cell_type": "code",
   "execution_count": 71,
   "id": "e5ee8c52",
   "metadata": {},
   "outputs": [],
   "source": [
    "X_train, X_test, y_train, y_test = train_test_split(X, y, test_size=0.2, random_state=42)"
   ]
  },
  {
   "cell_type": "code",
   "execution_count": 72,
   "id": "8180f8c5",
   "metadata": {},
   "outputs": [
    {
     "name": "stdout",
     "output_type": "stream",
     "text": [
      "(21223, 1738563)\n",
      "(5306, 1738563)\n",
      "(21223,)\n",
      "(5306,)\n"
     ]
    }
   ],
   "source": [
    "print(X_train.shape)\n",
    "print(X_test.shape)\n",
    "print(y_train.shape)\n",
    "print(y_test.shape)\n"
   ]
  },
  {
   "cell_type": "code",
   "execution_count": 73,
   "id": "c91ea560",
   "metadata": {},
   "outputs": [
    {
     "data": {
      "text/plain": [
       "21223"
      ]
     },
     "execution_count": 73,
     "metadata": {},
     "output_type": "execute_result"
    }
   ],
   "source": [
    "X_train.shape[0]"
   ]
  },
  {
   "cell_type": "markdown",
   "id": "2718eb55",
   "metadata": {},
   "source": [
    "# 11)Applying models - Logistic Regression & SVM"
   ]
  },
  {
   "cell_type": "code",
   "execution_count": 74,
   "id": "b3547b80",
   "metadata": {},
   "outputs": [],
   "source": [
    "from sklearn.preprocessing import LabelEncoder, OneHotEncoder\n",
    "\n",
    "# Convert the y vector into a matrix of one-hot encoded labels\n",
    "label_encoder = LabelEncoder()\n",
    "y_encoded = label_encoder.fit_transform(y)\n",
    "onehot_encoder = OneHotEncoder(sparse=False)\n",
    "y_onehot = onehot_encoder.fit_transform(y_encoded.reshape(-1, 1))"
   ]
  },
  {
   "cell_type": "code",
   "execution_count": 75,
   "id": "ec8daea7",
   "metadata": {},
   "outputs": [
    {
     "name": "stdout",
     "output_type": "stream",
     "text": [
      "Logistic Regression Accuracy: 0.7227666792310592\n",
      "Logistic Regression F1 score: 0.6213957491857748\n"
     ]
    },
    {
     "name": "stderr",
     "output_type": "stream",
     "text": [
      "C:\\Users\\admin\\anaconda3\\lib\\site-packages\\sklearn\\linear_model\\_logistic.py:814: ConvergenceWarning: lbfgs failed to converge (status=1):\n",
      "STOP: TOTAL NO. of ITERATIONS REACHED LIMIT.\n",
      "\n",
      "Increase the number of iterations (max_iter) or scale the data as shown in:\n",
      "    https://scikit-learn.org/stable/modules/preprocessing.html\n",
      "Please also refer to the documentation for alternative solver options:\n",
      "    https://scikit-learn.org/stable/modules/linear_model.html#logistic-regression\n",
      "  n_iter_i = _check_optimize_result(\n"
     ]
    }
   ],
   "source": [
    "from sklearn.linear_model import LogisticRegression\n",
    "from sklearn.metrics import accuracy_score, f1_score\n",
    "\n",
    "# Use the same X and y shapes\n",
    "X_train, X_test, y_train, y_test = train_test_split(X, y_encoded, test_size=0.2, random_state=42)\n",
    "\n",
    "# Train a Logistic Regression model\n",
    "logreg = LogisticRegression(max_iter=100)\n",
    "logreg.fit(X_train, y_train)\n",
    "\n",
    "# Evaluate the model\n",
    "y_pred = logreg.predict(X_test)\n",
    "accuracy = accuracy_score(y_test, y_pred)\n",
    "f1 = f1_score(y_test, y_pred, average='weighted')\n",
    "print(\"Logistic Regression Accuracy:\", accuracy)\n",
    "print(\"Logistic Regression F1 score:\", f1)\n"
   ]
  },
  {
   "cell_type": "code",
   "execution_count": 76,
   "id": "e7e8744f",
   "metadata": {},
   "outputs": [
    {
     "name": "stdout",
     "output_type": "stream",
     "text": [
      "SVM accuracy score: 0.7148511119487373\n",
      "SVM F1 score: 0.7148511119487373\n"
     ]
    }
   ],
   "source": [
    "from sklearn.svm import SVC\n",
    "from sklearn.metrics import accuracy_score, f1_score\n",
    "from sklearn.feature_selection import SelectKBest, chi2\n",
    "\n",
    "# Apply chi-square test to select top 1000 features\n",
    "k = 1000\n",
    "chi_selector = SelectKBest(chi2, k=k)\n",
    "X_train_chi = chi_selector.fit_transform(X_train, y_train)\n",
    "X_test_chi = chi_selector.transform(X_test)\n",
    "\n",
    "# Train an SVM model with the selected features\n",
    "svm = SVC(kernel='rbf',random_state=42)\n",
    "svm.fit(X_train_chi, y_train)\n",
    "\n",
    "# Evaluate the model\n",
    "svm_pred = svm.predict(X_test_chi)\n",
    "svm_acc = accuracy_score(y_test, svm_pred)\n",
    "svm_f1 = f1_score(y_test, svm_pred, average='micro')\n",
    "print(\"SVM accuracy score:\", svm_acc)\n",
    "print(\"SVM F1 score:\", svm_f1)"
   ]
  }
 ],
 "metadata": {
  "kernelspec": {
   "display_name": "Python 3 (ipykernel)",
   "language": "python",
   "name": "python3"
  },
  "language_info": {
   "codemirror_mode": {
    "name": "ipython",
    "version": 3
   },
   "file_extension": ".py",
   "mimetype": "text/x-python",
   "name": "python",
   "nbconvert_exporter": "python",
   "pygments_lexer": "ipython3",
   "version": "3.9.12"
  }
 },
 "nbformat": 4,
 "nbformat_minor": 5
}
