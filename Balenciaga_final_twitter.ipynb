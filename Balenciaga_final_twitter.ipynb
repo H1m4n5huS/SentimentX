{
 "cells": [
  {
   "cell_type": "code",
   "execution_count": 1,
   "id": "923e5abb",
   "metadata": {},
   "outputs": [
    {
     "name": "stdout",
     "output_type": "stream",
     "text": [
      "Requirement already satisfied: urlextract in c:\\users\\admin\\anaconda3\\lib\\site-packages (1.8.0)\n",
      "Requirement already satisfied: platformdirs in c:\\users\\admin\\anaconda3\\lib\\site-packages (from urlextract) (3.0.0)\n",
      "Requirement already satisfied: uritools in c:\\users\\admin\\anaconda3\\lib\\site-packages (from urlextract) (4.0.1)\n",
      "Requirement already satisfied: filelock in c:\\users\\admin\\anaconda3\\lib\\site-packages (from urlextract) (3.6.0)\n",
      "Requirement already satisfied: idna in c:\\users\\admin\\anaconda3\\lib\\site-packages (from urlextract) (3.3)\n",
      "Note: you may need to restart the kernel to use updated packages.\n"
     ]
    }
   ],
   "source": [
    "pip install urlextract"
   ]
  },
  {
   "cell_type": "code",
   "execution_count": 2,
   "id": "3e7cab6c",
   "metadata": {},
   "outputs": [
    {
     "name": "stdout",
     "output_type": "stream",
     "text": [
      "Requirement already satisfied: xlrd in c:\\users\\admin\\anaconda3\\lib\\site-packages (2.0.1)\n",
      "Note: you may need to restart the kernel to use updated packages.\n"
     ]
    }
   ],
   "source": [
    "pip install xlrd"
   ]
  },
  {
   "cell_type": "code",
   "execution_count": 3,
   "id": "36f786a2",
   "metadata": {},
   "outputs": [],
   "source": [
    "import numpy as np \n",
    "import pandas as pd \n",
    "import re\n",
    "import urlextract\n",
    "import xlrd\n",
    "\n",
    "\n",
    "# For Preprocesssing Text Data\n",
    "\n",
    "\n",
    "from nltk import word_tokenize, pos_tag\n",
    "from nltk.stem import WordNetLemmatizer\n",
    "from nltk.corpus import stopwords\n",
    "pd.set_option('display.max_colwidth', 1000)\n",
    "\n",
    "# Feature Extraction\n",
    "from sklearn.feature_extraction.text import TfidfVectorizer\n",
    "\n",
    "\n",
    "# Check Performance\n",
    "from sklearn.metrics import classification_report"
   ]
  },
  {
   "cell_type": "code",
   "execution_count": 4,
   "id": "3e453b20",
   "metadata": {},
   "outputs": [],
   "source": [
    "train = pd.read_excel(r\"Twitter_Balenciaga.xlsx\")"
   ]
  },
  {
   "cell_type": "code",
   "execution_count": 5,
   "id": "a75cc505",
   "metadata": {},
   "outputs": [
    {
     "data": {
      "text/html": [
       "<div>\n",
       "<style scoped>\n",
       "    .dataframe tbody tr th:only-of-type {\n",
       "        vertical-align: middle;\n",
       "    }\n",
       "\n",
       "    .dataframe tbody tr th {\n",
       "        vertical-align: top;\n",
       "    }\n",
       "\n",
       "    .dataframe thead th {\n",
       "        text-align: right;\n",
       "    }\n",
       "</style>\n",
       "<table border=\"1\" class=\"dataframe\">\n",
       "  <thead>\n",
       "    <tr style=\"text-align: right;\">\n",
       "      <th></th>\n",
       "      <th>id</th>\n",
       "      <th>content</th>\n",
       "      <th>date</th>\n",
       "    </tr>\n",
       "  </thead>\n",
       "  <tbody>\n",
       "    <tr>\n",
       "      <th>0</th>\n",
       "      <td>1.620207e+18</td>\n",
       "      <td>Latest Podcast is out now! - Balenciaga Is Run By Satanists | JUST THINK #5 https://t.co/AsIzLXynLn via @YouTube | #Balenciagapedos #Balenciaga #satan #satanist #SATANIC #pedophelia #podcastshow #podcast #podcastlife #PodcastAndChill #podcaster #podcasting #lucifer #luciferian #h</td>\n",
       "      <td>2023-01-30 23:46:10+00:00</td>\n",
       "    </tr>\n",
       "    <tr>\n",
       "      <th>1</th>\n",
       "      <td>1.620206e+18</td>\n",
       "      <td>Over 500 brands including #Gucci, #OffWhite, #Balenciaga, #MaisonMargiela, #MarineSerre, #SaintLaurent #fashion and many more https://t.co/gRmQa9ahMX https://t.co/7TMOC7LXRP</td>\n",
       "      <td>2023-01-30 23:44:31+00:00</td>\n",
       "    </tr>\n",
       "    <tr>\n",
       "      <th>2</th>\n",
       "      <td>1.620204e+18</td>\n",
       "      <td>So good I had to share! Check out all the items I'm loving on @Poshmarkapp #poshmark #fashion #style #shopmycloset #balenciaga #variety #stevemadden: https://t.co/C6QmuJvQSc https://t.co/08QcAOwm2C</td>\n",
       "      <td>2023-01-30 23:33:43+00:00</td>\n",
       "    </tr>\n",
       "    <tr>\n",
       "      <th>3</th>\n",
       "      <td>1.620151e+18</td>\n",
       "      <td>@SKKN NOTHING! We don't support pedos and those who support child abuse and exploitation. #balenciaga #cancelkimkardashian #cancelskims ðŸ’©ðŸ¤®ðŸ’©ðŸ¤®ðŸ’©ðŸ¤®</td>\n",
       "      <td>2023-01-30 20:04:35+00:00</td>\n",
       "    </tr>\n",
       "    <tr>\n",
       "      <th>4</th>\n",
       "      <td>1.620142e+18</td>\n",
       "      <td>So good I had to share! Check out all the items I'm loving on @Poshmarkapp #poshmark #fashion #style #shopmycloset #madewell #balenciaga #kaileigh: https://t.co/H1v5xqQaEo https://t.co/r3oAOFBei4</td>\n",
       "      <td>2023-01-30 19:30:19+00:00</td>\n",
       "    </tr>\n",
       "    <tr>\n",
       "      <th>5</th>\n",
       "      <td>1.620133e+18</td>\n",
       "      <td>WTF? Why is this happening??? #Balenciaga https://t.co/tJLYkONwP2</td>\n",
       "      <td>2023-01-30 18:51:52+00:00</td>\n",
       "    </tr>\n",
       "    <tr>\n",
       "      <th>6</th>\n",
       "      <td>1.620127e+18</td>\n",
       "      <td>So good I had to share! Check out all the items I'm loving on @Poshmarkapp from @kmullen1019 #poshmark #fashion #style #shopmycloset #balenciaga #freepeople #dannynicole: https://t.co/kBUmpEcdc4 https://t.co/p3n0TDQp5Y</td>\n",
       "      <td>2023-01-30 18:29:23+00:00</td>\n",
       "    </tr>\n",
       "    <tr>\n",
       "      <th>7</th>\n",
       "      <td>1.620118e+18</td>\n",
       "      <td>LETS TALK ABOUT BALENCIAGA ðŸ’€ #shorts #makeup #balenciaga https://t.co/mlTDFCx0Z3 via @YouTube</td>\n",
       "      <td>2023-01-30 17:51:43+00:00</td>\n",
       "    </tr>\n",
       "    <tr>\n",
       "      <th>8</th>\n",
       "      <td>1.620117e+18</td>\n",
       "      <td>Sadly it's much bigger than  #Balenciaga #BalenciagaGate gotta start somewhere</td>\n",
       "      <td>2023-01-30 17:48:02+00:00</td>\n",
       "    </tr>\n",
       "    <tr>\n",
       "      <th>9</th>\n",
       "      <td>1.620115e+18</td>\n",
       "      <td>@skims All the bot replies should tell you something....we don't support pedos and the abuse of children. You dress your OWN CHILD in a GIMP mask and call it fashion. You're sick and satanic. #balenciaga #cancelskims #cancelkimkardashian ðŸ¤®ðŸ¤®ðŸ¤®ðŸ¤®ð</td>\n",
       "      <td>2023-01-30 17:42:35+00:00</td>\n",
       "    </tr>\n",
       "    <tr>\n",
       "      <th>10</th>\n",
       "      <td>1.620112e+18</td>\n",
       "      <td>So good I had to share! Check out all the items I'm loving on @Poshmarkapp from @Ksena116 #poshmark #fashion #style #shopmycloset #eloquii #freepeople #balenciaga: https://t.co/k0jUwQZraI https://t.co/3JkET2Xhoc</td>\n",
       "      <td>2023-01-30 17:30:46+00:00</td>\n",
       "    </tr>\n",
       "    <tr>\n",
       "      <th>11</th>\n",
       "      <td>1.620112e+18</td>\n",
       "      <td>So good I had to share! Check out all the items I'm loving on @Poshmarkapp #poshmark #fashion #style #shopmycloset #balenciaga #francescascollections #anthropologie: https://t.co/5kdlZB1R7B https://t.co/aDBivrcQCK</td>\n",
       "      <td>2023-01-30 17:29:00+00:00</td>\n",
       "    </tr>\n",
       "    <tr>\n",
       "      <th>12</th>\n",
       "      <td>1.620103e+18</td>\n",
       "      <td>@Xx17965797N Sam Smith is disgusting. Ask him about #Balenciaga ðŸ‘€</td>\n",
       "      <td>2023-01-30 16:54:11+00:00</td>\n",
       "    </tr>\n",
       "    <tr>\n",
       "      <th>13</th>\n",
       "      <td>1.620097e+18</td>\n",
       "      <td>So good I had to share! Check out all the items I'm loving on @Poshmarkapp #poshmark #fashion #style #shopmycloset #cablegauge #balenciaga #levis: https://t.co/Whdx1MwOQs https://t.co/a39MBTiqmO</td>\n",
       "      <td>2023-01-30 16:31:18+00:00</td>\n",
       "    </tr>\n",
       "    <tr>\n",
       "      <th>14</th>\n",
       "      <td>1.620097e+18</td>\n",
       "      <td>So good I had to share! Check out all the items I'm loving on @Poshmarkapp from @MarilynSend1 #poshmark #fashion #style #shopmycloset #gbygiuliana #balenciaga #oneteaspoon: https://t.co/75NFkxcQ4L https://t.co/lMx9JAE6Iv</td>\n",
       "      <td>2023-01-30 16:31:00+00:00</td>\n",
       "    </tr>\n",
       "    <tr>\n",
       "      <th>15</th>\n",
       "      <td>1.620097e+18</td>\n",
       "      <td>So good I had to share! Check out all the items I'm loving on @Poshmarkapp #poshmark #fashion #style #shopmycloset #balenciaga #cherokee #kennethcolereaction: https://t.co/gVOHP3yXw1 https://t.co/EabvSzp1Eq</td>\n",
       "      <td>2023-01-30 16:29:15+00:00</td>\n",
       "    </tr>\n",
       "    <tr>\n",
       "      <th>16</th>\n",
       "      <td>1.620097e+18</td>\n",
       "      <td>Ye faces new hurdle in business and personal life as Australian visa denial looms\\n\\n#Adidas #AfricanBillionaires #AfricanAmericanbillionaire #AustralianVisa #Balenciaga #BillionairesAfrica #Featured #KanyeWest #Visaapplication\\n\\nhttps://t.co/2kmtD87VXJ https://t.co/1DAe2XqBO7</td>\n",
       "      <td>2023-01-30 16:28:32+00:00</td>\n",
       "    </tr>\n",
       "    <tr>\n",
       "      <th>17</th>\n",
       "      <td>1.620083e+18</td>\n",
       "      <td>#FFS\\n Lmao \\n#VaccineDeath #vaccine #VaccineDeaths #vaccinegenocide #VaccineDemocide #CovidVaccine #Covid_19 #Nuremberg2Â  #nhsÂ \\n\\n#DavosAgenda #WEFisEvil #wef23 #WEFpuppets #WEF\\n\\n#Balenciaga #Balenciagapedos #pedofila #grooming #HollywoodStudios</td>\n",
       "      <td>2023-01-30 15:33:46+00:00</td>\n",
       "    </tr>\n",
       "  </tbody>\n",
       "</table>\n",
       "</div>"
      ],
      "text/plain": [
       "              id  \\\n",
       "0   1.620207e+18   \n",
       "1   1.620206e+18   \n",
       "2   1.620204e+18   \n",
       "3   1.620151e+18   \n",
       "4   1.620142e+18   \n",
       "5   1.620133e+18   \n",
       "6   1.620127e+18   \n",
       "7   1.620118e+18   \n",
       "8   1.620117e+18   \n",
       "9   1.620115e+18   \n",
       "10  1.620112e+18   \n",
       "11  1.620112e+18   \n",
       "12  1.620103e+18   \n",
       "13  1.620097e+18   \n",
       "14  1.620097e+18   \n",
       "15  1.620097e+18   \n",
       "16  1.620097e+18   \n",
       "17  1.620083e+18   \n",
       "\n",
       "                                                                                                                                                                                                                                                                                     content  \\\n",
       "0   Latest Podcast is out now! - Balenciaga Is Run By Satanists | JUST THINK #5 https://t.co/AsIzLXynLn via @YouTube | #Balenciagapedos #Balenciaga #satan #satanist #SATANIC #pedophelia #podcastshow #podcast #podcastlife #PodcastAndChill #podcaster #podcasting #lucifer #luciferian #h   \n",
       "1                                                                                                              Over 500 brands including #Gucci, #OffWhite, #Balenciaga, #MaisonMargiela, #MarineSerre, #SaintLaurent #fashion and many more https://t.co/gRmQa9ahMX https://t.co/7TMOC7LXRP   \n",
       "2                                                                                      So good I had to share! Check out all the items I'm loving on @Poshmarkapp #poshmark #fashion #style #shopmycloset #balenciaga #variety #stevemadden: https://t.co/C6QmuJvQSc https://t.co/08QcAOwm2C   \n",
       "3                                                                                                                           @SKKN NOTHING! We don't support pedos and those who support child abuse and exploitation. #balenciaga #cancelkimkardashian #cancelskims ðŸ’©ðŸ¤®ðŸ’©ðŸ¤®ðŸ’©ðŸ¤®   \n",
       "4                                                                                        So good I had to share! Check out all the items I'm loving on @Poshmarkapp #poshmark #fashion #style #shopmycloset #madewell #balenciaga #kaileigh: https://t.co/H1v5xqQaEo https://t.co/r3oAOFBei4   \n",
       "5                                                                                                                                                                                                                          WTF? Why is this happening??? #Balenciaga https://t.co/tJLYkONwP2   \n",
       "6                                                                 So good I had to share! Check out all the items I'm loving on @Poshmarkapp from @kmullen1019 #poshmark #fashion #style #shopmycloset #balenciaga #freepeople #dannynicole: https://t.co/kBUmpEcdc4 https://t.co/p3n0TDQp5Y   \n",
       "7                                                                                                                                                                                           LETS TALK ABOUT BALENCIAGA ðŸ’€ #shorts #makeup #balenciaga https://t.co/mlTDFCx0Z3 via @YouTube   \n",
       "8                                                                                                                                                                                                             Sadly it's much bigger than  #Balenciaga #BalenciagaGate gotta start somewhere   \n",
       "9                            @skims All the bot replies should tell you something....we don't support pedos and the abuse of children. You dress your OWN CHILD in a GIMP mask and call it fashion. You're sick and satanic. #balenciaga #cancelskims #cancelkimkardashian ðŸ¤®ðŸ¤®ðŸ¤®ðŸ¤®ð   \n",
       "10                                                                       So good I had to share! Check out all the items I'm loving on @Poshmarkapp from @Ksena116 #poshmark #fashion #style #shopmycloset #eloquii #freepeople #balenciaga: https://t.co/k0jUwQZraI https://t.co/3JkET2Xhoc   \n",
       "11                                                                     So good I had to share! Check out all the items I'm loving on @Poshmarkapp #poshmark #fashion #style #shopmycloset #balenciaga #francescascollections #anthropologie: https://t.co/5kdlZB1R7B https://t.co/aDBivrcQCK   \n",
       "12                                                                                                                                                                                                                      @Xx17965797N Sam Smith is disgusting. Ask him about #Balenciaga ðŸ‘€   \n",
       "13                                                                                        So good I had to share! Check out all the items I'm loving on @Poshmarkapp #poshmark #fashion #style #shopmycloset #cablegauge #balenciaga #levis: https://t.co/Whdx1MwOQs https://t.co/a39MBTiqmO   \n",
       "14                                                              So good I had to share! Check out all the items I'm loving on @Poshmarkapp from @MarilynSend1 #poshmark #fashion #style #shopmycloset #gbygiuliana #balenciaga #oneteaspoon: https://t.co/75NFkxcQ4L https://t.co/lMx9JAE6Iv   \n",
       "15                                                                            So good I had to share! Check out all the items I'm loving on @Poshmarkapp #poshmark #fashion #style #shopmycloset #balenciaga #cherokee #kennethcolereaction: https://t.co/gVOHP3yXw1 https://t.co/EabvSzp1Eq   \n",
       "16    Ye faces new hurdle in business and personal life as Australian visa denial looms\\n\\n#Adidas #AfricanBillionaires #AfricanAmericanbillionaire #AustralianVisa #Balenciaga #BillionairesAfrica #Featured #KanyeWest #Visaapplication\\n\\nhttps://t.co/2kmtD87VXJ https://t.co/1DAe2XqBO7   \n",
       "17                               #FFS\\n Lmao \\n#VaccineDeath #vaccine #VaccineDeaths #vaccinegenocide #VaccineDemocide #CovidVaccine #Covid_19 #Nuremberg2Â  #nhsÂ \\n\\n#DavosAgenda #WEFisEvil #wef23 #WEFpuppets #WEF\\n\\n#Balenciaga #Balenciagapedos #pedofila #grooming #HollywoodStudios   \n",
       "\n",
       "                         date  \n",
       "0   2023-01-30 23:46:10+00:00  \n",
       "1   2023-01-30 23:44:31+00:00  \n",
       "2   2023-01-30 23:33:43+00:00  \n",
       "3   2023-01-30 20:04:35+00:00  \n",
       "4   2023-01-30 19:30:19+00:00  \n",
       "5   2023-01-30 18:51:52+00:00  \n",
       "6   2023-01-30 18:29:23+00:00  \n",
       "7   2023-01-30 17:51:43+00:00  \n",
       "8   2023-01-30 17:48:02+00:00  \n",
       "9   2023-01-30 17:42:35+00:00  \n",
       "10  2023-01-30 17:30:46+00:00  \n",
       "11  2023-01-30 17:29:00+00:00  \n",
       "12  2023-01-30 16:54:11+00:00  \n",
       "13  2023-01-30 16:31:18+00:00  \n",
       "14  2023-01-30 16:31:00+00:00  \n",
       "15  2023-01-30 16:29:15+00:00  \n",
       "16  2023-01-30 16:28:32+00:00  \n",
       "17  2023-01-30 15:33:46+00:00  "
      ]
     },
     "execution_count": 5,
     "metadata": {},
     "output_type": "execute_result"
    }
   ],
   "source": [
    "train.head(18)"
   ]
  },
  {
   "cell_type": "code",
   "execution_count": 15,
   "id": "1a61098b",
   "metadata": {},
   "outputs": [
    {
     "data": {
      "text/plain": [
       "29161"
      ]
     },
     "execution_count": 15,
     "metadata": {},
     "output_type": "execute_result"
    }
   ],
   "source": [
    "train.shape[0]"
   ]
  },
  {
   "cell_type": "code",
   "execution_count": 21,
   "id": "23bd83c3",
   "metadata": {},
   "outputs": [],
   "source": [
    "##Replace 'Text' column to 'Comments'\n",
    "\n",
    "train.rename(columns = {'content':'Comments'}, inplace = True)"
   ]
  },
  {
   "cell_type": "code",
   "execution_count": 22,
   "id": "f00ee935",
   "metadata": {},
   "outputs": [
    {
     "data": {
      "text/plain": [
       "Index(['id', 'Comments', 'date'], dtype='object')"
      ]
     },
     "execution_count": 22,
     "metadata": {},
     "output_type": "execute_result"
    }
   ],
   "source": [
    "train.columns"
   ]
  },
  {
   "cell_type": "code",
   "execution_count": 23,
   "id": "a88e3427",
   "metadata": {},
   "outputs": [
    {
     "data": {
      "text/plain": [
       "29161"
      ]
     },
     "execution_count": 23,
     "metadata": {},
     "output_type": "execute_result"
    }
   ],
   "source": [
    "train[train.columns[-1]].count()"
   ]
  },
  {
   "cell_type": "code",
   "execution_count": 24,
   "id": "d6d7df84",
   "metadata": {},
   "outputs": [
    {
     "name": "stdout",
     "output_type": "stream",
     "text": [
      "Empty DataFrame\n",
      "Columns: [id, Comments, date]\n",
      "Index: []\n"
     ]
    }
   ],
   "source": [
    "# Null rows detection\n",
    "\n",
    "null_rows = train[train['Comments'].isnull()]\n",
    "\n",
    "print(null_rows)"
   ]
  },
  {
   "cell_type": "code",
   "execution_count": 25,
   "id": "c3a9acfb",
   "metadata": {},
   "outputs": [],
   "source": [
    "# Drop rows with null values in 'Comments' column\n",
    "train = train.dropna(subset=['Comments'])"
   ]
  },
  {
   "cell_type": "code",
   "execution_count": 26,
   "id": "e285304b",
   "metadata": {},
   "outputs": [
    {
     "data": {
      "text/plain": [
       "(29161, 3)"
      ]
     },
     "execution_count": 26,
     "metadata": {},
     "output_type": "execute_result"
    }
   ],
   "source": [
    "train.shape"
   ]
  },
  {
   "cell_type": "code",
   "execution_count": 27,
   "id": "dd2db26e",
   "metadata": {},
   "outputs": [
    {
     "name": "stdout",
     "output_type": "stream",
     "text": [
      "Empty DataFrame\n",
      "Columns: [id, Comments, date]\n",
      "Index: []\n"
     ]
    }
   ],
   "source": [
    "# Null rows detection\n",
    "\n",
    "null_rows = train[train['Comments'].isnull()]\n",
    "\n",
    "print(null_rows)"
   ]
  },
  {
   "cell_type": "code",
   "execution_count": 28,
   "id": "c5993e52",
   "metadata": {},
   "outputs": [],
   "source": [
    "train['Comments'] = train['Comments'].astype(str)"
   ]
  },
  {
   "cell_type": "code",
   "execution_count": 29,
   "id": "7589346c",
   "metadata": {},
   "outputs": [],
   "source": [
    "##train = train.sample(n=18000,replace=True)"
   ]
  },
  {
   "cell_type": "code",
   "execution_count": 30,
   "id": "67f33b2e",
   "metadata": {},
   "outputs": [
    {
     "data": {
      "text/plain": [
       "(29161, 3)"
      ]
     },
     "execution_count": 30,
     "metadata": {},
     "output_type": "execute_result"
    }
   ],
   "source": [
    "train.shape"
   ]
  },
  {
   "cell_type": "code",
   "execution_count": 31,
   "id": "025b5c4f",
   "metadata": {},
   "outputs": [],
   "source": [
    "### Create Length Feature\n",
    "\n",
    "train['text_length'] = train['Comments'].apply(lambda x : len(x))"
   ]
  },
  {
   "cell_type": "code",
   "execution_count": 32,
   "id": "ced293ff",
   "metadata": {},
   "outputs": [
    {
     "data": {
      "text/plain": [
       "<AxesSubplot:ylabel='Frequency'>"
      ]
     },
     "execution_count": 32,
     "metadata": {},
     "output_type": "execute_result"
    },
    {
     "data": {
      "image/png": "[encoded data removed]",
      "text/plain": [
       "<Figure size 432x288 with 1 Axes>"
      ]
     },
     "metadata": {
      "needs_background": "light"
     },
     "output_type": "display_data"
    }
   ],
   "source": [
    "train['text_length'].plot.hist(bins = 10)"
   ]
  },
  {
   "cell_type": "code",
   "execution_count": 33,
   "id": "e7fad471",
   "metadata": {},
   "outputs": [],
   "source": [
    "# URLs removal and extra spaces too\n",
    "\n",
    "train['Comments'] = train['Comments'].apply(lambda x: re.sub(r'https?\\S+', '', x).strip())"
   ]
  },
  {
   "cell_type": "code",
   "execution_count": 34,
   "id": "ce55fa71",
   "metadata": {},
   "outputs": [
    {
     "data": {
      "text/html": [
       "<div>\n",
       "<style scoped>\n",
       "    .dataframe tbody tr th:only-of-type {\n",
       "        vertical-align: middle;\n",
       "    }\n",
       "\n",
       "    .dataframe tbody tr th {\n",
       "        vertical-align: top;\n",
       "    }\n",
       "\n",
       "    .dataframe thead th {\n",
       "        text-align: right;\n",
       "    }\n",
       "</style>\n",
       "<table border=\"1\" class=\"dataframe\">\n",
       "  <thead>\n",
       "    <tr style=\"text-align: right;\">\n",
       "      <th></th>\n",
       "      <th>id</th>\n",
       "      <th>Comments</th>\n",
       "      <th>date</th>\n",
       "      <th>text_length</th>\n",
       "    </tr>\n",
       "  </thead>\n",
       "  <tbody>\n",
       "    <tr>\n",
       "      <th>0</th>\n",
       "      <td>1.620207e+18</td>\n",
       "      <td>Latest Podcast is out now! - Balenciaga Is Run By Satanists | JUST THINK #5  via @YouTube | #Balenciagapedos #Balenciaga #satan #satanist #SATANIC #pedophelia #podcastshow #podcast #podcastlife #PodcastAndChill #podcaster #podcasting #lucifer #luciferian #h</td>\n",
       "      <td>2023-01-30 23:46:10+00:00</td>\n",
       "      <td>280</td>\n",
       "    </tr>\n",
       "    <tr>\n",
       "      <th>1</th>\n",
       "      <td>1.620206e+18</td>\n",
       "      <td>Over 500 brands including #Gucci, #OffWhite, #Balenciaga, #MaisonMargiela, #MarineSerre, #SaintLaurent #fashion and many more</td>\n",
       "      <td>2023-01-30 23:44:31+00:00</td>\n",
       "      <td>173</td>\n",
       "    </tr>\n",
       "    <tr>\n",
       "      <th>2</th>\n",
       "      <td>1.620204e+18</td>\n",
       "      <td>So good I had to share! Check out all the items I'm loving on @Poshmarkapp #poshmark #fashion #style #shopmycloset #balenciaga #variety #stevemadden:</td>\n",
       "      <td>2023-01-30 23:33:43+00:00</td>\n",
       "      <td>197</td>\n",
       "    </tr>\n",
       "    <tr>\n",
       "      <th>3</th>\n",
       "      <td>1.620151e+18</td>\n",
       "      <td>@SKKN NOTHING! We don't support pedos and those who support child abuse and exploitation. #balenciaga #cancelkimkardashian #cancelskims ðŸ’©ðŸ¤®ðŸ’©ðŸ¤®ðŸ’©ðŸ¤®</td>\n",
       "      <td>2023-01-30 20:04:35+00:00</td>\n",
       "      <td>160</td>\n",
       "    </tr>\n",
       "    <tr>\n",
       "      <th>4</th>\n",
       "      <td>1.620142e+18</td>\n",
       "      <td>So good I had to share! Check out all the items I'm loving on @Poshmarkapp #poshmark #fashion #style #shopmycloset #madewell #balenciaga #kaileigh:</td>\n",
       "      <td>2023-01-30 19:30:19+00:00</td>\n",
       "      <td>195</td>\n",
       "    </tr>\n",
       "    <tr>\n",
       "      <th>5</th>\n",
       "      <td>1.620133e+18</td>\n",
       "      <td>WTF? Why is this happening??? #Balenciaga</td>\n",
       "      <td>2023-01-30 18:51:52+00:00</td>\n",
       "      <td>65</td>\n",
       "    </tr>\n",
       "    <tr>\n",
       "      <th>6</th>\n",
       "      <td>1.620127e+18</td>\n",
       "      <td>So good I had to share! Check out all the items I'm loving on @Poshmarkapp from @kmullen1019 #poshmark #fashion #style #shopmycloset #balenciaga #freepeople #dannynicole:</td>\n",
       "      <td>2023-01-30 18:29:23+00:00</td>\n",
       "      <td>218</td>\n",
       "    </tr>\n",
       "    <tr>\n",
       "      <th>7</th>\n",
       "      <td>1.620118e+18</td>\n",
       "      <td>LETS TALK ABOUT BALENCIAGA ðŸ’€ #shorts #makeup #balenciaga  via @YouTube</td>\n",
       "      <td>2023-01-30 17:51:43+00:00</td>\n",
       "      <td>96</td>\n",
       "    </tr>\n",
       "    <tr>\n",
       "      <th>8</th>\n",
       "      <td>1.620117e+18</td>\n",
       "      <td>Sadly it's much bigger than  #Balenciaga #BalenciagaGate gotta start somewhere</td>\n",
       "      <td>2023-01-30 17:48:02+00:00</td>\n",
       "      <td>78</td>\n",
       "    </tr>\n",
       "    <tr>\n",
       "      <th>9</th>\n",
       "      <td>1.620115e+18</td>\n",
       "      <td>@skims All the bot replies should tell you something....we don't support pedos and the abuse of children. You dress your OWN CHILD in a GIMP mask and call it fashion. You're sick and satanic. #balenciaga #cancelskims #cancelkimkardashian ðŸ¤®ðŸ¤®ðŸ¤®ðŸ¤®ð</td>\n",
       "      <td>2023-01-30 17:42:35+00:00</td>\n",
       "      <td>255</td>\n",
       "    </tr>\n",
       "  </tbody>\n",
       "</table>\n",
       "</div>"
      ],
      "text/plain": [
       "             id  \\\n",
       "0  1.620207e+18   \n",
       "1  1.620206e+18   \n",
       "2  1.620204e+18   \n",
       "3  1.620151e+18   \n",
       "4  1.620142e+18   \n",
       "5  1.620133e+18   \n",
       "6  1.620127e+18   \n",
       "7  1.620118e+18   \n",
       "8  1.620117e+18   \n",
       "9  1.620115e+18   \n",
       "\n",
       "                                                                                                                                                                                                                                                            Comments  \\\n",
       "0  Latest Podcast is out now! - Balenciaga Is Run By Satanists | JUST THINK #5  via @YouTube | #Balenciagapedos #Balenciaga #satan #satanist #SATANIC #pedophelia #podcastshow #podcast #podcastlife #PodcastAndChill #podcaster #podcasting #lucifer #luciferian #h   \n",
       "1                                                                                                                                      Over 500 brands including #Gucci, #OffWhite, #Balenciaga, #MaisonMargiela, #MarineSerre, #SaintLaurent #fashion and many more   \n",
       "2                                                                                                              So good I had to share! Check out all the items I'm loving on @Poshmarkapp #poshmark #fashion #style #shopmycloset #balenciaga #variety #stevemadden:   \n",
       "3                                                                                                   @SKKN NOTHING! We don't support pedos and those who support child abuse and exploitation. #balenciaga #cancelkimkardashian #cancelskims ðŸ’©ðŸ¤®ðŸ’©ðŸ¤®ðŸ’©ðŸ¤®   \n",
       "4                                                                                                                So good I had to share! Check out all the items I'm loving on @Poshmarkapp #poshmark #fashion #style #shopmycloset #madewell #balenciaga #kaileigh:   \n",
       "5                                                                                                                                                                                                                          WTF? Why is this happening??? #Balenciaga   \n",
       "6                                                                                         So good I had to share! Check out all the items I'm loving on @Poshmarkapp from @kmullen1019 #poshmark #fashion #style #shopmycloset #balenciaga #freepeople #dannynicole:   \n",
       "7                                                                                                                                                                                          LETS TALK ABOUT BALENCIAGA ðŸ’€ #shorts #makeup #balenciaga  via @YouTube   \n",
       "8                                                                                                                                                                                     Sadly it's much bigger than  #Balenciaga #BalenciagaGate gotta start somewhere   \n",
       "9    @skims All the bot replies should tell you something....we don't support pedos and the abuse of children. You dress your OWN CHILD in a GIMP mask and call it fashion. You're sick and satanic. #balenciaga #cancelskims #cancelkimkardashian ðŸ¤®ðŸ¤®ðŸ¤®ðŸ¤®ð   \n",
       "\n",
       "                        date  text_length  \n",
       "0  2023-01-30 23:46:10+00:00          280  \n",
       "1  2023-01-30 23:44:31+00:00          173  \n",
       "2  2023-01-30 23:33:43+00:00          197  \n",
       "3  2023-01-30 20:04:35+00:00          160  \n",
       "4  2023-01-30 19:30:19+00:00          195  \n",
       "5  2023-01-30 18:51:52+00:00           65  \n",
       "6  2023-01-30 18:29:23+00:00          218  \n",
       "7  2023-01-30 17:51:43+00:00           96  \n",
       "8  2023-01-30 17:48:02+00:00           78  \n",
       "9  2023-01-30 17:42:35+00:00          255  "
      ]
     },
     "execution_count": 34,
     "metadata": {},
     "output_type": "execute_result"
    }
   ],
   "source": [
    "train.head(10)"
   ]
  },
  {
   "cell_type": "code",
   "execution_count": 35,
   "id": "86aff4eb",
   "metadata": {},
   "outputs": [],
   "source": [
    "##Remove punctuation\n",
    "\n",
    "import string\n",
    "def remove_punctuations(text):\n",
    "    for punctuation in string.punctuation:\n",
    "        text = text.replace(punctuation, '')\n",
    "    return text"
   ]
  },
  {
   "cell_type": "code",
   "execution_count": 36,
   "id": "fc4ce243",
   "metadata": {},
   "outputs": [
    {
     "data": {
      "text/plain": [
       "0                                                    Latest Podcast is out now  Balenciaga Is Run By Satanists  JUST THINK 5  via YouTube  Balenciagapedos Balenciaga satan satanist SATANIC pedophelia podcastshow podcast podcastlife PodcastAndChill podcaster podcasting lucifer luciferian h\n",
       "1                                                                                                                                                                               Over 500 brands including Gucci OffWhite Balenciaga MaisonMargiela MarineSerre SaintLaurent fashion and many more\n",
       "2                                                                                                                                                      So good I had to share Check out all the items Im loving on Poshmarkapp poshmark fashion style shopmycloset balenciaga variety stevemadden\n",
       "3                                                                                                                                       SKKN NOTHING We dont support pedos and those who support child abuse and exploitation balenciaga cancelkimkardashian cancelskims ðŸ’©ðŸ¤®ðŸ’©ðŸ¤®ðŸ’©ðŸ¤®\n",
       "4                                                                                                                                                        So good I had to share Check out all the items Im loving on Poshmarkapp poshmark fashion style shopmycloset madewell balenciaga kaileigh\n",
       "                                                                                                                                                   ...                                                                                                                                           \n",
       "29156    Nah itâ€™s past all that They need to be cancelled and out of business asap Theyâ€™ll apologize and blame some random employee for it yet theyâ€™ll continue to add hidden messages in their ads because they can and thatâ€™s how theyâ€™ve continued to be successful CancelBalenciaga\n",
       "29157                                                                                                                                                                                                                             itsnatlydenise It getting worse than i thought CancelBalenciaga\n",
       "29158                                                                                                                                                                                                               itsnatlydenise Think we should start trending FuckBalenciaga CancelBalenciaga\n",
       "29159                                                                                                                                                                                                                                Sick to my stomach byebalenciaga Balenciaga CancelBalenciaga\n",
       "29160                                                                                                                                                                                                                           They deleted everything We donâ€™t do pedophiles CancelBalenciaga\n",
       "Name: Comments, Length: 29161, dtype: object"
      ]
     },
     "execution_count": 36,
     "metadata": {},
     "output_type": "execute_result"
    }
   ],
   "source": [
    "train['Comments'].apply(remove_punctuations)"
   ]
  },
  {
   "cell_type": "code",
   "execution_count": 37,
   "id": "01d67e19",
   "metadata": {},
   "outputs": [],
   "source": [
    "# Commit to Table\n",
    "train['Comments'] = train['Comments'].apply(remove_punctuations)"
   ]
  },
  {
   "cell_type": "code",
   "execution_count": 38,
   "id": "68699145",
   "metadata": {},
   "outputs": [
    {
     "data": {
      "text/plain": [
       "<AxesSubplot:ylabel='Frequency'>"
      ]
     },
     "execution_count": 38,
     "metadata": {},
     "output_type": "execute_result"
    },
    {
     "data": {
      "image/png": "[encoded data removed]",
      "text/plain": [
       "<Figure size 432x288 with 1 Axes>"
      ]
     },
     "metadata": {
      "needs_background": "light"
     },
     "output_type": "display_data"
    }
   ],
   "source": [
    "train['text_length'].plot.hist(bins = 10)"
   ]
  },
  {
   "cell_type": "code",
   "execution_count": 39,
   "id": "76e5bdb7",
   "metadata": {},
   "outputs": [
    {
     "data": {
      "text/plain": [
       "0                                                    latest podcast is out now  balenciaga is run by satanists  just think 5  via youtube  balenciagapedos balenciaga satan satanist satanic pedophelia podcastshow podcast podcastlife podcastandchill podcaster podcasting lucifer luciferian h\n",
       "1                                                                                                                                                                               over 500 brands including gucci offwhite balenciaga maisonmargiela marineserre saintlaurent fashion and many more\n",
       "2                                                                                                                                                      so good i had to share check out all the items im loving on poshmarkapp poshmark fashion style shopmycloset balenciaga variety stevemadden\n",
       "3                                                                                                                                       skkn nothing we dont support pedos and those who support child abuse and exploitation balenciaga cancelkimkardashian cancelskims ðÿ’©ðÿ¤®ðÿ’©ðÿ¤®ðÿ’©ðÿ¤®\n",
       "4                                                                                                                                                        so good i had to share check out all the items im loving on poshmarkapp poshmark fashion style shopmycloset madewell balenciaga kaileigh\n",
       "                                                                                                                                                   ...                                                                                                                                           \n",
       "29156    nah itâ€™s past all that they need to be cancelled and out of business asap theyâ€™ll apologize and blame some random employee for it yet theyâ€™ll continue to add hidden messages in their ads because they can and thatâ€™s how theyâ€™ve continued to be successful cancelbalenciaga\n",
       "29157                                                                                                                                                                                                                             itsnatlydenise it getting worse than i thought cancelbalenciaga\n",
       "29158                                                                                                                                                                                                               itsnatlydenise think we should start trending fuckbalenciaga cancelbalenciaga\n",
       "29159                                                                                                                                                                                                                                sick to my stomach byebalenciaga balenciaga cancelbalenciaga\n",
       "29160                                                                                                                                                                                                                           they deleted everything we donâ€™t do pedophiles cancelbalenciaga\n",
       "Name: Comments, Length: 29161, dtype: object"
      ]
     },
     "execution_count": 39,
     "metadata": {},
     "output_type": "execute_result"
    }
   ],
   "source": [
    "# Showing only\n",
    "train['Comments'].apply(lambda x: x.lower())"
   ]
  },
  {
   "cell_type": "code",
   "execution_count": 40,
   "id": "3a5f70ee",
   "metadata": {},
   "outputs": [],
   "source": [
    "# Commit to Table\n",
    "train['Comments'] = train['Comments'].apply(lambda x: x.lower())"
   ]
  },
  {
   "cell_type": "code",
   "execution_count": 41,
   "id": "44b59302",
   "metadata": {},
   "outputs": [],
   "source": [
    "import nltk\n",
    "from nltk.tokenize import TweetTokenizer\n",
    "\n",
    "# Instantiate the TweetTokenizer\n",
    "tokenizer = TweetTokenizer()\n",
    "\n",
    "# Define a function to tokenize a tweet\n",
    "def tokenize_tweet(tweet):\n",
    "    # Use the TweetTokenizer to tokenize the tweet\n",
    "    tokens = tokenizer.tokenize(tweet)\n",
    "    return tokens\n",
    "\n",
    "# Apply the tokenization function to the 'Comments' column\n",
    "train['Tokens'] = train['Comments'].apply(tokenize_tweet)"
   ]
  },
  {
   "cell_type": "code",
   "execution_count": 42,
   "id": "ea5706be",
   "metadata": {},
   "outputs": [
    {
     "data": {
      "text/html": [
       "<div>\n",
       "<style scoped>\n",
       "    .dataframe tbody tr th:only-of-type {\n",
       "        vertical-align: middle;\n",
       "    }\n",
       "\n",
       "    .dataframe tbody tr th {\n",
       "        vertical-align: top;\n",
       "    }\n",
       "\n",
       "    .dataframe thead th {\n",
       "        text-align: right;\n",
       "    }\n",
       "</style>\n",
       "<table border=\"1\" class=\"dataframe\">\n",
       "  <thead>\n",
       "    <tr style=\"text-align: right;\">\n",
       "      <th></th>\n",
       "      <th>id</th>\n",
       "      <th>Comments</th>\n",
       "      <th>date</th>\n",
       "      <th>text_length</th>\n",
       "      <th>Tokens</th>\n",
       "    </tr>\n",
       "  </thead>\n",
       "  <tbody>\n",
       "    <tr>\n",
       "      <th>0</th>\n",
       "      <td>1.620207e+18</td>\n",
       "      <td>latest podcast is out now  balenciaga is run by satanists  just think 5  via youtube  balenciagapedos balenciaga satan satanist satanic pedophelia podcastshow podcast podcastlife podcastandchill podcaster podcasting lucifer luciferian h</td>\n",
       "      <td>2023-01-30 23:46:10+00:00</td>\n",
       "      <td>280</td>\n",
       "      <td>[latest, podcast, is, out, now, balenciaga, is, run, by, satanists, just, think, 5, via, youtube, balenciagapedos, balenciaga, satan, satanist, satanic, pedophelia, podcastshow, podcast, podcastlife, podcastandchill, podcaster, podcasting, lucifer, luciferian, h]</td>\n",
       "    </tr>\n",
       "    <tr>\n",
       "      <th>1</th>\n",
       "      <td>1.620206e+18</td>\n",
       "      <td>over 500 brands including gucci offwhite balenciaga maisonmargiela marineserre saintlaurent fashion and many more</td>\n",
       "      <td>2023-01-30 23:44:31+00:00</td>\n",
       "      <td>173</td>\n",
       "      <td>[over, 500, brands, including, gucci, offwhite, balenciaga, maisonmargiela, marineserre, saintlaurent, fashion, and, many, more]</td>\n",
       "    </tr>\n",
       "    <tr>\n",
       "      <th>2</th>\n",
       "      <td>1.620204e+18</td>\n",
       "      <td>so good i had to share check out all the items im loving on poshmarkapp poshmark fashion style shopmycloset balenciaga variety stevemadden</td>\n",
       "      <td>2023-01-30 23:33:43+00:00</td>\n",
       "      <td>197</td>\n",
       "      <td>[so, good, i, had, to, share, check, out, all, the, items, im, loving, on, poshmarkapp, poshmark, fashion, style, shopmycloset, balenciaga, variety, stevemadden]</td>\n",
       "    </tr>\n",
       "    <tr>\n",
       "      <th>3</th>\n",
       "      <td>1.620151e+18</td>\n",
       "      <td>skkn nothing we dont support pedos and those who support child abuse and exploitation balenciaga cancelkimkardashian cancelskims ðÿ’©ðÿ¤®ðÿ’©ðÿ¤®ðÿ’©ðÿ¤®</td>\n",
       "      <td>2023-01-30 20:04:35+00:00</td>\n",
       "      <td>160</td>\n",
       "      <td>[skkn, nothing, we, dont, support, pedos, and, those, who, support, child, abuse, and, exploitation, balenciaga, cancelkimkardashian, cancelskims, ðÿ, ’, ©, ðÿ, ¤, ®, ðÿ, ’, ©, ðÿ, ¤, ®, ðÿ, ’, ©, ðÿ, ¤, ®]</td>\n",
       "    </tr>\n",
       "    <tr>\n",
       "      <th>4</th>\n",
       "      <td>1.620142e+18</td>\n",
       "      <td>so good i had to share check out all the items im loving on poshmarkapp poshmark fashion style shopmycloset madewell balenciaga kaileigh</td>\n",
       "      <td>2023-01-30 19:30:19+00:00</td>\n",
       "      <td>195</td>\n",
       "      <td>[so, good, i, had, to, share, check, out, all, the, items, im, loving, on, poshmarkapp, poshmark, fashion, style, shopmycloset, madewell, balenciaga, kaileigh]</td>\n",
       "    </tr>\n",
       "    <tr>\n",
       "      <th>5</th>\n",
       "      <td>1.620133e+18</td>\n",
       "      <td>wtf why is this happening balenciaga</td>\n",
       "      <td>2023-01-30 18:51:52+00:00</td>\n",
       "      <td>65</td>\n",
       "      <td>[wtf, why, is, this, happening, balenciaga]</td>\n",
       "    </tr>\n",
       "    <tr>\n",
       "      <th>6</th>\n",
       "      <td>1.620127e+18</td>\n",
       "      <td>so good i had to share check out all the items im loving on poshmarkapp from kmullen1019 poshmark fashion style shopmycloset balenciaga freepeople dannynicole</td>\n",
       "      <td>2023-01-30 18:29:23+00:00</td>\n",
       "      <td>218</td>\n",
       "      <td>[so, good, i, had, to, share, check, out, all, the, items, im, loving, on, poshmarkapp, from, kmullen, 1019, poshmark, fashion, style, shopmycloset, balenciaga, freepeople, dannynicole]</td>\n",
       "    </tr>\n",
       "    <tr>\n",
       "      <th>7</th>\n",
       "      <td>1.620118e+18</td>\n",
       "      <td>lets talk about balenciaga ðÿ’€ shorts makeup balenciaga  via youtube</td>\n",
       "      <td>2023-01-30 17:51:43+00:00</td>\n",
       "      <td>96</td>\n",
       "      <td>[lets, talk, about, balenciaga, ðÿ, ’, €, shorts, makeup, balenciaga, via, youtube]</td>\n",
       "    </tr>\n",
       "    <tr>\n",
       "      <th>8</th>\n",
       "      <td>1.620117e+18</td>\n",
       "      <td>sadly its much bigger than  balenciaga balenciagagate gotta start somewhere</td>\n",
       "      <td>2023-01-30 17:48:02+00:00</td>\n",
       "      <td>78</td>\n",
       "      <td>[sadly, its, much, bigger, than, balenciaga, balenciagagate, gotta, start, somewhere]</td>\n",
       "    </tr>\n",
       "    <tr>\n",
       "      <th>9</th>\n",
       "      <td>1.620115e+18</td>\n",
       "      <td>skims all the bot replies should tell you somethingwe dont support pedos and the abuse of children you dress your own child in a gimp mask and call it fashion youre sick and satanic balenciaga cancelskims cancelkimkardashian ðÿ¤®ðÿ¤®ðÿ¤®ðÿ¤®ð</td>\n",
       "      <td>2023-01-30 17:42:35+00:00</td>\n",
       "      <td>255</td>\n",
       "      <td>[skims, all, the, bot, replies, should, tell, you, somethingwe, dont, support, pedos, and, the, abuse, of, children, you, dress, your, own, child, in, a, gimp, mask, and, call, it, fashion, youre, sick, and, satanic, balenciaga, cancelskims, cancelkimkardashian, ðÿ, ¤, ®, ðÿ, ¤, ®, ðÿ, ¤, ®, ðÿ, ¤, ®, ð]</td>\n",
       "    </tr>\n",
       "    <tr>\n",
       "      <th>10</th>\n",
       "      <td>1.620112e+18</td>\n",
       "      <td>so good i had to share check out all the items im loving on poshmarkapp from ksena116 poshmark fashion style shopmycloset eloquii freepeople balenciaga</td>\n",
       "      <td>2023-01-30 17:30:46+00:00</td>\n",
       "      <td>211</td>\n",
       "      <td>[so, good, i, had, to, share, check, out, all, the, items, im, loving, on, poshmarkapp, from, ksena, 116, poshmark, fashion, style, shopmycloset, eloquii, freepeople, balenciaga]</td>\n",
       "    </tr>\n",
       "    <tr>\n",
       "      <th>11</th>\n",
       "      <td>1.620112e+18</td>\n",
       "      <td>so good i had to share check out all the items im loving on poshmarkapp poshmark fashion style shopmycloset balenciaga francescascollections anthropologie</td>\n",
       "      <td>2023-01-30 17:29:00+00:00</td>\n",
       "      <td>213</td>\n",
       "      <td>[so, good, i, had, to, share, check, out, all, the, items, im, loving, on, poshmarkapp, poshmark, fashion, style, shopmycloset, balenciaga, francescascollections, anthropologie]</td>\n",
       "    </tr>\n",
       "    <tr>\n",
       "      <th>12</th>\n",
       "      <td>1.620103e+18</td>\n",
       "      <td>xx17965797n sam smith is disgusting ask him about balenciaga ðÿ‘€</td>\n",
       "      <td>2023-01-30 16:54:11+00:00</td>\n",
       "      <td>68</td>\n",
       "      <td>[xx17965797n, sam, smith, is, disgusting, ask, him, about, balenciaga, ðÿ, ‘, €]</td>\n",
       "    </tr>\n",
       "    <tr>\n",
       "      <th>13</th>\n",
       "      <td>1.620097e+18</td>\n",
       "      <td>so good i had to share check out all the items im loving on poshmarkapp poshmark fashion style shopmycloset cablegauge balenciaga levis</td>\n",
       "      <td>2023-01-30 16:31:18+00:00</td>\n",
       "      <td>194</td>\n",
       "      <td>[so, good, i, had, to, share, check, out, all, the, items, im, loving, on, poshmarkapp, poshmark, fashion, style, shopmycloset, cablegauge, balenciaga, levis]</td>\n",
       "    </tr>\n",
       "    <tr>\n",
       "      <th>14</th>\n",
       "      <td>1.620097e+18</td>\n",
       "      <td>so good i had to share check out all the items im loving on poshmarkapp from marilynsend1 poshmark fashion style shopmycloset gbygiuliana balenciaga oneteaspoon</td>\n",
       "      <td>2023-01-30 16:31:00+00:00</td>\n",
       "      <td>220</td>\n",
       "      <td>[so, good, i, had, to, share, check, out, all, the, items, im, loving, on, poshmarkapp, from, marilynsend, 1, poshmark, fashion, style, shopmycloset, gbygiuliana, balenciaga, oneteaspoon]</td>\n",
       "    </tr>\n",
       "    <tr>\n",
       "      <th>15</th>\n",
       "      <td>1.620097e+18</td>\n",
       "      <td>so good i had to share check out all the items im loving on poshmarkapp poshmark fashion style shopmycloset balenciaga cherokee kennethcolereaction</td>\n",
       "      <td>2023-01-30 16:29:15+00:00</td>\n",
       "      <td>206</td>\n",
       "      <td>[so, good, i, had, to, share, check, out, all, the, items, im, loving, on, poshmarkapp, poshmark, fashion, style, shopmycloset, balenciaga, cherokee, kennethcolereaction]</td>\n",
       "    </tr>\n",
       "    <tr>\n",
       "      <th>16</th>\n",
       "      <td>1.620097e+18</td>\n",
       "      <td>ye faces new hurdle in business and personal life as australian visa denial looms\\n\\nadidas africanbillionaires africanamericanbillionaire australianvisa balenciaga billionairesafrica featured kanyewest visaapplication</td>\n",
       "      <td>2023-01-30 16:28:32+00:00</td>\n",
       "      <td>274</td>\n",
       "      <td>[ye, faces, new, hurdle, in, business, and, personal, life, as, australian, visa, denial, looms, adidas, africanbillionaires, africanamericanbillionaire, australianvisa, balenciaga, billionairesafrica, featured, kanyewest, visaapplication]</td>\n",
       "    </tr>\n",
       "    <tr>\n",
       "      <th>17</th>\n",
       "      <td>1.620083e+18</td>\n",
       "      <td>ffs\\n lmao \\nvaccinedeath vaccine vaccinedeaths vaccinegenocide vaccinedemocide covidvaccine covid19 nuremberg2â  nhsâ \\n\\ndavosagenda wefisevil wef23 wefpuppets wef\\n\\nbalenciaga balenciagapedos pedofila grooming hollywoodstudios</td>\n",
       "      <td>2023-01-30 15:33:46+00:00</td>\n",
       "      <td>245</td>\n",
       "      <td>[ffs, lmao, vaccinedeath, vaccine, vaccinedeaths, vaccinegenocide, vaccinedemocide, covidvaccine, covid, 19, nuremberg, 2â, nhsâ, davosagenda, wefisevil, wef, 23, wefpuppets, wef, balenciaga, balenciagapedos, pedofila, grooming, hollywoodstudios]</td>\n",
       "    </tr>\n",
       "    <tr>\n",
       "      <th>18</th>\n",
       "      <td>1.620074e+18</td>\n",
       "      <td>tenant outlook sports apparel brands race to capture global growth read here \\n\\nicsc realestate retail athleisure sportswear fitness nike balenciaga</td>\n",
       "      <td>2023-01-30 14:57:00+00:00</td>\n",
       "      <td>182</td>\n",
       "      <td>[tenant, outlook, sports, apparel, brands, race, to, capture, global, growth, read, here, icsc, realestate, retail, athleisure, sportswear, fitness, nike, balenciaga]</td>\n",
       "    </tr>\n",
       "    <tr>\n",
       "      <th>19</th>\n",
       "      <td>1.620059e+18</td>\n",
       "      <td>i have to feel sorry for people who were blissfully unaware of the balenciaga scandal and indeed the purpose of the fashion industry</td>\n",
       "      <td>2023-01-30 14:00:05+00:00</td>\n",
       "      <td>136</td>\n",
       "      <td>[i, have, to, feel, sorry, for, people, who, were, blissfully, unaware, of, the, balenciaga, scandal, and, indeed, the, purpose, of, the, fashion, industry]</td>\n",
       "    </tr>\n",
       "  </tbody>\n",
       "</table>\n",
       "</div>"
      ],
      "text/plain": [
       "              id  \\\n",
       "0   1.620207e+18   \n",
       "1   1.620206e+18   \n",
       "2   1.620204e+18   \n",
       "3   1.620151e+18   \n",
       "4   1.620142e+18   \n",
       "5   1.620133e+18   \n",
       "6   1.620127e+18   \n",
       "7   1.620118e+18   \n",
       "8   1.620117e+18   \n",
       "9   1.620115e+18   \n",
       "10  1.620112e+18   \n",
       "11  1.620112e+18   \n",
       "12  1.620103e+18   \n",
       "13  1.620097e+18   \n",
       "14  1.620097e+18   \n",
       "15  1.620097e+18   \n",
       "16  1.620097e+18   \n",
       "17  1.620083e+18   \n",
       "18  1.620074e+18   \n",
       "19  1.620059e+18   \n",
       "\n",
       "                                                                                                                                                                                                                                              Comments  \\\n",
       "0         latest podcast is out now  balenciaga is run by satanists  just think 5  via youtube  balenciagapedos balenciaga satan satanist satanic pedophelia podcastshow podcast podcastlife podcastandchill podcaster podcasting lucifer luciferian h   \n",
       "1                                                                                                                                    over 500 brands including gucci offwhite balenciaga maisonmargiela marineserre saintlaurent fashion and many more   \n",
       "2                                                                                                           so good i had to share check out all the items im loving on poshmarkapp poshmark fashion style shopmycloset balenciaga variety stevemadden   \n",
       "3                                                                                            skkn nothing we dont support pedos and those who support child abuse and exploitation balenciaga cancelkimkardashian cancelskims ðÿ’©ðÿ¤®ðÿ’©ðÿ¤®ðÿ’©ðÿ¤®   \n",
       "4                                                                                                             so good i had to share check out all the items im loving on poshmarkapp poshmark fashion style shopmycloset madewell balenciaga kaileigh   \n",
       "5                                                                                                                                                                                                                 wtf why is this happening balenciaga   \n",
       "6                                                                                       so good i had to share check out all the items im loving on poshmarkapp from kmullen1019 poshmark fashion style shopmycloset balenciaga freepeople dannynicole   \n",
       "7                                                                                                                                                                                lets talk about balenciaga ðÿ’€ shorts makeup balenciaga  via youtube   \n",
       "8                                                                                                                                                                          sadly its much bigger than  balenciaga balenciagagate gotta start somewhere   \n",
       "9   skims all the bot replies should tell you somethingwe dont support pedos and the abuse of children you dress your own child in a gimp mask and call it fashion youre sick and satanic balenciaga cancelskims cancelkimkardashian ðÿ¤®ðÿ¤®ðÿ¤®ðÿ¤®ð   \n",
       "10                                                                                             so good i had to share check out all the items im loving on poshmarkapp from ksena116 poshmark fashion style shopmycloset eloquii freepeople balenciaga   \n",
       "11                                                                                          so good i had to share check out all the items im loving on poshmarkapp poshmark fashion style shopmycloset balenciaga francescascollections anthropologie   \n",
       "12                                                                                                                                                                                   xx17965797n sam smith is disgusting ask him about balenciaga ðÿ‘€   \n",
       "13                                                                                                             so good i had to share check out all the items im loving on poshmarkapp poshmark fashion style shopmycloset cablegauge balenciaga levis   \n",
       "14                                                                                    so good i had to share check out all the items im loving on poshmarkapp from marilynsend1 poshmark fashion style shopmycloset gbygiuliana balenciaga oneteaspoon   \n",
       "15                                                                                                 so good i had to share check out all the items im loving on poshmarkapp poshmark fashion style shopmycloset balenciaga cherokee kennethcolereaction   \n",
       "16                          ye faces new hurdle in business and personal life as australian visa denial looms\\n\\nadidas africanbillionaires africanamericanbillionaire australianvisa balenciaga billionairesafrica featured kanyewest visaapplication   \n",
       "17              ffs\\n lmao \\nvaccinedeath vaccine vaccinedeaths vaccinegenocide vaccinedemocide covidvaccine covid19 nuremberg2â  nhsâ \\n\\ndavosagenda wefisevil wef23 wefpuppets wef\\n\\nbalenciaga balenciagapedos pedofila grooming hollywoodstudios   \n",
       "18                                                                                               tenant outlook sports apparel brands race to capture global growth read here \\n\\nicsc realestate retail athleisure sportswear fitness nike balenciaga   \n",
       "19                                                                                                                i have to feel sorry for people who were blissfully unaware of the balenciaga scandal and indeed the purpose of the fashion industry   \n",
       "\n",
       "                         date  text_length  \\\n",
       "0   2023-01-30 23:46:10+00:00          280   \n",
       "1   2023-01-30 23:44:31+00:00          173   \n",
       "2   2023-01-30 23:33:43+00:00          197   \n",
       "3   2023-01-30 20:04:35+00:00          160   \n",
       "4   2023-01-30 19:30:19+00:00          195   \n",
       "5   2023-01-30 18:51:52+00:00           65   \n",
       "6   2023-01-30 18:29:23+00:00          218   \n",
       "7   2023-01-30 17:51:43+00:00           96   \n",
       "8   2023-01-30 17:48:02+00:00           78   \n",
       "9   2023-01-30 17:42:35+00:00          255   \n",
       "10  2023-01-30 17:30:46+00:00          211   \n",
       "11  2023-01-30 17:29:00+00:00          213   \n",
       "12  2023-01-30 16:54:11+00:00           68   \n",
       "13  2023-01-30 16:31:18+00:00          194   \n",
       "14  2023-01-30 16:31:00+00:00          220   \n",
       "15  2023-01-30 16:29:15+00:00          206   \n",
       "16  2023-01-30 16:28:32+00:00          274   \n",
       "17  2023-01-30 15:33:46+00:00          245   \n",
       "18  2023-01-30 14:57:00+00:00          182   \n",
       "19  2023-01-30 14:00:05+00:00          136   \n",
       "\n",
       "                                                                                                                                                                                                                                                                                                               Tokens  \n",
       "0                                             [latest, podcast, is, out, now, balenciaga, is, run, by, satanists, just, think, 5, via, youtube, balenciagapedos, balenciaga, satan, satanist, satanic, pedophelia, podcastshow, podcast, podcastlife, podcastandchill, podcaster, podcasting, lucifer, luciferian, h]  \n",
       "1                                                                                                                                                                                    [over, 500, brands, including, gucci, offwhite, balenciaga, maisonmargiela, marineserre, saintlaurent, fashion, and, many, more]  \n",
       "2                                                                                                                                                   [so, good, i, had, to, share, check, out, all, the, items, im, loving, on, poshmarkapp, poshmark, fashion, style, shopmycloset, balenciaga, variety, stevemadden]  \n",
       "3                                                                                                      [skkn, nothing, we, dont, support, pedos, and, those, who, support, child, abuse, and, exploitation, balenciaga, cancelkimkardashian, cancelskims, ðÿ, ’, ©, ðÿ, ¤, ®, ðÿ, ’, ©, ðÿ, ¤, ®, ðÿ, ’, ©, ðÿ, ¤, ®]  \n",
       "4                                                                                                                                                     [so, good, i, had, to, share, check, out, all, the, items, im, loving, on, poshmarkapp, poshmark, fashion, style, shopmycloset, madewell, balenciaga, kaileigh]  \n",
       "5                                                                                                                                                                                                                                                                         [wtf, why, is, this, happening, balenciaga]  \n",
       "6                                                                                                                           [so, good, i, had, to, share, check, out, all, the, items, im, loving, on, poshmarkapp, from, kmullen, 1019, poshmark, fashion, style, shopmycloset, balenciaga, freepeople, dannynicole]  \n",
       "7                                                                                                                                                                                                                                 [lets, talk, about, balenciaga, ðÿ, ’, €, shorts, makeup, balenciaga, via, youtube]  \n",
       "8                                                                                                                                                                                                                               [sadly, its, much, bigger, than, balenciaga, balenciagagate, gotta, start, somewhere]  \n",
       "9   [skims, all, the, bot, replies, should, tell, you, somethingwe, dont, support, pedos, and, the, abuse, of, children, you, dress, your, own, child, in, a, gimp, mask, and, call, it, fashion, youre, sick, and, satanic, balenciaga, cancelskims, cancelkimkardashian, ðÿ, ¤, ®, ðÿ, ¤, ®, ðÿ, ¤, ®, ðÿ, ¤, ®, ð]  \n",
       "10                                                                                                                                 [so, good, i, had, to, share, check, out, all, the, items, im, loving, on, poshmarkapp, from, ksena, 116, poshmark, fashion, style, shopmycloset, eloquii, freepeople, balenciaga]  \n",
       "11                                                                                                                                  [so, good, i, had, to, share, check, out, all, the, items, im, loving, on, poshmarkapp, poshmark, fashion, style, shopmycloset, balenciaga, francescascollections, anthropologie]  \n",
       "12                                                                                                                                                                                                                                   [xx17965797n, sam, smith, is, disgusting, ask, him, about, balenciaga, ðÿ, ‘, €]  \n",
       "13                                                                                                                                                     [so, good, i, had, to, share, check, out, all, the, items, im, loving, on, poshmarkapp, poshmark, fashion, style, shopmycloset, cablegauge, balenciaga, levis]  \n",
       "14                                                                                                                        [so, good, i, had, to, share, check, out, all, the, items, im, loving, on, poshmarkapp, from, marilynsend, 1, poshmark, fashion, style, shopmycloset, gbygiuliana, balenciaga, oneteaspoon]  \n",
       "15                                                                                                                                         [so, good, i, had, to, share, check, out, all, the, items, im, loving, on, poshmarkapp, poshmark, fashion, style, shopmycloset, balenciaga, cherokee, kennethcolereaction]  \n",
       "16                                                                    [ye, faces, new, hurdle, in, business, and, personal, life, as, australian, visa, denial, looms, adidas, africanbillionaires, africanamericanbillionaire, australianvisa, balenciaga, billionairesafrica, featured, kanyewest, visaapplication]  \n",
       "17                                                             [ffs, lmao, vaccinedeath, vaccine, vaccinedeaths, vaccinegenocide, vaccinedemocide, covidvaccine, covid, 19, nuremberg, 2â, nhsâ, davosagenda, wefisevil, wef, 23, wefpuppets, wef, balenciaga, balenciagapedos, pedofila, grooming, hollywoodstudios]  \n",
       "18                                                                                                                                             [tenant, outlook, sports, apparel, brands, race, to, capture, global, growth, read, here, icsc, realestate, retail, athleisure, sportswear, fitness, nike, balenciaga]  \n",
       "19                                                                                                                                                       [i, have, to, feel, sorry, for, people, who, were, blissfully, unaware, of, the, balenciaga, scandal, and, indeed, the, purpose, of, the, fashion, industry]  "
      ]
     },
     "execution_count": 42,
     "metadata": {},
     "output_type": "execute_result"
    }
   ],
   "source": [
    "train.head(20)"
   ]
  },
  {
   "cell_type": "code",
   "execution_count": 43,
   "id": "b48b6efe",
   "metadata": {},
   "outputs": [],
   "source": [
    "# Get Stopwords\n",
    "stop = stopwords.words('english')"
   ]
  },
  {
   "cell_type": "code",
   "execution_count": 44,
   "id": "86a56e8e",
   "metadata": {},
   "outputs": [
    {
     "data": {
      "text/plain": [
       "0        [latest, podcast, balenciaga, run, satanists, think, 5, via, youtube, balenciagapedos, balenciaga, satan, satanist, satanic, pedophelia, podcastshow, podcast, podcastlife, podcastandchill, podcaster, podcasting, lucifer, luciferian, h]\n",
       "1                                                                                                                                    [500, brands, including, gucci, offwhite, balenciaga, maisonmargiela, marineserre, saintlaurent, fashion, many]\n",
       "2                                                                                                                     [good, share, check, items, im, loving, poshmarkapp, poshmark, fashion, style, shopmycloset, balenciaga, variety, stevemadden]\n",
       "3                                                                                                 [skkn, nothing, dont, support, pedos, support, child, abuse, exploitation, balenciaga, cancelkimkardashian, cancelskims, ðÿ’©ðÿ¤®ðÿ’©ðÿ¤®ðÿ’©ðÿ¤®]\n",
       "4                                                                                                                       [good, share, check, items, im, loving, poshmarkapp, poshmark, fashion, style, shopmycloset, madewell, balenciaga, kaileigh]\n",
       "                                                                                                                            ...                                                                                                                     \n",
       "29156                        [nah, itâ€™s, past, need, cancelled, business, asap, theyâ€™ll, apologize, blame, random, employee, yet, theyâ€™ll, continue, add, hidden, messages, ads, thatâ€™s, theyâ€™ve, continued, successful, cancelbalenciaga]\n",
       "29157                                                                                                                                                                                    [itsnatlydenise, getting, worse, thought, cancelbalenciaga]\n",
       "29158                                                                                                                                                                     [itsnatlydenise, think, start, trending, fuckbalenciaga, cancelbalenciaga]\n",
       "29159                                                                                                                                                                                   [sick, stomach, byebalenciaga, balenciaga, cancelbalenciaga]\n",
       "29160                                                                                                                                                                                   [deleted, everything, donâ€™t, pedophiles, cancelbalenciaga]\n",
       "Name: Comments, Length: 29161, dtype: object"
      ]
     },
     "execution_count": 44,
     "metadata": {},
     "output_type": "execute_result"
    }
   ],
   "source": [
    "# Tokenize and Remove Stop Words\n",
    "train['Comments'].apply(lambda x: [word for word in x.split() if word not in stop])"
   ]
  },
  {
   "cell_type": "code",
   "execution_count": 45,
   "id": "74df7e2f",
   "metadata": {},
   "outputs": [
    {
     "data": {
      "text/plain": [
       "0        latest podcast balenciaga run satanists think 5 via youtube balenciagapedos balenciaga satan satanist satanic pedophelia podcastshow podcast podcastlife podcastandchill podcaster podcasting lucifer luciferian h\n",
       "1                                                                                                                       500 brands including gucci offwhite balenciaga maisonmargiela marineserre saintlaurent fashion many\n",
       "2                                                                                                           good share check items im loving poshmarkapp poshmark fashion style shopmycloset balenciaga variety stevemadden\n",
       "3                                                                                      skkn nothing dont support pedos support child abuse exploitation balenciaga cancelkimkardashian cancelskims ðÿ’©ðÿ¤®ðÿ’©ðÿ¤®ðÿ’©ðÿ¤®\n",
       "4                                                                                                             good share check items im loving poshmarkapp poshmark fashion style shopmycloset madewell balenciaga kaileigh\n",
       "                                                                                                                ...                                                                                                        \n",
       "29156                        nah itâ€™s past need cancelled business asap theyâ€™ll apologize blame random employee yet theyâ€™ll continue add hidden messages ads thatâ€™s theyâ€™ve continued successful cancelbalenciaga\n",
       "29157                                                                                                                                                                 itsnatlydenise getting worse thought cancelbalenciaga\n",
       "29158                                                                                                                                                   itsnatlydenise think start trending fuckbalenciaga cancelbalenciaga\n",
       "29159                                                                                                                                                                sick stomach byebalenciaga balenciaga cancelbalenciaga\n",
       "29160                                                                                                                                                                deleted everything donâ€™t pedophiles cancelbalenciaga\n",
       "Name: Comments, Length: 29161, dtype: object"
      ]
     },
     "execution_count": 45,
     "metadata": {},
     "output_type": "execute_result"
    }
   ],
   "source": [
    "train['Comments'].apply(lambda x: ' '.join([word for word in x.split() if word not in (stop)]))"
   ]
  },
  {
   "cell_type": "code",
   "execution_count": 46,
   "id": "89164f0b",
   "metadata": {},
   "outputs": [],
   "source": [
    "# Join the words back\n",
    "train['Comments'] = train['Comments'].apply(lambda x: ' '.join([word for word in x.split() if word not in (stop)]))"
   ]
  },
  {
   "cell_type": "code",
   "execution_count": 47,
   "id": "6f53c389",
   "metadata": {},
   "outputs": [
    {
     "data": {
      "text/html": [
       "<div>\n",
       "<style scoped>\n",
       "    .dataframe tbody tr th:only-of-type {\n",
       "        vertical-align: middle;\n",
       "    }\n",
       "\n",
       "    .dataframe tbody tr th {\n",
       "        vertical-align: top;\n",
       "    }\n",
       "\n",
       "    .dataframe thead th {\n",
       "        text-align: right;\n",
       "    }\n",
       "</style>\n",
       "<table border=\"1\" class=\"dataframe\">\n",
       "  <thead>\n",
       "    <tr style=\"text-align: right;\">\n",
       "      <th></th>\n",
       "      <th>id</th>\n",
       "      <th>Comments</th>\n",
       "      <th>date</th>\n",
       "      <th>text_length</th>\n",
       "      <th>Tokens</th>\n",
       "    </tr>\n",
       "  </thead>\n",
       "  <tbody>\n",
       "    <tr>\n",
       "      <th>0</th>\n",
       "      <td>1.620207e+18</td>\n",
       "      <td>latest podcast balenciaga run satanists think 5 via youtube balenciagapedos balenciaga satan satanist satanic pedophelia podcastshow podcast podcastlife podcastandchill podcaster podcasting lucifer luciferian h</td>\n",
       "      <td>2023-01-30 23:46:10+00:00</td>\n",
       "      <td>280</td>\n",
       "      <td>[latest, podcast, is, out, now, balenciaga, is, run, by, satanists, just, think, 5, via, youtube, balenciagapedos, balenciaga, satan, satanist, satanic, pedophelia, podcastshow, podcast, podcastlife, podcastandchill, podcaster, podcasting, lucifer, luciferian, h]</td>\n",
       "    </tr>\n",
       "    <tr>\n",
       "      <th>1</th>\n",
       "      <td>1.620206e+18</td>\n",
       "      <td>500 brands including gucci offwhite balenciaga maisonmargiela marineserre saintlaurent fashion many</td>\n",
       "      <td>2023-01-30 23:44:31+00:00</td>\n",
       "      <td>173</td>\n",
       "      <td>[over, 500, brands, including, gucci, offwhite, balenciaga, maisonmargiela, marineserre, saintlaurent, fashion, and, many, more]</td>\n",
       "    </tr>\n",
       "    <tr>\n",
       "      <th>2</th>\n",
       "      <td>1.620204e+18</td>\n",
       "      <td>good share check items im loving poshmarkapp poshmark fashion style shopmycloset balenciaga variety stevemadden</td>\n",
       "      <td>2023-01-30 23:33:43+00:00</td>\n",
       "      <td>197</td>\n",
       "      <td>[so, good, i, had, to, share, check, out, all, the, items, im, loving, on, poshmarkapp, poshmark, fashion, style, shopmycloset, balenciaga, variety, stevemadden]</td>\n",
       "    </tr>\n",
       "    <tr>\n",
       "      <th>3</th>\n",
       "      <td>1.620151e+18</td>\n",
       "      <td>skkn nothing dont support pedos support child abuse exploitation balenciaga cancelkimkardashian cancelskims ðÿ’©ðÿ¤®ðÿ’©ðÿ¤®ðÿ’©ðÿ¤®</td>\n",
       "      <td>2023-01-30 20:04:35+00:00</td>\n",
       "      <td>160</td>\n",
       "      <td>[skkn, nothing, we, dont, support, pedos, and, those, who, support, child, abuse, and, exploitation, balenciaga, cancelkimkardashian, cancelskims, ðÿ, ’, ©, ðÿ, ¤, ®, ðÿ, ’, ©, ðÿ, ¤, ®, ðÿ, ’, ©, ðÿ, ¤, ®]</td>\n",
       "    </tr>\n",
       "    <tr>\n",
       "      <th>4</th>\n",
       "      <td>1.620142e+18</td>\n",
       "      <td>good share check items im loving poshmarkapp poshmark fashion style shopmycloset madewell balenciaga kaileigh</td>\n",
       "      <td>2023-01-30 19:30:19+00:00</td>\n",
       "      <td>195</td>\n",
       "      <td>[so, good, i, had, to, share, check, out, all, the, items, im, loving, on, poshmarkapp, poshmark, fashion, style, shopmycloset, madewell, balenciaga, kaileigh]</td>\n",
       "    </tr>\n",
       "    <tr>\n",
       "      <th>5</th>\n",
       "      <td>1.620133e+18</td>\n",
       "      <td>wtf happening balenciaga</td>\n",
       "      <td>2023-01-30 18:51:52+00:00</td>\n",
       "      <td>65</td>\n",
       "      <td>[wtf, why, is, this, happening, balenciaga]</td>\n",
       "    </tr>\n",
       "    <tr>\n",
       "      <th>6</th>\n",
       "      <td>1.620127e+18</td>\n",
       "      <td>good share check items im loving poshmarkapp kmullen1019 poshmark fashion style shopmycloset balenciaga freepeople dannynicole</td>\n",
       "      <td>2023-01-30 18:29:23+00:00</td>\n",
       "      <td>218</td>\n",
       "      <td>[so, good, i, had, to, share, check, out, all, the, items, im, loving, on, poshmarkapp, from, kmullen, 1019, poshmark, fashion, style, shopmycloset, balenciaga, freepeople, dannynicole]</td>\n",
       "    </tr>\n",
       "    <tr>\n",
       "      <th>7</th>\n",
       "      <td>1.620118e+18</td>\n",
       "      <td>lets talk balenciaga ðÿ’€ shorts makeup balenciaga via youtube</td>\n",
       "      <td>2023-01-30 17:51:43+00:00</td>\n",
       "      <td>96</td>\n",
       "      <td>[lets, talk, about, balenciaga, ðÿ, ’, €, shorts, makeup, balenciaga, via, youtube]</td>\n",
       "    </tr>\n",
       "    <tr>\n",
       "      <th>8</th>\n",
       "      <td>1.620117e+18</td>\n",
       "      <td>sadly much bigger balenciaga balenciagagate gotta start somewhere</td>\n",
       "      <td>2023-01-30 17:48:02+00:00</td>\n",
       "      <td>78</td>\n",
       "      <td>[sadly, its, much, bigger, than, balenciaga, balenciagagate, gotta, start, somewhere]</td>\n",
       "    </tr>\n",
       "    <tr>\n",
       "      <th>9</th>\n",
       "      <td>1.620115e+18</td>\n",
       "      <td>skims bot replies tell somethingwe dont support pedos abuse children dress child gimp mask call fashion youre sick satanic balenciaga cancelskims cancelkimkardashian ðÿ¤®ðÿ¤®ðÿ¤®ðÿ¤®ð</td>\n",
       "      <td>2023-01-30 17:42:35+00:00</td>\n",
       "      <td>255</td>\n",
       "      <td>[skims, all, the, bot, replies, should, tell, you, somethingwe, dont, support, pedos, and, the, abuse, of, children, you, dress, your, own, child, in, a, gimp, mask, and, call, it, fashion, youre, sick, and, satanic, balenciaga, cancelskims, cancelkimkardashian, ðÿ, ¤, ®, ðÿ, ¤, ®, ðÿ, ¤, ®, ðÿ, ¤, ®, ð]</td>\n",
       "    </tr>\n",
       "  </tbody>\n",
       "</table>\n",
       "</div>"
      ],
      "text/plain": [
       "             id  \\\n",
       "0  1.620207e+18   \n",
       "1  1.620206e+18   \n",
       "2  1.620204e+18   \n",
       "3  1.620151e+18   \n",
       "4  1.620142e+18   \n",
       "5  1.620133e+18   \n",
       "6  1.620127e+18   \n",
       "7  1.620118e+18   \n",
       "8  1.620117e+18   \n",
       "9  1.620115e+18   \n",
       "\n",
       "                                                                                                                                                                                                             Comments  \\\n",
       "0  latest podcast balenciaga run satanists think 5 via youtube balenciagapedos balenciaga satan satanist satanic pedophelia podcastshow podcast podcastlife podcastandchill podcaster podcasting lucifer luciferian h   \n",
       "1                                                                                                                 500 brands including gucci offwhite balenciaga maisonmargiela marineserre saintlaurent fashion many   \n",
       "2                                                                                                     good share check items im loving poshmarkapp poshmark fashion style shopmycloset balenciaga variety stevemadden   \n",
       "3                                                                                skkn nothing dont support pedos support child abuse exploitation balenciaga cancelkimkardashian cancelskims ðÿ’©ðÿ¤®ðÿ’©ðÿ¤®ðÿ’©ðÿ¤®   \n",
       "4                                                                                                       good share check items im loving poshmarkapp poshmark fashion style shopmycloset madewell balenciaga kaileigh   \n",
       "5                                                                                                                                                                                            wtf happening balenciaga   \n",
       "6                                                                                      good share check items im loving poshmarkapp kmullen1019 poshmark fashion style shopmycloset balenciaga freepeople dannynicole   \n",
       "7                                                                                                                                                      lets talk balenciaga ðÿ’€ shorts makeup balenciaga via youtube   \n",
       "8                                                                                                                                                   sadly much bigger balenciaga balenciagagate gotta start somewhere   \n",
       "9                             skims bot replies tell somethingwe dont support pedos abuse children dress child gimp mask call fashion youre sick satanic balenciaga cancelskims cancelkimkardashian ðÿ¤®ðÿ¤®ðÿ¤®ðÿ¤®ð   \n",
       "\n",
       "                        date  text_length  \\\n",
       "0  2023-01-30 23:46:10+00:00          280   \n",
       "1  2023-01-30 23:44:31+00:00          173   \n",
       "2  2023-01-30 23:33:43+00:00          197   \n",
       "3  2023-01-30 20:04:35+00:00          160   \n",
       "4  2023-01-30 19:30:19+00:00          195   \n",
       "5  2023-01-30 18:51:52+00:00           65   \n",
       "6  2023-01-30 18:29:23+00:00          218   \n",
       "7  2023-01-30 17:51:43+00:00           96   \n",
       "8  2023-01-30 17:48:02+00:00           78   \n",
       "9  2023-01-30 17:42:35+00:00          255   \n",
       "\n",
       "                                                                                                                                                                                                                                                                                                              Tokens  \n",
       "0                                            [latest, podcast, is, out, now, balenciaga, is, run, by, satanists, just, think, 5, via, youtube, balenciagapedos, balenciaga, satan, satanist, satanic, pedophelia, podcastshow, podcast, podcastlife, podcastandchill, podcaster, podcasting, lucifer, luciferian, h]  \n",
       "1                                                                                                                                                                                   [over, 500, brands, including, gucci, offwhite, balenciaga, maisonmargiela, marineserre, saintlaurent, fashion, and, many, more]  \n",
       "2                                                                                                                                                  [so, good, i, had, to, share, check, out, all, the, items, im, loving, on, poshmarkapp, poshmark, fashion, style, shopmycloset, balenciaga, variety, stevemadden]  \n",
       "3                                                                                                     [skkn, nothing, we, dont, support, pedos, and, those, who, support, child, abuse, and, exploitation, balenciaga, cancelkimkardashian, cancelskims, ðÿ, ’, ©, ðÿ, ¤, ®, ðÿ, ’, ©, ðÿ, ¤, ®, ðÿ, ’, ©, ðÿ, ¤, ®]  \n",
       "4                                                                                                                                                    [so, good, i, had, to, share, check, out, all, the, items, im, loving, on, poshmarkapp, poshmark, fashion, style, shopmycloset, madewell, balenciaga, kaileigh]  \n",
       "5                                                                                                                                                                                                                                                                        [wtf, why, is, this, happening, balenciaga]  \n",
       "6                                                                                                                          [so, good, i, had, to, share, check, out, all, the, items, im, loving, on, poshmarkapp, from, kmullen, 1019, poshmark, fashion, style, shopmycloset, balenciaga, freepeople, dannynicole]  \n",
       "7                                                                                                                                                                                                                                [lets, talk, about, balenciaga, ðÿ, ’, €, shorts, makeup, balenciaga, via, youtube]  \n",
       "8                                                                                                                                                                                                                              [sadly, its, much, bigger, than, balenciaga, balenciagagate, gotta, start, somewhere]  \n",
       "9  [skims, all, the, bot, replies, should, tell, you, somethingwe, dont, support, pedos, and, the, abuse, of, children, you, dress, your, own, child, in, a, gimp, mask, and, call, it, fashion, youre, sick, and, satanic, balenciaga, cancelskims, cancelkimkardashian, ðÿ, ¤, ®, ðÿ, ¤, ®, ðÿ, ¤, ®, ðÿ, ¤, ®, ð]  "
      ]
     },
     "execution_count": 47,
     "metadata": {},
     "output_type": "execute_result"
    }
   ],
   "source": [
    "train.head(10)"
   ]
  },
  {
   "cell_type": "code",
   "execution_count": 48,
   "id": "0b6136d0",
   "metadata": {},
   "outputs": [],
   "source": [
    "##Remove characters other than emoticons\n",
    "\n",
    "def remove_emoticons(text):\n",
    "    emoticon_pattern = re.compile(\"[\"\n",
    "        u\"\\U0001F600-\\U0001F64F\"  # emoticons\n",
    "        u\"\\U0001F300-\\U0001F5FF\"  # symbols & pictographs\n",
    "        u\"\\U0001F680-\\U0001F6FF\"  # transport & map symbols\n",
    "        u\"\\U0001F1E0-\\U0001F1FF\"  # flags (iOS)\n",
    "        u\"\\u2764\"                  # heart symbol\n",
    "        u\"\\U0001F644\"              # rolling eyes face\n",
    "        u\"\\U000024C2-\\U0001F251\"  # miscellaneous symbols\n",
    "        u\"\\U0001f926-\\U0001f937\"  # people and body-related symbols\n",
    "        u\"\\u2600-\\u2B55\"          # weather-related symbols\n",
    "        u\"\\u200d\"                 # zero width joiner\n",
    "        u\"\\u23cf\"                 # eject symbol\n",
    "        u\"\\u23e9\"                 # fast forward symbol\n",
    "        u\"\\u231a\"                 # watch symbol\n",
    "        u\"\\ufe0f\"                 # emoji variation selector\n",
    "                                  \n",
    "                           \"]+\", flags=re.UNICODE)\n",
    "    text = emoticon_pattern.sub(r' ', text)  # replace emoticons with a space\n",
    "    text = re.sub(r'[^\\w\\s]', '', text)  # remove non-word characters except spaces\n",
    "    return text.strip()"
   ]
  },
  {
   "cell_type": "code",
   "execution_count": 49,
   "id": "c50c91d0",
   "metadata": {},
   "outputs": [],
   "source": [
    "\n",
    "# Apply the remove_emoticons function to the 'Comments' column\n",
    "train['Comments'] = train['Comments'].apply(remove_emoticons)"
   ]
  },
  {
   "cell_type": "code",
   "execution_count": 50,
   "id": "c9bf3cba",
   "metadata": {},
   "outputs": [],
   "source": [
    "##Remove numbers\n",
    "\n",
    "train['Comments'] = train['Comments'].apply(lambda x: re.sub(r'\\d+', '', x))"
   ]
  },
  {
   "cell_type": "code",
   "execution_count": 51,
   "id": "8c6059da",
   "metadata": {},
   "outputs": [
    {
     "data": {
      "text/html": [
       "<div>\n",
       "<style scoped>\n",
       "    .dataframe tbody tr th:only-of-type {\n",
       "        vertical-align: middle;\n",
       "    }\n",
       "\n",
       "    .dataframe tbody tr th {\n",
       "        vertical-align: top;\n",
       "    }\n",
       "\n",
       "    .dataframe thead th {\n",
       "        text-align: right;\n",
       "    }\n",
       "</style>\n",
       "<table border=\"1\" class=\"dataframe\">\n",
       "  <thead>\n",
       "    <tr style=\"text-align: right;\">\n",
       "      <th></th>\n",
       "      <th>id</th>\n",
       "      <th>Comments</th>\n",
       "      <th>date</th>\n",
       "      <th>text_length</th>\n",
       "      <th>Tokens</th>\n",
       "    </tr>\n",
       "  </thead>\n",
       "  <tbody>\n",
       "    <tr>\n",
       "      <th>0</th>\n",
       "      <td>1.620207e+18</td>\n",
       "      <td>latest podcast balenciaga run satanists think  via youtube balenciagapedos balenciaga satan satanist satanic pedophelia podcastshow podcast podcastlife podcastandchill podcaster podcasting lucifer luciferian h</td>\n",
       "      <td>2023-01-30 23:46:10+00:00</td>\n",
       "      <td>280</td>\n",
       "      <td>[latest, podcast, is, out, now, balenciaga, is, run, by, satanists, just, think, 5, via, youtube, balenciagapedos, balenciaga, satan, satanist, satanic, pedophelia, podcastshow, podcast, podcastlife, podcastandchill, podcaster, podcasting, lucifer, luciferian, h]</td>\n",
       "    </tr>\n",
       "    <tr>\n",
       "      <th>1</th>\n",
       "      <td>1.620206e+18</td>\n",
       "      <td>brands including gucci offwhite balenciaga maisonmargiela marineserre saintlaurent fashion many</td>\n",
       "      <td>2023-01-30 23:44:31+00:00</td>\n",
       "      <td>173</td>\n",
       "      <td>[over, 500, brands, including, gucci, offwhite, balenciaga, maisonmargiela, marineserre, saintlaurent, fashion, and, many, more]</td>\n",
       "    </tr>\n",
       "    <tr>\n",
       "      <th>2</th>\n",
       "      <td>1.620204e+18</td>\n",
       "      <td>good share check items im loving poshmarkapp poshmark fashion style shopmycloset balenciaga variety stevemadden</td>\n",
       "      <td>2023-01-30 23:33:43+00:00</td>\n",
       "      <td>197</td>\n",
       "      <td>[so, good, i, had, to, share, check, out, all, the, items, im, loving, on, poshmarkapp, poshmark, fashion, style, shopmycloset, balenciaga, variety, stevemadden]</td>\n",
       "    </tr>\n",
       "    <tr>\n",
       "      <th>3</th>\n",
       "      <td>1.620151e+18</td>\n",
       "      <td>skkn nothing dont support pedos support child abuse exploitation balenciaga cancelkimkardashian cancelskims ðÿðÿðÿðÿðÿðÿ</td>\n",
       "      <td>2023-01-30 20:04:35+00:00</td>\n",
       "      <td>160</td>\n",
       "      <td>[skkn, nothing, we, dont, support, pedos, and, those, who, support, child, abuse, and, exploitation, balenciaga, cancelkimkardashian, cancelskims, ðÿ, ’, ©, ðÿ, ¤, ®, ðÿ, ’, ©, ðÿ, ¤, ®, ðÿ, ’, ©, ðÿ, ¤, ®]</td>\n",
       "    </tr>\n",
       "    <tr>\n",
       "      <th>4</th>\n",
       "      <td>1.620142e+18</td>\n",
       "      <td>good share check items im loving poshmarkapp poshmark fashion style shopmycloset madewell balenciaga kaileigh</td>\n",
       "      <td>2023-01-30 19:30:19+00:00</td>\n",
       "      <td>195</td>\n",
       "      <td>[so, good, i, had, to, share, check, out, all, the, items, im, loving, on, poshmarkapp, poshmark, fashion, style, shopmycloset, madewell, balenciaga, kaileigh]</td>\n",
       "    </tr>\n",
       "    <tr>\n",
       "      <th>...</th>\n",
       "      <td>...</td>\n",
       "      <td>...</td>\n",
       "      <td>...</td>\n",
       "      <td>...</td>\n",
       "      <td>...</td>\n",
       "    </tr>\n",
       "    <tr>\n",
       "      <th>495</th>\n",
       "      <td>1.616575e+18</td>\n",
       "      <td>brands including gucci offwhite balenciaga maisonmargiela marineserre saintlaurent fashion many</td>\n",
       "      <td>2023-01-20 23:15:51+00:00</td>\n",
       "      <td>173</td>\n",
       "      <td>[over, 500, brands, including, gucci, offwhite, balenciaga, maisonmargiela, marineserre, saintlaurent, fashion, and, many, more]</td>\n",
       "    </tr>\n",
       "    <tr>\n",
       "      <th>496</th>\n",
       "      <td>1.616556e+18</td>\n",
       "      <td>romenyla humblegenius gucci also company balenciaga ad weirdo harrystyles getting naked front toddler mattress empty room clearly plain site care</td>\n",
       "      <td>2023-01-20 21:59:48+00:00</td>\n",
       "      <td>234</td>\n",
       "      <td>[romenyla, humblegenius, 123, gucci, just, did, also, which, is, the, same, company, as, balenciaga, an, ad, with, weirdo, harrystyles, getting, naked, in, front, of, a, toddler, mattress, in, a, empty, room, they, clearly, do, this, in, plain, site, and, do, not, care]</td>\n",
       "    </tr>\n",
       "    <tr>\n",
       "      <th>497</th>\n",
       "      <td>1.616542e+18</td>\n",
       "      <td>nasty girl lie like completely supported wef british government like climate activists paid bought vaccinedeath vaccine vaccinedeaths vaccinegenocide vaccin wefpuppets wef balenciaga balenciagapedos pedofila grooming</td>\n",
       "      <td>2023-01-20 21:05:17+00:00</td>\n",
       "      <td>275</td>\n",
       "      <td>[what, a, nasty, girl, to, lie, like, that, and, completely, supported, by, the, wef, and, the, british, government, like, the, climate, activists, paid, and, bought, vaccinedeath, vaccine, vaccinedeaths, vaccinegenocide, vaccin, wefpuppets, wef, balenciaga, balenciagapedos, pedofila, grooming]</td>\n",
       "    </tr>\n",
       "    <tr>\n",
       "      <th>498</th>\n",
       "      <td>1.616542e+18</td>\n",
       "      <td>jordanbpeterson advice come yes woman mysogynistic woman spell see im female patriarchy ooh complicated vaccinedeath vaccine balenciaga balenciagapedos pedofila grooming hollywoodstudios</td>\n",
       "      <td>2023-01-20 21:03:13+00:00</td>\n",
       "      <td>275</td>\n",
       "      <td>[on, jordanbpeterson, advice, i, have, come, out, and, yes, i, am, a, woman, i, am, a, mysogynistic, woman, how, do, you, spell, that, see, im, female, down, with, the, patriarchy, ooh, this, is, complicated, vaccinedeath, vaccine, balenciaga, balenciagapedos, pedofila, grooming, hollywoodstudios]</td>\n",
       "    </tr>\n",
       "    <tr>\n",
       "      <th>499</th>\n",
       "      <td>1.616533e+18</td>\n",
       "      <td>good share check items im loving poshmarkapp poshmark fashion style shopmycloset balenciaga fila draperjames</td>\n",
       "      <td>2023-01-20 20:29:26+00:00</td>\n",
       "      <td>194</td>\n",
       "      <td>[so, good, i, had, to, share, check, out, all, the, items, im, loving, on, poshmarkapp, poshmark, fashion, style, shopmycloset, balenciaga, fila, draperjames]</td>\n",
       "    </tr>\n",
       "  </tbody>\n",
       "</table>\n",
       "<p>500 rows × 5 columns</p>\n",
       "</div>"
      ],
      "text/plain": [
       "               id  \\\n",
       "0    1.620207e+18   \n",
       "1    1.620206e+18   \n",
       "2    1.620204e+18   \n",
       "3    1.620151e+18   \n",
       "4    1.620142e+18   \n",
       "..            ...   \n",
       "495  1.616575e+18   \n",
       "496  1.616556e+18   \n",
       "497  1.616542e+18   \n",
       "498  1.616542e+18   \n",
       "499  1.616533e+18   \n",
       "\n",
       "                                                                                                                                                                                                                     Comments  \\\n",
       "0           latest podcast balenciaga run satanists think  via youtube balenciagapedos balenciaga satan satanist satanic pedophelia podcastshow podcast podcastlife podcastandchill podcaster podcasting lucifer luciferian h   \n",
       "1                                                                                                                             brands including gucci offwhite balenciaga maisonmargiela marineserre saintlaurent fashion many   \n",
       "2                                                                                                             good share check items im loving poshmarkapp poshmark fashion style shopmycloset balenciaga variety stevemadden   \n",
       "3                                                                                                    skkn nothing dont support pedos support child abuse exploitation balenciaga cancelkimkardashian cancelskims ðÿðÿðÿðÿðÿðÿ   \n",
       "4                                                                                                               good share check items im loving poshmarkapp poshmark fashion style shopmycloset madewell balenciaga kaileigh   \n",
       "..                                                                                                                                                                                                                        ...   \n",
       "495                                                                                                                           brands including gucci offwhite balenciaga maisonmargiela marineserre saintlaurent fashion many   \n",
       "496                                                                         romenyla humblegenius gucci also company balenciaga ad weirdo harrystyles getting naked front toddler mattress empty room clearly plain site care   \n",
       "497  nasty girl lie like completely supported wef british government like climate activists paid bought vaccinedeath vaccine vaccinedeaths vaccinegenocide vaccin wefpuppets wef balenciaga balenciagapedos pedofila grooming   \n",
       "498                                jordanbpeterson advice come yes woman mysogynistic woman spell see im female patriarchy ooh complicated vaccinedeath vaccine balenciaga balenciagapedos pedofila grooming hollywoodstudios   \n",
       "499                                                                                                              good share check items im loving poshmarkapp poshmark fashion style shopmycloset balenciaga fila draperjames   \n",
       "\n",
       "                          date  text_length  \\\n",
       "0    2023-01-30 23:46:10+00:00          280   \n",
       "1    2023-01-30 23:44:31+00:00          173   \n",
       "2    2023-01-30 23:33:43+00:00          197   \n",
       "3    2023-01-30 20:04:35+00:00          160   \n",
       "4    2023-01-30 19:30:19+00:00          195   \n",
       "..                         ...          ...   \n",
       "495  2023-01-20 23:15:51+00:00          173   \n",
       "496  2023-01-20 21:59:48+00:00          234   \n",
       "497  2023-01-20 21:05:17+00:00          275   \n",
       "498  2023-01-20 21:03:13+00:00          275   \n",
       "499  2023-01-20 20:29:26+00:00          194   \n",
       "\n",
       "                                                                                                                                                                                                                                                                                                         Tokens  \n",
       "0                                       [latest, podcast, is, out, now, balenciaga, is, run, by, satanists, just, think, 5, via, youtube, balenciagapedos, balenciaga, satan, satanist, satanic, pedophelia, podcastshow, podcast, podcastlife, podcastandchill, podcaster, podcasting, lucifer, luciferian, h]  \n",
       "1                                                                                                                                                                              [over, 500, brands, including, gucci, offwhite, balenciaga, maisonmargiela, marineserre, saintlaurent, fashion, and, many, more]  \n",
       "2                                                                                                                                             [so, good, i, had, to, share, check, out, all, the, items, im, loving, on, poshmarkapp, poshmark, fashion, style, shopmycloset, balenciaga, variety, stevemadden]  \n",
       "3                                                                                                [skkn, nothing, we, dont, support, pedos, and, those, who, support, child, abuse, and, exploitation, balenciaga, cancelkimkardashian, cancelskims, ðÿ, ’, ©, ðÿ, ¤, ®, ðÿ, ’, ©, ðÿ, ¤, ®, ðÿ, ’, ©, ðÿ, ¤, ®]  \n",
       "4                                                                                                                                               [so, good, i, had, to, share, check, out, all, the, items, im, loving, on, poshmarkapp, poshmark, fashion, style, shopmycloset, madewell, balenciaga, kaileigh]  \n",
       "..                                                                                                                                                                                                                                                                                                          ...  \n",
       "495                                                                                                                                                                            [over, 500, brands, including, gucci, offwhite, balenciaga, maisonmargiela, marineserre, saintlaurent, fashion, and, many, more]  \n",
       "496                              [romenyla, humblegenius, 123, gucci, just, did, also, which, is, the, same, company, as, balenciaga, an, ad, with, weirdo, harrystyles, getting, naked, in, front, of, a, toddler, mattress, in, a, empty, room, they, clearly, do, this, in, plain, site, and, do, not, care]  \n",
       "497     [what, a, nasty, girl, to, lie, like, that, and, completely, supported, by, the, wef, and, the, british, government, like, the, climate, activists, paid, and, bought, vaccinedeath, vaccine, vaccinedeaths, vaccinegenocide, vaccin, wefpuppets, wef, balenciaga, balenciagapedos, pedofila, grooming]  \n",
       "498  [on, jordanbpeterson, advice, i, have, come, out, and, yes, i, am, a, woman, i, am, a, mysogynistic, woman, how, do, you, spell, that, see, im, female, down, with, the, patriarchy, ooh, this, is, complicated, vaccinedeath, vaccine, balenciaga, balenciagapedos, pedofila, grooming, hollywoodstudios]  \n",
       "499                                                                                                                                              [so, good, i, had, to, share, check, out, all, the, items, im, loving, on, poshmarkapp, poshmark, fashion, style, shopmycloset, balenciaga, fila, draperjames]  \n",
       "\n",
       "[500 rows x 5 columns]"
      ]
     },
     "execution_count": 51,
     "metadata": {},
     "output_type": "execute_result"
    }
   ],
   "source": [
    "train.head(500)"
   ]
  },
  {
   "cell_type": "code",
   "execution_count": 52,
   "id": "1524ffa9",
   "metadata": {},
   "outputs": [],
   "source": [
    "##Remove non-ASCII improperly encoded characters\n",
    "\n",
    "def remove_invalid_chars(text):\n",
    "    # encode the text string using ASCII encoding\n",
    "    encoded_text = text.encode('ascii', 'ignore')\n",
    "    # decode the encoded text using ASCII encoding\n",
    "    decoded_text = encoded_text.decode('ascii')\n",
    "    return decoded_text"
   ]
  },
  {
   "cell_type": "code",
   "execution_count": 53,
   "id": "2e0c94f1",
   "metadata": {},
   "outputs": [],
   "source": [
    "# apply the remove_invalid_chars function to the 'Comments' column\n",
    "train['Comments'] = train['Comments'].apply(remove_invalid_chars)\n"
   ]
  },
  {
   "cell_type": "code",
   "execution_count": 54,
   "id": "d9b6513e",
   "metadata": {},
   "outputs": [
    {
     "data": {
      "text/html": [
       "<div>\n",
       "<style scoped>\n",
       "    .dataframe tbody tr th:only-of-type {\n",
       "        vertical-align: middle;\n",
       "    }\n",
       "\n",
       "    .dataframe tbody tr th {\n",
       "        vertical-align: top;\n",
       "    }\n",
       "\n",
       "    .dataframe thead th {\n",
       "        text-align: right;\n",
       "    }\n",
       "</style>\n",
       "<table border=\"1\" class=\"dataframe\">\n",
       "  <thead>\n",
       "    <tr style=\"text-align: right;\">\n",
       "      <th></th>\n",
       "      <th>id</th>\n",
       "      <th>Comments</th>\n",
       "      <th>date</th>\n",
       "      <th>text_length</th>\n",
       "      <th>Tokens</th>\n",
       "    </tr>\n",
       "  </thead>\n",
       "  <tbody>\n",
       "    <tr>\n",
       "      <th>0</th>\n",
       "      <td>1.620207e+18</td>\n",
       "      <td>latest podcast balenciaga run satanists think  via youtube balenciagapedos balenciaga satan satanist satanic pedophelia podcastshow podcast podcastlife podcastandchill podcaster podcasting lucifer luciferian h</td>\n",
       "      <td>2023-01-30 23:46:10+00:00</td>\n",
       "      <td>280</td>\n",
       "      <td>[latest, podcast, is, out, now, balenciaga, is, run, by, satanists, just, think, 5, via, youtube, balenciagapedos, balenciaga, satan, satanist, satanic, pedophelia, podcastshow, podcast, podcastlife, podcastandchill, podcaster, podcasting, lucifer, luciferian, h]</td>\n",
       "    </tr>\n",
       "    <tr>\n",
       "      <th>1</th>\n",
       "      <td>1.620206e+18</td>\n",
       "      <td>brands including gucci offwhite balenciaga maisonmargiela marineserre saintlaurent fashion many</td>\n",
       "      <td>2023-01-30 23:44:31+00:00</td>\n",
       "      <td>173</td>\n",
       "      <td>[over, 500, brands, including, gucci, offwhite, balenciaga, maisonmargiela, marineserre, saintlaurent, fashion, and, many, more]</td>\n",
       "    </tr>\n",
       "    <tr>\n",
       "      <th>2</th>\n",
       "      <td>1.620204e+18</td>\n",
       "      <td>good share check items im loving poshmarkapp poshmark fashion style shopmycloset balenciaga variety stevemadden</td>\n",
       "      <td>2023-01-30 23:33:43+00:00</td>\n",
       "      <td>197</td>\n",
       "      <td>[so, good, i, had, to, share, check, out, all, the, items, im, loving, on, poshmarkapp, poshmark, fashion, style, shopmycloset, balenciaga, variety, stevemadden]</td>\n",
       "    </tr>\n",
       "    <tr>\n",
       "      <th>3</th>\n",
       "      <td>1.620151e+18</td>\n",
       "      <td>skkn nothing dont support pedos support child abuse exploitation balenciaga cancelkimkardashian cancelskims</td>\n",
       "      <td>2023-01-30 20:04:35+00:00</td>\n",
       "      <td>160</td>\n",
       "      <td>[skkn, nothing, we, dont, support, pedos, and, those, who, support, child, abuse, and, exploitation, balenciaga, cancelkimkardashian, cancelskims, ðÿ, ’, ©, ðÿ, ¤, ®, ðÿ, ’, ©, ðÿ, ¤, ®, ðÿ, ’, ©, ðÿ, ¤, ®]</td>\n",
       "    </tr>\n",
       "    <tr>\n",
       "      <th>4</th>\n",
       "      <td>1.620142e+18</td>\n",
       "      <td>good share check items im loving poshmarkapp poshmark fashion style shopmycloset madewell balenciaga kaileigh</td>\n",
       "      <td>2023-01-30 19:30:19+00:00</td>\n",
       "      <td>195</td>\n",
       "      <td>[so, good, i, had, to, share, check, out, all, the, items, im, loving, on, poshmarkapp, poshmark, fashion, style, shopmycloset, madewell, balenciaga, kaileigh]</td>\n",
       "    </tr>\n",
       "    <tr>\n",
       "      <th>5</th>\n",
       "      <td>1.620133e+18</td>\n",
       "      <td>wtf happening balenciaga</td>\n",
       "      <td>2023-01-30 18:51:52+00:00</td>\n",
       "      <td>65</td>\n",
       "      <td>[wtf, why, is, this, happening, balenciaga]</td>\n",
       "    </tr>\n",
       "    <tr>\n",
       "      <th>6</th>\n",
       "      <td>1.620127e+18</td>\n",
       "      <td>good share check items im loving poshmarkapp kmullen poshmark fashion style shopmycloset balenciaga freepeople dannynicole</td>\n",
       "      <td>2023-01-30 18:29:23+00:00</td>\n",
       "      <td>218</td>\n",
       "      <td>[so, good, i, had, to, share, check, out, all, the, items, im, loving, on, poshmarkapp, from, kmullen, 1019, poshmark, fashion, style, shopmycloset, balenciaga, freepeople, dannynicole]</td>\n",
       "    </tr>\n",
       "    <tr>\n",
       "      <th>7</th>\n",
       "      <td>1.620118e+18</td>\n",
       "      <td>lets talk balenciaga  shorts makeup balenciaga via youtube</td>\n",
       "      <td>2023-01-30 17:51:43+00:00</td>\n",
       "      <td>96</td>\n",
       "      <td>[lets, talk, about, balenciaga, ðÿ, ’, €, shorts, makeup, balenciaga, via, youtube]</td>\n",
       "    </tr>\n",
       "    <tr>\n",
       "      <th>8</th>\n",
       "      <td>1.620117e+18</td>\n",
       "      <td>sadly much bigger balenciaga balenciagagate gotta start somewhere</td>\n",
       "      <td>2023-01-30 17:48:02+00:00</td>\n",
       "      <td>78</td>\n",
       "      <td>[sadly, its, much, bigger, than, balenciaga, balenciagagate, gotta, start, somewhere]</td>\n",
       "    </tr>\n",
       "    <tr>\n",
       "      <th>9</th>\n",
       "      <td>1.620115e+18</td>\n",
       "      <td>skims bot replies tell somethingwe dont support pedos abuse children dress child gimp mask call fashion youre sick satanic balenciaga cancelskims cancelkimkardashian</td>\n",
       "      <td>2023-01-30 17:42:35+00:00</td>\n",
       "      <td>255</td>\n",
       "      <td>[skims, all, the, bot, replies, should, tell, you, somethingwe, dont, support, pedos, and, the, abuse, of, children, you, dress, your, own, child, in, a, gimp, mask, and, call, it, fashion, youre, sick, and, satanic, balenciaga, cancelskims, cancelkimkardashian, ðÿ, ¤, ®, ðÿ, ¤, ®, ðÿ, ¤, ®, ðÿ, ¤, ®, ð]</td>\n",
       "    </tr>\n",
       "    <tr>\n",
       "      <th>10</th>\n",
       "      <td>1.620112e+18</td>\n",
       "      <td>good share check items im loving poshmarkapp ksena poshmark fashion style shopmycloset eloquii freepeople balenciaga</td>\n",
       "      <td>2023-01-30 17:30:46+00:00</td>\n",
       "      <td>211</td>\n",
       "      <td>[so, good, i, had, to, share, check, out, all, the, items, im, loving, on, poshmarkapp, from, ksena, 116, poshmark, fashion, style, shopmycloset, eloquii, freepeople, balenciaga]</td>\n",
       "    </tr>\n",
       "    <tr>\n",
       "      <th>11</th>\n",
       "      <td>1.620112e+18</td>\n",
       "      <td>good share check items im loving poshmarkapp poshmark fashion style shopmycloset balenciaga francescascollections anthropologie</td>\n",
       "      <td>2023-01-30 17:29:00+00:00</td>\n",
       "      <td>213</td>\n",
       "      <td>[so, good, i, had, to, share, check, out, all, the, items, im, loving, on, poshmarkapp, poshmark, fashion, style, shopmycloset, balenciaga, francescascollections, anthropologie]</td>\n",
       "    </tr>\n",
       "    <tr>\n",
       "      <th>12</th>\n",
       "      <td>1.620103e+18</td>\n",
       "      <td>xxn sam smith disgusting ask balenciaga</td>\n",
       "      <td>2023-01-30 16:54:11+00:00</td>\n",
       "      <td>68</td>\n",
       "      <td>[xx17965797n, sam, smith, is, disgusting, ask, him, about, balenciaga, ðÿ, ‘, €]</td>\n",
       "    </tr>\n",
       "    <tr>\n",
       "      <th>13</th>\n",
       "      <td>1.620097e+18</td>\n",
       "      <td>good share check items im loving poshmarkapp poshmark fashion style shopmycloset cablegauge balenciaga levis</td>\n",
       "      <td>2023-01-30 16:31:18+00:00</td>\n",
       "      <td>194</td>\n",
       "      <td>[so, good, i, had, to, share, check, out, all, the, items, im, loving, on, poshmarkapp, poshmark, fashion, style, shopmycloset, cablegauge, balenciaga, levis]</td>\n",
       "    </tr>\n",
       "    <tr>\n",
       "      <th>14</th>\n",
       "      <td>1.620097e+18</td>\n",
       "      <td>good share check items im loving poshmarkapp marilynsend poshmark fashion style shopmycloset gbygiuliana balenciaga oneteaspoon</td>\n",
       "      <td>2023-01-30 16:31:00+00:00</td>\n",
       "      <td>220</td>\n",
       "      <td>[so, good, i, had, to, share, check, out, all, the, items, im, loving, on, poshmarkapp, from, marilynsend, 1, poshmark, fashion, style, shopmycloset, gbygiuliana, balenciaga, oneteaspoon]</td>\n",
       "    </tr>\n",
       "    <tr>\n",
       "      <th>15</th>\n",
       "      <td>1.620097e+18</td>\n",
       "      <td>good share check items im loving poshmarkapp poshmark fashion style shopmycloset balenciaga cherokee kennethcolereaction</td>\n",
       "      <td>2023-01-30 16:29:15+00:00</td>\n",
       "      <td>206</td>\n",
       "      <td>[so, good, i, had, to, share, check, out, all, the, items, im, loving, on, poshmarkapp, poshmark, fashion, style, shopmycloset, balenciaga, cherokee, kennethcolereaction]</td>\n",
       "    </tr>\n",
       "    <tr>\n",
       "      <th>16</th>\n",
       "      <td>1.620097e+18</td>\n",
       "      <td>ye faces new hurdle business personal life australian visa denial looms adidas africanbillionaires africanamericanbillionaire australianvisa balenciaga billionairesafrica featured kanyewest visaapplication</td>\n",
       "      <td>2023-01-30 16:28:32+00:00</td>\n",
       "      <td>274</td>\n",
       "      <td>[ye, faces, new, hurdle, in, business, and, personal, life, as, australian, visa, denial, looms, adidas, africanbillionaires, africanamericanbillionaire, australianvisa, balenciaga, billionairesafrica, featured, kanyewest, visaapplication]</td>\n",
       "    </tr>\n",
       "    <tr>\n",
       "      <th>17</th>\n",
       "      <td>1.620083e+18</td>\n",
       "      <td>ffs lmao vaccinedeath vaccine vaccinedeaths vaccinegenocide vaccinedemocide covidvaccine covid nuremberg nhs davosagenda wefisevil wef wefpuppets wef balenciaga balenciagapedos pedofila grooming hollywoodstudios</td>\n",
       "      <td>2023-01-30 15:33:46+00:00</td>\n",
       "      <td>245</td>\n",
       "      <td>[ffs, lmao, vaccinedeath, vaccine, vaccinedeaths, vaccinegenocide, vaccinedemocide, covidvaccine, covid, 19, nuremberg, 2â, nhsâ, davosagenda, wefisevil, wef, 23, wefpuppets, wef, balenciaga, balenciagapedos, pedofila, grooming, hollywoodstudios]</td>\n",
       "    </tr>\n",
       "    <tr>\n",
       "      <th>18</th>\n",
       "      <td>1.620074e+18</td>\n",
       "      <td>tenant outlook sports apparel brands race capture global growth read icsc realestate retail athleisure sportswear fitness nike balenciaga</td>\n",
       "      <td>2023-01-30 14:57:00+00:00</td>\n",
       "      <td>182</td>\n",
       "      <td>[tenant, outlook, sports, apparel, brands, race, to, capture, global, growth, read, here, icsc, realestate, retail, athleisure, sportswear, fitness, nike, balenciaga]</td>\n",
       "    </tr>\n",
       "    <tr>\n",
       "      <th>19</th>\n",
       "      <td>1.620059e+18</td>\n",
       "      <td>feel sorry people blissfully unaware balenciaga scandal indeed purpose fashion industry</td>\n",
       "      <td>2023-01-30 14:00:05+00:00</td>\n",
       "      <td>136</td>\n",
       "      <td>[i, have, to, feel, sorry, for, people, who, were, blissfully, unaware, of, the, balenciaga, scandal, and, indeed, the, purpose, of, the, fashion, industry]</td>\n",
       "    </tr>\n",
       "  </tbody>\n",
       "</table>\n",
       "</div>"
      ],
      "text/plain": [
       "              id  \\\n",
       "0   1.620207e+18   \n",
       "1   1.620206e+18   \n",
       "2   1.620204e+18   \n",
       "3   1.620151e+18   \n",
       "4   1.620142e+18   \n",
       "5   1.620133e+18   \n",
       "6   1.620127e+18   \n",
       "7   1.620118e+18   \n",
       "8   1.620117e+18   \n",
       "9   1.620115e+18   \n",
       "10  1.620112e+18   \n",
       "11  1.620112e+18   \n",
       "12  1.620103e+18   \n",
       "13  1.620097e+18   \n",
       "14  1.620097e+18   \n",
       "15  1.620097e+18   \n",
       "16  1.620097e+18   \n",
       "17  1.620083e+18   \n",
       "18  1.620074e+18   \n",
       "19  1.620059e+18   \n",
       "\n",
       "                                                                                                                                                                                                               Comments  \\\n",
       "0     latest podcast balenciaga run satanists think  via youtube balenciagapedos balenciaga satan satanist satanic pedophelia podcastshow podcast podcastlife podcastandchill podcaster podcasting lucifer luciferian h   \n",
       "1                                                                                                                       brands including gucci offwhite balenciaga maisonmargiela marineserre saintlaurent fashion many   \n",
       "2                                                                                                       good share check items im loving poshmarkapp poshmark fashion style shopmycloset balenciaga variety stevemadden   \n",
       "3                                                                                                          skkn nothing dont support pedos support child abuse exploitation balenciaga cancelkimkardashian cancelskims    \n",
       "4                                                                                                         good share check items im loving poshmarkapp poshmark fashion style shopmycloset madewell balenciaga kaileigh   \n",
       "5                                                                                                                                                                                              wtf happening balenciaga   \n",
       "6                                                                                            good share check items im loving poshmarkapp kmullen poshmark fashion style shopmycloset balenciaga freepeople dannynicole   \n",
       "7                                                                                                                                                            lets talk balenciaga  shorts makeup balenciaga via youtube   \n",
       "8                                                                                                                                                     sadly much bigger balenciaga balenciagagate gotta start somewhere   \n",
       "9                                                skims bot replies tell somethingwe dont support pedos abuse children dress child gimp mask call fashion youre sick satanic balenciaga cancelskims cancelkimkardashian    \n",
       "10                                                                                                 good share check items im loving poshmarkapp ksena poshmark fashion style shopmycloset eloquii freepeople balenciaga   \n",
       "11                                                                                      good share check items im loving poshmarkapp poshmark fashion style shopmycloset balenciaga francescascollections anthropologie   \n",
       "12                                                                                                                                                                             xxn sam smith disgusting ask balenciaga    \n",
       "13                                                                                                         good share check items im loving poshmarkapp poshmark fashion style shopmycloset cablegauge balenciaga levis   \n",
       "14                                                                                      good share check items im loving poshmarkapp marilynsend poshmark fashion style shopmycloset gbygiuliana balenciaga oneteaspoon   \n",
       "15                                                                                             good share check items im loving poshmarkapp poshmark fashion style shopmycloset balenciaga cherokee kennethcolereaction   \n",
       "16        ye faces new hurdle business personal life australian visa denial looms adidas africanbillionaires africanamericanbillionaire australianvisa balenciaga billionairesafrica featured kanyewest visaapplication   \n",
       "17  ffs lmao vaccinedeath vaccine vaccinedeaths vaccinegenocide vaccinedemocide covidvaccine covid nuremberg nhs davosagenda wefisevil wef wefpuppets wef balenciaga balenciagapedos pedofila grooming hollywoodstudios   \n",
       "18                                                                            tenant outlook sports apparel brands race capture global growth read icsc realestate retail athleisure sportswear fitness nike balenciaga   \n",
       "19                                                                                                                              feel sorry people blissfully unaware balenciaga scandal indeed purpose fashion industry   \n",
       "\n",
       "                         date  text_length  \\\n",
       "0   2023-01-30 23:46:10+00:00          280   \n",
       "1   2023-01-30 23:44:31+00:00          173   \n",
       "2   2023-01-30 23:33:43+00:00          197   \n",
       "3   2023-01-30 20:04:35+00:00          160   \n",
       "4   2023-01-30 19:30:19+00:00          195   \n",
       "5   2023-01-30 18:51:52+00:00           65   \n",
       "6   2023-01-30 18:29:23+00:00          218   \n",
       "7   2023-01-30 17:51:43+00:00           96   \n",
       "8   2023-01-30 17:48:02+00:00           78   \n",
       "9   2023-01-30 17:42:35+00:00          255   \n",
       "10  2023-01-30 17:30:46+00:00          211   \n",
       "11  2023-01-30 17:29:00+00:00          213   \n",
       "12  2023-01-30 16:54:11+00:00           68   \n",
       "13  2023-01-30 16:31:18+00:00          194   \n",
       "14  2023-01-30 16:31:00+00:00          220   \n",
       "15  2023-01-30 16:29:15+00:00          206   \n",
       "16  2023-01-30 16:28:32+00:00          274   \n",
       "17  2023-01-30 15:33:46+00:00          245   \n",
       "18  2023-01-30 14:57:00+00:00          182   \n",
       "19  2023-01-30 14:00:05+00:00          136   \n",
       "\n",
       "                                                                                                                                                                                                                                                                                                               Tokens  \n",
       "0                                             [latest, podcast, is, out, now, balenciaga, is, run, by, satanists, just, think, 5, via, youtube, balenciagapedos, balenciaga, satan, satanist, satanic, pedophelia, podcastshow, podcast, podcastlife, podcastandchill, podcaster, podcasting, lucifer, luciferian, h]  \n",
       "1                                                                                                                                                                                    [over, 500, brands, including, gucci, offwhite, balenciaga, maisonmargiela, marineserre, saintlaurent, fashion, and, many, more]  \n",
       "2                                                                                                                                                   [so, good, i, had, to, share, check, out, all, the, items, im, loving, on, poshmarkapp, poshmark, fashion, style, shopmycloset, balenciaga, variety, stevemadden]  \n",
       "3                                                                                                      [skkn, nothing, we, dont, support, pedos, and, those, who, support, child, abuse, and, exploitation, balenciaga, cancelkimkardashian, cancelskims, ðÿ, ’, ©, ðÿ, ¤, ®, ðÿ, ’, ©, ðÿ, ¤, ®, ðÿ, ’, ©, ðÿ, ¤, ®]  \n",
       "4                                                                                                                                                     [so, good, i, had, to, share, check, out, all, the, items, im, loving, on, poshmarkapp, poshmark, fashion, style, shopmycloset, madewell, balenciaga, kaileigh]  \n",
       "5                                                                                                                                                                                                                                                                         [wtf, why, is, this, happening, balenciaga]  \n",
       "6                                                                                                                           [so, good, i, had, to, share, check, out, all, the, items, im, loving, on, poshmarkapp, from, kmullen, 1019, poshmark, fashion, style, shopmycloset, balenciaga, freepeople, dannynicole]  \n",
       "7                                                                                                                                                                                                                                 [lets, talk, about, balenciaga, ðÿ, ’, €, shorts, makeup, balenciaga, via, youtube]  \n",
       "8                                                                                                                                                                                                                               [sadly, its, much, bigger, than, balenciaga, balenciagagate, gotta, start, somewhere]  \n",
       "9   [skims, all, the, bot, replies, should, tell, you, somethingwe, dont, support, pedos, and, the, abuse, of, children, you, dress, your, own, child, in, a, gimp, mask, and, call, it, fashion, youre, sick, and, satanic, balenciaga, cancelskims, cancelkimkardashian, ðÿ, ¤, ®, ðÿ, ¤, ®, ðÿ, ¤, ®, ðÿ, ¤, ®, ð]  \n",
       "10                                                                                                                                 [so, good, i, had, to, share, check, out, all, the, items, im, loving, on, poshmarkapp, from, ksena, 116, poshmark, fashion, style, shopmycloset, eloquii, freepeople, balenciaga]  \n",
       "11                                                                                                                                  [so, good, i, had, to, share, check, out, all, the, items, im, loving, on, poshmarkapp, poshmark, fashion, style, shopmycloset, balenciaga, francescascollections, anthropologie]  \n",
       "12                                                                                                                                                                                                                                   [xx17965797n, sam, smith, is, disgusting, ask, him, about, balenciaga, ðÿ, ‘, €]  \n",
       "13                                                                                                                                                     [so, good, i, had, to, share, check, out, all, the, items, im, loving, on, poshmarkapp, poshmark, fashion, style, shopmycloset, cablegauge, balenciaga, levis]  \n",
       "14                                                                                                                        [so, good, i, had, to, share, check, out, all, the, items, im, loving, on, poshmarkapp, from, marilynsend, 1, poshmark, fashion, style, shopmycloset, gbygiuliana, balenciaga, oneteaspoon]  \n",
       "15                                                                                                                                         [so, good, i, had, to, share, check, out, all, the, items, im, loving, on, poshmarkapp, poshmark, fashion, style, shopmycloset, balenciaga, cherokee, kennethcolereaction]  \n",
       "16                                                                    [ye, faces, new, hurdle, in, business, and, personal, life, as, australian, visa, denial, looms, adidas, africanbillionaires, africanamericanbillionaire, australianvisa, balenciaga, billionairesafrica, featured, kanyewest, visaapplication]  \n",
       "17                                                             [ffs, lmao, vaccinedeath, vaccine, vaccinedeaths, vaccinegenocide, vaccinedemocide, covidvaccine, covid, 19, nuremberg, 2â, nhsâ, davosagenda, wefisevil, wef, 23, wefpuppets, wef, balenciaga, balenciagapedos, pedofila, grooming, hollywoodstudios]  \n",
       "18                                                                                                                                             [tenant, outlook, sports, apparel, brands, race, to, capture, global, growth, read, here, icsc, realestate, retail, athleisure, sportswear, fitness, nike, balenciaga]  \n",
       "19                                                                                                                                                       [i, have, to, feel, sorry, for, people, who, were, blissfully, unaware, of, the, balenciaga, scandal, and, indeed, the, purpose, of, the, fashion, industry]  "
      ]
     },
     "execution_count": 54,
     "metadata": {},
     "output_type": "execute_result"
    }
   ],
   "source": [
    "train.head(20)"
   ]
  },
  {
   "cell_type": "code",
   "execution_count": 55,
   "id": "1c1e4519",
   "metadata": {},
   "outputs": [
    {
     "name": "stdout",
     "output_type": "stream",
     "text": [
      "Requirement already satisfied: nltk in c:\\users\\admin\\anaconda3\\lib\\site-packages (3.8.1)\n",
      "Requirement already satisfied: click in c:\\users\\admin\\anaconda3\\lib\\site-packages (from nltk) (8.0.4)\n",
      "Requirement already satisfied: tqdm in c:\\users\\admin\\anaconda3\\lib\\site-packages (from nltk) (4.64.0)\n",
      "Requirement already satisfied: joblib in c:\\users\\admin\\anaconda3\\lib\\site-packages (from nltk) (1.1.0)\n",
      "Requirement already satisfied: regex>=2021.8.3 in c:\\users\\admin\\anaconda3\\lib\\site-packages (from nltk) (2022.3.15)\n",
      "Requirement already satisfied: colorama in c:\\users\\admin\\anaconda3\\lib\\site-packages (from click->nltk) (0.4.6)\n"
     ]
    }
   ],
   "source": [
    "!pip install nltk"
   ]
  },
  {
   "cell_type": "code",
   "execution_count": 56,
   "id": "439e6cd6",
   "metadata": {},
   "outputs": [
    {
     "name": "stderr",
     "output_type": "stream",
     "text": [
      "[nltk_data] Downloading package wordnet to\n",
      "[nltk_data]     C:\\Users\\admin\\AppData\\Roaming\\nltk_data...\n",
      "[nltk_data]   Package wordnet is already up-to-date!\n"
     ]
    },
    {
     "data": {
      "text/plain": [
       "True"
      ]
     },
     "execution_count": 56,
     "metadata": {},
     "output_type": "execute_result"
    }
   ],
   "source": [
    "import nltk\n",
    "nltk.download('wordnet')"
   ]
  },
  {
   "cell_type": "code",
   "execution_count": 57,
   "id": "fc780355",
   "metadata": {},
   "outputs": [
    {
     "name": "stderr",
     "output_type": "stream",
     "text": [
      "[nltk_data] Downloading package wordnet to\n",
      "[nltk_data]     C:\\Users\\admin\\AppData\\Roaming\\nltk_data...\n",
      "[nltk_data]   Package wordnet is already up-to-date!\n",
      "[nltk_data] Downloading package punkt to\n",
      "[nltk_data]     C:\\Users\\admin\\AppData\\Roaming\\nltk_data...\n",
      "[nltk_data]   Package punkt is already up-to-date!\n"
     ]
    },
    {
     "data": {
      "text/plain": [
       "True"
      ]
     },
     "execution_count": 57,
     "metadata": {},
     "output_type": "execute_result"
    }
   ],
   "source": [
    "import nltk\n",
    "nltk.download('wordnet')\n",
    "nltk.download('punkt')"
   ]
  },
  {
   "cell_type": "code",
   "execution_count": 58,
   "id": "c52b8aea",
   "metadata": {},
   "outputs": [],
   "source": [
    "from nltk.stem import WordNetLemmatizer\n",
    "\n",
    "\n",
    "lemmatizer = WordNetLemmatizer()"
   ]
  },
  {
   "cell_type": "code",
   "execution_count": 59,
   "id": "b106c28a",
   "metadata": {},
   "outputs": [
    {
     "name": "stderr",
     "output_type": "stream",
     "text": [
      "[nltk_data] Downloading package omw-1.4 to\n",
      "[nltk_data]     C:\\Users\\admin\\AppData\\Roaming\\nltk_data...\n",
      "[nltk_data]   Package omw-1.4 is already up-to-date!\n"
     ]
    },
    {
     "data": {
      "text/plain": [
       "0        latest podcast balenciaga run satanists think  via youtube balenciagapedos balenciaga satan satanist satanic pedophelia podcastshow podcast podcastlife podcastandchill podcaster podcasting lucifer luciferian h\n",
       "1                                                                                                                          brands including gucci offwhite balenciaga maisonmargiela marineserre saintlaurent fashion many\n",
       "2                                                                                                          good share check items im loving poshmarkapp poshmark fashion style shopmycloset balenciaga variety stevemadden\n",
       "3                                                                                                             skkn nothing dont support pedos support child abuse exploitation balenciaga cancelkimkardashian cancelskims \n",
       "4                                                                                                            good share check items im loving poshmarkapp poshmark fashion style shopmycloset madewell balenciaga kaileigh\n",
       "                                                                                                               ...                                                                                                        \n",
       "29156                                      nah its past need cancelled business asap theyll apologize blame random employee yet theyll continue add hidden messages ads thats theyve continued successful cancelbalenciaga\n",
       "29157                                                                                                                                                                itsnatlydenise getting worse thought cancelbalenciaga\n",
       "29158                                                                                                                                                  itsnatlydenise think start trending fuckbalenciaga cancelbalenciaga\n",
       "29159                                                                                                                                                               sick stomach byebalenciaga balenciaga cancelbalenciaga\n",
       "29160                                                                                                                                                                  deleted everything dont pedophiles cancelbalenciaga\n",
       "Name: Comments, Length: 29161, dtype: object"
      ]
     },
     "execution_count": 59,
     "metadata": {},
     "output_type": "execute_result"
    }
   ],
   "source": [
    "nltk.download('omw-1.4')\n",
    "\n",
    "# Lemmatize\n",
    "train['Comments'].apply(lambda x: lemmatizer.lemmatize(x))"
   ]
  },
  {
   "cell_type": "code",
   "execution_count": 60,
   "id": "181ed28d",
   "metadata": {},
   "outputs": [],
   "source": [
    "# Commit to Table\n",
    "\n",
    "train['Comments'] = train['Comments'].apply(lambda x: lemmatizer.lemmatize(x))"
   ]
  },
  {
   "cell_type": "code",
   "execution_count": 61,
   "id": "4ae66323",
   "metadata": {},
   "outputs": [
    {
     "name": "stderr",
     "output_type": "stream",
     "text": [
      "[nltk_data] Downloading package punkt to\n",
      "[nltk_data]     C:\\Users\\admin\\AppData\\Roaming\\nltk_data...\n",
      "[nltk_data]   Package punkt is already up-to-date!\n",
      "[nltk_data] Downloading package averaged_perceptron_tagger to\n",
      "[nltk_data]     C:\\Users\\admin\\AppData\\Roaming\\nltk_data...\n",
      "[nltk_data]   Package averaged_perceptron_tagger is already up-to-\n",
      "[nltk_data]       date!\n"
     ]
    },
    {
     "data": {
      "text/plain": [
       "True"
      ]
     },
     "execution_count": 61,
     "metadata": {},
     "output_type": "execute_result"
    }
   ],
   "source": [
    "# Download the required NLTK resources\n",
    "nltk.download('punkt')\n",
    "nltk.download('averaged_perceptron_tagger')"
   ]
  },
  {
   "cell_type": "code",
   "execution_count": 62,
   "id": "9884859f",
   "metadata": {},
   "outputs": [],
   "source": [
    "def pos_tagging(text):\n",
    "    # Tokenize the text into words\n",
    "    tokens = nltk.word_tokenize(text)\n",
    "    # Perform POS tagging\n",
    "    tagged_tokens = nltk.pos_tag(tokens)\n",
    "    # Return the tagged tokens\n",
    "    return tagged_tokens"
   ]
  },
  {
   "cell_type": "code",
   "execution_count": 63,
   "id": "f48045c3",
   "metadata": {},
   "outputs": [],
   "source": [
    "# Apply the POS tagging function to the 'Comments' column\n",
    "train['POS_Tagged'] = train['Comments'].apply(pos_tagging)"
   ]
  },
  {
   "cell_type": "code",
   "execution_count": 64,
   "id": "7f6eafa8",
   "metadata": {
    "scrolled": true
   },
   "outputs": [
    {
     "data": {
      "text/plain": [
       "0        [(latest, JJS), (podcast, NN), (balenciaga, NN), (run, VBP), (satanists, NNS), (think, VBP), (via, IN), (youtube, NN), (balenciagapedos, NN), (balenciaga, NN), (satan, JJ), (satanist, NN), (satanic, JJ), (pedophelia, NN), (podcastshow, NN), (podcast, JJ), (podcastlife, NN), (podcastandchill, NN), (podcaster, NN), (podcasting, VBG), (lucifer, NN), (luciferian, JJ), (h, NN)]\n",
       "1                                                                                                                                                                                                                       [(brands, NNS), (including, VBG), (gucci, JJ), (offwhite, JJ), (balenciaga, NN), (maisonmargiela, NN), (marineserre, JJ), (saintlaurent, JJ), (fashion, NN), (many, JJ)]\n",
       "2                                                                                                                                                                           [(good, JJ), (share, NN), (check, VB), (items, NNS), (im, JJ), (loving, VBG), (poshmarkapp, NN), (poshmark, NN), (fashion, NN), (style, NN), (shopmycloset, NN), (balenciaga, NN), (variety, NN), (stevemadden, NN)]\n",
       "3                                                                                                                                                                                             [(skkn, NN), (nothing, NN), (dont, JJ), (support, NN), (pedos, VBD), (support, NN), (child, NN), (abuse, IN), (exploitation, NN), (balenciaga, NN), (cancelkimkardashian, NN), (cancelskims, NNS)]\n",
       "4                                                                                                                                                                             [(good, JJ), (share, NN), (check, VB), (items, NNS), (im, JJ), (loving, VBG), (poshmarkapp, NN), (poshmark, NN), (fashion, NN), (style, NN), (shopmycloset, NN), (madewell, NN), (balenciaga, NN), (kaileigh, NN)]\n",
       "                                                                                                                                                                                                  ...                                                                                                                                                                                           \n",
       "29156                          [(nah, CC), (its, PRP$), (past, JJ), (need, NN), (cancelled, VBD), (business, NN), (asap, NN), (theyll, NN), (apologize, VB), (blame, JJ), (random, JJ), (employee, NN), (yet, RB), (theyll, JJ), (continue, VBP), (add, VB), (hidden, JJ), (messages, NNS), (ads, NNS), (thats, NNS), (theyve, VBP), (continued, VBN), (successful, JJ), (cancelbalenciaga, NN)]\n",
       "29157                                                                                                                                                                                                                                                                                               [(itsnatlydenise, NN), (getting, VBG), (worse, JJR), (thought, VBN), (cancelbalenciaga, NN)]\n",
       "29158                                                                                                                                                                                                                                                                           [(itsnatlydenise, NN), (think, VBP), (start, VB), (trending, VBG), (fuckbalenciaga, JJ), (cancelbalenciaga, NN)]\n",
       "29159                                                                                                                                                                                                                                                                                                 [(sick, JJ), (stomach, NN), (byebalenciaga, NN), (balenciaga, NN), (cancelbalenciaga, NN)]\n",
       "29160                                                                                                                                                                                                                                                                                                 [(deleted, VBN), (everything, NN), (dont, NN), (pedophiles, NNS), (cancelbalenciaga, VBP)]\n",
       "Name: POS_Tagged, Length: 29161, dtype: object"
      ]
     },
     "execution_count": 64,
     "metadata": {},
     "output_type": "execute_result"
    }
   ],
   "source": [
    "train['POS_Tagged']"
   ]
  },
  {
   "cell_type": "code",
   "execution_count": 65,
   "id": "5d78bc09",
   "metadata": {},
   "outputs": [
    {
     "name": "stdout",
     "output_type": "stream",
     "text": [
      "Requirement already satisfied: textblob in c:\\users\\admin\\anaconda3\\lib\\site-packages (0.17.1)\n",
      "Requirement already satisfied: nltk>=3.1 in c:\\users\\admin\\anaconda3\\lib\\site-packages (from textblob) (3.8.1)\n",
      "Requirement already satisfied: joblib in c:\\users\\admin\\anaconda3\\lib\\site-packages (from nltk>=3.1->textblob) (1.1.0)\n",
      "Requirement already satisfied: regex>=2021.8.3 in c:\\users\\admin\\anaconda3\\lib\\site-packages (from nltk>=3.1->textblob) (2022.3.15)\n",
      "Requirement already satisfied: tqdm in c:\\users\\admin\\anaconda3\\lib\\site-packages (from nltk>=3.1->textblob) (4.64.0)\n",
      "Requirement already satisfied: click in c:\\users\\admin\\anaconda3\\lib\\site-packages (from nltk>=3.1->textblob) (8.0.4)\n",
      "Requirement already satisfied: colorama in c:\\users\\admin\\anaconda3\\lib\\site-packages (from click->nltk>=3.1->textblob) (0.4.6)\n"
     ]
    }
   ],
   "source": [
    "!pip install textblob"
   ]
  },
  {
   "cell_type": "code",
   "execution_count": 66,
   "id": "46383d03",
   "metadata": {
    "scrolled": true
   },
   "outputs": [],
   "source": [
    "import pandas as pd\n",
    "from textblob import TextBlob\n",
    "import gensim.downloader as api"
   ]
  },
  {
   "cell_type": "code",
   "execution_count": 67,
   "id": "564af03d",
   "metadata": {},
   "outputs": [],
   "source": [
    "import gensim.downloader as api\n",
    "\n",
    "# Load the GloVe model\n",
    "glove_model = api.load('glove-wiki-gigaword-100')\n",
    "\n",
    "import re\n",
    "\n",
    "def clean_text(text):\n",
    "    text = str(text)\n",
    "    # Remove any URLs\n",
    "    text = re.sub(r'http\\S+', '', text)\n",
    "    # Remove any user mentions and hashtags\n",
    "    text = re.sub(r'@\\w+|#\\w+', '', text)\n",
    "    # Remove any non-word character and extra whitespaces\n",
    "    text = re.sub(r'[^\\w\\s]', '', text).strip()\n",
    "    # Convert to lowercase\n",
    "    text = text.lower()\n",
    "    return text\n",
    "\n",
    "train['cleaned_comments'] = train['Comments'].apply(clean_text)"
   ]
  },
  {
   "cell_type": "code",
   "execution_count": 68,
   "id": "e72c0e84",
   "metadata": {},
   "outputs": [],
   "source": [
    "# Clean the comments\n",
    "train['cleaned_comments'] = train['Comments'].apply(clean_text)"
   ]
  },
  {
   "cell_type": "code",
   "execution_count": 69,
   "id": "b15a5a15",
   "metadata": {},
   "outputs": [],
   "source": [
    "# Create word embeddings for each comment\n",
    "def create_embeddings(text):\n",
    "    embeddings = []\n",
    "    for word in text.split():\n",
    "        if word in glove_model:\n",
    "            embeddings.append(glove_model[word])\n",
    "    return embeddings\n",
    "\n",
    "train['embeddings'] = train['cleaned_comments'].apply(create_embeddings)"
   ]
  },
  {
   "cell_type": "code",
   "execution_count": 70,
   "id": "934a5100",
   "metadata": {},
   "outputs": [],
   "source": [
    "# Calculate the sentiment score for each comment\n",
    "def calculate_sentiment_score(text):\n",
    "    return TextBlob(text).sentiment.polarity\n",
    "\n",
    "train['sentiment_score'] = train['cleaned_comments'].apply(calculate_sentiment_score)"
   ]
  },
  {
   "cell_type": "code",
   "execution_count": 71,
   "id": "0765bac1",
   "metadata": {},
   "outputs": [],
   "source": [
    "# Calculate the polarity scores and sentiment tags\n",
    "polarity = [TextBlob(comment).sentiment.polarity for comment in train['Comments']]\n",
    "sentiment = ['positive' if score > 0 else 'negative'  for score in polarity]"
   ]
  },
  {
   "cell_type": "code",
   "execution_count": 72,
   "id": "cdadd8d8",
   "metadata": {},
   "outputs": [],
   "source": [
    "# Add the new columns to the train DataFrame\n",
    "train['polarity'] = polarity\n",
    "train['sentiment'] = sentiment"
   ]
  },
  {
   "cell_type": "code",
   "execution_count": 73,
   "id": "50a69031",
   "metadata": {},
   "outputs": [
    {
     "name": "stdout",
     "output_type": "stream",
     "text": [
      "<class 'pandas.core.frame.DataFrame'>\n",
      "RangeIndex: 29161 entries, 0 to 29160\n",
      "Data columns (total 11 columns):\n",
      " #   Column            Non-Null Count  Dtype  \n",
      "---  ------            --------------  -----  \n",
      " 0   id                29161 non-null  float64\n",
      " 1   Comments          29161 non-null  object \n",
      " 2   date              29161 non-null  object \n",
      " 3   text_length       29161 non-null  int64  \n",
      " 4   Tokens            29161 non-null  object \n",
      " 5   POS_Tagged        29161 non-null  object \n",
      " 6   cleaned_comments  29161 non-null  object \n",
      " 7   embeddings        29161 non-null  object \n",
      " 8   sentiment_score   29161 non-null  float64\n",
      " 9   polarity          29161 non-null  float64\n",
      " 10  sentiment         29161 non-null  object \n",
      "dtypes: float64(3), int64(1), object(7)\n",
      "memory usage: 2.4+ MB\n"
     ]
    }
   ],
   "source": [
    "train.info()"
   ]
  },
  {
   "cell_type": "code",
   "execution_count": 74,
   "id": "9a0b28b5",
   "metadata": {},
   "outputs": [
    {
     "data": {
      "text/plain": [
       "negative    20464\n",
       "positive     8697\n",
       "Name: sentiment, dtype: int64"
      ]
     },
     "execution_count": 74,
     "metadata": {},
     "output_type": "execute_result"
    }
   ],
   "source": [
    "# Count the number of comments for each sentiment\n",
    "train['sentiment'].value_counts()\n"
   ]
  },
  {
   "cell_type": "code",
   "execution_count": 75,
   "id": "ff92b9dc",
   "metadata": {},
   "outputs": [],
   "source": [
    "import numpy as np\n",
    "from sklearn.naive_bayes import MultinomialNB\n",
    "from sklearn.model_selection import train_test_split\n",
    "from sklearn.metrics import accuracy_score\n",
    "from sklearn.preprocessing import KBinsDiscretizer, StandardScaler\n",
    "from sklearn.linear_model import LinearRegression"
   ]
  },
  {
   "cell_type": "code",
   "execution_count": 76,
   "id": "b41dedb9",
   "metadata": {},
   "outputs": [],
   "source": [
    "def create_embeddings(text):\n",
    "    embeddings = []\n",
    "    for word in text.split():\n",
    "        if word in glove_model:\n",
    "            embeddings.append(glove_model[word])\n",
    "    if embeddings:\n",
    "        return np.mean(embeddings, axis=0)\n",
    "    else:\n",
    "        return np.zeros(glove_model.vector_size)"
   ]
  },
  {
   "cell_type": "code",
   "execution_count": 77,
   "id": "eac1f45a",
   "metadata": {},
   "outputs": [],
   "source": [
    "X = train[\"Comments\"].apply(create_embeddings).to_numpy()\n",
    "y = train[\"sentiment\"].to_numpy()"
   ]
  },
  {
   "cell_type": "code",
   "execution_count": 78,
   "id": "eea035a1",
   "metadata": {},
   "outputs": [],
   "source": [
    "# Reshape the data to have shape (n_samples, n_features)\n",
    "X = X.reshape(X.shape[0], -1)"
   ]
  },
  {
   "cell_type": "code",
   "execution_count": 79,
   "id": "6645028c",
   "metadata": {},
   "outputs": [],
   "source": [
    "X = X.reshape(-1) "
   ]
  },
  {
   "cell_type": "code",
   "execution_count": 80,
   "id": "fb6217ab",
   "metadata": {},
   "outputs": [],
   "source": [
    "from sklearn.feature_extraction.text import CountVectorizer\n",
    "import numpy as np\n",
    "\n",
    "X = np.apply_along_axis(lambda x: str(x[0]), axis=1, arr=X.reshape(-1,1))\n",
    "\n",
    "vectorizer = CountVectorizer()\n",
    "\n",
    "X = vectorizer.fit_transform(X.ravel())\n",
    "\n",
    "X = X.astype(np.float64)\n"
   ]
  },
  {
   "cell_type": "code",
   "execution_count": 81,
   "id": "708cc602",
   "metadata": {},
   "outputs": [],
   "source": [
    "from sklearn.preprocessing import StandardScaler\n",
    "\n",
    "# Normalize the data using StandardScaler\n",
    "scaler = StandardScaler(with_mean=False)\n",
    "X = scaler.fit_transform(X)\n"
   ]
  },
  {
   "cell_type": "code",
   "execution_count": 82,
   "id": "2c8fa9d6",
   "metadata": {},
   "outputs": [],
   "source": [
    "# Ensure that the data has a data type of float64\n",
    "X = X.astype(np.float64)"
   ]
  },
  {
   "cell_type": "code",
   "execution_count": 83,
   "id": "e5ee8c52",
   "metadata": {},
   "outputs": [],
   "source": [
    "X_train, X_test, y_train, y_test = train_test_split(X, y, test_size=0.2, random_state=42)"
   ]
  },
  {
   "cell_type": "code",
   "execution_count": 84,
   "id": "8180f8c5",
   "metadata": {},
   "outputs": [
    {
     "name": "stdout",
     "output_type": "stream",
     "text": [
      "(23328, 2235991)\n",
      "(5833, 2235991)\n",
      "(23328,)\n",
      "(5833,)\n"
     ]
    }
   ],
   "source": [
    "print(X_train.shape)\n",
    "print(X_test.shape)\n",
    "print(y_train.shape)\n",
    "print(y_test.shape)\n"
   ]
  },
  {
   "cell_type": "code",
   "execution_count": 85,
   "id": "c91ea560",
   "metadata": {},
   "outputs": [
    {
     "data": {
      "text/plain": [
       "23328"
      ]
     },
     "execution_count": 85,
     "metadata": {},
     "output_type": "execute_result"
    }
   ],
   "source": [
    "X_train.shape[0]"
   ]
  },
  {
   "cell_type": "code",
   "execution_count": 86,
   "id": "b3547b80",
   "metadata": {},
   "outputs": [],
   "source": [
    "from sklearn.preprocessing import LabelEncoder, OneHotEncoder\n",
    "\n",
    "# Convert the y vector into a matrix of one-hot encoded labels\n",
    "label_encoder = LabelEncoder()\n",
    "y_encoded = label_encoder.fit_transform(y)\n",
    "onehot_encoder = OneHotEncoder(sparse=False)\n",
    "y_onehot = onehot_encoder.fit_transform(y_encoded.reshape(-1, 1))"
   ]
  },
  {
   "cell_type": "code",
   "execution_count": null,
   "id": "ec8daea7",
   "metadata": {},
   "outputs": [],
   "source": [
    "from sklearn.linear_model import LogisticRegression\n",
    "from sklearn.metrics import accuracy_score, f1_score\n",
    "\n",
    "# Use the same X and y shapes\n",
    "X_train, X_test, y_train, y_test = train_test_split(X, y_encoded, test_size=0.2, random_state=42)\n",
    "\n",
    "# Train a Logistic Regression model\n",
    "logreg = LogisticRegression(max_iter=100)\n",
    "logreg.fit(X_train, y_train)\n",
    "\n",
    "# Evaluate the model\n",
    "y_pred = logreg.predict(X_test)\n",
    "accuracy = accuracy_score(y_test, y_pred)\n",
    "f1 = f1_score(y_test, y_pred, average='weighted')\n",
    "print(\"Logistic Regression Accuracy:\", accuracy)\n",
    "print(\"Logistic Regression F1 score:\", f1)\n"
   ]
  },
  {
   "cell_type": "code",
   "execution_count": null,
   "id": "e7e8744f",
   "metadata": {},
   "outputs": [],
   "source": [
    "from sklearn.svm import SVC\n",
    "from sklearn.metrics import accuracy_score, f1_score\n",
    "from sklearn.feature_selection import SelectKBest, chi2\n",
    "\n",
    "# Apply chi-square test to select top 1000 features\n",
    "k = 1000\n",
    "chi_selector = SelectKBest(chi2, k=k)\n",
    "X_train_chi = chi_selector.fit_transform(X_train, y_train)\n",
    "X_test_chi = chi_selector.transform(X_test)\n",
    "\n",
    "# Train an SVM model with the selected features\n",
    "svm = SVC(kernel='rbf',random_state=42)\n",
    "svm.fit(X_train_chi, y_train)\n",
    "\n",
    "# Evaluate the model\n",
    "svm_pred = svm.predict(X_test_chi)\n",
    "svm_acc = accuracy_score(y_test, svm_pred)\n",
    "svm_f1 = f1_score(y_test, svm_pred, average='micro')\n",
    "print(\"SVM accuracy score:\", svm_acc)\n",
    "print(\"SVM F1 score:\", svm_f1)"
   ]
  },
  {
   "cell_type": "code",
   "execution_count": null,
   "id": "aa28cc6e",
   "metadata": {},
   "outputs": [],
   "source": []
  },
  {
   "cell_type": "code",
   "execution_count": null,
   "id": "799f9c18",
   "metadata": {},
   "outputs": [],
   "source": []
  }
 ],
 "metadata": {
  "kernelspec": {
   "display_name": "Python 3 (ipykernel)",
   "language": "python",
   "name": "python3"
  },
  "language_info": {
   "codemirror_mode": {
    "name": "ipython",
    "version": 3
   },
   "file_extension": ".py",
   "mimetype": "text/x-python",
   "name": "python",
   "nbconvert_exporter": "python",
   "pygments_lexer": "ipython3",
   "version": "3.9.12"
  }
 },
 "nbformat": 4,
 "nbformat_minor": 5
}
