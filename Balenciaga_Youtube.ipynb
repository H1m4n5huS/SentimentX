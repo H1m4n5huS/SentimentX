{
 "cells": [
  {
   "cell_type": "markdown",
   "id": "ec8bb89e",
   "metadata": {},
   "source": [
    "# 1) Standard imports"
   ]
  },
  {
   "cell_type": "code",
   "execution_count": 108,
   "id": "b27b54b9",
   "metadata": {},
   "outputs": [],
   "source": [
    "import numpy as np \n",
    "import pandas as pd \n",
    "import re\n",
    "import urlextract\n",
    "import xlrd\n",
    "\n",
    "\n",
    "# For Preprocesssing Text Data\n",
    "\n",
    "\n",
    "from nltk import word_tokenize, pos_tag\n",
    "from nltk.stem import WordNetLemmatizer\n",
    "from nltk.corpus import stopwords\n",
    "\n",
    "# Feature Extraction\n",
    "from sklearn.feature_extraction.text import TfidfVectorizer\n",
    "\n",
    "\n",
    "# Check Performance\n",
    "from sklearn.metrics import classification_report"
   ]
  },
  {
   "cell_type": "markdown",
   "id": "12ec7dfd",
   "metadata": {},
   "source": [
    "# 2)Importing Data"
   ]
  },
  {
   "cell_type": "code",
   "execution_count": 109,
   "id": "c35b30ef",
   "metadata": {},
   "outputs": [],
   "source": [
    "train = pd.read_excel(r\"Youtube_Balenciaga.xlsx\")"
   ]
  },
  {
   "cell_type": "code",
   "execution_count": 110,
   "id": "0aa49484",
   "metadata": {},
   "outputs": [
    {
     "data": {
      "text/html": [
       "<div>\n",
       "<style scoped>\n",
       "    .dataframe tbody tr th:only-of-type {\n",
       "        vertical-align: middle;\n",
       "    }\n",
       "\n",
       "    .dataframe tbody tr th {\n",
       "        vertical-align: top;\n",
       "    }\n",
       "\n",
       "    .dataframe thead th {\n",
       "        text-align: right;\n",
       "    }\n",
       "</style>\n",
       "<table border=\"1\" class=\"dataframe\">\n",
       "  <thead>\n",
       "    <tr style=\"text-align: right;\">\n",
       "      <th></th>\n",
       "      <th>Comment Number</th>\n",
       "      <th>Reply Number</th>\n",
       "      <th>Like Count</th>\n",
       "      <th>Published At</th>\n",
       "      <th>Text</th>\n",
       "    </tr>\n",
       "  </thead>\n",
       "  <tbody>\n",
       "    <tr>\n",
       "      <th>0</th>\n",
       "      <td>1.0</td>\n",
       "      <td>NaN</td>\n",
       "      <td>0</td>\n",
       "      <td>2023-02-24T21:49:40Z</td>\n",
       "      <td>Thank you for this.</td>\n",
       "    </tr>\n",
       "    <tr>\n",
       "      <th>1</th>\n",
       "      <td>2.0</td>\n",
       "      <td>NaN</td>\n",
       "      <td>0</td>\n",
       "      <td>2023-02-24T18:56:11Z</td>\n",
       "      <td>That wasn't an apology, it was one excuse afte...</td>\n",
       "    </tr>\n",
       "    <tr>\n",
       "      <th>2</th>\n",
       "      <td>3.0</td>\n",
       "      <td>NaN</td>\n",
       "      <td>0</td>\n",
       "      <td>2023-02-23T00:40:54Z</td>\n",
       "      <td>Those are probably children that are trafficke...</td>\n",
       "    </tr>\n",
       "    <tr>\n",
       "      <th>3</th>\n",
       "      <td>4.0</td>\n",
       "      <td>NaN</td>\n",
       "      <td>0</td>\n",
       "      <td>2023-02-23T00:40:49Z</td>\n",
       "      <td>Those are probably children that are trafficke...</td>\n",
       "    </tr>\n",
       "    <tr>\n",
       "      <th>4</th>\n",
       "      <td>5.0</td>\n",
       "      <td>NaN</td>\n",
       "      <td>0</td>\n",
       "      <td>2023-02-19T13:26:47Z</td>\n",
       "      <td>Epstein and his group of elitists abused their...</td>\n",
       "    </tr>\n",
       "  </tbody>\n",
       "</table>\n",
       "</div>"
      ],
      "text/plain": [
       "   Comment Number  Reply Number  Like Count          Published At  \\\n",
       "0             1.0           NaN           0  2023-02-24T21:49:40Z   \n",
       "1             2.0           NaN           0  2023-02-24T18:56:11Z   \n",
       "2             3.0           NaN           0  2023-02-23T00:40:54Z   \n",
       "3             4.0           NaN           0  2023-02-23T00:40:49Z   \n",
       "4             5.0           NaN           0  2023-02-19T13:26:47Z   \n",
       "\n",
       "                                                Text  \n",
       "0                                Thank you for this.  \n",
       "1  That wasn't an apology, it was one excuse afte...  \n",
       "2  Those are probably children that are trafficke...  \n",
       "3  Those are probably children that are trafficke...  \n",
       "4  Epstein and his group of elitists abused their...  "
      ]
     },
     "execution_count": 110,
     "metadata": {},
     "output_type": "execute_result"
    }
   ],
   "source": [
    "train.head()"
   ]
  },
  {
   "cell_type": "code",
   "execution_count": 111,
   "id": "1bedf65c",
   "metadata": {},
   "outputs": [
    {
     "data": {
      "text/plain": [
       "26530"
      ]
     },
     "execution_count": 111,
     "metadata": {},
     "output_type": "execute_result"
    }
   ],
   "source": [
    "train.shape[0]"
   ]
  },
  {
   "cell_type": "code",
   "execution_count": 112,
   "id": "8af60fe9",
   "metadata": {},
   "outputs": [],
   "source": [
    "##Replace 'Text' column to 'Comments'\n",
    "\n",
    "train.rename(columns = {'Text':'Comments'}, inplace = True)"
   ]
  },
  {
   "cell_type": "code",
   "execution_count": 113,
   "id": "d62d9626",
   "metadata": {},
   "outputs": [
    {
     "data": {
      "text/plain": [
       "Index(['Comment Number', 'Reply Number', 'Like Count', 'Published At',\n",
       "       'Comments'],\n",
       "      dtype='object')"
      ]
     },
     "execution_count": 113,
     "metadata": {},
     "output_type": "execute_result"
    }
   ],
   "source": [
    "train.columns"
   ]
  },
  {
   "cell_type": "markdown",
   "id": "bfec5d27",
   "metadata": {},
   "source": [
    "# 3)Comments - Descriptive Stats"
   ]
  },
  {
   "cell_type": "code",
   "execution_count": 114,
   "id": "54bd1339",
   "metadata": {},
   "outputs": [
    {
     "data": {
      "text/plain": [
       "26529"
      ]
     },
     "execution_count": 114,
     "metadata": {},
     "output_type": "execute_result"
    }
   ],
   "source": [
    "train[train.columns[-1]].count()"
   ]
  },
  {
   "cell_type": "code",
   "execution_count": 115,
   "id": "27f25fc9",
   "metadata": {},
   "outputs": [
    {
     "data": {
      "text/plain": [
       "Comment Number     5264\n",
       "Reply Number      21266\n",
       "Like Count            0\n",
       "Published At          0\n",
       "Comments              1\n",
       "dtype: int64"
      ]
     },
     "execution_count": 115,
     "metadata": {},
     "output_type": "execute_result"
    }
   ],
   "source": [
    "train.isna().sum()"
   ]
  },
  {
   "cell_type": "code",
   "execution_count": 116,
   "id": "45ed3160",
   "metadata": {},
   "outputs": [
    {
     "name": "stdout",
     "output_type": "stream",
     "text": [
      "       Comment Number  Reply Number  Like Count          Published At Comments\n",
      "17229          5640.0           NaN           0  2022-11-23T05:49:29Z      NaN\n"
     ]
    }
   ],
   "source": [
    "# Null rows detection\n",
    "\n",
    "null_rows = train[train['Comments'].isnull()]\n",
    "\n",
    "print(null_rows)"
   ]
  },
  {
   "cell_type": "code",
   "execution_count": 117,
   "id": "4a993a96",
   "metadata": {},
   "outputs": [
    {
     "data": {
      "text/plain": [
       "(26530, 5)"
      ]
     },
     "execution_count": 117,
     "metadata": {},
     "output_type": "execute_result"
    }
   ],
   "source": [
    "train.shape"
   ]
  },
  {
   "cell_type": "code",
   "execution_count": 118,
   "id": "545e73f4",
   "metadata": {},
   "outputs": [],
   "source": [
    "train['Comments'] = train['Comments'].astype(str)"
   ]
  },
  {
   "cell_type": "code",
   "execution_count": 119,
   "id": "c6fb0160",
   "metadata": {},
   "outputs": [],
   "source": [
    "### Create Length Feature\n",
    "\n",
    "train['text_length'] = train['Comments'].apply(lambda x : len(x))"
   ]
  },
  {
   "cell_type": "code",
   "execution_count": 120,
   "id": "2e1afcd0",
   "metadata": {},
   "outputs": [
    {
     "data": {
      "text/plain": [
       "<AxesSubplot:ylabel='Frequency'>"
      ]
     },
     "execution_count": 120,
     "metadata": {},
     "output_type": "execute_result"
    },
    {
     "data": {
      "image/png": "[encoded data removed]",
      "text/plain": [
       "<Figure size 432x288 with 1 Axes>"
      ]
     },
     "metadata": {
      "needs_background": "light"
     },
     "output_type": "display_data"
    }
   ],
   "source": [
    "train['text_length'].plot.hist(bins = 10)"
   ]
  },
  {
   "cell_type": "markdown",
   "id": "b6ad76db",
   "metadata": {},
   "source": [
    "# 4) Cleaning - URL & Punctuation Removal"
   ]
  },
  {
   "cell_type": "code",
   "execution_count": 121,
   "id": "83374033",
   "metadata": {},
   "outputs": [],
   "source": [
    "# URLs removal and extra spaces too\n",
    "\n",
    "train['Comments'] = train['Comments'].apply(lambda x: re.sub(r'https?\\S+', '', x).strip())"
   ]
  },
  {
   "cell_type": "code",
   "execution_count": 122,
   "id": "ef23eadf",
   "metadata": {},
   "outputs": [
    {
     "data": {
      "text/html": [
       "<div>\n",
       "<style scoped>\n",
       "    .dataframe tbody tr th:only-of-type {\n",
       "        vertical-align: middle;\n",
       "    }\n",
       "\n",
       "    .dataframe tbody tr th {\n",
       "        vertical-align: top;\n",
       "    }\n",
       "\n",
       "    .dataframe thead th {\n",
       "        text-align: right;\n",
       "    }\n",
       "</style>\n",
       "<table border=\"1\" class=\"dataframe\">\n",
       "  <thead>\n",
       "    <tr style=\"text-align: right;\">\n",
       "      <th></th>\n",
       "      <th>Comment Number</th>\n",
       "      <th>Reply Number</th>\n",
       "      <th>Like Count</th>\n",
       "      <th>Published At</th>\n",
       "      <th>Comments</th>\n",
       "      <th>text_length</th>\n",
       "    </tr>\n",
       "  </thead>\n",
       "  <tbody>\n",
       "    <tr>\n",
       "      <th>0</th>\n",
       "      <td>1.0</td>\n",
       "      <td>NaN</td>\n",
       "      <td>0</td>\n",
       "      <td>2023-02-24T21:49:40Z</td>\n",
       "      <td>Thank you for this.</td>\n",
       "      <td>19</td>\n",
       "    </tr>\n",
       "    <tr>\n",
       "      <th>1</th>\n",
       "      <td>2.0</td>\n",
       "      <td>NaN</td>\n",
       "      <td>0</td>\n",
       "      <td>2023-02-24T18:56:11Z</td>\n",
       "      <td>That wasn't an apology, it was one excuse afte...</td>\n",
       "      <td>56</td>\n",
       "    </tr>\n",
       "    <tr>\n",
       "      <th>2</th>\n",
       "      <td>3.0</td>\n",
       "      <td>NaN</td>\n",
       "      <td>0</td>\n",
       "      <td>2023-02-23T00:40:54Z</td>\n",
       "      <td>Those are probably children that are trafficke...</td>\n",
       "      <td>77</td>\n",
       "    </tr>\n",
       "    <tr>\n",
       "      <th>3</th>\n",
       "      <td>4.0</td>\n",
       "      <td>NaN</td>\n",
       "      <td>0</td>\n",
       "      <td>2023-02-23T00:40:49Z</td>\n",
       "      <td>Those are probably children that are trafficke...</td>\n",
       "      <td>77</td>\n",
       "    </tr>\n",
       "    <tr>\n",
       "      <th>4</th>\n",
       "      <td>5.0</td>\n",
       "      <td>NaN</td>\n",
       "      <td>0</td>\n",
       "      <td>2023-02-19T13:26:47Z</td>\n",
       "      <td>Epstein and his group of elitists abused their...</td>\n",
       "      <td>331</td>\n",
       "    </tr>\n",
       "    <tr>\n",
       "      <th>5</th>\n",
       "      <td>6.0</td>\n",
       "      <td>NaN</td>\n",
       "      <td>0</td>\n",
       "      <td>2023-02-19T05:21:41Z</td>\n",
       "      <td>The blind could see there is an evil attack, a...</td>\n",
       "      <td>104</td>\n",
       "    </tr>\n",
       "    <tr>\n",
       "      <th>6</th>\n",
       "      <td>7.0</td>\n",
       "      <td>NaN</td>\n",
       "      <td>0</td>\n",
       "      <td>2023-02-18T20:09:59Z</td>\n",
       "      <td>Another thing I found is in one of the child a...</td>\n",
       "      <td>790</td>\n",
       "    </tr>\n",
       "    <tr>\n",
       "      <th>7</th>\n",
       "      <td>8.0</td>\n",
       "      <td>NaN</td>\n",
       "      <td>0</td>\n",
       "      <td>2023-02-18T14:54:31Z</td>\n",
       "      <td>They are sorry they got caught</td>\n",
       "      <td>30</td>\n",
       "    </tr>\n",
       "    <tr>\n",
       "      <th>8</th>\n",
       "      <td>9.0</td>\n",
       "      <td>NaN</td>\n",
       "      <td>0</td>\n",
       "      <td>2023-02-17T23:17:16Z</td>\n",
       "      <td>Madeleine McCann used to carry a teddy bear ar...</td>\n",
       "      <td>72</td>\n",
       "    </tr>\n",
       "    <tr>\n",
       "      <th>9</th>\n",
       "      <td>10.0</td>\n",
       "      <td>NaN</td>\n",
       "      <td>0</td>\n",
       "      <td>2023-02-17T19:54:57Z</td>\n",
       "      <td>Wyta. weird sex things is and has always been ...</td>\n",
       "      <td>126</td>\n",
       "    </tr>\n",
       "  </tbody>\n",
       "</table>\n",
       "</div>"
      ],
      "text/plain": [
       "   Comment Number  Reply Number  Like Count          Published At  \\\n",
       "0             1.0           NaN           0  2023-02-24T21:49:40Z   \n",
       "1             2.0           NaN           0  2023-02-24T18:56:11Z   \n",
       "2             3.0           NaN           0  2023-02-23T00:40:54Z   \n",
       "3             4.0           NaN           0  2023-02-23T00:40:49Z   \n",
       "4             5.0           NaN           0  2023-02-19T13:26:47Z   \n",
       "5             6.0           NaN           0  2023-02-19T05:21:41Z   \n",
       "6             7.0           NaN           0  2023-02-18T20:09:59Z   \n",
       "7             8.0           NaN           0  2023-02-18T14:54:31Z   \n",
       "8             9.0           NaN           0  2023-02-17T23:17:16Z   \n",
       "9            10.0           NaN           0  2023-02-17T19:54:57Z   \n",
       "\n",
       "                                            Comments  text_length  \n",
       "0                                Thank you for this.           19  \n",
       "1  That wasn't an apology, it was one excuse afte...           56  \n",
       "2  Those are probably children that are trafficke...           77  \n",
       "3  Those are probably children that are trafficke...           77  \n",
       "4  Epstein and his group of elitists abused their...          331  \n",
       "5  The blind could see there is an evil attack, a...          104  \n",
       "6  Another thing I found is in one of the child a...          790  \n",
       "7                     They are sorry they got caught           30  \n",
       "8  Madeleine McCann used to carry a teddy bear ar...           72  \n",
       "9  Wyta. weird sex things is and has always been ...          126  "
      ]
     },
     "execution_count": 122,
     "metadata": {},
     "output_type": "execute_result"
    }
   ],
   "source": [
    "train.head(10)"
   ]
  },
  {
   "cell_type": "code",
   "execution_count": 123,
   "id": "262bfbb6",
   "metadata": {},
   "outputs": [],
   "source": [
    "##Remove punctuation\n",
    "\n",
    "import string\n",
    "def remove_punctuations(text):\n",
    "    for punctuation in string.punctuation:\n",
    "        text = text.replace(punctuation, '')\n",
    "    return text"
   ]
  },
  {
   "cell_type": "code",
   "execution_count": 124,
   "id": "ddc025de",
   "metadata": {},
   "outputs": [
    {
     "data": {
      "text/plain": [
       "0                                       Thank you for this\n",
       "1        That wasnt an apology it was one excuse after ...\n",
       "2        Those are probably children that are trafficke...\n",
       "3        Those are probably children that are trafficke...\n",
       "4        Epstein and his group of elitists abused their...\n",
       "                               ...                        \n",
       "26525    LOL Dolls are creepy too I saw a video in the ...\n",
       "26526    Blaire you are beautiful you should NEVER be a...\n",
       "26527    If a person sees what is under the rug here an...\n",
       "26528    Again GIRLYES When someone tells you who they ...\n",
       "26529    Omg Im too broke to buy fashion like this I do...\n",
       "Name: Comments, Length: 26530, dtype: object"
      ]
     },
     "execution_count": 124,
     "metadata": {},
     "output_type": "execute_result"
    }
   ],
   "source": [
    "train['Comments'].apply(remove_punctuations)"
   ]
  },
  {
   "cell_type": "code",
   "execution_count": 125,
   "id": "6bfb9ceb",
   "metadata": {},
   "outputs": [],
   "source": [
    "# Commit to Table\n",
    "train['Comments'] = train['Comments'].apply(remove_punctuations)"
   ]
  },
  {
   "cell_type": "code",
   "execution_count": 126,
   "id": "dfa1abb8",
   "metadata": {},
   "outputs": [
    {
     "data": {
      "text/plain": [
       "<AxesSubplot:ylabel='Frequency'>"
      ]
     },
     "execution_count": 126,
     "metadata": {},
     "output_type": "execute_result"
    },
    {
     "data": {
      "image/png": "[encoded data removed]",
      "text/plain": [
       "<Figure size 432x288 with 1 Axes>"
      ]
     },
     "metadata": {
      "needs_background": "light"
     },
     "output_type": "display_data"
    }
   ],
   "source": [
    "train['text_length'].plot.hist(bins = 10)"
   ]
  },
  {
   "cell_type": "markdown",
   "id": "5d436a6a",
   "metadata": {},
   "source": [
    "# 4) Cleaning - lower case"
   ]
  },
  {
   "cell_type": "code",
   "execution_count": 127,
   "id": "bfd3967c",
   "metadata": {},
   "outputs": [
    {
     "data": {
      "text/plain": [
       "0                                       thank you for this\n",
       "1        that wasnt an apology it was one excuse after ...\n",
       "2        those are probably children that are trafficke...\n",
       "3        those are probably children that are trafficke...\n",
       "4        epstein and his group of elitists abused their...\n",
       "                               ...                        \n",
       "26525    lol dolls are creepy too i saw a video in the ...\n",
       "26526    blaire you are beautiful you should never be a...\n",
       "26527    if a person sees what is under the rug here an...\n",
       "26528    again girlyes when someone tells you who they ...\n",
       "26529    omg im too broke to buy fashion like this i do...\n",
       "Name: Comments, Length: 26530, dtype: object"
      ]
     },
     "execution_count": 127,
     "metadata": {},
     "output_type": "execute_result"
    }
   ],
   "source": [
    "# Showing only\n",
    "train['Comments'].apply(lambda x: x.lower())"
   ]
  },
  {
   "cell_type": "code",
   "execution_count": 128,
   "id": "824437e0",
   "metadata": {},
   "outputs": [],
   "source": [
    "# Commit to Table\n",
    "train['Comments'] = train['Comments'].apply(lambda x: x.lower())"
   ]
  },
  {
   "cell_type": "code",
   "execution_count": 129,
   "id": "fe5c7626",
   "metadata": {},
   "outputs": [
    {
     "data": {
      "text/html": [
       "<div>\n",
       "<style scoped>\n",
       "    .dataframe tbody tr th:only-of-type {\n",
       "        vertical-align: middle;\n",
       "    }\n",
       "\n",
       "    .dataframe tbody tr th {\n",
       "        vertical-align: top;\n",
       "    }\n",
       "\n",
       "    .dataframe thead th {\n",
       "        text-align: right;\n",
       "    }\n",
       "</style>\n",
       "<table border=\"1\" class=\"dataframe\">\n",
       "  <thead>\n",
       "    <tr style=\"text-align: right;\">\n",
       "      <th></th>\n",
       "      <th>Comment Number</th>\n",
       "      <th>Reply Number</th>\n",
       "      <th>Like Count</th>\n",
       "      <th>Published At</th>\n",
       "      <th>Comments</th>\n",
       "      <th>text_length</th>\n",
       "    </tr>\n",
       "  </thead>\n",
       "  <tbody>\n",
       "    <tr>\n",
       "      <th>0</th>\n",
       "      <td>1.0</td>\n",
       "      <td>NaN</td>\n",
       "      <td>0</td>\n",
       "      <td>2023-02-24T21:49:40Z</td>\n",
       "      <td>thank you for this</td>\n",
       "      <td>19</td>\n",
       "    </tr>\n",
       "    <tr>\n",
       "      <th>1</th>\n",
       "      <td>2.0</td>\n",
       "      <td>NaN</td>\n",
       "      <td>0</td>\n",
       "      <td>2023-02-24T18:56:11Z</td>\n",
       "      <td>that wasnt an apology it was one excuse after ...</td>\n",
       "      <td>56</td>\n",
       "    </tr>\n",
       "    <tr>\n",
       "      <th>2</th>\n",
       "      <td>3.0</td>\n",
       "      <td>NaN</td>\n",
       "      <td>0</td>\n",
       "      <td>2023-02-23T00:40:54Z</td>\n",
       "      <td>those are probably children that are trafficke...</td>\n",
       "      <td>77</td>\n",
       "    </tr>\n",
       "    <tr>\n",
       "      <th>3</th>\n",
       "      <td>4.0</td>\n",
       "      <td>NaN</td>\n",
       "      <td>0</td>\n",
       "      <td>2023-02-23T00:40:49Z</td>\n",
       "      <td>those are probably children that are trafficke...</td>\n",
       "      <td>77</td>\n",
       "    </tr>\n",
       "    <tr>\n",
       "      <th>4</th>\n",
       "      <td>5.0</td>\n",
       "      <td>NaN</td>\n",
       "      <td>0</td>\n",
       "      <td>2023-02-19T13:26:47Z</td>\n",
       "      <td>epstein and his group of elitists abused their...</td>\n",
       "      <td>331</td>\n",
       "    </tr>\n",
       "    <tr>\n",
       "      <th>5</th>\n",
       "      <td>6.0</td>\n",
       "      <td>NaN</td>\n",
       "      <td>0</td>\n",
       "      <td>2023-02-19T05:21:41Z</td>\n",
       "      <td>the blind could see there is an evil attack a ...</td>\n",
       "      <td>104</td>\n",
       "    </tr>\n",
       "    <tr>\n",
       "      <th>6</th>\n",
       "      <td>7.0</td>\n",
       "      <td>NaN</td>\n",
       "      <td>0</td>\n",
       "      <td>2023-02-18T20:09:59Z</td>\n",
       "      <td>another thing i found is in one of the child a...</td>\n",
       "      <td>790</td>\n",
       "    </tr>\n",
       "    <tr>\n",
       "      <th>7</th>\n",
       "      <td>8.0</td>\n",
       "      <td>NaN</td>\n",
       "      <td>0</td>\n",
       "      <td>2023-02-18T14:54:31Z</td>\n",
       "      <td>they are sorry they got caught</td>\n",
       "      <td>30</td>\n",
       "    </tr>\n",
       "    <tr>\n",
       "      <th>8</th>\n",
       "      <td>9.0</td>\n",
       "      <td>NaN</td>\n",
       "      <td>0</td>\n",
       "      <td>2023-02-17T23:17:16Z</td>\n",
       "      <td>madeleine mccann used to carry a teddy bear ar...</td>\n",
       "      <td>72</td>\n",
       "    </tr>\n",
       "    <tr>\n",
       "      <th>9</th>\n",
       "      <td>10.0</td>\n",
       "      <td>NaN</td>\n",
       "      <td>0</td>\n",
       "      <td>2023-02-17T19:54:57Z</td>\n",
       "      <td>wyta weird sex things is and has always been a...</td>\n",
       "      <td>126</td>\n",
       "    </tr>\n",
       "    <tr>\n",
       "      <th>10</th>\n",
       "      <td>11.0</td>\n",
       "      <td>NaN</td>\n",
       "      <td>0</td>\n",
       "      <td>2023-02-17T14:16:10Z</td>\n",
       "      <td>pedogate is real yet the podesta brothers and ...</td>\n",
       "      <td>127</td>\n",
       "    </tr>\n",
       "    <tr>\n",
       "      <th>11</th>\n",
       "      <td>12.0</td>\n",
       "      <td>NaN</td>\n",
       "      <td>1</td>\n",
       "      <td>2023-02-17T02:50:18Z</td>\n",
       "      <td>the deplorable offenses committed by balenciag...</td>\n",
       "      <td>1502</td>\n",
       "    </tr>\n",
       "    <tr>\n",
       "      <th>12</th>\n",
       "      <td>13.0</td>\n",
       "      <td>NaN</td>\n",
       "      <td>0</td>\n",
       "      <td>2023-02-16T00:25:11Z</td>\n",
       "      <td>can we please bring back the guillotine or noo...</td>\n",
       "      <td>60</td>\n",
       "    </tr>\n",
       "    <tr>\n",
       "      <th>13</th>\n",
       "      <td>14.0</td>\n",
       "      <td>NaN</td>\n",
       "      <td>0</td>\n",
       "      <td>2023-02-15T00:44:55Z</td>\n",
       "      <td>apparently balenciaga are about to rebrand and...</td>\n",
       "      <td>97</td>\n",
       "    </tr>\n",
       "    <tr>\n",
       "      <th>14</th>\n",
       "      <td>15.0</td>\n",
       "      <td>NaN</td>\n",
       "      <td>0</td>\n",
       "      <td>2023-02-14T02:49:54Z</td>\n",
       "      <td>wow this is satan right in front of our eyes g...</td>\n",
       "      <td>95</td>\n",
       "    </tr>\n",
       "    <tr>\n",
       "      <th>15</th>\n",
       "      <td>16.0</td>\n",
       "      <td>NaN</td>\n",
       "      <td>0</td>\n",
       "      <td>2023-02-14T01:44:41Z</td>\n",
       "      <td>too late they have revealed their real intenti...</td>\n",
       "      <td>67</td>\n",
       "    </tr>\n",
       "    <tr>\n",
       "      <th>16</th>\n",
       "      <td>17.0</td>\n",
       "      <td>NaN</td>\n",
       "      <td>0</td>\n",
       "      <td>2023-02-13T22:28:00Z</td>\n",
       "      <td>the devil wears balenciaga</td>\n",
       "      <td>27</td>\n",
       "    </tr>\n",
       "    <tr>\n",
       "      <th>17</th>\n",
       "      <td>18.0</td>\n",
       "      <td>NaN</td>\n",
       "      <td>0</td>\n",
       "      <td>2023-02-13T21:37:11Z</td>\n",
       "      <td>america has to take it where no one else thoug...</td>\n",
       "      <td>240</td>\n",
       "    </tr>\n",
       "    <tr>\n",
       "      <th>18</th>\n",
       "      <td>19.0</td>\n",
       "      <td>NaN</td>\n",
       "      <td>0</td>\n",
       "      <td>2023-02-13T11:36:50Z</td>\n",
       "      <td>i agreed  with you balenciaga just try to say ...</td>\n",
       "      <td>169</td>\n",
       "    </tr>\n",
       "    <tr>\n",
       "      <th>19</th>\n",
       "      <td>20.0</td>\n",
       "      <td>NaN</td>\n",
       "      <td>0</td>\n",
       "      <td>2023-02-11T16:40:55Z</td>\n",
       "      <td>theyre not even aorry</td>\n",
       "      <td>22</td>\n",
       "    </tr>\n",
       "  </tbody>\n",
       "</table>\n",
       "</div>"
      ],
      "text/plain": [
       "    Comment Number  Reply Number  Like Count          Published At  \\\n",
       "0              1.0           NaN           0  2023-02-24T21:49:40Z   \n",
       "1              2.0           NaN           0  2023-02-24T18:56:11Z   \n",
       "2              3.0           NaN           0  2023-02-23T00:40:54Z   \n",
       "3              4.0           NaN           0  2023-02-23T00:40:49Z   \n",
       "4              5.0           NaN           0  2023-02-19T13:26:47Z   \n",
       "5              6.0           NaN           0  2023-02-19T05:21:41Z   \n",
       "6              7.0           NaN           0  2023-02-18T20:09:59Z   \n",
       "7              8.0           NaN           0  2023-02-18T14:54:31Z   \n",
       "8              9.0           NaN           0  2023-02-17T23:17:16Z   \n",
       "9             10.0           NaN           0  2023-02-17T19:54:57Z   \n",
       "10            11.0           NaN           0  2023-02-17T14:16:10Z   \n",
       "11            12.0           NaN           1  2023-02-17T02:50:18Z   \n",
       "12            13.0           NaN           0  2023-02-16T00:25:11Z   \n",
       "13            14.0           NaN           0  2023-02-15T00:44:55Z   \n",
       "14            15.0           NaN           0  2023-02-14T02:49:54Z   \n",
       "15            16.0           NaN           0  2023-02-14T01:44:41Z   \n",
       "16            17.0           NaN           0  2023-02-13T22:28:00Z   \n",
       "17            18.0           NaN           0  2023-02-13T21:37:11Z   \n",
       "18            19.0           NaN           0  2023-02-13T11:36:50Z   \n",
       "19            20.0           NaN           0  2023-02-11T16:40:55Z   \n",
       "\n",
       "                                             Comments  text_length  \n",
       "0                                  thank you for this           19  \n",
       "1   that wasnt an apology it was one excuse after ...           56  \n",
       "2   those are probably children that are trafficke...           77  \n",
       "3   those are probably children that are trafficke...           77  \n",
       "4   epstein and his group of elitists abused their...          331  \n",
       "5   the blind could see there is an evil attack a ...          104  \n",
       "6   another thing i found is in one of the child a...          790  \n",
       "7                      they are sorry they got caught           30  \n",
       "8   madeleine mccann used to carry a teddy bear ar...           72  \n",
       "9   wyta weird sex things is and has always been a...          126  \n",
       "10  pedogate is real yet the podesta brothers and ...          127  \n",
       "11  the deplorable offenses committed by balenciag...         1502  \n",
       "12  can we please bring back the guillotine or noo...           60  \n",
       "13  apparently balenciaga are about to rebrand and...           97  \n",
       "14  wow this is satan right in front of our eyes g...           95  \n",
       "15  too late they have revealed their real intenti...           67  \n",
       "16                         the devil wears balenciaga           27  \n",
       "17  america has to take it where no one else thoug...          240  \n",
       "18  i agreed  with you balenciaga just try to say ...          169  \n",
       "19                              theyre not even aorry           22  "
      ]
     },
     "execution_count": 129,
     "metadata": {},
     "output_type": "execute_result"
    }
   ],
   "source": [
    "train.head(20)"
   ]
  },
  {
   "cell_type": "markdown",
   "id": "3fef7b88",
   "metadata": {},
   "source": [
    "# 5) Cleaning - Remove Stopwords & emoticons & special characters"
   ]
  },
  {
   "cell_type": "code",
   "execution_count": 130,
   "id": "cc5a18e0",
   "metadata": {},
   "outputs": [],
   "source": [
    "# Get Stopwords\n",
    "stop = stopwords.words('english')"
   ]
  },
  {
   "cell_type": "code",
   "execution_count": 131,
   "id": "88a9ff40",
   "metadata": {},
   "outputs": [
    {
     "data": {
      "text/plain": [
       "0                                                  [thank]\n",
       "1                   [wasnt, apology, one, excuse, another]\n",
       "2        [probably, children, trafficked, entertainment...\n",
       "3        [probably, children, trafficked, entertainment...\n",
       "4        [epstein, group, elitists, abused, power, saw,...\n",
       "                               ...                        \n",
       "26525    [lol, dolls, creepy, saw, video, past, put, co...\n",
       "26526    [blaire, beautiful, never, billboard, brand, m...\n",
       "26527    [person, sees, rug, denounce, part, problem, r...\n",
       "26528    [girlyes, someone, tells, absolutely, believe,...\n",
       "26529    [omg, im, broke, buy, fashion, like, dont, rea...\n",
       "Name: Comments, Length: 26530, dtype: object"
      ]
     },
     "execution_count": 131,
     "metadata": {},
     "output_type": "execute_result"
    }
   ],
   "source": [
    "# Tokenize and Remove Stop Words\n",
    "train['Comments'].apply(lambda x: [word for word in x.split() if word not in stop])"
   ]
  },
  {
   "cell_type": "code",
   "execution_count": 132,
   "id": "0d211091",
   "metadata": {},
   "outputs": [
    {
     "data": {
      "text/plain": [
       "0                                                    thank\n",
       "1                         wasnt apology one excuse another\n",
       "2        probably children trafficked entertainment ind...\n",
       "3        probably children trafficked entertainment ind...\n",
       "4        epstein group elitists abused power saw girls ...\n",
       "                               ...                        \n",
       "26525    lol dolls creepy saw video past put cold water...\n",
       "26526    blaire beautiful never billboard brand must fi...\n",
       "26527    person sees rug denounce part problem rl thing...\n",
       "26528    girlyes someone tells absolutely believe im se...\n",
       "26529    omg im broke buy fashion like dont read fashio...\n",
       "Name: Comments, Length: 26530, dtype: object"
      ]
     },
     "execution_count": 132,
     "metadata": {},
     "output_type": "execute_result"
    }
   ],
   "source": [
    "train['Comments'].apply(lambda x: ' '.join([word for word in x.split() if word not in (stop)]))"
   ]
  },
  {
   "cell_type": "code",
   "execution_count": 133,
   "id": "3808d09d",
   "metadata": {},
   "outputs": [],
   "source": [
    "# Join the words back\n",
    "train['Comments'] = train['Comments'].apply(lambda x: ' '.join([word for word in x.split() if word not in (stop)]))"
   ]
  },
  {
   "cell_type": "code",
   "execution_count": 134,
   "id": "cfbe1d70",
   "metadata": {},
   "outputs": [
    {
     "data": {
      "text/html": [
       "<div>\n",
       "<style scoped>\n",
       "    .dataframe tbody tr th:only-of-type {\n",
       "        vertical-align: middle;\n",
       "    }\n",
       "\n",
       "    .dataframe tbody tr th {\n",
       "        vertical-align: top;\n",
       "    }\n",
       "\n",
       "    .dataframe thead th {\n",
       "        text-align: right;\n",
       "    }\n",
       "</style>\n",
       "<table border=\"1\" class=\"dataframe\">\n",
       "  <thead>\n",
       "    <tr style=\"text-align: right;\">\n",
       "      <th></th>\n",
       "      <th>Comment Number</th>\n",
       "      <th>Reply Number</th>\n",
       "      <th>Like Count</th>\n",
       "      <th>Published At</th>\n",
       "      <th>Comments</th>\n",
       "      <th>text_length</th>\n",
       "    </tr>\n",
       "  </thead>\n",
       "  <tbody>\n",
       "    <tr>\n",
       "      <th>0</th>\n",
       "      <td>1.0</td>\n",
       "      <td>NaN</td>\n",
       "      <td>0</td>\n",
       "      <td>2023-02-24T21:49:40Z</td>\n",
       "      <td>thank</td>\n",
       "      <td>19</td>\n",
       "    </tr>\n",
       "    <tr>\n",
       "      <th>1</th>\n",
       "      <td>2.0</td>\n",
       "      <td>NaN</td>\n",
       "      <td>0</td>\n",
       "      <td>2023-02-24T18:56:11Z</td>\n",
       "      <td>wasnt apology one excuse another</td>\n",
       "      <td>56</td>\n",
       "    </tr>\n",
       "    <tr>\n",
       "      <th>2</th>\n",
       "      <td>3.0</td>\n",
       "      <td>NaN</td>\n",
       "      <td>0</td>\n",
       "      <td>2023-02-23T00:40:54Z</td>\n",
       "      <td>probably children trafficked entertainment ind...</td>\n",
       "      <td>77</td>\n",
       "    </tr>\n",
       "    <tr>\n",
       "      <th>3</th>\n",
       "      <td>4.0</td>\n",
       "      <td>NaN</td>\n",
       "      <td>0</td>\n",
       "      <td>2023-02-23T00:40:49Z</td>\n",
       "      <td>probably children trafficked entertainment ind...</td>\n",
       "      <td>77</td>\n",
       "    </tr>\n",
       "    <tr>\n",
       "      <th>4</th>\n",
       "      <td>5.0</td>\n",
       "      <td>NaN</td>\n",
       "      <td>0</td>\n",
       "      <td>2023-02-19T13:26:47Z</td>\n",
       "      <td>epstein group elitists abused power saw girls ...</td>\n",
       "      <td>331</td>\n",
       "    </tr>\n",
       "    <tr>\n",
       "      <th>5</th>\n",
       "      <td>6.0</td>\n",
       "      <td>NaN</td>\n",
       "      <td>0</td>\n",
       "      <td>2023-02-19T05:21:41Z</td>\n",
       "      <td>blind could see evil attack demonic war waged ...</td>\n",
       "      <td>104</td>\n",
       "    </tr>\n",
       "    <tr>\n",
       "      <th>6</th>\n",
       "      <td>7.0</td>\n",
       "      <td>NaN</td>\n",
       "      <td>0</td>\n",
       "      <td>2023-02-18T20:09:59Z</td>\n",
       "      <td>another thing found one child ads thereâ€™s ki...</td>\n",
       "      <td>790</td>\n",
       "    </tr>\n",
       "    <tr>\n",
       "      <th>7</th>\n",
       "      <td>8.0</td>\n",
       "      <td>NaN</td>\n",
       "      <td>0</td>\n",
       "      <td>2023-02-18T14:54:31Z</td>\n",
       "      <td>sorry got caught</td>\n",
       "      <td>30</td>\n",
       "    </tr>\n",
       "    <tr>\n",
       "      <th>8</th>\n",
       "      <td>9.0</td>\n",
       "      <td>NaN</td>\n",
       "      <td>0</td>\n",
       "      <td>2023-02-17T23:17:16Z</td>\n",
       "      <td>madeleine mccann used carry teddy bear around ...</td>\n",
       "      <td>72</td>\n",
       "    </tr>\n",
       "    <tr>\n",
       "      <th>9</th>\n",
       "      <td>10.0</td>\n",
       "      <td>NaN</td>\n",
       "      <td>0</td>\n",
       "      <td>2023-02-17T19:54:57Z</td>\n",
       "      <td>wyta weird sex things always right w thing lef...</td>\n",
       "      <td>126</td>\n",
       "    </tr>\n",
       "  </tbody>\n",
       "</table>\n",
       "</div>"
      ],
      "text/plain": [
       "   Comment Number  Reply Number  Like Count          Published At  \\\n",
       "0             1.0           NaN           0  2023-02-24T21:49:40Z   \n",
       "1             2.0           NaN           0  2023-02-24T18:56:11Z   \n",
       "2             3.0           NaN           0  2023-02-23T00:40:54Z   \n",
       "3             4.0           NaN           0  2023-02-23T00:40:49Z   \n",
       "4             5.0           NaN           0  2023-02-19T13:26:47Z   \n",
       "5             6.0           NaN           0  2023-02-19T05:21:41Z   \n",
       "6             7.0           NaN           0  2023-02-18T20:09:59Z   \n",
       "7             8.0           NaN           0  2023-02-18T14:54:31Z   \n",
       "8             9.0           NaN           0  2023-02-17T23:17:16Z   \n",
       "9            10.0           NaN           0  2023-02-17T19:54:57Z   \n",
       "\n",
       "                                            Comments  text_length  \n",
       "0                                              thank           19  \n",
       "1                   wasnt apology one excuse another           56  \n",
       "2  probably children trafficked entertainment ind...           77  \n",
       "3  probably children trafficked entertainment ind...           77  \n",
       "4  epstein group elitists abused power saw girls ...          331  \n",
       "5  blind could see evil attack demonic war waged ...          104  \n",
       "6  another thing found one child ads thereâ€™s ki...          790  \n",
       "7                                   sorry got caught           30  \n",
       "8  madeleine mccann used carry teddy bear around ...           72  \n",
       "9  wyta weird sex things always right w thing lef...          126  "
      ]
     },
     "execution_count": 134,
     "metadata": {},
     "output_type": "execute_result"
    }
   ],
   "source": [
    "train.head(10)"
   ]
  },
  {
   "cell_type": "code",
   "execution_count": 135,
   "id": "9076f01b",
   "metadata": {},
   "outputs": [],
   "source": [
    "##Remove emoticons\n",
    "\n",
    "def remove_emoticons(text):\n",
    "    emoticon_pattern = re.compile(\"[\"\n",
    "        u\"\\U0001F600-\\U0001F64F\"  # emoticons\n",
    "        u\"\\U0001F300-\\U0001F5FF\"  # symbols & pictographs\n",
    "        u\"\\U0001F680-\\U0001F6FF\"  # transport & map symbols\n",
    "        u\"\\U0001F1E0-\\U0001F1FF\"  # flags (iOS)\n",
    "        u\"\\U00002500-\\U00002BEF\"  # chinese char\n",
    "        u\"\\U00002702-\\U000027B0\"\n",
    "        u\"\\U00002702-\\U000027B0\"\n",
    "        u\"\\u2764\"  \n",
    "        u\"\\U0001F644\"                            \n",
    "        u\"\\U000024C2-\\U0001F251\"\n",
    "        u\"\\U0001f926-\\U0001f937\"\n",
    "        u\"\\U00010000-\\U0010ffff\"\n",
    "        u\"\\u2640-\\u2642\"\n",
    "        u\"\\u2600-\\u2B55\"\n",
    "        u\"\\u200d\"\n",
    "        u\"\\u23cf\"\n",
    "        u\"\\u23e9\"\n",
    "        u\"\\u231a\"\n",
    "        u\"\\ufe0f\"  # dingbats\n",
    "        u\"\\u3030\"\n",
    "                                  \n",
    "                           \"]+\", flags=re.UNICODE)\n",
    "    return emoticon_pattern.sub(r'', text)\n",
    "\n"
   ]
  },
  {
   "cell_type": "code",
   "execution_count": 136,
   "id": "27da7078",
   "metadata": {},
   "outputs": [],
   "source": [
    "\n",
    "# Apply the remove_emoticons function to the 'Comments' column\n",
    "train['Comments'] = train['Comments'].apply(remove_emoticons)"
   ]
  },
  {
   "cell_type": "code",
   "execution_count": 137,
   "id": "fc4d0877",
   "metadata": {},
   "outputs": [
    {
     "data": {
      "text/html": [
       "<div>\n",
       "<style scoped>\n",
       "    .dataframe tbody tr th:only-of-type {\n",
       "        vertical-align: middle;\n",
       "    }\n",
       "\n",
       "    .dataframe tbody tr th {\n",
       "        vertical-align: top;\n",
       "    }\n",
       "\n",
       "    .dataframe thead th {\n",
       "        text-align: right;\n",
       "    }\n",
       "</style>\n",
       "<table border=\"1\" class=\"dataframe\">\n",
       "  <thead>\n",
       "    <tr style=\"text-align: right;\">\n",
       "      <th></th>\n",
       "      <th>Comment Number</th>\n",
       "      <th>Reply Number</th>\n",
       "      <th>Like Count</th>\n",
       "      <th>Published At</th>\n",
       "      <th>Comments</th>\n",
       "      <th>text_length</th>\n",
       "    </tr>\n",
       "  </thead>\n",
       "  <tbody>\n",
       "    <tr>\n",
       "      <th>0</th>\n",
       "      <td>1.0</td>\n",
       "      <td>NaN</td>\n",
       "      <td>0</td>\n",
       "      <td>2023-02-24T21:49:40Z</td>\n",
       "      <td>thank</td>\n",
       "      <td>19</td>\n",
       "    </tr>\n",
       "    <tr>\n",
       "      <th>1</th>\n",
       "      <td>2.0</td>\n",
       "      <td>NaN</td>\n",
       "      <td>0</td>\n",
       "      <td>2023-02-24T18:56:11Z</td>\n",
       "      <td>wasnt apology one excuse another</td>\n",
       "      <td>56</td>\n",
       "    </tr>\n",
       "    <tr>\n",
       "      <th>2</th>\n",
       "      <td>3.0</td>\n",
       "      <td>NaN</td>\n",
       "      <td>0</td>\n",
       "      <td>2023-02-23T00:40:54Z</td>\n",
       "      <td>probably children trafficked entertainment ind...</td>\n",
       "      <td>77</td>\n",
       "    </tr>\n",
       "    <tr>\n",
       "      <th>3</th>\n",
       "      <td>4.0</td>\n",
       "      <td>NaN</td>\n",
       "      <td>0</td>\n",
       "      <td>2023-02-23T00:40:49Z</td>\n",
       "      <td>probably children trafficked entertainment ind...</td>\n",
       "      <td>77</td>\n",
       "    </tr>\n",
       "    <tr>\n",
       "      <th>4</th>\n",
       "      <td>5.0</td>\n",
       "      <td>NaN</td>\n",
       "      <td>0</td>\n",
       "      <td>2023-02-19T13:26:47Z</td>\n",
       "      <td>epstein group elitists abused power saw girls ...</td>\n",
       "      <td>331</td>\n",
       "    </tr>\n",
       "    <tr>\n",
       "      <th>5</th>\n",
       "      <td>6.0</td>\n",
       "      <td>NaN</td>\n",
       "      <td>0</td>\n",
       "      <td>2023-02-19T05:21:41Z</td>\n",
       "      <td>blind could see evil attack demonic war waged ...</td>\n",
       "      <td>104</td>\n",
       "    </tr>\n",
       "    <tr>\n",
       "      <th>6</th>\n",
       "      <td>7.0</td>\n",
       "      <td>NaN</td>\n",
       "      <td>0</td>\n",
       "      <td>2023-02-18T20:09:59Z</td>\n",
       "      <td>another thing found one child ads thereâ€™s ki...</td>\n",
       "      <td>790</td>\n",
       "    </tr>\n",
       "    <tr>\n",
       "      <th>7</th>\n",
       "      <td>8.0</td>\n",
       "      <td>NaN</td>\n",
       "      <td>0</td>\n",
       "      <td>2023-02-18T14:54:31Z</td>\n",
       "      <td>sorry got caught</td>\n",
       "      <td>30</td>\n",
       "    </tr>\n",
       "    <tr>\n",
       "      <th>8</th>\n",
       "      <td>9.0</td>\n",
       "      <td>NaN</td>\n",
       "      <td>0</td>\n",
       "      <td>2023-02-17T23:17:16Z</td>\n",
       "      <td>madeleine mccann used carry teddy bear around ...</td>\n",
       "      <td>72</td>\n",
       "    </tr>\n",
       "    <tr>\n",
       "      <th>9</th>\n",
       "      <td>10.0</td>\n",
       "      <td>NaN</td>\n",
       "      <td>0</td>\n",
       "      <td>2023-02-17T19:54:57Z</td>\n",
       "      <td>wyta weird sex things always right w thing lef...</td>\n",
       "      <td>126</td>\n",
       "    </tr>\n",
       "    <tr>\n",
       "      <th>10</th>\n",
       "      <td>11.0</td>\n",
       "      <td>NaN</td>\n",
       "      <td>0</td>\n",
       "      <td>2023-02-17T14:16:10Z</td>\n",
       "      <td>pedogate real yet podesta brothers high level ...</td>\n",
       "      <td>127</td>\n",
       "    </tr>\n",
       "    <tr>\n",
       "      <th>11</th>\n",
       "      <td>12.0</td>\n",
       "      <td>NaN</td>\n",
       "      <td>1</td>\n",
       "      <td>2023-02-17T02:50:18Z</td>\n",
       "      <td>deplorable offenses committed balenciaga align...</td>\n",
       "      <td>1502</td>\n",
       "    </tr>\n",
       "    <tr>\n",
       "      <th>12</th>\n",
       "      <td>13.0</td>\n",
       "      <td>NaN</td>\n",
       "      <td>0</td>\n",
       "      <td>2023-02-16T00:25:11Z</td>\n",
       "      <td>please bring back guillotine noose least</td>\n",
       "      <td>60</td>\n",
       "    </tr>\n",
       "    <tr>\n",
       "      <th>13</th>\n",
       "      <td>14.0</td>\n",
       "      <td>NaN</td>\n",
       "      <td>0</td>\n",
       "      <td>2023-02-15T00:44:55Z</td>\n",
       "      <td>apparently balenciaga rebrand partner withâ€¦â...</td>\n",
       "      <td>97</td>\n",
       "    </tr>\n",
       "    <tr>\n",
       "      <th>14</th>\n",
       "      <td>15.0</td>\n",
       "      <td>NaN</td>\n",
       "      <td>0</td>\n",
       "      <td>2023-02-14T02:49:54Z</td>\n",
       "      <td>wow satan right front eyes god coming soonâ€¦i...</td>\n",
       "      <td>95</td>\n",
       "    </tr>\n",
       "    <tr>\n",
       "      <th>15</th>\n",
       "      <td>16.0</td>\n",
       "      <td>NaN</td>\n",
       "      <td>0</td>\n",
       "      <td>2023-02-14T01:44:41Z</td>\n",
       "      <td>late revealed real intentions demonic</td>\n",
       "      <td>67</td>\n",
       "    </tr>\n",
       "    <tr>\n",
       "      <th>16</th>\n",
       "      <td>17.0</td>\n",
       "      <td>NaN</td>\n",
       "      <td>0</td>\n",
       "      <td>2023-02-13T22:28:00Z</td>\n",
       "      <td>devil wears balenciaga</td>\n",
       "      <td>27</td>\n",
       "    </tr>\n",
       "    <tr>\n",
       "      <th>17</th>\n",
       "      <td>18.0</td>\n",
       "      <td>NaN</td>\n",
       "      <td>0</td>\n",
       "      <td>2023-02-13T21:37:11Z</td>\n",
       "      <td>america take one else thought bitch catwalk do...</td>\n",
       "      <td>240</td>\n",
       "    </tr>\n",
       "    <tr>\n",
       "      <th>18</th>\n",
       "      <td>19.0</td>\n",
       "      <td>NaN</td>\n",
       "      <td>0</td>\n",
       "      <td>2023-02-13T11:36:50Z</td>\n",
       "      <td>agreed balenciaga try say dont haha course wou...</td>\n",
       "      <td>169</td>\n",
       "    </tr>\n",
       "    <tr>\n",
       "      <th>19</th>\n",
       "      <td>20.0</td>\n",
       "      <td>NaN</td>\n",
       "      <td>0</td>\n",
       "      <td>2023-02-11T16:40:55Z</td>\n",
       "      <td>theyre even aorry</td>\n",
       "      <td>22</td>\n",
       "    </tr>\n",
       "  </tbody>\n",
       "</table>\n",
       "</div>"
      ],
      "text/plain": [
       "    Comment Number  Reply Number  Like Count          Published At  \\\n",
       "0              1.0           NaN           0  2023-02-24T21:49:40Z   \n",
       "1              2.0           NaN           0  2023-02-24T18:56:11Z   \n",
       "2              3.0           NaN           0  2023-02-23T00:40:54Z   \n",
       "3              4.0           NaN           0  2023-02-23T00:40:49Z   \n",
       "4              5.0           NaN           0  2023-02-19T13:26:47Z   \n",
       "5              6.0           NaN           0  2023-02-19T05:21:41Z   \n",
       "6              7.0           NaN           0  2023-02-18T20:09:59Z   \n",
       "7              8.0           NaN           0  2023-02-18T14:54:31Z   \n",
       "8              9.0           NaN           0  2023-02-17T23:17:16Z   \n",
       "9             10.0           NaN           0  2023-02-17T19:54:57Z   \n",
       "10            11.0           NaN           0  2023-02-17T14:16:10Z   \n",
       "11            12.0           NaN           1  2023-02-17T02:50:18Z   \n",
       "12            13.0           NaN           0  2023-02-16T00:25:11Z   \n",
       "13            14.0           NaN           0  2023-02-15T00:44:55Z   \n",
       "14            15.0           NaN           0  2023-02-14T02:49:54Z   \n",
       "15            16.0           NaN           0  2023-02-14T01:44:41Z   \n",
       "16            17.0           NaN           0  2023-02-13T22:28:00Z   \n",
       "17            18.0           NaN           0  2023-02-13T21:37:11Z   \n",
       "18            19.0           NaN           0  2023-02-13T11:36:50Z   \n",
       "19            20.0           NaN           0  2023-02-11T16:40:55Z   \n",
       "\n",
       "                                             Comments  text_length  \n",
       "0                                               thank           19  \n",
       "1                    wasnt apology one excuse another           56  \n",
       "2   probably children trafficked entertainment ind...           77  \n",
       "3   probably children trafficked entertainment ind...           77  \n",
       "4   epstein group elitists abused power saw girls ...          331  \n",
       "5   blind could see evil attack demonic war waged ...          104  \n",
       "6   another thing found one child ads thereâ€™s ki...          790  \n",
       "7                                    sorry got caught           30  \n",
       "8   madeleine mccann used carry teddy bear around ...           72  \n",
       "9   wyta weird sex things always right w thing lef...          126  \n",
       "10  pedogate real yet podesta brothers high level ...          127  \n",
       "11  deplorable offenses committed balenciaga align...         1502  \n",
       "12           please bring back guillotine noose least           60  \n",
       "13  apparently balenciaga rebrand partner withâ€¦â...           97  \n",
       "14  wow satan right front eyes god coming soonâ€¦i...           95  \n",
       "15              late revealed real intentions demonic           67  \n",
       "16                             devil wears balenciaga           27  \n",
       "17  america take one else thought bitch catwalk do...          240  \n",
       "18  agreed balenciaga try say dont haha course wou...          169  \n",
       "19                                  theyre even aorry           22  "
      ]
     },
     "execution_count": 137,
     "metadata": {},
     "output_type": "execute_result"
    }
   ],
   "source": [
    "train.head(20)"
   ]
  },
  {
   "cell_type": "code",
   "execution_count": 138,
   "id": "2f803db2",
   "metadata": {},
   "outputs": [],
   "source": [
    "##Remove non-ASCII improperly encoded characters\n",
    "\n",
    "def remove_invalid_chars(text):\n",
    "    # encode the text string using ASCII encoding\n",
    "    encoded_text = text.encode('ascii', 'ignore')\n",
    "    # decode the encoded text using ASCII encoding\n",
    "    decoded_text = encoded_text.decode('ascii')\n",
    "    return decoded_text"
   ]
  },
  {
   "cell_type": "code",
   "execution_count": 139,
   "id": "87588a05",
   "metadata": {},
   "outputs": [],
   "source": [
    "# apply the remove_invalid_chars function to the 'Comments' column\n",
    "train['Comments'] = train['Comments'].apply(remove_invalid_chars)\n",
    "\n"
   ]
  },
  {
   "cell_type": "code",
   "execution_count": 140,
   "id": "d9005b96",
   "metadata": {},
   "outputs": [
    {
     "data": {
      "text/html": [
       "<div>\n",
       "<style scoped>\n",
       "    .dataframe tbody tr th:only-of-type {\n",
       "        vertical-align: middle;\n",
       "    }\n",
       "\n",
       "    .dataframe tbody tr th {\n",
       "        vertical-align: top;\n",
       "    }\n",
       "\n",
       "    .dataframe thead th {\n",
       "        text-align: right;\n",
       "    }\n",
       "</style>\n",
       "<table border=\"1\" class=\"dataframe\">\n",
       "  <thead>\n",
       "    <tr style=\"text-align: right;\">\n",
       "      <th></th>\n",
       "      <th>Comment Number</th>\n",
       "      <th>Reply Number</th>\n",
       "      <th>Like Count</th>\n",
       "      <th>Published At</th>\n",
       "      <th>Comments</th>\n",
       "      <th>text_length</th>\n",
       "    </tr>\n",
       "  </thead>\n",
       "  <tbody>\n",
       "    <tr>\n",
       "      <th>0</th>\n",
       "      <td>1.0</td>\n",
       "      <td>NaN</td>\n",
       "      <td>0</td>\n",
       "      <td>2023-02-24T21:49:40Z</td>\n",
       "      <td>thank</td>\n",
       "      <td>19</td>\n",
       "    </tr>\n",
       "    <tr>\n",
       "      <th>1</th>\n",
       "      <td>2.0</td>\n",
       "      <td>NaN</td>\n",
       "      <td>0</td>\n",
       "      <td>2023-02-24T18:56:11Z</td>\n",
       "      <td>wasnt apology one excuse another</td>\n",
       "      <td>56</td>\n",
       "    </tr>\n",
       "    <tr>\n",
       "      <th>2</th>\n",
       "      <td>3.0</td>\n",
       "      <td>NaN</td>\n",
       "      <td>0</td>\n",
       "      <td>2023-02-23T00:40:54Z</td>\n",
       "      <td>probably children trafficked entertainment ind...</td>\n",
       "      <td>77</td>\n",
       "    </tr>\n",
       "    <tr>\n",
       "      <th>3</th>\n",
       "      <td>4.0</td>\n",
       "      <td>NaN</td>\n",
       "      <td>0</td>\n",
       "      <td>2023-02-23T00:40:49Z</td>\n",
       "      <td>probably children trafficked entertainment ind...</td>\n",
       "      <td>77</td>\n",
       "    </tr>\n",
       "    <tr>\n",
       "      <th>4</th>\n",
       "      <td>5.0</td>\n",
       "      <td>NaN</td>\n",
       "      <td>0</td>\n",
       "      <td>2023-02-19T13:26:47Z</td>\n",
       "      <td>epstein group elitists abused power saw girls ...</td>\n",
       "      <td>331</td>\n",
       "    </tr>\n",
       "    <tr>\n",
       "      <th>5</th>\n",
       "      <td>6.0</td>\n",
       "      <td>NaN</td>\n",
       "      <td>0</td>\n",
       "      <td>2023-02-19T05:21:41Z</td>\n",
       "      <td>blind could see evil attack demonic war waged ...</td>\n",
       "      <td>104</td>\n",
       "    </tr>\n",
       "    <tr>\n",
       "      <th>6</th>\n",
       "      <td>7.0</td>\n",
       "      <td>NaN</td>\n",
       "      <td>0</td>\n",
       "      <td>2023-02-18T20:09:59Z</td>\n",
       "      <td>another thing found one child ads theres kids ...</td>\n",
       "      <td>790</td>\n",
       "    </tr>\n",
       "    <tr>\n",
       "      <th>7</th>\n",
       "      <td>8.0</td>\n",
       "      <td>NaN</td>\n",
       "      <td>0</td>\n",
       "      <td>2023-02-18T14:54:31Z</td>\n",
       "      <td>sorry got caught</td>\n",
       "      <td>30</td>\n",
       "    </tr>\n",
       "    <tr>\n",
       "      <th>8</th>\n",
       "      <td>9.0</td>\n",
       "      <td>NaN</td>\n",
       "      <td>0</td>\n",
       "      <td>2023-02-17T23:17:16Z</td>\n",
       "      <td>madeleine mccann used carry teddy bear around ...</td>\n",
       "      <td>72</td>\n",
       "    </tr>\n",
       "    <tr>\n",
       "      <th>9</th>\n",
       "      <td>10.0</td>\n",
       "      <td>NaN</td>\n",
       "      <td>0</td>\n",
       "      <td>2023-02-17T19:54:57Z</td>\n",
       "      <td>wyta weird sex things always right w thing lef...</td>\n",
       "      <td>126</td>\n",
       "    </tr>\n",
       "    <tr>\n",
       "      <th>10</th>\n",
       "      <td>11.0</td>\n",
       "      <td>NaN</td>\n",
       "      <td>0</td>\n",
       "      <td>2023-02-17T14:16:10Z</td>\n",
       "      <td>pedogate real yet podesta brothers high level ...</td>\n",
       "      <td>127</td>\n",
       "    </tr>\n",
       "    <tr>\n",
       "      <th>11</th>\n",
       "      <td>12.0</td>\n",
       "      <td>NaN</td>\n",
       "      <td>1</td>\n",
       "      <td>2023-02-17T02:50:18Z</td>\n",
       "      <td>deplorable offenses committed balenciaga align...</td>\n",
       "      <td>1502</td>\n",
       "    </tr>\n",
       "    <tr>\n",
       "      <th>12</th>\n",
       "      <td>13.0</td>\n",
       "      <td>NaN</td>\n",
       "      <td>0</td>\n",
       "      <td>2023-02-16T00:25:11Z</td>\n",
       "      <td>please bring back guillotine noose least</td>\n",
       "      <td>60</td>\n",
       "    </tr>\n",
       "    <tr>\n",
       "      <th>13</th>\n",
       "      <td>14.0</td>\n",
       "      <td>NaN</td>\n",
       "      <td>0</td>\n",
       "      <td>2023-02-15T00:44:55Z</td>\n",
       "      <td>apparently balenciaga rebrand partner withwait...</td>\n",
       "      <td>97</td>\n",
       "    </tr>\n",
       "    <tr>\n",
       "      <th>14</th>\n",
       "      <td>15.0</td>\n",
       "      <td>NaN</td>\n",
       "      <td>0</td>\n",
       "      <td>2023-02-14T02:49:54Z</td>\n",
       "      <td>wow satan right front eyes god coming sooni glad</td>\n",
       "      <td>95</td>\n",
       "    </tr>\n",
       "    <tr>\n",
       "      <th>15</th>\n",
       "      <td>16.0</td>\n",
       "      <td>NaN</td>\n",
       "      <td>0</td>\n",
       "      <td>2023-02-14T01:44:41Z</td>\n",
       "      <td>late revealed real intentions demonic</td>\n",
       "      <td>67</td>\n",
       "    </tr>\n",
       "    <tr>\n",
       "      <th>16</th>\n",
       "      <td>17.0</td>\n",
       "      <td>NaN</td>\n",
       "      <td>0</td>\n",
       "      <td>2023-02-13T22:28:00Z</td>\n",
       "      <td>devil wears balenciaga</td>\n",
       "      <td>27</td>\n",
       "    </tr>\n",
       "    <tr>\n",
       "      <th>17</th>\n",
       "      <td>18.0</td>\n",
       "      <td>NaN</td>\n",
       "      <td>0</td>\n",
       "      <td>2023-02-13T21:37:11Z</td>\n",
       "      <td>america take one else thought bitch catwalk do...</td>\n",
       "      <td>240</td>\n",
       "    </tr>\n",
       "    <tr>\n",
       "      <th>18</th>\n",
       "      <td>19.0</td>\n",
       "      <td>NaN</td>\n",
       "      <td>0</td>\n",
       "      <td>2023-02-13T11:36:50Z</td>\n",
       "      <td>agreed balenciaga try say dont haha course wou...</td>\n",
       "      <td>169</td>\n",
       "    </tr>\n",
       "    <tr>\n",
       "      <th>19</th>\n",
       "      <td>20.0</td>\n",
       "      <td>NaN</td>\n",
       "      <td>0</td>\n",
       "      <td>2023-02-11T16:40:55Z</td>\n",
       "      <td>theyre even aorry</td>\n",
       "      <td>22</td>\n",
       "    </tr>\n",
       "  </tbody>\n",
       "</table>\n",
       "</div>"
      ],
      "text/plain": [
       "    Comment Number  Reply Number  Like Count          Published At  \\\n",
       "0              1.0           NaN           0  2023-02-24T21:49:40Z   \n",
       "1              2.0           NaN           0  2023-02-24T18:56:11Z   \n",
       "2              3.0           NaN           0  2023-02-23T00:40:54Z   \n",
       "3              4.0           NaN           0  2023-02-23T00:40:49Z   \n",
       "4              5.0           NaN           0  2023-02-19T13:26:47Z   \n",
       "5              6.0           NaN           0  2023-02-19T05:21:41Z   \n",
       "6              7.0           NaN           0  2023-02-18T20:09:59Z   \n",
       "7              8.0           NaN           0  2023-02-18T14:54:31Z   \n",
       "8              9.0           NaN           0  2023-02-17T23:17:16Z   \n",
       "9             10.0           NaN           0  2023-02-17T19:54:57Z   \n",
       "10            11.0           NaN           0  2023-02-17T14:16:10Z   \n",
       "11            12.0           NaN           1  2023-02-17T02:50:18Z   \n",
       "12            13.0           NaN           0  2023-02-16T00:25:11Z   \n",
       "13            14.0           NaN           0  2023-02-15T00:44:55Z   \n",
       "14            15.0           NaN           0  2023-02-14T02:49:54Z   \n",
       "15            16.0           NaN           0  2023-02-14T01:44:41Z   \n",
       "16            17.0           NaN           0  2023-02-13T22:28:00Z   \n",
       "17            18.0           NaN           0  2023-02-13T21:37:11Z   \n",
       "18            19.0           NaN           0  2023-02-13T11:36:50Z   \n",
       "19            20.0           NaN           0  2023-02-11T16:40:55Z   \n",
       "\n",
       "                                             Comments  text_length  \n",
       "0                                               thank           19  \n",
       "1                    wasnt apology one excuse another           56  \n",
       "2   probably children trafficked entertainment ind...           77  \n",
       "3   probably children trafficked entertainment ind...           77  \n",
       "4   epstein group elitists abused power saw girls ...          331  \n",
       "5   blind could see evil attack demonic war waged ...          104  \n",
       "6   another thing found one child ads theres kids ...          790  \n",
       "7                                    sorry got caught           30  \n",
       "8   madeleine mccann used carry teddy bear around ...           72  \n",
       "9   wyta weird sex things always right w thing lef...          126  \n",
       "10  pedogate real yet podesta brothers high level ...          127  \n",
       "11  deplorable offenses committed balenciaga align...         1502  \n",
       "12           please bring back guillotine noose least           60  \n",
       "13  apparently balenciaga rebrand partner withwait...           97  \n",
       "14   wow satan right front eyes god coming sooni glad           95  \n",
       "15              late revealed real intentions demonic           67  \n",
       "16                             devil wears balenciaga           27  \n",
       "17  america take one else thought bitch catwalk do...          240  \n",
       "18  agreed balenciaga try say dont haha course wou...          169  \n",
       "19                                  theyre even aorry           22  "
      ]
     },
     "execution_count": 140,
     "metadata": {},
     "output_type": "execute_result"
    }
   ],
   "source": [
    "train.head(20)"
   ]
  },
  {
   "cell_type": "markdown",
   "id": "be3004d7",
   "metadata": {},
   "source": [
    "# 6)Lemmatize"
   ]
  },
  {
   "cell_type": "code",
   "execution_count": 141,
   "id": "0b2ea179",
   "metadata": {},
   "outputs": [
    {
     "name": "stderr",
     "output_type": "stream",
     "text": [
      "[nltk_data] Downloading package wordnet to\n",
      "[nltk_data]     C:\\Users\\admin\\AppData\\Roaming\\nltk_data...\n",
      "[nltk_data]   Package wordnet is already up-to-date!\n"
     ]
    },
    {
     "data": {
      "text/plain": [
       "True"
      ]
     },
     "execution_count": 141,
     "metadata": {},
     "output_type": "execute_result"
    }
   ],
   "source": [
    "import nltk\n",
    "\n",
    "nltk.download('wordnet')"
   ]
  },
  {
   "cell_type": "code",
   "execution_count": 142,
   "id": "f6b44c73",
   "metadata": {},
   "outputs": [],
   "source": [
    "from nltk.stem import WordNetLemmatizer\n",
    "\n",
    "\n",
    "lemmatizer = WordNetLemmatizer()"
   ]
  },
  {
   "cell_type": "code",
   "execution_count": 143,
   "id": "26dbe7ce",
   "metadata": {},
   "outputs": [
    {
     "data": {
      "text/plain": [
       "0                                                    thank\n",
       "1                         wasnt apology one excuse another\n",
       "2        probably children trafficked entertainment ind...\n",
       "3        probably children trafficked entertainment ind...\n",
       "4        epstein group elitists abused power saw girls ...\n",
       "                               ...                        \n",
       "26525    lol dolls creepy saw video past put cold water...\n",
       "26526    blaire beautiful never billboard brand must fi...\n",
       "26527    person sees rug denounce part problem rl thing...\n",
       "26528    girlyes someone tells absolutely believe im se...\n",
       "26529    omg im broke buy fashion like dont read fashio...\n",
       "Name: Comments, Length: 26530, dtype: object"
      ]
     },
     "execution_count": 143,
     "metadata": {},
     "output_type": "execute_result"
    }
   ],
   "source": [
    "# Lemmatize\n",
    "train['Comments'].apply(lambda x: lemmatizer.lemmatize(x))"
   ]
  },
  {
   "cell_type": "code",
   "execution_count": 144,
   "id": "c38153af",
   "metadata": {},
   "outputs": [],
   "source": [
    "# Commit to Table\n",
    "\n",
    "train['Comments'] = train['Comments'].apply(lambda x: lemmatizer.lemmatize(x))"
   ]
  },
  {
   "cell_type": "markdown",
   "id": "59602acd",
   "metadata": {},
   "source": [
    "## 7) POS Tagging"
   ]
  },
  {
   "cell_type": "code",
   "execution_count": 145,
   "id": "3e15103f",
   "metadata": {},
   "outputs": [
    {
     "name": "stderr",
     "output_type": "stream",
     "text": [
      "[nltk_data] Downloading package punkt to\n",
      "[nltk_data]     C:\\Users\\admin\\AppData\\Roaming\\nltk_data...\n",
      "[nltk_data]   Package punkt is already up-to-date!\n",
      "[nltk_data] Downloading package averaged_perceptron_tagger to\n",
      "[nltk_data]     C:\\Users\\admin\\AppData\\Roaming\\nltk_data...\n",
      "[nltk_data]   Package averaged_perceptron_tagger is already up-to-\n",
      "[nltk_data]       date!\n"
     ]
    },
    {
     "data": {
      "text/plain": [
       "True"
      ]
     },
     "execution_count": 145,
     "metadata": {},
     "output_type": "execute_result"
    }
   ],
   "source": [
    "# Download the required NLTK resources\n",
    "nltk.download('punkt')\n",
    "nltk.download('averaged_perceptron_tagger')"
   ]
  },
  {
   "cell_type": "code",
   "execution_count": 146,
   "id": "47608aa8",
   "metadata": {},
   "outputs": [],
   "source": [
    "def pos_tagging(text):\n",
    "    # Tokenize the text into words\n",
    "    tokens = nltk.word_tokenize(text)\n",
    "    # Perform POS tagging\n",
    "    tagged_tokens = nltk.pos_tag(tokens)\n",
    "    # Return the tagged tokens\n",
    "    return tagged_tokens"
   ]
  },
  {
   "cell_type": "code",
   "execution_count": 147,
   "id": "4403faa9",
   "metadata": {},
   "outputs": [],
   "source": [
    "# Apply the POS tagging function to the 'Comments' column\n",
    "train['POS_Tagged'] = train['Comments'].apply(pos_tagging)"
   ]
  },
  {
   "cell_type": "code",
   "execution_count": 148,
   "id": "57c4877f",
   "metadata": {},
   "outputs": [
    {
     "data": {
      "text/plain": [
       "0                                            [(thank, NN)]\n",
       "1        [(wasnt, NN), (apology, NN), (one, CD), (excus...\n",
       "2        [(probably, RB), (children, NNS), (trafficked,...\n",
       "3        [(probably, RB), (children, NNS), (trafficked,...\n",
       "4        [(epstein, NN), (group, NN), (elitists, VBZ), ...\n",
       "                               ...                        \n",
       "26525    [(lol, NN), (dolls, NNS), (creepy, VBP), (saw,...\n",
       "26526    [(blaire, NN), (beautiful, NN), (never, RB), (...\n",
       "26527    [(person, NN), (sees, NNS), (rug, VBP), (denou...\n",
       "26528    [(girlyes, NNS), (someone, NN), (tells, VBZ), ...\n",
       "26529    [(omg, NN), (im, NN), (broke, VBD), (buy, JJ),...\n",
       "Name: POS_Tagged, Length: 26530, dtype: object"
      ]
     },
     "execution_count": 148,
     "metadata": {},
     "output_type": "execute_result"
    }
   ],
   "source": [
    "train['POS_Tagged']"
   ]
  },
  {
   "cell_type": "code",
   "execution_count": null,
   "id": "77e7a73d",
   "metadata": {},
   "outputs": [],
   "source": []
  }
 ],
 "metadata": {
  "kernelspec": {
   "display_name": "Python 3 (ipykernel)",
   "language": "python",
   "name": "python3"
  },
  "language_info": {
   "codemirror_mode": {
    "name": "ipython",
    "version": 3
   },
   "file_extension": ".py",
   "mimetype": "text/x-python",
   "name": "python",
   "nbconvert_exporter": "python",
   "pygments_lexer": "ipython3",
   "version": "3.9.12"
  }
 },
 "nbformat": 4,
 "nbformat_minor": 5
}
