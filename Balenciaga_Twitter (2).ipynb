{
 "cells": [
  {
   "cell_type": "markdown",
   "id": "ec8bb89e",
   "metadata": {},
   "source": [
    "# 1) Standard imports"
   ]
  },
  {
   "cell_type": "code",
   "execution_count": 1,
   "id": "b27b54b9",
   "metadata": {},
   "outputs": [],
   "source": [
    "import numpy as np \n",
    "import pandas as pd \n",
    "import re\n",
    "import urlextract\n",
    "import xlrd\n",
    "\n",
    "\n",
    "# For Preprocesssing Text Data\n",
    "\n",
    "\n",
    "from nltk import word_tokenize, pos_tag\n",
    "from nltk.stem import WordNetLemmatizer\n",
    "from nltk.corpus import stopwords\n",
    "pd.set_option('display.max_colwidth', 1000)\n",
    "\n",
    "\n",
    "\n",
    "\n",
    "# Check Performance\n",
    "from sklearn.metrics import classification_report"
   ]
  },
  {
   "cell_type": "markdown",
   "id": "12ec7dfd",
   "metadata": {},
   "source": [
    "# 2)Importing Data"
   ]
  },
  {
   "cell_type": "code",
   "execution_count": 2,
   "id": "c35b30ef",
   "metadata": {},
   "outputs": [],
   "source": [
    "train = pd.read_excel(r\"Twitter_Balenciaga.xlsx\")"
   ]
  },
  {
   "cell_type": "code",
   "execution_count": 3,
   "id": "0aa49484",
   "metadata": {},
   "outputs": [
    {
     "data": {
      "text/html": [
       "<div>\n",
       "<style scoped>\n",
       "    .dataframe tbody tr th:only-of-type {\n",
       "        vertical-align: middle;\n",
       "    }\n",
       "\n",
       "    .dataframe tbody tr th {\n",
       "        vertical-align: top;\n",
       "    }\n",
       "\n",
       "    .dataframe thead th {\n",
       "        text-align: right;\n",
       "    }\n",
       "</style>\n",
       "<table border=\"1\" class=\"dataframe\">\n",
       "  <thead>\n",
       "    <tr style=\"text-align: right;\">\n",
       "      <th></th>\n",
       "      <th>id</th>\n",
       "      <th>content</th>\n",
       "      <th>date</th>\n",
       "    </tr>\n",
       "  </thead>\n",
       "  <tbody>\n",
       "    <tr>\n",
       "      <th>0</th>\n",
       "      <td>1.620207e+18</td>\n",
       "      <td>Latest Podcast is out now! - Balenciaga Is Run By Satanists | JUST THINK #5 https://t.co/AsIzLXynLn via @YouTube | #Balenciagapedos #Balenciaga #satan #satanist #SATANIC #pedophelia #podcastshow #podcast #podcastlife #PodcastAndChill #podcaster #podcasting #lucifer #luciferian #h</td>\n",
       "      <td>2023-01-30 23:46:10+00:00</td>\n",
       "    </tr>\n",
       "    <tr>\n",
       "      <th>1</th>\n",
       "      <td>1.620206e+18</td>\n",
       "      <td>Over 500 brands including #Gucci, #OffWhite, #Balenciaga, #MaisonMargiela, #MarineSerre, #SaintLaurent #fashion and many more https://t.co/gRmQa9ahMX https://t.co/7TMOC7LXRP</td>\n",
       "      <td>2023-01-30 23:44:31+00:00</td>\n",
       "    </tr>\n",
       "    <tr>\n",
       "      <th>2</th>\n",
       "      <td>1.620204e+18</td>\n",
       "      <td>So good I had to share! Check out all the items I'm loving on @Poshmarkapp #poshmark #fashion #style #shopmycloset #balenciaga #variety #stevemadden: https://t.co/C6QmuJvQSc https://t.co/08QcAOwm2C</td>\n",
       "      <td>2023-01-30 23:33:43+00:00</td>\n",
       "    </tr>\n",
       "    <tr>\n",
       "      <th>3</th>\n",
       "      <td>1.620151e+18</td>\n",
       "      <td>@SKKN NOTHING! We don't support pedos and those who support child abuse and exploitation. #balenciaga #cancelkimkardashian #cancelskims ðŸ’©ðŸ¤®ðŸ’©ðŸ¤®ðŸ’©ðŸ¤®</td>\n",
       "      <td>2023-01-30 20:04:35+00:00</td>\n",
       "    </tr>\n",
       "    <tr>\n",
       "      <th>4</th>\n",
       "      <td>1.620142e+18</td>\n",
       "      <td>So good I had to share! Check out all the items I'm loving on @Poshmarkapp #poshmark #fashion #style #shopmycloset #madewell #balenciaga #kaileigh: https://t.co/H1v5xqQaEo https://t.co/r3oAOFBei4</td>\n",
       "      <td>2023-01-30 19:30:19+00:00</td>\n",
       "    </tr>\n",
       "    <tr>\n",
       "      <th>5</th>\n",
       "      <td>1.620133e+18</td>\n",
       "      <td>WTF? Why is this happening??? #Balenciaga https://t.co/tJLYkONwP2</td>\n",
       "      <td>2023-01-30 18:51:52+00:00</td>\n",
       "    </tr>\n",
       "    <tr>\n",
       "      <th>6</th>\n",
       "      <td>1.620127e+18</td>\n",
       "      <td>So good I had to share! Check out all the items I'm loving on @Poshmarkapp from @kmullen1019 #poshmark #fashion #style #shopmycloset #balenciaga #freepeople #dannynicole: https://t.co/kBUmpEcdc4 https://t.co/p3n0TDQp5Y</td>\n",
       "      <td>2023-01-30 18:29:23+00:00</td>\n",
       "    </tr>\n",
       "    <tr>\n",
       "      <th>7</th>\n",
       "      <td>1.620118e+18</td>\n",
       "      <td>LETS TALK ABOUT BALENCIAGA ðŸ’€ #shorts #makeup #balenciaga https://t.co/mlTDFCx0Z3 via @YouTube</td>\n",
       "      <td>2023-01-30 17:51:43+00:00</td>\n",
       "    </tr>\n",
       "    <tr>\n",
       "      <th>8</th>\n",
       "      <td>1.620117e+18</td>\n",
       "      <td>Sadly it's much bigger than  #Balenciaga #BalenciagaGate gotta start somewhere</td>\n",
       "      <td>2023-01-30 17:48:02+00:00</td>\n",
       "    </tr>\n",
       "    <tr>\n",
       "      <th>9</th>\n",
       "      <td>1.620115e+18</td>\n",
       "      <td>@skims All the bot replies should tell you something....we don't support pedos and the abuse of children. You dress your OWN CHILD in a GIMP mask and call it fashion. You're sick and satanic. #balenciaga #cancelskims #cancelkimkardashian ðŸ¤®ðŸ¤®ðŸ¤®ðŸ¤®ð</td>\n",
       "      <td>2023-01-30 17:42:35+00:00</td>\n",
       "    </tr>\n",
       "    <tr>\n",
       "      <th>10</th>\n",
       "      <td>1.620112e+18</td>\n",
       "      <td>So good I had to share! Check out all the items I'm loving on @Poshmarkapp from @Ksena116 #poshmark #fashion #style #shopmycloset #eloquii #freepeople #balenciaga: https://t.co/k0jUwQZraI https://t.co/3JkET2Xhoc</td>\n",
       "      <td>2023-01-30 17:30:46+00:00</td>\n",
       "    </tr>\n",
       "    <tr>\n",
       "      <th>11</th>\n",
       "      <td>1.620112e+18</td>\n",
       "      <td>So good I had to share! Check out all the items I'm loving on @Poshmarkapp #poshmark #fashion #style #shopmycloset #balenciaga #francescascollections #anthropologie: https://t.co/5kdlZB1R7B https://t.co/aDBivrcQCK</td>\n",
       "      <td>2023-01-30 17:29:00+00:00</td>\n",
       "    </tr>\n",
       "    <tr>\n",
       "      <th>12</th>\n",
       "      <td>1.620103e+18</td>\n",
       "      <td>@Xx17965797N Sam Smith is disgusting. Ask him about #Balenciaga ðŸ‘€</td>\n",
       "      <td>2023-01-30 16:54:11+00:00</td>\n",
       "    </tr>\n",
       "    <tr>\n",
       "      <th>13</th>\n",
       "      <td>1.620097e+18</td>\n",
       "      <td>So good I had to share! Check out all the items I'm loving on @Poshmarkapp #poshmark #fashion #style #shopmycloset #cablegauge #balenciaga #levis: https://t.co/Whdx1MwOQs https://t.co/a39MBTiqmO</td>\n",
       "      <td>2023-01-30 16:31:18+00:00</td>\n",
       "    </tr>\n",
       "    <tr>\n",
       "      <th>14</th>\n",
       "      <td>1.620097e+18</td>\n",
       "      <td>So good I had to share! Check out all the items I'm loving on @Poshmarkapp from @MarilynSend1 #poshmark #fashion #style #shopmycloset #gbygiuliana #balenciaga #oneteaspoon: https://t.co/75NFkxcQ4L https://t.co/lMx9JAE6Iv</td>\n",
       "      <td>2023-01-30 16:31:00+00:00</td>\n",
       "    </tr>\n",
       "  </tbody>\n",
       "</table>\n",
       "</div>"
      ],
      "text/plain": [
       "              id  \\\n",
       "0   1.620207e+18   \n",
       "1   1.620206e+18   \n",
       "2   1.620204e+18   \n",
       "3   1.620151e+18   \n",
       "4   1.620142e+18   \n",
       "5   1.620133e+18   \n",
       "6   1.620127e+18   \n",
       "7   1.620118e+18   \n",
       "8   1.620117e+18   \n",
       "9   1.620115e+18   \n",
       "10  1.620112e+18   \n",
       "11  1.620112e+18   \n",
       "12  1.620103e+18   \n",
       "13  1.620097e+18   \n",
       "14  1.620097e+18   \n",
       "\n",
       "                                                                                                                                                                                                                                                                                     content  \\\n",
       "0   Latest Podcast is out now! - Balenciaga Is Run By Satanists | JUST THINK #5 https://t.co/AsIzLXynLn via @YouTube | #Balenciagapedos #Balenciaga #satan #satanist #SATANIC #pedophelia #podcastshow #podcast #podcastlife #PodcastAndChill #podcaster #podcasting #lucifer #luciferian #h   \n",
       "1                                                                                                              Over 500 brands including #Gucci, #OffWhite, #Balenciaga, #MaisonMargiela, #MarineSerre, #SaintLaurent #fashion and many more https://t.co/gRmQa9ahMX https://t.co/7TMOC7LXRP   \n",
       "2                                                                                      So good I had to share! Check out all the items I'm loving on @Poshmarkapp #poshmark #fashion #style #shopmycloset #balenciaga #variety #stevemadden: https://t.co/C6QmuJvQSc https://t.co/08QcAOwm2C   \n",
       "3                                                                                                                           @SKKN NOTHING! We don't support pedos and those who support child abuse and exploitation. #balenciaga #cancelkimkardashian #cancelskims ðŸ’©ðŸ¤®ðŸ’©ðŸ¤®ðŸ’©ðŸ¤®   \n",
       "4                                                                                        So good I had to share! Check out all the items I'm loving on @Poshmarkapp #poshmark #fashion #style #shopmycloset #madewell #balenciaga #kaileigh: https://t.co/H1v5xqQaEo https://t.co/r3oAOFBei4   \n",
       "5                                                                                                                                                                                                                          WTF? Why is this happening??? #Balenciaga https://t.co/tJLYkONwP2   \n",
       "6                                                                 So good I had to share! Check out all the items I'm loving on @Poshmarkapp from @kmullen1019 #poshmark #fashion #style #shopmycloset #balenciaga #freepeople #dannynicole: https://t.co/kBUmpEcdc4 https://t.co/p3n0TDQp5Y   \n",
       "7                                                                                                                                                                                           LETS TALK ABOUT BALENCIAGA ðŸ’€ #shorts #makeup #balenciaga https://t.co/mlTDFCx0Z3 via @YouTube   \n",
       "8                                                                                                                                                                                                             Sadly it's much bigger than  #Balenciaga #BalenciagaGate gotta start somewhere   \n",
       "9                            @skims All the bot replies should tell you something....we don't support pedos and the abuse of children. You dress your OWN CHILD in a GIMP mask and call it fashion. You're sick and satanic. #balenciaga #cancelskims #cancelkimkardashian ðŸ¤®ðŸ¤®ðŸ¤®ðŸ¤®ð   \n",
       "10                                                                       So good I had to share! Check out all the items I'm loving on @Poshmarkapp from @Ksena116 #poshmark #fashion #style #shopmycloset #eloquii #freepeople #balenciaga: https://t.co/k0jUwQZraI https://t.co/3JkET2Xhoc   \n",
       "11                                                                     So good I had to share! Check out all the items I'm loving on @Poshmarkapp #poshmark #fashion #style #shopmycloset #balenciaga #francescascollections #anthropologie: https://t.co/5kdlZB1R7B https://t.co/aDBivrcQCK   \n",
       "12                                                                                                                                                                                                                      @Xx17965797N Sam Smith is disgusting. Ask him about #Balenciaga ðŸ‘€   \n",
       "13                                                                                        So good I had to share! Check out all the items I'm loving on @Poshmarkapp #poshmark #fashion #style #shopmycloset #cablegauge #balenciaga #levis: https://t.co/Whdx1MwOQs https://t.co/a39MBTiqmO   \n",
       "14                                                              So good I had to share! Check out all the items I'm loving on @Poshmarkapp from @MarilynSend1 #poshmark #fashion #style #shopmycloset #gbygiuliana #balenciaga #oneteaspoon: https://t.co/75NFkxcQ4L https://t.co/lMx9JAE6Iv   \n",
       "\n",
       "                         date  \n",
       "0   2023-01-30 23:46:10+00:00  \n",
       "1   2023-01-30 23:44:31+00:00  \n",
       "2   2023-01-30 23:33:43+00:00  \n",
       "3   2023-01-30 20:04:35+00:00  \n",
       "4   2023-01-30 19:30:19+00:00  \n",
       "5   2023-01-30 18:51:52+00:00  \n",
       "6   2023-01-30 18:29:23+00:00  \n",
       "7   2023-01-30 17:51:43+00:00  \n",
       "8   2023-01-30 17:48:02+00:00  \n",
       "9   2023-01-30 17:42:35+00:00  \n",
       "10  2023-01-30 17:30:46+00:00  \n",
       "11  2023-01-30 17:29:00+00:00  \n",
       "12  2023-01-30 16:54:11+00:00  \n",
       "13  2023-01-30 16:31:18+00:00  \n",
       "14  2023-01-30 16:31:00+00:00  "
      ]
     },
     "execution_count": 3,
     "metadata": {},
     "output_type": "execute_result"
    }
   ],
   "source": [
    "train.head(15)"
   ]
  },
  {
   "cell_type": "code",
   "execution_count": 4,
   "id": "1bedf65c",
   "metadata": {},
   "outputs": [
    {
     "data": {
      "text/plain": [
       "29161"
      ]
     },
     "execution_count": 4,
     "metadata": {},
     "output_type": "execute_result"
    }
   ],
   "source": [
    "train.shape[0]"
   ]
  },
  {
   "cell_type": "code",
   "execution_count": 5,
   "id": "8af60fe9",
   "metadata": {},
   "outputs": [],
   "source": [
    "##Replace 'content' column to 'Comments'\n",
    "\n",
    "train.rename(columns = {'content':'Comments'}, inplace = True)"
   ]
  },
  {
   "cell_type": "code",
   "execution_count": 6,
   "id": "d62d9626",
   "metadata": {},
   "outputs": [
    {
     "data": {
      "text/plain": [
       "Index(['id', 'Comments', 'date'], dtype='object')"
      ]
     },
     "execution_count": 6,
     "metadata": {},
     "output_type": "execute_result"
    }
   ],
   "source": [
    "train.columns"
   ]
  },
  {
   "cell_type": "markdown",
   "id": "bfec5d27",
   "metadata": {},
   "source": [
    "# 3)Comments - Descriptive Stats"
   ]
  },
  {
   "cell_type": "code",
   "execution_count": 7,
   "id": "27f25fc9",
   "metadata": {},
   "outputs": [
    {
     "data": {
      "text/plain": [
       "id          0\n",
       "Comments    0\n",
       "date        0\n",
       "dtype: int64"
      ]
     },
     "execution_count": 7,
     "metadata": {},
     "output_type": "execute_result"
    }
   ],
   "source": [
    "train.isna().sum()"
   ]
  },
  {
   "cell_type": "code",
   "execution_count": 8,
   "id": "45ed3160",
   "metadata": {},
   "outputs": [
    {
     "name": "stdout",
     "output_type": "stream",
     "text": [
      "Empty DataFrame\n",
      "Columns: [id, Comments, date]\n",
      "Index: []\n"
     ]
    }
   ],
   "source": [
    "# Null rows detection\n",
    "\n",
    "null_rows = train[train['Comments'].isnull()]\n",
    "\n",
    "print(null_rows)"
   ]
  },
  {
   "cell_type": "code",
   "execution_count": 9,
   "id": "545e73f4",
   "metadata": {},
   "outputs": [],
   "source": [
    "train['Comments'] = train['Comments'].astype(str)"
   ]
  },
  {
   "cell_type": "code",
   "execution_count": 10,
   "id": "c6fb0160",
   "metadata": {},
   "outputs": [],
   "source": [
    "### Create Length Feature\n",
    "\n",
    "train['text_length'] = train['Comments'].apply(lambda x : len(x))"
   ]
  },
  {
   "cell_type": "code",
   "execution_count": 11,
   "id": "2e1afcd0",
   "metadata": {},
   "outputs": [
    {
     "data": {
      "text/plain": [
       "<AxesSubplot:ylabel='Frequency'>"
      ]
     },
     "execution_count": 11,
     "metadata": {},
     "output_type": "execute_result"
    },
    {
     "data": {
      "image/png": "[encoded data removed]",
      "text/plain": [
       "<Figure size 432x288 with 1 Axes>"
      ]
     },
     "metadata": {
      "needs_background": "light"
     },
     "output_type": "display_data"
    }
   ],
   "source": [
    "train['text_length'].plot.hist(bins = 10)"
   ]
  },
  {
   "cell_type": "markdown",
   "id": "b6ad76db",
   "metadata": {},
   "source": [
    "# 4) Cleaning - URL & Punctuation Removal"
   ]
  },
  {
   "cell_type": "code",
   "execution_count": 12,
   "id": "83374033",
   "metadata": {},
   "outputs": [],
   "source": [
    "# URLs removal and extra spaces too\n",
    "\n",
    "train['Comments'] = train['Comments'].apply(lambda x: re.sub(r'https?\\S+', '', x).strip())"
   ]
  },
  {
   "cell_type": "code",
   "execution_count": 13,
   "id": "ef23eadf",
   "metadata": {},
   "outputs": [
    {
     "data": {
      "text/html": [
       "<div>\n",
       "<style scoped>\n",
       "    .dataframe tbody tr th:only-of-type {\n",
       "        vertical-align: middle;\n",
       "    }\n",
       "\n",
       "    .dataframe tbody tr th {\n",
       "        vertical-align: top;\n",
       "    }\n",
       "\n",
       "    .dataframe thead th {\n",
       "        text-align: right;\n",
       "    }\n",
       "</style>\n",
       "<table border=\"1\" class=\"dataframe\">\n",
       "  <thead>\n",
       "    <tr style=\"text-align: right;\">\n",
       "      <th></th>\n",
       "      <th>id</th>\n",
       "      <th>Comments</th>\n",
       "      <th>date</th>\n",
       "      <th>text_length</th>\n",
       "    </tr>\n",
       "  </thead>\n",
       "  <tbody>\n",
       "    <tr>\n",
       "      <th>0</th>\n",
       "      <td>1.620207e+18</td>\n",
       "      <td>Latest Podcast is out now! - Balenciaga Is Run By Satanists | JUST THINK #5  via @YouTube | #Balenciagapedos #Balenciaga #satan #satanist #SATANIC #pedophelia #podcastshow #podcast #podcastlife #PodcastAndChill #podcaster #podcasting #lucifer #luciferian #h</td>\n",
       "      <td>2023-01-30 23:46:10+00:00</td>\n",
       "      <td>280</td>\n",
       "    </tr>\n",
       "    <tr>\n",
       "      <th>1</th>\n",
       "      <td>1.620206e+18</td>\n",
       "      <td>Over 500 brands including #Gucci, #OffWhite, #Balenciaga, #MaisonMargiela, #MarineSerre, #SaintLaurent #fashion and many more</td>\n",
       "      <td>2023-01-30 23:44:31+00:00</td>\n",
       "      <td>173</td>\n",
       "    </tr>\n",
       "    <tr>\n",
       "      <th>2</th>\n",
       "      <td>1.620204e+18</td>\n",
       "      <td>So good I had to share! Check out all the items I'm loving on @Poshmarkapp #poshmark #fashion #style #shopmycloset #balenciaga #variety #stevemadden:</td>\n",
       "      <td>2023-01-30 23:33:43+00:00</td>\n",
       "      <td>197</td>\n",
       "    </tr>\n",
       "    <tr>\n",
       "      <th>3</th>\n",
       "      <td>1.620151e+18</td>\n",
       "      <td>@SKKN NOTHING! We don't support pedos and those who support child abuse and exploitation. #balenciaga #cancelkimkardashian #cancelskims ðŸ’©ðŸ¤®ðŸ’©ðŸ¤®ðŸ’©ðŸ¤®</td>\n",
       "      <td>2023-01-30 20:04:35+00:00</td>\n",
       "      <td>160</td>\n",
       "    </tr>\n",
       "    <tr>\n",
       "      <th>4</th>\n",
       "      <td>1.620142e+18</td>\n",
       "      <td>So good I had to share! Check out all the items I'm loving on @Poshmarkapp #poshmark #fashion #style #shopmycloset #madewell #balenciaga #kaileigh:</td>\n",
       "      <td>2023-01-30 19:30:19+00:00</td>\n",
       "      <td>195</td>\n",
       "    </tr>\n",
       "    <tr>\n",
       "      <th>5</th>\n",
       "      <td>1.620133e+18</td>\n",
       "      <td>WTF? Why is this happening??? #Balenciaga</td>\n",
       "      <td>2023-01-30 18:51:52+00:00</td>\n",
       "      <td>65</td>\n",
       "    </tr>\n",
       "    <tr>\n",
       "      <th>6</th>\n",
       "      <td>1.620127e+18</td>\n",
       "      <td>So good I had to share! Check out all the items I'm loving on @Poshmarkapp from @kmullen1019 #poshmark #fashion #style #shopmycloset #balenciaga #freepeople #dannynicole:</td>\n",
       "      <td>2023-01-30 18:29:23+00:00</td>\n",
       "      <td>218</td>\n",
       "    </tr>\n",
       "    <tr>\n",
       "      <th>7</th>\n",
       "      <td>1.620118e+18</td>\n",
       "      <td>LETS TALK ABOUT BALENCIAGA ðŸ’€ #shorts #makeup #balenciaga  via @YouTube</td>\n",
       "      <td>2023-01-30 17:51:43+00:00</td>\n",
       "      <td>96</td>\n",
       "    </tr>\n",
       "    <tr>\n",
       "      <th>8</th>\n",
       "      <td>1.620117e+18</td>\n",
       "      <td>Sadly it's much bigger than  #Balenciaga #BalenciagaGate gotta start somewhere</td>\n",
       "      <td>2023-01-30 17:48:02+00:00</td>\n",
       "      <td>78</td>\n",
       "    </tr>\n",
       "    <tr>\n",
       "      <th>9</th>\n",
       "      <td>1.620115e+18</td>\n",
       "      <td>@skims All the bot replies should tell you something....we don't support pedos and the abuse of children. You dress your OWN CHILD in a GIMP mask and call it fashion. You're sick and satanic. #balenciaga #cancelskims #cancelkimkardashian ðŸ¤®ðŸ¤®ðŸ¤®ðŸ¤®ð</td>\n",
       "      <td>2023-01-30 17:42:35+00:00</td>\n",
       "      <td>255</td>\n",
       "    </tr>\n",
       "  </tbody>\n",
       "</table>\n",
       "</div>"
      ],
      "text/plain": [
       "             id  \\\n",
       "0  1.620207e+18   \n",
       "1  1.620206e+18   \n",
       "2  1.620204e+18   \n",
       "3  1.620151e+18   \n",
       "4  1.620142e+18   \n",
       "5  1.620133e+18   \n",
       "6  1.620127e+18   \n",
       "7  1.620118e+18   \n",
       "8  1.620117e+18   \n",
       "9  1.620115e+18   \n",
       "\n",
       "                                                                                                                                                                                                                                                            Comments  \\\n",
       "0  Latest Podcast is out now! - Balenciaga Is Run By Satanists | JUST THINK #5  via @YouTube | #Balenciagapedos #Balenciaga #satan #satanist #SATANIC #pedophelia #podcastshow #podcast #podcastlife #PodcastAndChill #podcaster #podcasting #lucifer #luciferian #h   \n",
       "1                                                                                                                                      Over 500 brands including #Gucci, #OffWhite, #Balenciaga, #MaisonMargiela, #MarineSerre, #SaintLaurent #fashion and many more   \n",
       "2                                                                                                              So good I had to share! Check out all the items I'm loving on @Poshmarkapp #poshmark #fashion #style #shopmycloset #balenciaga #variety #stevemadden:   \n",
       "3                                                                                                   @SKKN NOTHING! We don't support pedos and those who support child abuse and exploitation. #balenciaga #cancelkimkardashian #cancelskims ðŸ’©ðŸ¤®ðŸ’©ðŸ¤®ðŸ’©ðŸ¤®   \n",
       "4                                                                                                                So good I had to share! Check out all the items I'm loving on @Poshmarkapp #poshmark #fashion #style #shopmycloset #madewell #balenciaga #kaileigh:   \n",
       "5                                                                                                                                                                                                                          WTF? Why is this happening??? #Balenciaga   \n",
       "6                                                                                         So good I had to share! Check out all the items I'm loving on @Poshmarkapp from @kmullen1019 #poshmark #fashion #style #shopmycloset #balenciaga #freepeople #dannynicole:   \n",
       "7                                                                                                                                                                                          LETS TALK ABOUT BALENCIAGA ðŸ’€ #shorts #makeup #balenciaga  via @YouTube   \n",
       "8                                                                                                                                                                                     Sadly it's much bigger than  #Balenciaga #BalenciagaGate gotta start somewhere   \n",
       "9    @skims All the bot replies should tell you something....we don't support pedos and the abuse of children. You dress your OWN CHILD in a GIMP mask and call it fashion. You're sick and satanic. #balenciaga #cancelskims #cancelkimkardashian ðŸ¤®ðŸ¤®ðŸ¤®ðŸ¤®ð   \n",
       "\n",
       "                        date  text_length  \n",
       "0  2023-01-30 23:46:10+00:00          280  \n",
       "1  2023-01-30 23:44:31+00:00          173  \n",
       "2  2023-01-30 23:33:43+00:00          197  \n",
       "3  2023-01-30 20:04:35+00:00          160  \n",
       "4  2023-01-30 19:30:19+00:00          195  \n",
       "5  2023-01-30 18:51:52+00:00           65  \n",
       "6  2023-01-30 18:29:23+00:00          218  \n",
       "7  2023-01-30 17:51:43+00:00           96  \n",
       "8  2023-01-30 17:48:02+00:00           78  \n",
       "9  2023-01-30 17:42:35+00:00          255  "
      ]
     },
     "execution_count": 13,
     "metadata": {},
     "output_type": "execute_result"
    }
   ],
   "source": [
    "train.head(10)"
   ]
  },
  {
   "cell_type": "code",
   "execution_count": 14,
   "id": "262bfbb6",
   "metadata": {},
   "outputs": [],
   "source": [
    "##Remove punctuation\n",
    "\n",
    "import string\n",
    "def remove_punctuations(text):\n",
    "    for punctuation in string.punctuation:\n",
    "        text = text.replace(punctuation, '')\n",
    "    return text"
   ]
  },
  {
   "cell_type": "code",
   "execution_count": 15,
   "id": "ddc025de",
   "metadata": {},
   "outputs": [
    {
     "data": {
      "text/plain": [
       "0                                                    Latest Podcast is out now  Balenciaga Is Run By Satanists  JUST THINK 5  via YouTube  Balenciagapedos Balenciaga satan satanist SATANIC pedophelia podcastshow podcast podcastlife PodcastAndChill podcaster podcasting lucifer luciferian h\n",
       "1                                                                                                                                                                               Over 500 brands including Gucci OffWhite Balenciaga MaisonMargiela MarineSerre SaintLaurent fashion and many more\n",
       "2                                                                                                                                                      So good I had to share Check out all the items Im loving on Poshmarkapp poshmark fashion style shopmycloset balenciaga variety stevemadden\n",
       "3                                                                                                                                       SKKN NOTHING We dont support pedos and those who support child abuse and exploitation balenciaga cancelkimkardashian cancelskims ðŸ’©ðŸ¤®ðŸ’©ðŸ¤®ðŸ’©ðŸ¤®\n",
       "4                                                                                                                                                        So good I had to share Check out all the items Im loving on Poshmarkapp poshmark fashion style shopmycloset madewell balenciaga kaileigh\n",
       "                                                                                                                                                   ...                                                                                                                                           \n",
       "29156    Nah itâ€™s past all that They need to be cancelled and out of business asap Theyâ€™ll apologize and blame some random employee for it yet theyâ€™ll continue to add hidden messages in their ads because they can and thatâ€™s how theyâ€™ve continued to be successful CancelBalenciaga\n",
       "29157                                                                                                                                                                                                                             itsnatlydenise It getting worse than i thought CancelBalenciaga\n",
       "29158                                                                                                                                                                                                               itsnatlydenise Think we should start trending FuckBalenciaga CancelBalenciaga\n",
       "29159                                                                                                                                                                                                                                Sick to my stomach byebalenciaga Balenciaga CancelBalenciaga\n",
       "29160                                                                                                                                                                                                                           They deleted everything We donâ€™t do pedophiles CancelBalenciaga\n",
       "Name: Comments, Length: 29161, dtype: object"
      ]
     },
     "execution_count": 15,
     "metadata": {},
     "output_type": "execute_result"
    }
   ],
   "source": [
    "train['Comments'].apply(remove_punctuations)"
   ]
  },
  {
   "cell_type": "code",
   "execution_count": 16,
   "id": "6bfb9ceb",
   "metadata": {},
   "outputs": [],
   "source": [
    "# Commit to Table\n",
    "train['Comments'] = train['Comments'].apply(remove_punctuations)"
   ]
  },
  {
   "cell_type": "code",
   "execution_count": 17,
   "id": "dfa1abb8",
   "metadata": {},
   "outputs": [
    {
     "data": {
      "text/plain": [
       "<AxesSubplot:ylabel='Frequency'>"
      ]
     },
     "execution_count": 17,
     "metadata": {},
     "output_type": "execute_result"
    },
    {
     "data": {
      "image/png": "[encoded data removed]",
      "text/plain": [
       "<Figure size 432x288 with 1 Axes>"
      ]
     },
     "metadata": {
      "needs_background": "light"
     },
     "output_type": "display_data"
    }
   ],
   "source": [
    "train['text_length'].plot.hist(bins = 10)"
   ]
  },
  {
   "cell_type": "markdown",
   "id": "5d436a6a",
   "metadata": {},
   "source": [
    "# 4) Cleaning - lower case"
   ]
  },
  {
   "cell_type": "code",
   "execution_count": 18,
   "id": "bfd3967c",
   "metadata": {},
   "outputs": [
    {
     "data": {
      "text/plain": [
       "0                                                    latest podcast is out now  balenciaga is run by satanists  just think 5  via youtube  balenciagapedos balenciaga satan satanist satanic pedophelia podcastshow podcast podcastlife podcastandchill podcaster podcasting lucifer luciferian h\n",
       "1                                                                                                                                                                               over 500 brands including gucci offwhite balenciaga maisonmargiela marineserre saintlaurent fashion and many more\n",
       "2                                                                                                                                                      so good i had to share check out all the items im loving on poshmarkapp poshmark fashion style shopmycloset balenciaga variety stevemadden\n",
       "3                                                                                                                                       skkn nothing we dont support pedos and those who support child abuse and exploitation balenciaga cancelkimkardashian cancelskims ðÿ’©ðÿ¤®ðÿ’©ðÿ¤®ðÿ’©ðÿ¤®\n",
       "4                                                                                                                                                        so good i had to share check out all the items im loving on poshmarkapp poshmark fashion style shopmycloset madewell balenciaga kaileigh\n",
       "                                                                                                                                                   ...                                                                                                                                           \n",
       "29156    nah itâ€™s past all that they need to be cancelled and out of business asap theyâ€™ll apologize and blame some random employee for it yet theyâ€™ll continue to add hidden messages in their ads because they can and thatâ€™s how theyâ€™ve continued to be successful cancelbalenciaga\n",
       "29157                                                                                                                                                                                                                             itsnatlydenise it getting worse than i thought cancelbalenciaga\n",
       "29158                                                                                                                                                                                                               itsnatlydenise think we should start trending fuckbalenciaga cancelbalenciaga\n",
       "29159                                                                                                                                                                                                                                sick to my stomach byebalenciaga balenciaga cancelbalenciaga\n",
       "29160                                                                                                                                                                                                                           they deleted everything we donâ€™t do pedophiles cancelbalenciaga\n",
       "Name: Comments, Length: 29161, dtype: object"
      ]
     },
     "execution_count": 18,
     "metadata": {},
     "output_type": "execute_result"
    }
   ],
   "source": [
    "# Showing only\n",
    "train['Comments'].apply(lambda x: x.lower())"
   ]
  },
  {
   "cell_type": "code",
   "execution_count": 19,
   "id": "824437e0",
   "metadata": {},
   "outputs": [],
   "source": [
    "# Commit to Table\n",
    "train['Comments'] = train['Comments'].apply(lambda x: x.lower())"
   ]
  },
  {
   "cell_type": "code",
   "execution_count": 20,
   "id": "fe5c7626",
   "metadata": {},
   "outputs": [
    {
     "data": {
      "text/html": [
       "<div>\n",
       "<style scoped>\n",
       "    .dataframe tbody tr th:only-of-type {\n",
       "        vertical-align: middle;\n",
       "    }\n",
       "\n",
       "    .dataframe tbody tr th {\n",
       "        vertical-align: top;\n",
       "    }\n",
       "\n",
       "    .dataframe thead th {\n",
       "        text-align: right;\n",
       "    }\n",
       "</style>\n",
       "<table border=\"1\" class=\"dataframe\">\n",
       "  <thead>\n",
       "    <tr style=\"text-align: right;\">\n",
       "      <th></th>\n",
       "      <th>id</th>\n",
       "      <th>Comments</th>\n",
       "      <th>date</th>\n",
       "      <th>text_length</th>\n",
       "    </tr>\n",
       "  </thead>\n",
       "  <tbody>\n",
       "    <tr>\n",
       "      <th>0</th>\n",
       "      <td>1.620207e+18</td>\n",
       "      <td>latest podcast is out now  balenciaga is run by satanists  just think 5  via youtube  balenciagapedos balenciaga satan satanist satanic pedophelia podcastshow podcast podcastlife podcastandchill podcaster podcasting lucifer luciferian h</td>\n",
       "      <td>2023-01-30 23:46:10+00:00</td>\n",
       "      <td>280</td>\n",
       "    </tr>\n",
       "    <tr>\n",
       "      <th>1</th>\n",
       "      <td>1.620206e+18</td>\n",
       "      <td>over 500 brands including gucci offwhite balenciaga maisonmargiela marineserre saintlaurent fashion and many more</td>\n",
       "      <td>2023-01-30 23:44:31+00:00</td>\n",
       "      <td>173</td>\n",
       "    </tr>\n",
       "    <tr>\n",
       "      <th>2</th>\n",
       "      <td>1.620204e+18</td>\n",
       "      <td>so good i had to share check out all the items im loving on poshmarkapp poshmark fashion style shopmycloset balenciaga variety stevemadden</td>\n",
       "      <td>2023-01-30 23:33:43+00:00</td>\n",
       "      <td>197</td>\n",
       "    </tr>\n",
       "    <tr>\n",
       "      <th>3</th>\n",
       "      <td>1.620151e+18</td>\n",
       "      <td>skkn nothing we dont support pedos and those who support child abuse and exploitation balenciaga cancelkimkardashian cancelskims ðÿ’©ðÿ¤®ðÿ’©ðÿ¤®ðÿ’©ðÿ¤®</td>\n",
       "      <td>2023-01-30 20:04:35+00:00</td>\n",
       "      <td>160</td>\n",
       "    </tr>\n",
       "    <tr>\n",
       "      <th>4</th>\n",
       "      <td>1.620142e+18</td>\n",
       "      <td>so good i had to share check out all the items im loving on poshmarkapp poshmark fashion style shopmycloset madewell balenciaga kaileigh</td>\n",
       "      <td>2023-01-30 19:30:19+00:00</td>\n",
       "      <td>195</td>\n",
       "    </tr>\n",
       "    <tr>\n",
       "      <th>5</th>\n",
       "      <td>1.620133e+18</td>\n",
       "      <td>wtf why is this happening balenciaga</td>\n",
       "      <td>2023-01-30 18:51:52+00:00</td>\n",
       "      <td>65</td>\n",
       "    </tr>\n",
       "    <tr>\n",
       "      <th>6</th>\n",
       "      <td>1.620127e+18</td>\n",
       "      <td>so good i had to share check out all the items im loving on poshmarkapp from kmullen1019 poshmark fashion style shopmycloset balenciaga freepeople dannynicole</td>\n",
       "      <td>2023-01-30 18:29:23+00:00</td>\n",
       "      <td>218</td>\n",
       "    </tr>\n",
       "    <tr>\n",
       "      <th>7</th>\n",
       "      <td>1.620118e+18</td>\n",
       "      <td>lets talk about balenciaga ðÿ’€ shorts makeup balenciaga  via youtube</td>\n",
       "      <td>2023-01-30 17:51:43+00:00</td>\n",
       "      <td>96</td>\n",
       "    </tr>\n",
       "    <tr>\n",
       "      <th>8</th>\n",
       "      <td>1.620117e+18</td>\n",
       "      <td>sadly its much bigger than  balenciaga balenciagagate gotta start somewhere</td>\n",
       "      <td>2023-01-30 17:48:02+00:00</td>\n",
       "      <td>78</td>\n",
       "    </tr>\n",
       "    <tr>\n",
       "      <th>9</th>\n",
       "      <td>1.620115e+18</td>\n",
       "      <td>skims all the bot replies should tell you somethingwe dont support pedos and the abuse of children you dress your own child in a gimp mask and call it fashion youre sick and satanic balenciaga cancelskims cancelkimkardashian ðÿ¤®ðÿ¤®ðÿ¤®ðÿ¤®ð</td>\n",
       "      <td>2023-01-30 17:42:35+00:00</td>\n",
       "      <td>255</td>\n",
       "    </tr>\n",
       "    <tr>\n",
       "      <th>10</th>\n",
       "      <td>1.620112e+18</td>\n",
       "      <td>so good i had to share check out all the items im loving on poshmarkapp from ksena116 poshmark fashion style shopmycloset eloquii freepeople balenciaga</td>\n",
       "      <td>2023-01-30 17:30:46+00:00</td>\n",
       "      <td>211</td>\n",
       "    </tr>\n",
       "    <tr>\n",
       "      <th>11</th>\n",
       "      <td>1.620112e+18</td>\n",
       "      <td>so good i had to share check out all the items im loving on poshmarkapp poshmark fashion style shopmycloset balenciaga francescascollections anthropologie</td>\n",
       "      <td>2023-01-30 17:29:00+00:00</td>\n",
       "      <td>213</td>\n",
       "    </tr>\n",
       "    <tr>\n",
       "      <th>12</th>\n",
       "      <td>1.620103e+18</td>\n",
       "      <td>xx17965797n sam smith is disgusting ask him about balenciaga ðÿ‘€</td>\n",
       "      <td>2023-01-30 16:54:11+00:00</td>\n",
       "      <td>68</td>\n",
       "    </tr>\n",
       "    <tr>\n",
       "      <th>13</th>\n",
       "      <td>1.620097e+18</td>\n",
       "      <td>so good i had to share check out all the items im loving on poshmarkapp poshmark fashion style shopmycloset cablegauge balenciaga levis</td>\n",
       "      <td>2023-01-30 16:31:18+00:00</td>\n",
       "      <td>194</td>\n",
       "    </tr>\n",
       "    <tr>\n",
       "      <th>14</th>\n",
       "      <td>1.620097e+18</td>\n",
       "      <td>so good i had to share check out all the items im loving on poshmarkapp from marilynsend1 poshmark fashion style shopmycloset gbygiuliana balenciaga oneteaspoon</td>\n",
       "      <td>2023-01-30 16:31:00+00:00</td>\n",
       "      <td>220</td>\n",
       "    </tr>\n",
       "    <tr>\n",
       "      <th>15</th>\n",
       "      <td>1.620097e+18</td>\n",
       "      <td>so good i had to share check out all the items im loving on poshmarkapp poshmark fashion style shopmycloset balenciaga cherokee kennethcolereaction</td>\n",
       "      <td>2023-01-30 16:29:15+00:00</td>\n",
       "      <td>206</td>\n",
       "    </tr>\n",
       "    <tr>\n",
       "      <th>16</th>\n",
       "      <td>1.620097e+18</td>\n",
       "      <td>ye faces new hurdle in business and personal life as australian visa denial looms\\n\\nadidas africanbillionaires africanamericanbillionaire australianvisa balenciaga billionairesafrica featured kanyewest visaapplication</td>\n",
       "      <td>2023-01-30 16:28:32+00:00</td>\n",
       "      <td>274</td>\n",
       "    </tr>\n",
       "    <tr>\n",
       "      <th>17</th>\n",
       "      <td>1.620083e+18</td>\n",
       "      <td>ffs\\n lmao \\nvaccinedeath vaccine vaccinedeaths vaccinegenocide vaccinedemocide covidvaccine covid19 nuremberg2â  nhsâ \\n\\ndavosagenda wefisevil wef23 wefpuppets wef\\n\\nbalenciaga balenciagapedos pedofila grooming hollywoodstudios</td>\n",
       "      <td>2023-01-30 15:33:46+00:00</td>\n",
       "      <td>245</td>\n",
       "    </tr>\n",
       "    <tr>\n",
       "      <th>18</th>\n",
       "      <td>1.620074e+18</td>\n",
       "      <td>tenant outlook sports apparel brands race to capture global growth read here \\n\\nicsc realestate retail athleisure sportswear fitness nike balenciaga</td>\n",
       "      <td>2023-01-30 14:57:00+00:00</td>\n",
       "      <td>182</td>\n",
       "    </tr>\n",
       "    <tr>\n",
       "      <th>19</th>\n",
       "      <td>1.620059e+18</td>\n",
       "      <td>i have to feel sorry for people who were blissfully unaware of the balenciaga scandal and indeed the purpose of the fashion industry</td>\n",
       "      <td>2023-01-30 14:00:05+00:00</td>\n",
       "      <td>136</td>\n",
       "    </tr>\n",
       "  </tbody>\n",
       "</table>\n",
       "</div>"
      ],
      "text/plain": [
       "              id  \\\n",
       "0   1.620207e+18   \n",
       "1   1.620206e+18   \n",
       "2   1.620204e+18   \n",
       "3   1.620151e+18   \n",
       "4   1.620142e+18   \n",
       "5   1.620133e+18   \n",
       "6   1.620127e+18   \n",
       "7   1.620118e+18   \n",
       "8   1.620117e+18   \n",
       "9   1.620115e+18   \n",
       "10  1.620112e+18   \n",
       "11  1.620112e+18   \n",
       "12  1.620103e+18   \n",
       "13  1.620097e+18   \n",
       "14  1.620097e+18   \n",
       "15  1.620097e+18   \n",
       "16  1.620097e+18   \n",
       "17  1.620083e+18   \n",
       "18  1.620074e+18   \n",
       "19  1.620059e+18   \n",
       "\n",
       "                                                                                                                                                                                                                                              Comments  \\\n",
       "0         latest podcast is out now  balenciaga is run by satanists  just think 5  via youtube  balenciagapedos balenciaga satan satanist satanic pedophelia podcastshow podcast podcastlife podcastandchill podcaster podcasting lucifer luciferian h   \n",
       "1                                                                                                                                    over 500 brands including gucci offwhite balenciaga maisonmargiela marineserre saintlaurent fashion and many more   \n",
       "2                                                                                                           so good i had to share check out all the items im loving on poshmarkapp poshmark fashion style shopmycloset balenciaga variety stevemadden   \n",
       "3                                                                                            skkn nothing we dont support pedos and those who support child abuse and exploitation balenciaga cancelkimkardashian cancelskims ðÿ’©ðÿ¤®ðÿ’©ðÿ¤®ðÿ’©ðÿ¤®   \n",
       "4                                                                                                             so good i had to share check out all the items im loving on poshmarkapp poshmark fashion style shopmycloset madewell balenciaga kaileigh   \n",
       "5                                                                                                                                                                                                                 wtf why is this happening balenciaga   \n",
       "6                                                                                       so good i had to share check out all the items im loving on poshmarkapp from kmullen1019 poshmark fashion style shopmycloset balenciaga freepeople dannynicole   \n",
       "7                                                                                                                                                                                lets talk about balenciaga ðÿ’€ shorts makeup balenciaga  via youtube   \n",
       "8                                                                                                                                                                          sadly its much bigger than  balenciaga balenciagagate gotta start somewhere   \n",
       "9   skims all the bot replies should tell you somethingwe dont support pedos and the abuse of children you dress your own child in a gimp mask and call it fashion youre sick and satanic balenciaga cancelskims cancelkimkardashian ðÿ¤®ðÿ¤®ðÿ¤®ðÿ¤®ð   \n",
       "10                                                                                             so good i had to share check out all the items im loving on poshmarkapp from ksena116 poshmark fashion style shopmycloset eloquii freepeople balenciaga   \n",
       "11                                                                                          so good i had to share check out all the items im loving on poshmarkapp poshmark fashion style shopmycloset balenciaga francescascollections anthropologie   \n",
       "12                                                                                                                                                                                   xx17965797n sam smith is disgusting ask him about balenciaga ðÿ‘€   \n",
       "13                                                                                                             so good i had to share check out all the items im loving on poshmarkapp poshmark fashion style shopmycloset cablegauge balenciaga levis   \n",
       "14                                                                                    so good i had to share check out all the items im loving on poshmarkapp from marilynsend1 poshmark fashion style shopmycloset gbygiuliana balenciaga oneteaspoon   \n",
       "15                                                                                                 so good i had to share check out all the items im loving on poshmarkapp poshmark fashion style shopmycloset balenciaga cherokee kennethcolereaction   \n",
       "16                          ye faces new hurdle in business and personal life as australian visa denial looms\\n\\nadidas africanbillionaires africanamericanbillionaire australianvisa balenciaga billionairesafrica featured kanyewest visaapplication   \n",
       "17              ffs\\n lmao \\nvaccinedeath vaccine vaccinedeaths vaccinegenocide vaccinedemocide covidvaccine covid19 nuremberg2â  nhsâ \\n\\ndavosagenda wefisevil wef23 wefpuppets wef\\n\\nbalenciaga balenciagapedos pedofila grooming hollywoodstudios   \n",
       "18                                                                                               tenant outlook sports apparel brands race to capture global growth read here \\n\\nicsc realestate retail athleisure sportswear fitness nike balenciaga   \n",
       "19                                                                                                                i have to feel sorry for people who were blissfully unaware of the balenciaga scandal and indeed the purpose of the fashion industry   \n",
       "\n",
       "                         date  text_length  \n",
       "0   2023-01-30 23:46:10+00:00          280  \n",
       "1   2023-01-30 23:44:31+00:00          173  \n",
       "2   2023-01-30 23:33:43+00:00          197  \n",
       "3   2023-01-30 20:04:35+00:00          160  \n",
       "4   2023-01-30 19:30:19+00:00          195  \n",
       "5   2023-01-30 18:51:52+00:00           65  \n",
       "6   2023-01-30 18:29:23+00:00          218  \n",
       "7   2023-01-30 17:51:43+00:00           96  \n",
       "8   2023-01-30 17:48:02+00:00           78  \n",
       "9   2023-01-30 17:42:35+00:00          255  \n",
       "10  2023-01-30 17:30:46+00:00          211  \n",
       "11  2023-01-30 17:29:00+00:00          213  \n",
       "12  2023-01-30 16:54:11+00:00           68  \n",
       "13  2023-01-30 16:31:18+00:00          194  \n",
       "14  2023-01-30 16:31:00+00:00          220  \n",
       "15  2023-01-30 16:29:15+00:00          206  \n",
       "16  2023-01-30 16:28:32+00:00          274  \n",
       "17  2023-01-30 15:33:46+00:00          245  \n",
       "18  2023-01-30 14:57:00+00:00          182  \n",
       "19  2023-01-30 14:00:05+00:00          136  "
      ]
     },
     "execution_count": 20,
     "metadata": {},
     "output_type": "execute_result"
    }
   ],
   "source": [
    "train.head(20)"
   ]
  },
  {
   "cell_type": "markdown",
   "id": "3fef7b88",
   "metadata": {},
   "source": [
    "# 5) Cleaning - Remove Stopwords ,numbers, emoticons & special characters"
   ]
  },
  {
   "cell_type": "code",
   "execution_count": 21,
   "id": "cc5a18e0",
   "metadata": {},
   "outputs": [],
   "source": [
    "# Get Stopwords\n",
    "stop = stopwords.words('english')"
   ]
  },
  {
   "cell_type": "code",
   "execution_count": 22,
   "id": "88a9ff40",
   "metadata": {},
   "outputs": [
    {
     "data": {
      "text/plain": [
       "0        [latest, podcast, balenciaga, run, satanists, think, 5, via, youtube, balenciagapedos, balenciaga, satan, satanist, satanic, pedophelia, podcastshow, podcast, podcastlife, podcastandchill, podcaster, podcasting, lucifer, luciferian, h]\n",
       "1                                                                                                                                    [500, brands, including, gucci, offwhite, balenciaga, maisonmargiela, marineserre, saintlaurent, fashion, many]\n",
       "2                                                                                                                     [good, share, check, items, im, loving, poshmarkapp, poshmark, fashion, style, shopmycloset, balenciaga, variety, stevemadden]\n",
       "3                                                                                                 [skkn, nothing, dont, support, pedos, support, child, abuse, exploitation, balenciaga, cancelkimkardashian, cancelskims, ðÿ’©ðÿ¤®ðÿ’©ðÿ¤®ðÿ’©ðÿ¤®]\n",
       "4                                                                                                                       [good, share, check, items, im, loving, poshmarkapp, poshmark, fashion, style, shopmycloset, madewell, balenciaga, kaileigh]\n",
       "                                                                                                                            ...                                                                                                                     \n",
       "29156                        [nah, itâ€™s, past, need, cancelled, business, asap, theyâ€™ll, apologize, blame, random, employee, yet, theyâ€™ll, continue, add, hidden, messages, ads, thatâ€™s, theyâ€™ve, continued, successful, cancelbalenciaga]\n",
       "29157                                                                                                                                                                                    [itsnatlydenise, getting, worse, thought, cancelbalenciaga]\n",
       "29158                                                                                                                                                                     [itsnatlydenise, think, start, trending, fuckbalenciaga, cancelbalenciaga]\n",
       "29159                                                                                                                                                                                   [sick, stomach, byebalenciaga, balenciaga, cancelbalenciaga]\n",
       "29160                                                                                                                                                                                   [deleted, everything, donâ€™t, pedophiles, cancelbalenciaga]\n",
       "Name: Comments, Length: 29161, dtype: object"
      ]
     },
     "execution_count": 22,
     "metadata": {},
     "output_type": "execute_result"
    }
   ],
   "source": [
    "# Tokenize and Remove Stop Words\n",
    "train['Comments'].apply(lambda x: [word for word in x.split() if word not in stop])"
   ]
  },
  {
   "cell_type": "code",
   "execution_count": 23,
   "id": "0d211091",
   "metadata": {},
   "outputs": [
    {
     "data": {
      "text/plain": [
       "0        latest podcast balenciaga run satanists think 5 via youtube balenciagapedos balenciaga satan satanist satanic pedophelia podcastshow podcast podcastlife podcastandchill podcaster podcasting lucifer luciferian h\n",
       "1                                                                                                                       500 brands including gucci offwhite balenciaga maisonmargiela marineserre saintlaurent fashion many\n",
       "2                                                                                                           good share check items im loving poshmarkapp poshmark fashion style shopmycloset balenciaga variety stevemadden\n",
       "3                                                                                      skkn nothing dont support pedos support child abuse exploitation balenciaga cancelkimkardashian cancelskims ðÿ’©ðÿ¤®ðÿ’©ðÿ¤®ðÿ’©ðÿ¤®\n",
       "4                                                                                                             good share check items im loving poshmarkapp poshmark fashion style shopmycloset madewell balenciaga kaileigh\n",
       "                                                                                                                ...                                                                                                        \n",
       "29156                        nah itâ€™s past need cancelled business asap theyâ€™ll apologize blame random employee yet theyâ€™ll continue add hidden messages ads thatâ€™s theyâ€™ve continued successful cancelbalenciaga\n",
       "29157                                                                                                                                                                 itsnatlydenise getting worse thought cancelbalenciaga\n",
       "29158                                                                                                                                                   itsnatlydenise think start trending fuckbalenciaga cancelbalenciaga\n",
       "29159                                                                                                                                                                sick stomach byebalenciaga balenciaga cancelbalenciaga\n",
       "29160                                                                                                                                                                deleted everything donâ€™t pedophiles cancelbalenciaga\n",
       "Name: Comments, Length: 29161, dtype: object"
      ]
     },
     "execution_count": 23,
     "metadata": {},
     "output_type": "execute_result"
    }
   ],
   "source": [
    "train['Comments'].apply(lambda x: ' '.join([word for word in x.split() if word not in (stop)]))"
   ]
  },
  {
   "cell_type": "code",
   "execution_count": 24,
   "id": "3808d09d",
   "metadata": {},
   "outputs": [],
   "source": [
    "# Join the words back\n",
    "train['Comments'] = train['Comments'].apply(lambda x: ' '.join([word for word in x.split() if word not in (stop)]))"
   ]
  },
  {
   "cell_type": "code",
   "execution_count": 25,
   "id": "cfbe1d70",
   "metadata": {},
   "outputs": [
    {
     "data": {
      "text/html": [
       "<div>\n",
       "<style scoped>\n",
       "    .dataframe tbody tr th:only-of-type {\n",
       "        vertical-align: middle;\n",
       "    }\n",
       "\n",
       "    .dataframe tbody tr th {\n",
       "        vertical-align: top;\n",
       "    }\n",
       "\n",
       "    .dataframe thead th {\n",
       "        text-align: right;\n",
       "    }\n",
       "</style>\n",
       "<table border=\"1\" class=\"dataframe\">\n",
       "  <thead>\n",
       "    <tr style=\"text-align: right;\">\n",
       "      <th></th>\n",
       "      <th>id</th>\n",
       "      <th>Comments</th>\n",
       "      <th>date</th>\n",
       "      <th>text_length</th>\n",
       "    </tr>\n",
       "  </thead>\n",
       "  <tbody>\n",
       "    <tr>\n",
       "      <th>0</th>\n",
       "      <td>1.620207e+18</td>\n",
       "      <td>latest podcast balenciaga run satanists think 5 via youtube balenciagapedos balenciaga satan satanist satanic pedophelia podcastshow podcast podcastlife podcastandchill podcaster podcasting lucifer luciferian h</td>\n",
       "      <td>2023-01-30 23:46:10+00:00</td>\n",
       "      <td>280</td>\n",
       "    </tr>\n",
       "    <tr>\n",
       "      <th>1</th>\n",
       "      <td>1.620206e+18</td>\n",
       "      <td>500 brands including gucci offwhite balenciaga maisonmargiela marineserre saintlaurent fashion many</td>\n",
       "      <td>2023-01-30 23:44:31+00:00</td>\n",
       "      <td>173</td>\n",
       "    </tr>\n",
       "    <tr>\n",
       "      <th>2</th>\n",
       "      <td>1.620204e+18</td>\n",
       "      <td>good share check items im loving poshmarkapp poshmark fashion style shopmycloset balenciaga variety stevemadden</td>\n",
       "      <td>2023-01-30 23:33:43+00:00</td>\n",
       "      <td>197</td>\n",
       "    </tr>\n",
       "    <tr>\n",
       "      <th>3</th>\n",
       "      <td>1.620151e+18</td>\n",
       "      <td>skkn nothing dont support pedos support child abuse exploitation balenciaga cancelkimkardashian cancelskims ðÿ’©ðÿ¤®ðÿ’©ðÿ¤®ðÿ’©ðÿ¤®</td>\n",
       "      <td>2023-01-30 20:04:35+00:00</td>\n",
       "      <td>160</td>\n",
       "    </tr>\n",
       "    <tr>\n",
       "      <th>4</th>\n",
       "      <td>1.620142e+18</td>\n",
       "      <td>good share check items im loving poshmarkapp poshmark fashion style shopmycloset madewell balenciaga kaileigh</td>\n",
       "      <td>2023-01-30 19:30:19+00:00</td>\n",
       "      <td>195</td>\n",
       "    </tr>\n",
       "    <tr>\n",
       "      <th>5</th>\n",
       "      <td>1.620133e+18</td>\n",
       "      <td>wtf happening balenciaga</td>\n",
       "      <td>2023-01-30 18:51:52+00:00</td>\n",
       "      <td>65</td>\n",
       "    </tr>\n",
       "    <tr>\n",
       "      <th>6</th>\n",
       "      <td>1.620127e+18</td>\n",
       "      <td>good share check items im loving poshmarkapp kmullen1019 poshmark fashion style shopmycloset balenciaga freepeople dannynicole</td>\n",
       "      <td>2023-01-30 18:29:23+00:00</td>\n",
       "      <td>218</td>\n",
       "    </tr>\n",
       "    <tr>\n",
       "      <th>7</th>\n",
       "      <td>1.620118e+18</td>\n",
       "      <td>lets talk balenciaga ðÿ’€ shorts makeup balenciaga via youtube</td>\n",
       "      <td>2023-01-30 17:51:43+00:00</td>\n",
       "      <td>96</td>\n",
       "    </tr>\n",
       "    <tr>\n",
       "      <th>8</th>\n",
       "      <td>1.620117e+18</td>\n",
       "      <td>sadly much bigger balenciaga balenciagagate gotta start somewhere</td>\n",
       "      <td>2023-01-30 17:48:02+00:00</td>\n",
       "      <td>78</td>\n",
       "    </tr>\n",
       "    <tr>\n",
       "      <th>9</th>\n",
       "      <td>1.620115e+18</td>\n",
       "      <td>skims bot replies tell somethingwe dont support pedos abuse children dress child gimp mask call fashion youre sick satanic balenciaga cancelskims cancelkimkardashian ðÿ¤®ðÿ¤®ðÿ¤®ðÿ¤®ð</td>\n",
       "      <td>2023-01-30 17:42:35+00:00</td>\n",
       "      <td>255</td>\n",
       "    </tr>\n",
       "  </tbody>\n",
       "</table>\n",
       "</div>"
      ],
      "text/plain": [
       "             id  \\\n",
       "0  1.620207e+18   \n",
       "1  1.620206e+18   \n",
       "2  1.620204e+18   \n",
       "3  1.620151e+18   \n",
       "4  1.620142e+18   \n",
       "5  1.620133e+18   \n",
       "6  1.620127e+18   \n",
       "7  1.620118e+18   \n",
       "8  1.620117e+18   \n",
       "9  1.620115e+18   \n",
       "\n",
       "                                                                                                                                                                                                             Comments  \\\n",
       "0  latest podcast balenciaga run satanists think 5 via youtube balenciagapedos balenciaga satan satanist satanic pedophelia podcastshow podcast podcastlife podcastandchill podcaster podcasting lucifer luciferian h   \n",
       "1                                                                                                                 500 brands including gucci offwhite balenciaga maisonmargiela marineserre saintlaurent fashion many   \n",
       "2                                                                                                     good share check items im loving poshmarkapp poshmark fashion style shopmycloset balenciaga variety stevemadden   \n",
       "3                                                                                skkn nothing dont support pedos support child abuse exploitation balenciaga cancelkimkardashian cancelskims ðÿ’©ðÿ¤®ðÿ’©ðÿ¤®ðÿ’©ðÿ¤®   \n",
       "4                                                                                                       good share check items im loving poshmarkapp poshmark fashion style shopmycloset madewell balenciaga kaileigh   \n",
       "5                                                                                                                                                                                            wtf happening balenciaga   \n",
       "6                                                                                      good share check items im loving poshmarkapp kmullen1019 poshmark fashion style shopmycloset balenciaga freepeople dannynicole   \n",
       "7                                                                                                                                                      lets talk balenciaga ðÿ’€ shorts makeup balenciaga via youtube   \n",
       "8                                                                                                                                                   sadly much bigger balenciaga balenciagagate gotta start somewhere   \n",
       "9                             skims bot replies tell somethingwe dont support pedos abuse children dress child gimp mask call fashion youre sick satanic balenciaga cancelskims cancelkimkardashian ðÿ¤®ðÿ¤®ðÿ¤®ðÿ¤®ð   \n",
       "\n",
       "                        date  text_length  \n",
       "0  2023-01-30 23:46:10+00:00          280  \n",
       "1  2023-01-30 23:44:31+00:00          173  \n",
       "2  2023-01-30 23:33:43+00:00          197  \n",
       "3  2023-01-30 20:04:35+00:00          160  \n",
       "4  2023-01-30 19:30:19+00:00          195  \n",
       "5  2023-01-30 18:51:52+00:00           65  \n",
       "6  2023-01-30 18:29:23+00:00          218  \n",
       "7  2023-01-30 17:51:43+00:00           96  \n",
       "8  2023-01-30 17:48:02+00:00           78  \n",
       "9  2023-01-30 17:42:35+00:00          255  "
      ]
     },
     "execution_count": 25,
     "metadata": {},
     "output_type": "execute_result"
    }
   ],
   "source": [
    "train.head(10)"
   ]
  },
  {
   "cell_type": "code",
   "execution_count": 26,
   "id": "9076f01b",
   "metadata": {},
   "outputs": [],
   "source": [
    "##Remove emoticons\n",
    "\n",
    "def remove_emoticons(text):\n",
    "    emoticon_pattern = re.compile(\"[\"\n",
    "        u\"\\U0001F600-\\U0001F64F\"  # emoticons\n",
    "        u\"\\U0001F300-\\U0001F5FF\"  # symbols & pictographs\n",
    "        u\"\\U0001F680-\\U0001F6FF\"  # transport & map symbols\n",
    "        u\"\\U0001F1E0-\\U0001F1FF\"  # flags (iOS)\n",
    "        u\"\\U00002500-\\U00002BEF\"  # chinese char\n",
    "        u\"\\U00002702-\\U000027B0\"\n",
    "        u\"\\U00002702-\\U000027B0\"\n",
    "        u\"\\u2764\"  \n",
    "        u\"\\U0001F644\"                            \n",
    "        u\"\\U000024C2-\\U0001F251\"\n",
    "        u\"\\U0001f926-\\U0001f937\"\n",
    "        u\"\\U00010000-\\U0010ffff\"\n",
    "        u\"\\u2640-\\u2642\"\n",
    "        u\"\\u2600-\\u2B55\"\n",
    "        u\"\\u200d\"\n",
    "        u\"\\u23cf\"\n",
    "        u\"\\u23e9\"\n",
    "        u\"\\u231a\"\n",
    "        u\"\\ufe0f\"  # dingbats\n",
    "        u\"\\u3030\"\n",
    "                                  \n",
    "                           \"]+\", flags=re.UNICODE)\n",
    "    return emoticon_pattern.sub(r'', text)\n",
    "\n"
   ]
  },
  {
   "cell_type": "code",
   "execution_count": 27,
   "id": "27da7078",
   "metadata": {},
   "outputs": [],
   "source": [
    "\n",
    "# Apply the remove_emoticons function to the 'Comments' column\n",
    "train['Comments'] = train['Comments'].apply(remove_emoticons)"
   ]
  },
  {
   "cell_type": "code",
   "execution_count": 30,
   "id": "8920d617",
   "metadata": {},
   "outputs": [],
   "source": [
    "##Remove numbers\n",
    "\n",
    "train['Comments'] = train['Comments'].apply(lambda x: re.sub(r'\\d+', '', x))"
   ]
  },
  {
   "cell_type": "code",
   "execution_count": 31,
   "id": "fc4d0877",
   "metadata": {
    "scrolled": true
   },
   "outputs": [
    {
     "data": {
      "text/html": [
       "<div>\n",
       "<style scoped>\n",
       "    .dataframe tbody tr th:only-of-type {\n",
       "        vertical-align: middle;\n",
       "    }\n",
       "\n",
       "    .dataframe tbody tr th {\n",
       "        vertical-align: top;\n",
       "    }\n",
       "\n",
       "    .dataframe thead th {\n",
       "        text-align: right;\n",
       "    }\n",
       "</style>\n",
       "<table border=\"1\" class=\"dataframe\">\n",
       "  <thead>\n",
       "    <tr style=\"text-align: right;\">\n",
       "      <th></th>\n",
       "      <th>id</th>\n",
       "      <th>Comments</th>\n",
       "      <th>date</th>\n",
       "      <th>text_length</th>\n",
       "    </tr>\n",
       "  </thead>\n",
       "  <tbody>\n",
       "    <tr>\n",
       "      <th>0</th>\n",
       "      <td>1.620207e+18</td>\n",
       "      <td>latest podcast balenciaga run satanists think  via youtube balenciagapedos balenciaga satan satanist satanic pedophelia podcastshow podcast podcastlife podcastandchill podcaster podcasting lucifer luciferian h</td>\n",
       "      <td>2023-01-30 23:46:10+00:00</td>\n",
       "      <td>280</td>\n",
       "    </tr>\n",
       "    <tr>\n",
       "      <th>1</th>\n",
       "      <td>1.620206e+18</td>\n",
       "      <td>brands including gucci offwhite balenciaga maisonmargiela marineserre saintlaurent fashion many</td>\n",
       "      <td>2023-01-30 23:44:31+00:00</td>\n",
       "      <td>173</td>\n",
       "    </tr>\n",
       "    <tr>\n",
       "      <th>2</th>\n",
       "      <td>1.620204e+18</td>\n",
       "      <td>good share check items im loving poshmarkapp poshmark fashion style shopmycloset balenciaga variety stevemadden</td>\n",
       "      <td>2023-01-30 23:33:43+00:00</td>\n",
       "      <td>197</td>\n",
       "    </tr>\n",
       "    <tr>\n",
       "      <th>3</th>\n",
       "      <td>1.620151e+18</td>\n",
       "      <td>skkn nothing dont support pedos support child abuse exploitation balenciaga cancelkimkardashian cancelskims ðÿ’©ðÿ¤®ðÿ’©ðÿ¤®ðÿ’©ðÿ¤®</td>\n",
       "      <td>2023-01-30 20:04:35+00:00</td>\n",
       "      <td>160</td>\n",
       "    </tr>\n",
       "    <tr>\n",
       "      <th>4</th>\n",
       "      <td>1.620142e+18</td>\n",
       "      <td>good share check items im loving poshmarkapp poshmark fashion style shopmycloset madewell balenciaga kaileigh</td>\n",
       "      <td>2023-01-30 19:30:19+00:00</td>\n",
       "      <td>195</td>\n",
       "    </tr>\n",
       "    <tr>\n",
       "      <th>5</th>\n",
       "      <td>1.620133e+18</td>\n",
       "      <td>wtf happening balenciaga</td>\n",
       "      <td>2023-01-30 18:51:52+00:00</td>\n",
       "      <td>65</td>\n",
       "    </tr>\n",
       "    <tr>\n",
       "      <th>6</th>\n",
       "      <td>1.620127e+18</td>\n",
       "      <td>good share check items im loving poshmarkapp kmullen poshmark fashion style shopmycloset balenciaga freepeople dannynicole</td>\n",
       "      <td>2023-01-30 18:29:23+00:00</td>\n",
       "      <td>218</td>\n",
       "    </tr>\n",
       "    <tr>\n",
       "      <th>7</th>\n",
       "      <td>1.620118e+18</td>\n",
       "      <td>lets talk balenciaga ðÿ’€ shorts makeup balenciaga via youtube</td>\n",
       "      <td>2023-01-30 17:51:43+00:00</td>\n",
       "      <td>96</td>\n",
       "    </tr>\n",
       "    <tr>\n",
       "      <th>8</th>\n",
       "      <td>1.620117e+18</td>\n",
       "      <td>sadly much bigger balenciaga balenciagagate gotta start somewhere</td>\n",
       "      <td>2023-01-30 17:48:02+00:00</td>\n",
       "      <td>78</td>\n",
       "    </tr>\n",
       "    <tr>\n",
       "      <th>9</th>\n",
       "      <td>1.620115e+18</td>\n",
       "      <td>skims bot replies tell somethingwe dont support pedos abuse children dress child gimp mask call fashion youre sick satanic balenciaga cancelskims cancelkimkardashian ðÿ¤®ðÿ¤®ðÿ¤®ðÿ¤®ð</td>\n",
       "      <td>2023-01-30 17:42:35+00:00</td>\n",
       "      <td>255</td>\n",
       "    </tr>\n",
       "    <tr>\n",
       "      <th>10</th>\n",
       "      <td>1.620112e+18</td>\n",
       "      <td>good share check items im loving poshmarkapp ksena poshmark fashion style shopmycloset eloquii freepeople balenciaga</td>\n",
       "      <td>2023-01-30 17:30:46+00:00</td>\n",
       "      <td>211</td>\n",
       "    </tr>\n",
       "    <tr>\n",
       "      <th>11</th>\n",
       "      <td>1.620112e+18</td>\n",
       "      <td>good share check items im loving poshmarkapp poshmark fashion style shopmycloset balenciaga francescascollections anthropologie</td>\n",
       "      <td>2023-01-30 17:29:00+00:00</td>\n",
       "      <td>213</td>\n",
       "    </tr>\n",
       "    <tr>\n",
       "      <th>12</th>\n",
       "      <td>1.620103e+18</td>\n",
       "      <td>xxn sam smith disgusting ask balenciaga ðÿ‘€</td>\n",
       "      <td>2023-01-30 16:54:11+00:00</td>\n",
       "      <td>68</td>\n",
       "    </tr>\n",
       "    <tr>\n",
       "      <th>13</th>\n",
       "      <td>1.620097e+18</td>\n",
       "      <td>good share check items im loving poshmarkapp poshmark fashion style shopmycloset cablegauge balenciaga levis</td>\n",
       "      <td>2023-01-30 16:31:18+00:00</td>\n",
       "      <td>194</td>\n",
       "    </tr>\n",
       "    <tr>\n",
       "      <th>14</th>\n",
       "      <td>1.620097e+18</td>\n",
       "      <td>good share check items im loving poshmarkapp marilynsend poshmark fashion style shopmycloset gbygiuliana balenciaga oneteaspoon</td>\n",
       "      <td>2023-01-30 16:31:00+00:00</td>\n",
       "      <td>220</td>\n",
       "    </tr>\n",
       "    <tr>\n",
       "      <th>15</th>\n",
       "      <td>1.620097e+18</td>\n",
       "      <td>good share check items im loving poshmarkapp poshmark fashion style shopmycloset balenciaga cherokee kennethcolereaction</td>\n",
       "      <td>2023-01-30 16:29:15+00:00</td>\n",
       "      <td>206</td>\n",
       "    </tr>\n",
       "    <tr>\n",
       "      <th>16</th>\n",
       "      <td>1.620097e+18</td>\n",
       "      <td>ye faces new hurdle business personal life australian visa denial looms adidas africanbillionaires africanamericanbillionaire australianvisa balenciaga billionairesafrica featured kanyewest visaapplication</td>\n",
       "      <td>2023-01-30 16:28:32+00:00</td>\n",
       "      <td>274</td>\n",
       "    </tr>\n",
       "    <tr>\n",
       "      <th>17</th>\n",
       "      <td>1.620083e+18</td>\n",
       "      <td>ffs lmao vaccinedeath vaccine vaccinedeaths vaccinegenocide vaccinedemocide covidvaccine covid nurembergâ nhsâ davosagenda wefisevil wef wefpuppets wef balenciaga balenciagapedos pedofila grooming hollywoodstudios</td>\n",
       "      <td>2023-01-30 15:33:46+00:00</td>\n",
       "      <td>245</td>\n",
       "    </tr>\n",
       "    <tr>\n",
       "      <th>18</th>\n",
       "      <td>1.620074e+18</td>\n",
       "      <td>tenant outlook sports apparel brands race capture global growth read icsc realestate retail athleisure sportswear fitness nike balenciaga</td>\n",
       "      <td>2023-01-30 14:57:00+00:00</td>\n",
       "      <td>182</td>\n",
       "    </tr>\n",
       "    <tr>\n",
       "      <th>19</th>\n",
       "      <td>1.620059e+18</td>\n",
       "      <td>feel sorry people blissfully unaware balenciaga scandal indeed purpose fashion industry</td>\n",
       "      <td>2023-01-30 14:00:05+00:00</td>\n",
       "      <td>136</td>\n",
       "    </tr>\n",
       "  </tbody>\n",
       "</table>\n",
       "</div>"
      ],
      "text/plain": [
       "              id  \\\n",
       "0   1.620207e+18   \n",
       "1   1.620206e+18   \n",
       "2   1.620204e+18   \n",
       "3   1.620151e+18   \n",
       "4   1.620142e+18   \n",
       "5   1.620133e+18   \n",
       "6   1.620127e+18   \n",
       "7   1.620118e+18   \n",
       "8   1.620117e+18   \n",
       "9   1.620115e+18   \n",
       "10  1.620112e+18   \n",
       "11  1.620112e+18   \n",
       "12  1.620103e+18   \n",
       "13  1.620097e+18   \n",
       "14  1.620097e+18   \n",
       "15  1.620097e+18   \n",
       "16  1.620097e+18   \n",
       "17  1.620083e+18   \n",
       "18  1.620074e+18   \n",
       "19  1.620059e+18   \n",
       "\n",
       "                                                                                                                                                                                                                 Comments  \\\n",
       "0       latest podcast balenciaga run satanists think  via youtube balenciagapedos balenciaga satan satanist satanic pedophelia podcastshow podcast podcastlife podcastandchill podcaster podcasting lucifer luciferian h   \n",
       "1                                                                                                                         brands including gucci offwhite balenciaga maisonmargiela marineserre saintlaurent fashion many   \n",
       "2                                                                                                         good share check items im loving poshmarkapp poshmark fashion style shopmycloset balenciaga variety stevemadden   \n",
       "3                                                                                    skkn nothing dont support pedos support child abuse exploitation balenciaga cancelkimkardashian cancelskims ðÿ’©ðÿ¤®ðÿ’©ðÿ¤®ðÿ’©ðÿ¤®   \n",
       "4                                                                                                           good share check items im loving poshmarkapp poshmark fashion style shopmycloset madewell balenciaga kaileigh   \n",
       "5                                                                                                                                                                                                wtf happening balenciaga   \n",
       "6                                                                                              good share check items im loving poshmarkapp kmullen poshmark fashion style shopmycloset balenciaga freepeople dannynicole   \n",
       "7                                                                                                                                                          lets talk balenciaga ðÿ’€ shorts makeup balenciaga via youtube   \n",
       "8                                                                                                                                                       sadly much bigger balenciaga balenciagagate gotta start somewhere   \n",
       "9                                 skims bot replies tell somethingwe dont support pedos abuse children dress child gimp mask call fashion youre sick satanic balenciaga cancelskims cancelkimkardashian ðÿ¤®ðÿ¤®ðÿ¤®ðÿ¤®ð   \n",
       "10                                                                                                   good share check items im loving poshmarkapp ksena poshmark fashion style shopmycloset eloquii freepeople balenciaga   \n",
       "11                                                                                        good share check items im loving poshmarkapp poshmark fashion style shopmycloset balenciaga francescascollections anthropologie   \n",
       "12                                                                                                                                                                           xxn sam smith disgusting ask balenciaga ðÿ‘€   \n",
       "13                                                                                                           good share check items im loving poshmarkapp poshmark fashion style shopmycloset cablegauge balenciaga levis   \n",
       "14                                                                                        good share check items im loving poshmarkapp marilynsend poshmark fashion style shopmycloset gbygiuliana balenciaga oneteaspoon   \n",
       "15                                                                                               good share check items im loving poshmarkapp poshmark fashion style shopmycloset balenciaga cherokee kennethcolereaction   \n",
       "16          ye faces new hurdle business personal life australian visa denial looms adidas africanbillionaires africanamericanbillionaire australianvisa balenciaga billionairesafrica featured kanyewest visaapplication   \n",
       "17  ffs lmao vaccinedeath vaccine vaccinedeaths vaccinegenocide vaccinedemocide covidvaccine covid nurembergâ nhsâ davosagenda wefisevil wef wefpuppets wef balenciaga balenciagapedos pedofila grooming hollywoodstudios   \n",
       "18                                                                              tenant outlook sports apparel brands race capture global growth read icsc realestate retail athleisure sportswear fitness nike balenciaga   \n",
       "19                                                                                                                                feel sorry people blissfully unaware balenciaga scandal indeed purpose fashion industry   \n",
       "\n",
       "                         date  text_length  \n",
       "0   2023-01-30 23:46:10+00:00          280  \n",
       "1   2023-01-30 23:44:31+00:00          173  \n",
       "2   2023-01-30 23:33:43+00:00          197  \n",
       "3   2023-01-30 20:04:35+00:00          160  \n",
       "4   2023-01-30 19:30:19+00:00          195  \n",
       "5   2023-01-30 18:51:52+00:00           65  \n",
       "6   2023-01-30 18:29:23+00:00          218  \n",
       "7   2023-01-30 17:51:43+00:00           96  \n",
       "8   2023-01-30 17:48:02+00:00           78  \n",
       "9   2023-01-30 17:42:35+00:00          255  \n",
       "10  2023-01-30 17:30:46+00:00          211  \n",
       "11  2023-01-30 17:29:00+00:00          213  \n",
       "12  2023-01-30 16:54:11+00:00           68  \n",
       "13  2023-01-30 16:31:18+00:00          194  \n",
       "14  2023-01-30 16:31:00+00:00          220  \n",
       "15  2023-01-30 16:29:15+00:00          206  \n",
       "16  2023-01-30 16:28:32+00:00          274  \n",
       "17  2023-01-30 15:33:46+00:00          245  \n",
       "18  2023-01-30 14:57:00+00:00          182  \n",
       "19  2023-01-30 14:00:05+00:00          136  "
      ]
     },
     "execution_count": 31,
     "metadata": {},
     "output_type": "execute_result"
    }
   ],
   "source": [
    "train.head(20)"
   ]
  },
  {
   "cell_type": "code",
   "execution_count": 32,
   "id": "2f803db2",
   "metadata": {},
   "outputs": [],
   "source": [
    "##Remove non-ASCII improperly encoded characters\n",
    "\n",
    "def remove_invalid_chars(text):\n",
    "    # encode the text string using ASCII encoding\n",
    "    encoded_text = text.encode('ascii', 'ignore')\n",
    "    # decode the encoded text using ASCII encoding\n",
    "    decoded_text = encoded_text.decode('ascii')\n",
    "    return decoded_text"
   ]
  },
  {
   "cell_type": "code",
   "execution_count": 33,
   "id": "87588a05",
   "metadata": {},
   "outputs": [],
   "source": [
    "# apply the remove_invalid_chars function to the 'Comments' column\n",
    "train['Comments'] = train['Comments'].apply(remove_invalid_chars)\n",
    "\n"
   ]
  },
  {
   "cell_type": "code",
   "execution_count": 34,
   "id": "d9005b96",
   "metadata": {},
   "outputs": [
    {
     "data": {
      "text/html": [
       "<div>\n",
       "<style scoped>\n",
       "    .dataframe tbody tr th:only-of-type {\n",
       "        vertical-align: middle;\n",
       "    }\n",
       "\n",
       "    .dataframe tbody tr th {\n",
       "        vertical-align: top;\n",
       "    }\n",
       "\n",
       "    .dataframe thead th {\n",
       "        text-align: right;\n",
       "    }\n",
       "</style>\n",
       "<table border=\"1\" class=\"dataframe\">\n",
       "  <thead>\n",
       "    <tr style=\"text-align: right;\">\n",
       "      <th></th>\n",
       "      <th>id</th>\n",
       "      <th>Comments</th>\n",
       "      <th>date</th>\n",
       "      <th>text_length</th>\n",
       "    </tr>\n",
       "  </thead>\n",
       "  <tbody>\n",
       "    <tr>\n",
       "      <th>0</th>\n",
       "      <td>1.620207e+18</td>\n",
       "      <td>latest podcast balenciaga run satanists think  via youtube balenciagapedos balenciaga satan satanist satanic pedophelia podcastshow podcast podcastlife podcastandchill podcaster podcasting lucifer luciferian h</td>\n",
       "      <td>2023-01-30 23:46:10+00:00</td>\n",
       "      <td>280</td>\n",
       "    </tr>\n",
       "    <tr>\n",
       "      <th>1</th>\n",
       "      <td>1.620206e+18</td>\n",
       "      <td>brands including gucci offwhite balenciaga maisonmargiela marineserre saintlaurent fashion many</td>\n",
       "      <td>2023-01-30 23:44:31+00:00</td>\n",
       "      <td>173</td>\n",
       "    </tr>\n",
       "    <tr>\n",
       "      <th>2</th>\n",
       "      <td>1.620204e+18</td>\n",
       "      <td>good share check items im loving poshmarkapp poshmark fashion style shopmycloset balenciaga variety stevemadden</td>\n",
       "      <td>2023-01-30 23:33:43+00:00</td>\n",
       "      <td>197</td>\n",
       "    </tr>\n",
       "    <tr>\n",
       "      <th>3</th>\n",
       "      <td>1.620151e+18</td>\n",
       "      <td>skkn nothing dont support pedos support child abuse exploitation balenciaga cancelkimkardashian cancelskims</td>\n",
       "      <td>2023-01-30 20:04:35+00:00</td>\n",
       "      <td>160</td>\n",
       "    </tr>\n",
       "    <tr>\n",
       "      <th>4</th>\n",
       "      <td>1.620142e+18</td>\n",
       "      <td>good share check items im loving poshmarkapp poshmark fashion style shopmycloset madewell balenciaga kaileigh</td>\n",
       "      <td>2023-01-30 19:30:19+00:00</td>\n",
       "      <td>195</td>\n",
       "    </tr>\n",
       "    <tr>\n",
       "      <th>...</th>\n",
       "      <td>...</td>\n",
       "      <td>...</td>\n",
       "      <td>...</td>\n",
       "      <td>...</td>\n",
       "    </tr>\n",
       "    <tr>\n",
       "      <th>85</th>\n",
       "      <td>1.619554e+18</td>\n",
       "      <td>evillysexybitch tuxlemons elonmusk umm shopping balenciaga today wearing german military shirt praising hitler genius  even though hitler would killed him wrong</td>\n",
       "      <td>2023-01-29 04:31:40+00:00</td>\n",
       "      <td>215</td>\n",
       "    </tr>\n",
       "    <tr>\n",
       "      <th>86</th>\n",
       "      <td>1.619551e+18</td>\n",
       "      <td>image perfectly describes lifestyle balenciaga</td>\n",
       "      <td>2023-01-29 04:21:43+00:00</td>\n",
       "      <td>79</td>\n",
       "    </tr>\n",
       "    <tr>\n",
       "      <th>87</th>\n",
       "      <td>1.619539e+18</td>\n",
       "      <td>good share check items im loving poshmarkapp poshmark fashion style shopmycloset balenciaga koalakids anthropologie</td>\n",
       "      <td>2023-01-29 03:33:22+00:00</td>\n",
       "      <td>201</td>\n",
       "    </tr>\n",
       "    <tr>\n",
       "      <th>88</th>\n",
       "      <td>1.619527e+18</td>\n",
       "      <td>tuxlemons yes kanyewest lost account id say telling truth anout balenciaga involvement childsextraffickingsurely fact elonmusk forgive plus call lot unpleasant</td>\n",
       "      <td>2023-01-29 02:43:47+00:00</td>\n",
       "      <td>255</td>\n",
       "    </tr>\n",
       "    <tr>\n",
       "      <th>89</th>\n",
       "      <td>1.619527e+18</td>\n",
       "      <td>madonna unholy person lmao creepy things thread connections hollywood dark individuals hiding plain sight balenciaga balenciagagate madonna</td>\n",
       "      <td>2023-01-29 02:43:43+00:00</td>\n",
       "      <td>188</td>\n",
       "    </tr>\n",
       "  </tbody>\n",
       "</table>\n",
       "<p>90 rows × 4 columns</p>\n",
       "</div>"
      ],
      "text/plain": [
       "              id  \\\n",
       "0   1.620207e+18   \n",
       "1   1.620206e+18   \n",
       "2   1.620204e+18   \n",
       "3   1.620151e+18   \n",
       "4   1.620142e+18   \n",
       "..           ...   \n",
       "85  1.619554e+18   \n",
       "86  1.619551e+18   \n",
       "87  1.619539e+18   \n",
       "88  1.619527e+18   \n",
       "89  1.619527e+18   \n",
       "\n",
       "                                                                                                                                                                                                             Comments  \\\n",
       "0   latest podcast balenciaga run satanists think  via youtube balenciagapedos balenciaga satan satanist satanic pedophelia podcastshow podcast podcastlife podcastandchill podcaster podcasting lucifer luciferian h   \n",
       "1                                                                                                                     brands including gucci offwhite balenciaga maisonmargiela marineserre saintlaurent fashion many   \n",
       "2                                                                                                     good share check items im loving poshmarkapp poshmark fashion style shopmycloset balenciaga variety stevemadden   \n",
       "3                                                                                                        skkn nothing dont support pedos support child abuse exploitation balenciaga cancelkimkardashian cancelskims    \n",
       "4                                                                                                       good share check items im loving poshmarkapp poshmark fashion style shopmycloset madewell balenciaga kaileigh   \n",
       "..                                                                                                                                                                                                                ...   \n",
       "85                                                  evillysexybitch tuxlemons elonmusk umm shopping balenciaga today wearing german military shirt praising hitler genius  even though hitler would killed him wrong    \n",
       "86                                                                                                                                                                     image perfectly describes lifestyle balenciaga   \n",
       "87                                                                                                good share check items im loving poshmarkapp poshmark fashion style shopmycloset balenciaga koalakids anthropologie   \n",
       "88                                                    tuxlemons yes kanyewest lost account id say telling truth anout balenciaga involvement childsextraffickingsurely fact elonmusk forgive plus call lot unpleasant   \n",
       "89                                                                        madonna unholy person lmao creepy things thread connections hollywood dark individuals hiding plain sight balenciaga balenciagagate madonna   \n",
       "\n",
       "                         date  text_length  \n",
       "0   2023-01-30 23:46:10+00:00          280  \n",
       "1   2023-01-30 23:44:31+00:00          173  \n",
       "2   2023-01-30 23:33:43+00:00          197  \n",
       "3   2023-01-30 20:04:35+00:00          160  \n",
       "4   2023-01-30 19:30:19+00:00          195  \n",
       "..                        ...          ...  \n",
       "85  2023-01-29 04:31:40+00:00          215  \n",
       "86  2023-01-29 04:21:43+00:00           79  \n",
       "87  2023-01-29 03:33:22+00:00          201  \n",
       "88  2023-01-29 02:43:47+00:00          255  \n",
       "89  2023-01-29 02:43:43+00:00          188  \n",
       "\n",
       "[90 rows x 4 columns]"
      ]
     },
     "execution_count": 34,
     "metadata": {},
     "output_type": "execute_result"
    }
   ],
   "source": [
    "train.head(90)"
   ]
  },
  {
   "cell_type": "markdown",
   "id": "be3004d7",
   "metadata": {},
   "source": [
    "# 6)Lemmatize"
   ]
  },
  {
   "cell_type": "code",
   "execution_count": 35,
   "id": "0b2ea179",
   "metadata": {},
   "outputs": [
    {
     "name": "stderr",
     "output_type": "stream",
     "text": [
      "[nltk_data] Downloading package wordnet to\n",
      "[nltk_data]     C:\\Users\\admin\\AppData\\Roaming\\nltk_data...\n",
      "[nltk_data]   Package wordnet is already up-to-date!\n"
     ]
    },
    {
     "data": {
      "text/plain": [
       "True"
      ]
     },
     "execution_count": 35,
     "metadata": {},
     "output_type": "execute_result"
    }
   ],
   "source": [
    "import nltk\n",
    "\n",
    "nltk.download('wordnet')"
   ]
  },
  {
   "cell_type": "code",
   "execution_count": 36,
   "id": "f6b44c73",
   "metadata": {},
   "outputs": [],
   "source": [
    "from nltk.stem import WordNetLemmatizer\n",
    "\n",
    "\n",
    "lemmatizer = WordNetLemmatizer()"
   ]
  },
  {
   "cell_type": "code",
   "execution_count": 37,
   "id": "26dbe7ce",
   "metadata": {},
   "outputs": [
    {
     "data": {
      "text/plain": [
       "0        latest podcast balenciaga run satanists think  via youtube balenciagapedos balenciaga satan satanist satanic pedophelia podcastshow podcast podcastlife podcastandchill podcaster podcasting lucifer luciferian h\n",
       "1                                                                                                                          brands including gucci offwhite balenciaga maisonmargiela marineserre saintlaurent fashion many\n",
       "2                                                                                                          good share check items im loving poshmarkapp poshmark fashion style shopmycloset balenciaga variety stevemadden\n",
       "3                                                                                                             skkn nothing dont support pedos support child abuse exploitation balenciaga cancelkimkardashian cancelskims \n",
       "4                                                                                                            good share check items im loving poshmarkapp poshmark fashion style shopmycloset madewell balenciaga kaileigh\n",
       "                                                                                                               ...                                                                                                        \n",
       "29156                                      nah its past need cancelled business asap theyll apologize blame random employee yet theyll continue add hidden messages ads thats theyve continued successful cancelbalenciaga\n",
       "29157                                                                                                                                                                itsnatlydenise getting worse thought cancelbalenciaga\n",
       "29158                                                                                                                                                  itsnatlydenise think start trending fuckbalenciaga cancelbalenciaga\n",
       "29159                                                                                                                                                               sick stomach byebalenciaga balenciaga cancelbalenciaga\n",
       "29160                                                                                                                                                                  deleted everything dont pedophiles cancelbalenciaga\n",
       "Name: Comments, Length: 29161, dtype: object"
      ]
     },
     "execution_count": 37,
     "metadata": {},
     "output_type": "execute_result"
    }
   ],
   "source": [
    "# Lemmatize\n",
    "train['Comments'].apply(lambda x: lemmatizer.lemmatize(x))"
   ]
  },
  {
   "cell_type": "code",
   "execution_count": 38,
   "id": "c38153af",
   "metadata": {},
   "outputs": [],
   "source": [
    "# Commit to Table\n",
    "\n",
    "train['Comments'] = train['Comments'].apply(lambda x: lemmatizer.lemmatize(x))"
   ]
  },
  {
   "cell_type": "code",
   "execution_count": 39,
   "id": "d16229db",
   "metadata": {},
   "outputs": [
    {
     "data": {
      "text/html": [
       "<div>\n",
       "<style scoped>\n",
       "    .dataframe tbody tr th:only-of-type {\n",
       "        vertical-align: middle;\n",
       "    }\n",
       "\n",
       "    .dataframe tbody tr th {\n",
       "        vertical-align: top;\n",
       "    }\n",
       "\n",
       "    .dataframe thead th {\n",
       "        text-align: right;\n",
       "    }\n",
       "</style>\n",
       "<table border=\"1\" class=\"dataframe\">\n",
       "  <thead>\n",
       "    <tr style=\"text-align: right;\">\n",
       "      <th></th>\n",
       "      <th>id</th>\n",
       "      <th>Comments</th>\n",
       "      <th>date</th>\n",
       "      <th>text_length</th>\n",
       "    </tr>\n",
       "  </thead>\n",
       "  <tbody>\n",
       "    <tr>\n",
       "      <th>0</th>\n",
       "      <td>1.620207e+18</td>\n",
       "      <td>latest podcast balenciaga run satanists think  via youtube balenciagapedos balenciaga satan satanist satanic pedophelia podcastshow podcast podcastlife podcastandchill podcaster podcasting lucifer luciferian h</td>\n",
       "      <td>2023-01-30 23:46:10+00:00</td>\n",
       "      <td>280</td>\n",
       "    </tr>\n",
       "    <tr>\n",
       "      <th>1</th>\n",
       "      <td>1.620206e+18</td>\n",
       "      <td>brands including gucci offwhite balenciaga maisonmargiela marineserre saintlaurent fashion many</td>\n",
       "      <td>2023-01-30 23:44:31+00:00</td>\n",
       "      <td>173</td>\n",
       "    </tr>\n",
       "    <tr>\n",
       "      <th>2</th>\n",
       "      <td>1.620204e+18</td>\n",
       "      <td>good share check items im loving poshmarkapp poshmark fashion style shopmycloset balenciaga variety stevemadden</td>\n",
       "      <td>2023-01-30 23:33:43+00:00</td>\n",
       "      <td>197</td>\n",
       "    </tr>\n",
       "    <tr>\n",
       "      <th>3</th>\n",
       "      <td>1.620151e+18</td>\n",
       "      <td>skkn nothing dont support pedos support child abuse exploitation balenciaga cancelkimkardashian cancelskims</td>\n",
       "      <td>2023-01-30 20:04:35+00:00</td>\n",
       "      <td>160</td>\n",
       "    </tr>\n",
       "    <tr>\n",
       "      <th>4</th>\n",
       "      <td>1.620142e+18</td>\n",
       "      <td>good share check items im loving poshmarkapp poshmark fashion style shopmycloset madewell balenciaga kaileigh</td>\n",
       "      <td>2023-01-30 19:30:19+00:00</td>\n",
       "      <td>195</td>\n",
       "    </tr>\n",
       "  </tbody>\n",
       "</table>\n",
       "</div>"
      ],
      "text/plain": [
       "             id  \\\n",
       "0  1.620207e+18   \n",
       "1  1.620206e+18   \n",
       "2  1.620204e+18   \n",
       "3  1.620151e+18   \n",
       "4  1.620142e+18   \n",
       "\n",
       "                                                                                                                                                                                                            Comments  \\\n",
       "0  latest podcast balenciaga run satanists think  via youtube balenciagapedos balenciaga satan satanist satanic pedophelia podcastshow podcast podcastlife podcastandchill podcaster podcasting lucifer luciferian h   \n",
       "1                                                                                                                    brands including gucci offwhite balenciaga maisonmargiela marineserre saintlaurent fashion many   \n",
       "2                                                                                                    good share check items im loving poshmarkapp poshmark fashion style shopmycloset balenciaga variety stevemadden   \n",
       "3                                                                                                       skkn nothing dont support pedos support child abuse exploitation balenciaga cancelkimkardashian cancelskims    \n",
       "4                                                                                                      good share check items im loving poshmarkapp poshmark fashion style shopmycloset madewell balenciaga kaileigh   \n",
       "\n",
       "                        date  text_length  \n",
       "0  2023-01-30 23:46:10+00:00          280  \n",
       "1  2023-01-30 23:44:31+00:00          173  \n",
       "2  2023-01-30 23:33:43+00:00          197  \n",
       "3  2023-01-30 20:04:35+00:00          160  \n",
       "4  2023-01-30 19:30:19+00:00          195  "
      ]
     },
     "execution_count": 39,
     "metadata": {},
     "output_type": "execute_result"
    }
   ],
   "source": [
    "train.head()"
   ]
  },
  {
   "cell_type": "markdown",
   "id": "59602acd",
   "metadata": {},
   "source": [
    "## 7) POS Tagging"
   ]
  },
  {
   "cell_type": "code",
   "execution_count": 40,
   "id": "3e15103f",
   "metadata": {},
   "outputs": [
    {
     "name": "stderr",
     "output_type": "stream",
     "text": [
      "[nltk_data] Downloading package punkt to\n",
      "[nltk_data]     C:\\Users\\admin\\AppData\\Roaming\\nltk_data...\n",
      "[nltk_data]   Package punkt is already up-to-date!\n",
      "[nltk_data] Downloading package averaged_perceptron_tagger to\n",
      "[nltk_data]     C:\\Users\\admin\\AppData\\Roaming\\nltk_data...\n",
      "[nltk_data]   Package averaged_perceptron_tagger is already up-to-\n",
      "[nltk_data]       date!\n"
     ]
    },
    {
     "data": {
      "text/plain": [
       "True"
      ]
     },
     "execution_count": 40,
     "metadata": {},
     "output_type": "execute_result"
    }
   ],
   "source": [
    "# Download the required NLTK resources\n",
    "nltk.download('punkt')\n",
    "nltk.download('averaged_perceptron_tagger')"
   ]
  },
  {
   "cell_type": "code",
   "execution_count": 41,
   "id": "47608aa8",
   "metadata": {},
   "outputs": [],
   "source": [
    "def pos_tagging(text):\n",
    "    # Tokenize the text into words\n",
    "    tokens = nltk.word_tokenize(text)\n",
    "    # Perform POS tagging\n",
    "    tagged_tokens = nltk.pos_tag(tokens)\n",
    "    # Return the tagged tokens\n",
    "    return tagged_tokens"
   ]
  },
  {
   "cell_type": "code",
   "execution_count": 42,
   "id": "4403faa9",
   "metadata": {},
   "outputs": [],
   "source": [
    "# Apply the POS tagging function to the 'Comments' column\n",
    "train['POS_Tagged'] = train['Comments'].apply(pos_tagging)"
   ]
  },
  {
   "cell_type": "code",
   "execution_count": 43,
   "id": "57c4877f",
   "metadata": {},
   "outputs": [
    {
     "data": {
      "text/plain": [
       "0        [(latest, JJS), (podcast, NN), (balenciaga, NN), (run, VBP), (satanists, NNS), (think, VBP), (via, IN), (youtube, NN), (balenciagapedos, NN), (balenciaga, NN), (satan, JJ), (satanist, NN), (satanic, JJ), (pedophelia, NN), (podcastshow, NN), (podcast, JJ), (podcastlife, NN), (podcastandchill, NN), (podcaster, NN), (podcasting, VBG), (lucifer, NN), (luciferian, JJ), (h, NN)]\n",
       "1                                                                                                                                                                                                                       [(brands, NNS), (including, VBG), (gucci, JJ), (offwhite, JJ), (balenciaga, NN), (maisonmargiela, NN), (marineserre, JJ), (saintlaurent, JJ), (fashion, NN), (many, JJ)]\n",
       "2                                                                                                                                                                           [(good, JJ), (share, NN), (check, VB), (items, NNS), (im, JJ), (loving, VBG), (poshmarkapp, NN), (poshmark, NN), (fashion, NN), (style, NN), (shopmycloset, NN), (balenciaga, NN), (variety, NN), (stevemadden, NN)]\n",
       "3                                                                                                                                                                                             [(skkn, NN), (nothing, NN), (dont, JJ), (support, NN), (pedos, VBD), (support, NN), (child, NN), (abuse, IN), (exploitation, NN), (balenciaga, NN), (cancelkimkardashian, NN), (cancelskims, NNS)]\n",
       "4                                                                                                                                                                             [(good, JJ), (share, NN), (check, VB), (items, NNS), (im, JJ), (loving, VBG), (poshmarkapp, NN), (poshmark, NN), (fashion, NN), (style, NN), (shopmycloset, NN), (madewell, NN), (balenciaga, NN), (kaileigh, NN)]\n",
       "                                                                                                                                                                                                  ...                                                                                                                                                                                           \n",
       "29156                          [(nah, CC), (its, PRP$), (past, JJ), (need, NN), (cancelled, VBD), (business, NN), (asap, NN), (theyll, NN), (apologize, VB), (blame, JJ), (random, JJ), (employee, NN), (yet, RB), (theyll, JJ), (continue, VBP), (add, VB), (hidden, JJ), (messages, NNS), (ads, NNS), (thats, NNS), (theyve, VBP), (continued, VBN), (successful, JJ), (cancelbalenciaga, NN)]\n",
       "29157                                                                                                                                                                                                                                                                                               [(itsnatlydenise, NN), (getting, VBG), (worse, JJR), (thought, VBN), (cancelbalenciaga, NN)]\n",
       "29158                                                                                                                                                                                                                                                                           [(itsnatlydenise, NN), (think, VBP), (start, VB), (trending, VBG), (fuckbalenciaga, JJ), (cancelbalenciaga, NN)]\n",
       "29159                                                                                                                                                                                                                                                                                                 [(sick, JJ), (stomach, NN), (byebalenciaga, NN), (balenciaga, NN), (cancelbalenciaga, NN)]\n",
       "29160                                                                                                                                                                                                                                                                                                 [(deleted, VBN), (everything, NN), (dont, NN), (pedophiles, NNS), (cancelbalenciaga, VBP)]\n",
       "Name: POS_Tagged, Length: 29161, dtype: object"
      ]
     },
     "execution_count": 43,
     "metadata": {},
     "output_type": "execute_result"
    }
   ],
   "source": [
    "train['POS_Tagged']"
   ]
  },
  {
   "cell_type": "code",
   "execution_count": null,
   "id": "77e7a73d",
   "metadata": {},
   "outputs": [],
   "source": []
  },
  {
   "cell_type": "code",
   "execution_count": null,
   "id": "de0094a4",
   "metadata": {},
   "outputs": [],
   "source": []
  }
 ],
 "metadata": {
  "kernelspec": {
   "display_name": "Python 3 (ipykernel)",
   "language": "python",
   "name": "python3"
  },
  "language_info": {
   "codemirror_mode": {
    "name": "ipython",
    "version": 3
   },
   "file_extension": ".py",
   "mimetype": "text/x-python",
   "name": "python",
   "nbconvert_exporter": "python",
   "pygments_lexer": "ipython3",
   "version": "3.9.12"
  }
 },
 "nbformat": 4,
 "nbformat_minor": 5
}
